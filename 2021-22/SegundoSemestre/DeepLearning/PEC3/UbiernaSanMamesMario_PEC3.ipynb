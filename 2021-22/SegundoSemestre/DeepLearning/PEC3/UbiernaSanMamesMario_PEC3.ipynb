{
  "nbformat": 4,
  "nbformat_minor": 0,
  "metadata": {
    "colab": {
      "name": "UbiernaSanMamesMario_PEC3.ipynb",
      "provenance": [],
      "collapsed_sections": [],
      "toc_visible": true
    },
    "kernelspec": {
      "name": "python3",
      "display_name": "Python 3"
    },
    "language_info": {
      "name": "python"
    },
    "accelerator": "TPU"
  },
  "cells": [
    {
      "cell_type": "markdown",
      "metadata": {
        "id": "YO1mZRrP4FT2"
      },
      "source": [
        "<div style=\"width: 100%; clear: both;\">\n",
        "<div style=\"float: left; width: 50%;\">\n",
        "<img src=\"http://www.uoc.edu/portal/_resources/common/imatges/marca_UOC/UOC_Masterbrand.jpg\", align=\"left\">\n",
        "</div>\n",
        "<div style=\"float: right; width: 50%;\">\n",
        "<p style=\"margin: 0; padding-top: 22px; text-align:right;\">M2.875 · Deep Learning · PEC3\n",
        "</p>\n",
        "<p style=\"margin: 0; text-align:right;\">2021-2 · Máster universitario en Ciencia de datos (Data science)</p>\n",
        "<p style=\"margin: 0; text-align:right; padding-button: 100px;\">Estudios de Informática, Multimedia y Telecomunicación</p>\n",
        "</div>\n",
        "</div>\n",
        "<div style=\"width:100%;\">&nbsp;</div>\n",
        "\n",
        "\n",
        "# PEC 3: Recurrent Neural Networks\n",
        "\n",
        "En esta práctica implementaremos redes neuronales recurrentes para generar música.\n",
        "\n",
        "**Importante: La entrega debe hacerse en formato notebook y en formato html donde se vea el código y los resultados y comentarios de cada ejercicio. Para exportar el notebook a html puede hacerse desde el menú File $\\to$ Download as $\\to$ HTML.**"
      ]
    },
    {
      "cell_type": "markdown",
      "source": [
        "# Autor: Mario Ubierna San Mamés"
      ],
      "metadata": {
        "id": "2j9Z3bVuXo_R"
      }
    },
    {
      "cell_type": "markdown",
      "source": [
        "# 0. Contexto y referencias"
      ],
      "metadata": {
        "id": "8rXYszqtPC3X"
      }
    },
    {
      "cell_type": "markdown",
      "source": [
        "Esta PEC está basada en el siguiente [artículo de investigación](https://arxiv.org/pdf/1711.07682.pdf), aunque por motivos de extensión no podremos pasar por todos los puntos del artículo.\n",
        "\n",
        "La primera etapa de esta PEC será leer y entender la idea general de este trabajo. El artículo os da acceso al código original con el que se ha llevado a cabo el trabajo y en el que además esta basado gran parte del código que aquí os adjuntamos, aunque por la complejidad y extensión del código no os recomendamos que sumergáis demasiado en él.\n",
        "\n",
        "La PEC consta de una etapa de ***interpretación de los datos*** (un paso vital en todo proyecto real), donde se pedirá reproducir una gráfica del artículo. Luego ***entrenaremos*** una red LSTM para generar acordes a partir de archivos MIDI. Finalmente, usaremos la capa de ***embedding*** de la red entrenada para hacer una proyección de los acordes en 2D y visualizar el concepto de [word2vec](https://en.wikipedia.org/wiki/Word2vec)."
      ],
      "metadata": {
        "id": "23HcctV9PHD8"
      }
    },
    {
      "cell_type": "markdown",
      "source": [
        "Además de este fichero os hemos adjuntado un archivo comprimido con una estructura de datos similar a la usada en el artículo y que os recomendamos (por vuestro bien) que no modifiquéis :). Allí encontraréis una carpeta llamada *data* donde se encuentra la base de datos que usaremos y otros ficheros que os facilitamos con datos de redes ya entrenadas (en la carpeta *models*)"
      ],
      "metadata": {
        "id": "yAJEhzrBUoNj"
      }
    },
    {
      "cell_type": "markdown",
      "source": [
        "# 1. Procesado de datos [2.5 pts]"
      ],
      "metadata": {
        "id": "TNeJCTqGN6M0"
      }
    },
    {
      "cell_type": "markdown",
      "source": [
        "## 1.1 Importación de módulos y paquetes necesarios"
      ],
      "metadata": {
        "id": "HFZhc-3gh3BA"
      }
    },
    {
      "cell_type": "code",
      "execution_count": 1,
      "metadata": {
        "id": "kC_lb6hDNJD8",
        "colab": {
          "base_uri": "https://localhost:8080/"
        },
        "outputId": "1d485fd6-8bfe-4948-bf24-67fe0c44442a"
      },
      "outputs": [
        {
          "output_type": "stream",
          "name": "stdout",
          "text": [
            "Collecting pretty_midi==0.2.8\n",
            "  Downloading pretty_midi-0.2.8.tar.gz (5.6 MB)\n",
            "\u001b[K     |████████████████████████████████| 5.6 MB 5.0 MB/s \n",
            "\u001b[?25hRequirement already satisfied: numpy>=1.7.0 in /usr/local/lib/python3.7/dist-packages (from pretty_midi==0.2.8) (1.21.6)\n",
            "Collecting mido>=1.1.16\n",
            "  Downloading mido-1.2.10-py2.py3-none-any.whl (51 kB)\n",
            "\u001b[K     |████████████████████████████████| 51 kB 5.3 MB/s \n",
            "\u001b[?25hRequirement already satisfied: six in /usr/local/lib/python3.7/dist-packages (from pretty_midi==0.2.8) (1.15.0)\n",
            "Building wheels for collected packages: pretty-midi\n",
            "  Building wheel for pretty-midi (setup.py) ... \u001b[?25l\u001b[?25hdone\n",
            "  Created wheel for pretty-midi: filename=pretty_midi-0.2.8-py3-none-any.whl size=5590821 sha256=c208c46b1c849e9671685c6cdf81d08970b5c81aedcd23a303203333318b5b9b\n",
            "  Stored in directory: /root/.cache/pip/wheels/53/fd/dd/20e1b16dbcf028bbbd7f53b570bc3521183731cba4a73cb310\n",
            "Successfully built pretty-midi\n",
            "Installing collected packages: mido, pretty-midi\n",
            "Successfully installed mido-1.2.10 pretty-midi-0.2.8\n"
          ]
        }
      ],
      "source": [
        "!pip install pretty_midi==0.2.8"
      ]
    },
    {
      "cell_type": "code",
      "source": [
        "from google.colab import drive\n",
        "drive.mount('/content/drive')"
      ],
      "metadata": {
        "id": "8Dho4VBiNX22",
        "colab": {
          "base_uri": "https://localhost:8080/"
        },
        "outputId": "2e6e86ad-515e-422c-c623-9f8bab60556a"
      },
      "execution_count": 2,
      "outputs": [
        {
          "output_type": "stream",
          "name": "stdout",
          "text": [
            "Mounted at /content/drive\n"
          ]
        }
      ]
    },
    {
      "cell_type": "code",
      "source": [
        "# añade el path a tu directorio\n",
        "#%cd /content/drive/MyDrive/UOC PACs/PAC3/\n",
        "%cd /content/drive/MyDrive/PEC3_PAC3"
      ],
      "metadata": {
        "id": "47q84NyONZf_",
        "colab": {
          "base_uri": "https://localhost:8080/"
        },
        "outputId": "8711012c-a82f-47c9-83fa-c88d598c3e2e"
      },
      "execution_count": 3,
      "outputs": [
        {
          "output_type": "stream",
          "name": "stdout",
          "text": [
            "/content/drive/MyDrive/PEC3_PAC3\n"
          ]
        }
      ]
    },
    {
      "cell_type": "code",
      "source": [
        "import numpy as np\n",
        "import matplotlib.pyplot as plt\n",
        "import _pickle as pickle\n",
        "import os\n",
        "import sys\n",
        "import pretty_midi as pm\n",
        "import mido\n",
        "from collections import Counter\n",
        "import collections\n",
        "import pandas as pd"
      ],
      "metadata": {
        "id": "-aQnhJf8OVia"
      },
      "execution_count": 4,
      "outputs": []
    },
    {
      "cell_type": "markdown",
      "source": [
        "importamos módulos propios (archivos .py) que podréis encontrar en la estructura de carpetas que os hemos facilitado"
      ],
      "metadata": {
        "id": "bqTy38QPXdz8"
      }
    },
    {
      "cell_type": "code",
      "source": [
        "from settings import *\n",
        "import midi_functions as mf \n",
        "import data_processing_functions as dpf"
      ],
      "metadata": {
        "id": "A8hOlwmbXdGD"
      },
      "execution_count": 5,
      "outputs": []
    },
    {
      "cell_type": "markdown",
      "source": [
        "## 1.2 Ficheros MIDI [1 pt]"
      ],
      "metadata": {
        "id": "d457Myp0iAC6"
      }
    },
    {
      "cell_type": "markdown",
      "source": [
        "En esta sección vamos a entender un poco mejor la información que contiene un fichero MIDI y reproduciremos un archivo de nuestra base de datos. Para esta sección os recomendamos que le echéis un vistazo a la sección \"*Extract notes*\" del siguiente [tutorial de tensorflow](https://www.tensorflow.org/tutorials/audio/music_generation)."
      ],
      "metadata": {
        "id": "OkBli7noiYXJ"
      }
    },
    {
      "cell_type": "markdown",
      "source": [
        "1.2.1 Escoger un fichero MIDI de la base de datos y crear las funciones necesarias para extraer las notas, el tiempo en que se toca cada nota, su duración y el momento en que se tocan. Este proceso se debe aplicar solo a un instrumento: **\"Acoustic Grand Piano\"**. \n",
        "\n",
        "*nota: Si el fichero escogido no tiene piano elegir otro fichero*"
      ],
      "metadata": {
        "id": "QWjhouM0kHcD"
      }
    },
    {
      "cell_type": "code",
      "source": [
        "# Comprobamos si hay un archivo que tanga un solo instrumento y que éste sea Acoustic Grand Piano\n",
        "data_directory = \"/content/drive/MyDrive/PEC3_PAC3/data/original/\"\n",
        "\n",
        "for filename in os.listdir(data_directory):\n",
        "\n",
        "  midifile = pm.PrettyMIDI(os.path.join(data_directory, filename))\n",
        "  instruments = [pm.program_to_instrument_name(instrument.program) for instrument in midifile.instruments]\n",
        "\n",
        "  if \"Acoustic Grand Piano\" in instruments and len(instruments) == 1:\n",
        "    print(\"**************************************************************\")\n",
        "    print(filename)\n",
        "    print(\"\\n\\tNúmero de instrumentos: \" + str(len(midifile.instruments)))\n",
        "    print(\"\\tNúmero de instrumentos: \" + str(instruments))\n",
        "    print(\"**************************************************************\\n\\n\")\n",
        "    break"
      ],
      "metadata": {
        "id": "enL4QSw0CW2l",
        "colab": {
          "base_uri": "https://localhost:8080/"
        },
        "outputId": "9b207a53-8164-427e-d8a0-1d5661861e02"
      },
      "execution_count": 6,
      "outputs": [
        {
          "output_type": "stream",
          "name": "stderr",
          "text": [
            "/usr/local/lib/python3.7/dist-packages/pretty_midi/pretty_midi.py:100: RuntimeWarning: Tempo, Key or Time signature change events found on non-zero tracks.  This is not a valid type 0 or type 1 MIDI file.  Tempo, Key or Time Signature may be wrong.\n",
            "  RuntimeWarning)\n"
          ]
        },
        {
          "output_type": "stream",
          "name": "stdout",
          "text": [
            "**************************************************************\n",
            "1ae49af2dc6cdb068d749b464f330441.mid\n",
            "\n",
            "\tNúmero de instrumentos: 1\n",
            "\tNúmero de instrumentos: ['Acoustic Grand Piano']\n",
            "**************************************************************\n",
            "\n",
            "\n"
          ]
        }
      ]
    },
    {
      "cell_type": "code",
      "source": [
        "# https://www.tensorflow.org/tutorials/audio/music_generation#extract_notes\n",
        "# función obtenida del apartado \"Extract notes\"\n",
        "def midi_to_notes(midifile):\n",
        "  midi = pm.PrettyMIDI(midifile)\n",
        "  instrument = midi.instruments[0]\n",
        "  notes = collections.defaultdict(list)\n",
        "\n",
        "  # Sort the notes by start time\n",
        "  sorted_notes = sorted(instrument.notes, key=lambda note: note.start)\n",
        "  prev_start = sorted_notes[0].start\n",
        "\n",
        "  for note in sorted_notes:\n",
        "    start = note.start\n",
        "    end = note.end\n",
        "    notes['pitch'].append(note.pitch)\n",
        "    notes['note'].append(pm.note_number_to_name(note.pitch))\n",
        "    notes['start'].append(start)\n",
        "    notes['end'].append(end)\n",
        "    notes['duration'].append(end - start)\n",
        "    notes['step'].append(start - prev_start)\n",
        "    prev_start = start\n",
        "\n",
        "  return pd.DataFrame({name: np.array(value) for name, value in notes.items()})"
      ],
      "metadata": {
        "id": "h5DwcC1dE2li"
      },
      "execution_count": 7,
      "outputs": []
    },
    {
      "cell_type": "code",
      "source": [
        "df_piano = midi_to_notes(os.path.join(data_directory, \"1ae49af2dc6cdb068d749b464f330441.mid\"))\n",
        "df_piano.head()"
      ],
      "metadata": {
        "colab": {
          "base_uri": "https://localhost:8080/",
          "height": 206
        },
        "id": "UKqJlmjmG6pd",
        "outputId": "96023e2a-3db9-436c-fdfe-b6c65e8e2862"
      },
      "execution_count": 8,
      "outputs": [
        {
          "output_type": "execute_result",
          "data": {
            "text/plain": [
              "   pitch note     start       end  duration      step\n",
              "0     59   B3  1.750000  3.076969  1.326969  0.000000\n",
              "1     56  G#3  2.807739  3.211585  0.403846  1.057739\n",
              "2     64   E4  2.807739  3.942354  1.134615  0.000000\n",
              "3     40   E2  2.807739  5.026399  2.218661  0.000000\n",
              "4     59   B3  3.384662  3.798123  0.413461  0.576923"
            ],
            "text/html": [
              "\n",
              "  <div id=\"df-e83edcdb-2fa5-4fa8-b0a5-33ddc2eb82d1\">\n",
              "    <div class=\"colab-df-container\">\n",
              "      <div>\n",
              "<style scoped>\n",
              "    .dataframe tbody tr th:only-of-type {\n",
              "        vertical-align: middle;\n",
              "    }\n",
              "\n",
              "    .dataframe tbody tr th {\n",
              "        vertical-align: top;\n",
              "    }\n",
              "\n",
              "    .dataframe thead th {\n",
              "        text-align: right;\n",
              "    }\n",
              "</style>\n",
              "<table border=\"1\" class=\"dataframe\">\n",
              "  <thead>\n",
              "    <tr style=\"text-align: right;\">\n",
              "      <th></th>\n",
              "      <th>pitch</th>\n",
              "      <th>note</th>\n",
              "      <th>start</th>\n",
              "      <th>end</th>\n",
              "      <th>duration</th>\n",
              "      <th>step</th>\n",
              "    </tr>\n",
              "  </thead>\n",
              "  <tbody>\n",
              "    <tr>\n",
              "      <th>0</th>\n",
              "      <td>59</td>\n",
              "      <td>B3</td>\n",
              "      <td>1.750000</td>\n",
              "      <td>3.076969</td>\n",
              "      <td>1.326969</td>\n",
              "      <td>0.000000</td>\n",
              "    </tr>\n",
              "    <tr>\n",
              "      <th>1</th>\n",
              "      <td>56</td>\n",
              "      <td>G#3</td>\n",
              "      <td>2.807739</td>\n",
              "      <td>3.211585</td>\n",
              "      <td>0.403846</td>\n",
              "      <td>1.057739</td>\n",
              "    </tr>\n",
              "    <tr>\n",
              "      <th>2</th>\n",
              "      <td>64</td>\n",
              "      <td>E4</td>\n",
              "      <td>2.807739</td>\n",
              "      <td>3.942354</td>\n",
              "      <td>1.134615</td>\n",
              "      <td>0.000000</td>\n",
              "    </tr>\n",
              "    <tr>\n",
              "      <th>3</th>\n",
              "      <td>40</td>\n",
              "      <td>E2</td>\n",
              "      <td>2.807739</td>\n",
              "      <td>5.026399</td>\n",
              "      <td>2.218661</td>\n",
              "      <td>0.000000</td>\n",
              "    </tr>\n",
              "    <tr>\n",
              "      <th>4</th>\n",
              "      <td>59</td>\n",
              "      <td>B3</td>\n",
              "      <td>3.384662</td>\n",
              "      <td>3.798123</td>\n",
              "      <td>0.413461</td>\n",
              "      <td>0.576923</td>\n",
              "    </tr>\n",
              "  </tbody>\n",
              "</table>\n",
              "</div>\n",
              "      <button class=\"colab-df-convert\" onclick=\"convertToInteractive('df-e83edcdb-2fa5-4fa8-b0a5-33ddc2eb82d1')\"\n",
              "              title=\"Convert this dataframe to an interactive table.\"\n",
              "              style=\"display:none;\">\n",
              "        \n",
              "  <svg xmlns=\"http://www.w3.org/2000/svg\" height=\"24px\"viewBox=\"0 0 24 24\"\n",
              "       width=\"24px\">\n",
              "    <path d=\"M0 0h24v24H0V0z\" fill=\"none\"/>\n",
              "    <path d=\"M18.56 5.44l.94 2.06.94-2.06 2.06-.94-2.06-.94-.94-2.06-.94 2.06-2.06.94zm-11 1L8.5 8.5l.94-2.06 2.06-.94-2.06-.94L8.5 2.5l-.94 2.06-2.06.94zm10 10l.94 2.06.94-2.06 2.06-.94-2.06-.94-.94-2.06-.94 2.06-2.06.94z\"/><path d=\"M17.41 7.96l-1.37-1.37c-.4-.4-.92-.59-1.43-.59-.52 0-1.04.2-1.43.59L10.3 9.45l-7.72 7.72c-.78.78-.78 2.05 0 2.83L4 21.41c.39.39.9.59 1.41.59.51 0 1.02-.2 1.41-.59l7.78-7.78 2.81-2.81c.8-.78.8-2.07 0-2.86zM5.41 20L4 18.59l7.72-7.72 1.47 1.35L5.41 20z\"/>\n",
              "  </svg>\n",
              "      </button>\n",
              "      \n",
              "  <style>\n",
              "    .colab-df-container {\n",
              "      display:flex;\n",
              "      flex-wrap:wrap;\n",
              "      gap: 12px;\n",
              "    }\n",
              "\n",
              "    .colab-df-convert {\n",
              "      background-color: #E8F0FE;\n",
              "      border: none;\n",
              "      border-radius: 50%;\n",
              "      cursor: pointer;\n",
              "      display: none;\n",
              "      fill: #1967D2;\n",
              "      height: 32px;\n",
              "      padding: 0 0 0 0;\n",
              "      width: 32px;\n",
              "    }\n",
              "\n",
              "    .colab-df-convert:hover {\n",
              "      background-color: #E2EBFA;\n",
              "      box-shadow: 0px 1px 2px rgba(60, 64, 67, 0.3), 0px 1px 3px 1px rgba(60, 64, 67, 0.15);\n",
              "      fill: #174EA6;\n",
              "    }\n",
              "\n",
              "    [theme=dark] .colab-df-convert {\n",
              "      background-color: #3B4455;\n",
              "      fill: #D2E3FC;\n",
              "    }\n",
              "\n",
              "    [theme=dark] .colab-df-convert:hover {\n",
              "      background-color: #434B5C;\n",
              "      box-shadow: 0px 1px 3px 1px rgba(0, 0, 0, 0.15);\n",
              "      filter: drop-shadow(0px 1px 2px rgba(0, 0, 0, 0.3));\n",
              "      fill: #FFFFFF;\n",
              "    }\n",
              "  </style>\n",
              "\n",
              "      <script>\n",
              "        const buttonEl =\n",
              "          document.querySelector('#df-e83edcdb-2fa5-4fa8-b0a5-33ddc2eb82d1 button.colab-df-convert');\n",
              "        buttonEl.style.display =\n",
              "          google.colab.kernel.accessAllowed ? 'block' : 'none';\n",
              "\n",
              "        async function convertToInteractive(key) {\n",
              "          const element = document.querySelector('#df-e83edcdb-2fa5-4fa8-b0a5-33ddc2eb82d1');\n",
              "          const dataTable =\n",
              "            await google.colab.kernel.invokeFunction('convertToInteractive',\n",
              "                                                     [key], {});\n",
              "          if (!dataTable) return;\n",
              "\n",
              "          const docLinkHtml = 'Like what you see? Visit the ' +\n",
              "            '<a target=\"_blank\" href=https://colab.research.google.com/notebooks/data_table.ipynb>data table notebook</a>'\n",
              "            + ' to learn more about interactive tables.';\n",
              "          element.innerHTML = '';\n",
              "          dataTable['output_type'] = 'display_data';\n",
              "          await google.colab.output.renderOutput(dataTable, element);\n",
              "          const docLink = document.createElement('div');\n",
              "          docLink.innerHTML = docLinkHtml;\n",
              "          element.appendChild(docLink);\n",
              "        }\n",
              "      </script>\n",
              "    </div>\n",
              "  </div>\n",
              "  "
            ]
          },
          "metadata": {},
          "execution_count": 8
        }
      ]
    },
    {
      "cell_type": "markdown",
      "source": [
        "1.2.2 Modificar la funcion *plot_piano_roll* del tutorial para poder graficar el pianoroll de la canción MIDI escogida. En este caso deberemos poder indicar un tiempo máximo de la canción que queremos añadir en el pianoroll. Además, si pasamos un *max_time=-1*, se deberán graficar todas las notas de la canción"
      ],
      "metadata": {
        "id": "bvOkNBItrqIZ"
      }
    },
    {
      "cell_type": "code",
      "source": [
        "# https://www.tensorflow.org/tutorials/audio/music_generation#extract_notes\n",
        "def plot_piano_roll(notes, max_time=-1):\n",
        "  if max_time == -1:\n",
        "    title = f'Canción entera'\n",
        "    max_time = len(notes['pitch'])\n",
        "  else:\n",
        "    if max_time <= 0:\n",
        "       title = f'Canción hasta el segundo 0'\n",
        "       max_time = 0\n",
        "    title = f'Canción hasta el segundo {max_time}'\n",
        "    max_time = len(df_piano[df_piano[\"end\"] <= max_time])\n",
        "\n",
        "  plt.figure(figsize=(20, 4))\n",
        "  plot_pitch = np.stack([notes['pitch'], notes['pitch']], axis=0)\n",
        "  plot_start_stop = np.stack([notes['start'], notes['end']], axis=0)\n",
        "  plt.plot(\n",
        "      plot_start_stop[:, :max_time], plot_pitch[:, :max_time], color=\"b\", marker=\".\")\n",
        "  plt.xlabel('Tiempo [s]')\n",
        "  plt.ylabel('Pitch (nota midi)')\n",
        "  _ = plt.title(title)"
      ],
      "metadata": {
        "id": "THE0cdxNCXwH"
      },
      "execution_count": 9,
      "outputs": []
    },
    {
      "cell_type": "code",
      "source": [
        "plot_piano_roll(df_piano, max_time=10)"
      ],
      "metadata": {
        "colab": {
          "base_uri": "https://localhost:8080/",
          "height": 295
        },
        "id": "h1Oy7BxPPone",
        "outputId": "083ec7bf-a373-48ae-84de-3d256dc07196"
      },
      "execution_count": 10,
      "outputs": [
        {
          "output_type": "display_data",
          "data": {
            "text/plain": [
              "<Figure size 1440x288 with 1 Axes>"
            ],
            "image/png": "[encoded data removed]"
          },
          "metadata": {
            "needs_background": "light"
          }
        }
      ]
    },
    {
      "cell_type": "code",
      "source": [
        "plot_piano_roll(df_piano, max_time=-1)"
      ],
      "metadata": {
        "colab": {
          "base_uri": "https://localhost:8080/",
          "height": 295
        },
        "id": "iZ0ed03vQMrF",
        "outputId": "526b3737-053b-44af-a7d0-dad0b360374d"
      },
      "execution_count": 11,
      "outputs": [
        {
          "output_type": "display_data",
          "data": {
            "text/plain": [
              "<Figure size 1440x288 with 1 Axes>"
            ],
            "image/png": "[encoded data removed]"
          },
          "metadata": {
            "needs_background": "light"
          }
        }
      ]
    },
    {
      "cell_type": "markdown",
      "source": [
        "## 1.3 Procesado de datos [1.5 pts]"
      ],
      "metadata": {
        "id": "Ry5uiuVywVb9"
      }
    },
    {
      "cell_type": "markdown",
      "source": [
        "Ahora volvemos al artículo y aplicaremos el procesado de datos. Buscar dentro del fichero *data_processing_functions.py* la función que se encarga de llevar a cabo todo el procesado de datos y llamarla desde aquí"
      ],
      "metadata": {
        "id": "Qhk-FbIVwfYH"
      }
    },
    {
      "cell_type": "code",
      "source": [
        "dpf.do_all_steps()"
      ],
      "metadata": {
        "colab": {
          "base_uri": "https://localhost:8080/"
        },
        "id": "cW-7Q2c3ery3",
        "outputId": "acb97575-6d68-4f24-f5f1-dd2ad0acc8a5"
      },
      "execution_count": null,
      "outputs": [
        {
          "output_type": "stream",
          "name": "stdout",
          "text": [
            "changing Tempo\n",
            "histogramming\n",
            "data/tempo/\n"
          ]
        },
        {
          "output_type": "stream",
          "name": "stderr",
          "text": [
            "/usr/local/lib/python3.7/dist-packages/pretty_midi/pretty_midi.py:100: RuntimeWarning: Tempo, Key or Time signature change events found on non-zero tracks.  This is not a valid type 0 or type 1 MIDI file.  Tempo, Key or Time Signature may be wrong.\n",
            "  RuntimeWarning)\n"
          ]
        },
        {
          "output_type": "stream",
          "name": "stdout",
          "text": [
            "make song histo\n",
            "shifting midi files\n",
            "making note indexes\n",
            "histogramming\n",
            "data/shifted/tempo/\n",
            "extracting chords\n",
            "getting dictionary\n",
            "converting chords to index sequences\n",
            "done\n"
          ]
        }
      ]
    },
    {
      "cell_type": "markdown",
      "source": [
        "1.3.1 ¿Qué hace la función *change_tempo_folder*?¿Qué bpm fija para las canciones?"
      ],
      "metadata": {
        "id": "C_LOJsQR1WGH"
      }
    },
    {
      "cell_type": "markdown",
      "source": [
        "La función lo que hace es cambiar el tempo de los archivos midi originales, es decir, va recorriendo la carpeta `data/original` y cada archivo que encuentra genera un nuevo archivo y modifica el tempo correspondiente en la carpeta `data/tempo`.\n",
        "\n",
        "El tempo que establece para cada canción es de `500000`. Realmente dicho valor no sé que significa, porque segundos no son, sin embargo, cuando ejecutamos el método `change_tempo_folder` lo que hace es reducir el tiempo de la canción, por lo que ese `new_msg.tempo = 500000` aumenta el tempo de cada pista que hay en el archivo midi."
      ],
      "metadata": {
        "id": "KAP_DAD8ChAl"
      }
    },
    {
      "cell_type": "markdown",
      "source": [
        "1.3.2 Una vez tenemos ejecutado el procesado de datos se habrán creado muchas carpetas y muchos ficheros nuevos en la actual carpeta ***data***. Ahora usaremos algunos de estos ficheros para construir la figura 2 del artículo usando los datos procesados. Crearemos dos funciones:\n",
        "*   my_save_histo_oct_from_midi_folder\n",
        "*   my_midi_to_histo_oct\n",
        "\n",
        "basadas en las funciones ***save_histo_oct_from_midi_folder*** y ***midi_to_histo_oct*** que encontraréis en los ficheros ***midi_functions.py*** y ***data_processing_functions.py***. Ahora las modificaremos para que nos devuelvan datos para dos tipos de histogramas: uno igual a la figura 2 del artículo (apariciones VS pitch) y otro, usando el *histo_oct*, que serán datos para graficar *apariciones VS notas en cualquier octava*, es decir, el número de veces que aparece una nota (sin importar a que octava pertenezca) a lo largo de una canción."
      ],
      "metadata": {
        "id": "l5DNt93c32tc"
      }
    },
    {
      "cell_type": "markdown",
      "source": [
        "\n",
        "*indicación: Es importante entender la estructura de las variables:*\n",
        "*   pianoroll\n",
        "*   histo_bar\n",
        "*   histo_oct\n",
        "\n",
        "*dentro de la funcion* ***midi_to_histo_oct***"
      ],
      "metadata": {
        "id": "vHNEdanvAzLp"
      }
    },
    {
      "cell_type": "code",
      "source": [
        "#usa este vector como labels del segundo gráfico \n",
        "notas_en_una_octava = ['C','C#','D','D#','E','F','F#','G','G#','A','A#','B']"
      ],
      "metadata": {
        "id": "IygIfEr3_z8_"
      },
      "execution_count": 12,
      "outputs": []
    },
    {
      "cell_type": "code",
      "source": [
        "def my_save_histo_oct_from_midi_folder(tempo_folder, histo_folder):\n",
        "  lst_histo_bar = np.zeros(shape=128) # 128 es fijo por el número de pitches\n",
        "  lst_histo_oct = np.zeros(shape=12) # 12 es fijo por el número de notas en una escala\n",
        "\n",
        "  print(tempo_folder)\n",
        "  nfiles=0\n",
        "  for path, subdirs, files in os.walk(tempo_folder):\n",
        "      for name in files:\n",
        "          _path = path.replace('\\\\', '/') + '/'\n",
        "          _name = name.replace('\\\\', '/')\n",
        "          target_path = histo_folder+_path[len(tempo_folder):]\n",
        "          if not os.path.exists(target_path):\n",
        "              os.makedirs(target_path)\n",
        "          try:\n",
        "              nfiles+=1\n",
        "              if nfiles%100==0:\n",
        "                print(\"File #\",nfiles,\"Current file = \",_path,\"/\",_name) \n",
        "              \n",
        "              # Recuperando los histogramas para cada canción\n",
        "              histo_bar, histo_oct = my_midi_to_histo_oct(samples_per_bar,octave, fs, _name, _path, target_path)\n",
        "\n",
        "              # Haciendo el sumatorio para cada canción y así cuando termine obtener el histograma final\n",
        "              lst_histo_bar += np.sum(histo_bar, axis=1)\n",
        "              lst_histo_oct += np.sum(histo_oct, axis=1)\n",
        "\n",
        "          except (ValueError, EOFError, IndexError, OSError, KeyError, ZeroDivisionError) as e:\n",
        "              exception_str = 'Unexpected error in ' + name  + ':\\n', e, sys.exc_info()[0]\n",
        "              print(exception_str)\n",
        "    \n",
        "  return lst_histo_bar, lst_histo_oct\n",
        "\n",
        "def my_midi_to_histo_oct(samples_per_bar, octave, fs, name, path, histo_path):\n",
        "  pianoroll = mf.get_pianoroll(name, path, fs)\n",
        "  histo_bar = mf.pianoroll_to_histo_bar(pianoroll, samples_per_bar)\n",
        "  histo_oct = mf.histo_bar_to_histo_oct(histo_bar, octave)\n",
        "\n",
        "  return histo_bar, histo_oct"
      ],
      "metadata": {
        "id": "PuDexJSYCjo2"
      },
      "execution_count": 13,
      "outputs": []
    },
    {
      "cell_type": "code",
      "source": [
        "histo_bar, histo_oct = my_save_histo_oct_from_midi_folder(\n",
        "    tempo_folder=tempo_folder1,\n",
        "    histo_folder=histo_folder1\n",
        ")"
      ],
      "metadata": {
        "id": "litox7kWuwcx",
        "colab": {
          "base_uri": "https://localhost:8080/"
        },
        "outputId": "1a92dafa-4ea9-413a-c446-6f7e76567e8b"
      },
      "execution_count": 14,
      "outputs": [
        {
          "output_type": "stream",
          "name": "stdout",
          "text": [
            "data/tempo/\n"
          ]
        },
        {
          "output_type": "stream",
          "name": "stderr",
          "text": [
            "/usr/local/lib/python3.7/dist-packages/pretty_midi/pretty_midi.py:100: RuntimeWarning: Tempo, Key or Time signature change events found on non-zero tracks.  This is not a valid type 0 or type 1 MIDI file.  Tempo, Key or Time Signature may be wrong.\n",
            "  RuntimeWarning)\n"
          ]
        }
      ]
    },
    {
      "cell_type": "code",
      "source": [
        "# Generamos los histogramas\n",
        "\n",
        "# Histograma Aparaciones vs Pitch\n",
        "histo_bar_fr = (histo_bar / np.sum(histo_bar)) * 100\n",
        "fig, ax = plt.subplots(figsize=(12,8))\n",
        "plt.bar(range(0,128), histo_bar_fr)\n",
        "plt.xlim(15,110)\n",
        "plt.title(\"Frecuencia de Apariciones (%) vs Pitch\")\n",
        "plt.xlabel(\"Pitch\")\n",
        "plt.ylabel(\"Frecuencia de Aparación (%)\")\n",
        "plt.show()\n",
        "\n",
        "# Histograma Aparaciones vs Notas en cualquier octava\n",
        "histo_oct_fr = (histo_oct / np.sum(histo_oct)) * 100\n",
        "fig, ax = plt.subplots(figsize=(12,8))\n",
        "plt.bar(notas_en_una_octava, histo_oct_fr)\n",
        "plt.title(\"Frecuencia de Apariciones (%) vs Notas en cualquier octava\")\n",
        "plt.xlabel(\"Notas\")\n",
        "plt.ylabel(\"Frecuencia de Aparación (%)\")\n",
        "plt.show()"
      ],
      "metadata": {
        "colab": {
          "base_uri": "https://localhost:8080/",
          "height": 1000
        },
        "id": "1v8u05ugO59t",
        "outputId": "1e2e7336-3577-4af3-a309-51483ab469de"
      },
      "execution_count": 15,
      "outputs": [
        {
          "output_type": "display_data",
          "data": {
            "text/plain": [
              "<Figure size 864x576 with 1 Axes>"
            ],
            "image/png": "[encoded data removed]"
          },
          "metadata": {
            "needs_background": "light"
          }
        },
        {
          "output_type": "display_data",
          "data": {
            "text/plain": [
              "<Figure size 864x576 with 1 Axes>"
            ],
            "image/png": "[encoded data removed]"
          },
          "metadata": {
            "needs_background": "light"
          }
        }
      ]
    },
    {
      "cell_type": "markdown",
      "source": [
        "1.3.3 Buscar en internet sobre las escalas musicales e indicar que escala es la que más aparece en todas las canciones analizadas. ¿Cuáles dirías que son las notas más importantes de la escala?"
      ],
      "metadata": {
        "id": "RWEqYiSwDNse"
      }
    },
    {
      "cell_type": "markdown",
      "source": [
        "La escala mayoritariamente representada en las canciones, es la escala de Do Mayor, es decir, aquella formada por las notas:\n",
        "\n",
        "- Do - Re - Mi - Fa - Sol - La - Si.\n",
        "- C - D - E - F - G - A - B.\n",
        "\n",
        "Llegamos a esta conclusión gracias al gráfico \"Frecuncia de Aparaciones (%) vs Notas en cualquier octava\", si analizamos dicho gráfico vemos que las notas mencionadas anteriormente son las más utilizadas.\n",
        "\n",
        "Las notas más importantes de esta escala son:\n",
        "\n",
        "- Re (D), La (A), Sol (G), Do (C).\n",
        "\n",
        "Y las menos importantes:\n",
        "\n",
        "- Mi (E), Fa (F), Si (B)."
      ],
      "metadata": {
        "id": "dz7cVn0uCkYT"
      }
    },
    {
      "cell_type": "markdown",
      "source": [
        "#2. LSTM para acordes [5 pts]"
      ],
      "metadata": {
        "id": "r4r3sBgKy8bG"
      }
    },
    {
      "cell_type": "markdown",
      "source": [
        "El siguiente paso en el artículo es el entrenamiento de una red LSTM para la generación de acordes. Esta parte la haremos con un data set más pequeño y lo compararemos con resultados de entrenamientos previos que os faciliaremos. Primero cargamos la librerias que necesitaremos"
      ],
      "metadata": {
        "id": "Z6wMsYrIzPMI"
      }
    },
    {
      "cell_type": "code",
      "source": [
        "from keras.models import Sequential\n",
        "from keras.layers import LSTM\n",
        "from keras.layers import Dense, Activation\n",
        "from keras.layers import Embedding\n",
        "from tensorflow.keras.optimizers import RMSprop, Adam\n",
        "import tensorflow as tf\n",
        "from tensorflow.compat.v1.keras.backend import set_session\n",
        "import keras.utils\n",
        "from keras.utils import np_utils\n",
        "from random import shuffle\n",
        "import progressbar\n",
        "import time"
      ],
      "metadata": {
        "id": "W_WNRwExGMqc"
      },
      "execution_count": 16,
      "outputs": []
    },
    {
      "cell_type": "markdown",
      "source": [
        "## 2.1 Carga de datos [0.5 pts]"
      ],
      "metadata": {
        "id": "W5pcyB6d0VIJ"
      }
    },
    {
      "cell_type": "markdown",
      "source": [
        "2.1.1 En la carpeta ***data*** encontraréis un fichero llamado ***dataset.pkl*** que contiene 11338 canciones de train y 3780 de test. Usando *pickle* cargar los datos y luego separar 2000 para *train* y 500 canciones para *test* en las variables: \n",
        "*   train_set\n",
        "*   test_set\n",
        "\n",
        "crea además *train_set_size* y *test_set_size*"
      ],
      "metadata": {
        "id": "xFE6WSN70S8m"
      }
    },
    {
      "cell_type": "code",
      "source": [
        "# Definimos los tamaños de los conjuntos de train y test\n",
        "train_set_size = 2000\n",
        "test_set_size = 500\n",
        "\n",
        "# Cargamos los datos\n",
        "dataset = pickle.load(open(\"data/dataset.pkl\", \"rb\"))\n",
        "\n",
        "# Dividimos el dataset en train y test\n",
        "train_set = dataset[0]\n",
        "test_set = dataset[1]\n",
        "\n",
        "# Reducimos el tamaño de los conjuntos\n",
        "train_set = train_set[:train_set_size]\n",
        "test_set = test_set[:test_set_size]\n",
        "\n",
        "# Comprobamos el tamaño de los conjuntos\n",
        "print(\"El tamaño de train es: \" + str(len(train_set)))\n",
        "print(\"El tamaño de test es: \" + str(len(test_set)))"
      ],
      "metadata": {
        "id": "b4oT9iNmCmFw",
        "colab": {
          "base_uri": "https://localhost:8080/"
        },
        "outputId": "c7b1f276-192a-4831-ec73-6a72ce99dccf"
      },
      "execution_count": 17,
      "outputs": [
        {
          "output_type": "stream",
          "name": "stdout",
          "text": [
            "El tamaño de train es: 2000\n",
            "El tamaño de test es: 500\n"
          ]
        }
      ]
    },
    {
      "cell_type": "markdown",
      "source": [
        "## 2.2 Modelo con una capa de ***Embedding*** [0.5 pts]"
      ],
      "metadata": {
        "id": "AweMb9yv352X"
      }
    },
    {
      "cell_type": "markdown",
      "source": [
        "2.2.1 Ahora definiremos los parámetros de nuestra red LSTM usando los parámetros que dan en el artículo. El único cambio será en el tamaño de la red LSTM, en la que usaremos la mitad de la LSTM del artículo y número de epochs que usaremos 10 en nuestro caso"
      ],
      "metadata": {
        "id": "-If6wor_3_YG"
      }
    },
    {
      "cell_type": "code",
      "source": [
        "batch_size = 1\n",
        "step_size = 1\n",
        "epochs = 10\n",
        "\n",
        "#completar\n",
        "lstm_size = int(256 / 2) # Chord LSTM = 256 y Polyphonic LSTM = 512\n",
        "learning_rate = 0.00001 # Chord LSTM = 10^-5 y Polyphonic LSTM = 10^-6\n",
        "optimizer = \"Adam\" # En ambas redes"
      ],
      "metadata": {
        "id": "JpqqH3X36URV"
      },
      "execution_count": 18,
      "outputs": []
    },
    {
      "cell_type": "markdown",
      "source": [
        "El siguiente código es para mantener la estructura de carpetas que usan en el artículo ya que hay mucho código que depende de esta estructura:"
      ],
      "metadata": {
        "id": "WL28R7s_3f7w"
      }
    },
    {
      "cell_type": "code",
      "source": [
        "##--------NO TOCAR-------------------------------------------------------\n",
        "base_path = 'models/chords/'\n",
        "model_filetype = '.pickle'\n",
        "\n",
        "shuffle_train_set = True\n",
        "bidirectional = False\n",
        "\n",
        "#Create model dir\n",
        "fd = {'shifted': shifted, 'lr': learning_rate, 'emdim': chord_embedding_dim, 'opt': optimizer,\n",
        "'bi': bidirectional, 'lstms': lstm_size, 'trainsize': train_set_size, 'testsize': test_set_size, 'samples_per_bar': samples_per_bar}\n",
        "t = str(np.random.randint(1000,9999))\n",
        "model_name = t+ '-Shifted_%(shifted)s_Lr_%(lr)s_EmDim_%(emdim)s_opt_%(opt)s_bi_%(bi)s_lstmsize_%(lstms)s_trainsize_%(trainsize)s_testsize_%(testsize)s_samples_per_bar%(samples_per_bar)s' % fd\n",
        "model_path = base_path + model_name + '/'\n",
        "if not os.path.exists(model_path):\n",
        "    os.makedirs(model_path)\n",
        "##--------NO TOCAR-------------------------------------------------------\n"
      ],
      "metadata": {
        "id": "l1diXWzq3tun"
      },
      "execution_count": null,
      "outputs": []
    },
    {
      "cell_type": "code",
      "source": [
        "print(model_name)\n",
        "print(model_path)"
      ],
      "metadata": {
        "colab": {
          "base_uri": "https://localhost:8080/"
        },
        "id": "2U2WMzufWyJE",
        "outputId": "3f6d46a9-6d06-4db5-93cc-20ec5b86d084"
      },
      "execution_count": null,
      "outputs": [
        {
          "output_type": "stream",
          "name": "stdout",
          "text": [
            "8945-Shifted_True_Lr_1e-05_EmDim_10_opt_Adam_bi_False_lstmsize_128_trainsize_2000_testsize_500_samples_per_bar8\n",
            "models/chords/8945-Shifted_True_Lr_1e-05_EmDim_10_opt_Adam_bi_False_lstmsize_128_trainsize_2000_testsize_500_samples_per_bar8/\n"
          ]
        }
      ]
    },
    {
      "cell_type": "markdown",
      "source": [
        "2.2.2 Finalmente definimos y compilamos la red con una capa de Embedding antes de la LSTM. Para este paso, acceder al código original del artículo y buscar en que fichero se entrena la LSTM copiar la estructura eliminando código que no es de nuestro interés"
      ],
      "metadata": {
        "id": "PKt5WJ5d8YPb"
      }
    },
    {
      "cell_type": "code",
      "source": [
        "# Definimos la red\n",
        "model = Sequential()\n",
        "model.add(Embedding(num_chords, chord_embedding_dim, input_length=step_size, name=\"embedding\", batch_input_shape=(batch_size,step_size)))\n",
        "model.add(LSTM(lstm_size, stateful=True))\n",
        "model.add(Dense(num_chords))\n",
        "model.add(Activation('softmax'))\n",
        "\n",
        "optimizer = Adam(learning_rate=learning_rate)\n",
        "loss = 'categorical_crossentropy'\n",
        "\n",
        "# Compilamos la red \n",
        "model.compile(optimizer, loss)"
      ],
      "metadata": {
        "id": "jlh6rMLuCn_Q"
      },
      "execution_count": null,
      "outputs": []
    },
    {
      "cell_type": "markdown",
      "source": [
        "## 2.3 Entrenamiento [2 pts]"
      ],
      "metadata": {
        "id": "aMLDg6O1BNKK"
      }
    },
    {
      "cell_type": "markdown",
      "source": [
        "2.3.1 Siguiendo el código orginal del artículo donde se define la arquitectura de la LSTM para los acordes hay 3 funciones más:\n",
        "*   test()\n",
        "*   train()\n",
        "*   save_params()\n",
        "\n",
        "que nos serán de ayuda para el entrenamiento, testeo y para guardar los datos sobre el modelo entrenado. Guardaremos el valor de la ***loss*** tanto para test como para train cada 500 canciones, por lo que tendremos más de un punto por epoch. Modifica, si es necesario, las funciones *test()* y *train()* para que los ficheros de *total_test* y *total_train* dejen constancia de la epoch a la que pertenecen, esto te ayudará al graficar los datos más adelante.\n",
        "\n",
        "Añade, antes de cada función una cabecera explicando brevemente lo que ésta hace.\n",
        "\n",
        "---\n",
        "\n",
        "*nota: comprueba que has definido todas las variables necesarias para que las* *funciones no den error en mitad del entrenamiento. Comienza usando menos datos* *para agilizar el proceso y una vez funcione todo usa el set completo*"
      ],
      "metadata": {
        "id": "Ki3ULd3FBU8l"
      }
    },
    {
      "cell_type": "code",
      "source": [
        "for i, song in enumerate(train_set[:1]):\n",
        "  print(\"*\"*100)\n",
        "  print(\"Song:\")\n",
        "  print(song)\n",
        "  print(\"X:\")\n",
        "  print(song[:-1])\n",
        "  print(\"Y:\")\n",
        "  print(song[1:])\n",
        "  print(np_utils.to_categorical(song[1:], num_classes=num_chords))\n",
        "  print(\"*\"*100)"
      ],
      "metadata": {
        "colab": {
          "base_uri": "https://localhost:8080/"
        },
        "id": "3Ymmj7F2Z8-y",
        "outputId": "cfbf85ae-f513-4e37-b333-800542541d46"
      },
      "execution_count": 32,
      "outputs": [
        {
          "output_type": "stream",
          "name": "stdout",
          "text": [
            "****************************************************************************************************\n",
            "Song:\n",
            "[1, 10, 5, 0, 6, 1, 4, 15, 12, 12, 1, 10, 5, 0, 6, 1, 10, 15, 12, 26, 0, 0, 0, 0, 0, 0, 2, 1, 10, 5, 0, 6, 1, 10, 15, 12, 12, 26]\n",
            "X:\n",
            "[1, 10, 5, 0, 6, 1, 4, 15, 12, 12, 1, 10, 5, 0, 6, 1, 10, 15, 12, 26, 0, 0, 0, 0, 0, 0, 2, 1, 10, 5, 0, 6, 1, 10, 15, 12, 12]\n",
            "Y:\n",
            "[10, 5, 0, 6, 1, 4, 15, 12, 12, 1, 10, 5, 0, 6, 1, 10, 15, 12, 26, 0, 0, 0, 0, 0, 0, 2, 1, 10, 5, 0, 6, 1, 10, 15, 12, 12, 26]\n",
            "[[0. 0. 0. ... 0. 0. 0.]\n",
            " [0. 0. 0. ... 0. 0. 0.]\n",
            " [1. 0. 0. ... 0. 0. 0.]\n",
            " ...\n",
            " [0. 0. 0. ... 0. 0. 0.]\n",
            " [0. 0. 0. ... 0. 0. 0.]\n",
            " [0. 0. 0. ... 0. 0. 0.]]\n",
            "****************************************************************************************************\n"
          ]
        }
      ]
    },
    {
      "cell_type": "code",
      "source": [
        "epoch_array=[]\n",
        "total_test_loss_array = [] \n",
        "total_train_loss_array = []\n",
        "total_test_loss = 0\n",
        "show_plot = False\n",
        "save_plot = False\n",
        "test_step = 500\n",
        "verbose = False\n",
        "save_step = 1\n",
        "\n",
        "\n",
        "#crea aquí las funciones test(), train() y save_params()\n",
        "\n",
        "# La función test se encarga de probar el conjunto de test cada X tiempo,\n",
        "# es decir, evalúa la pérdida que hay en el conjunto cada vez que lo indique\n",
        "# la variable test_step, en nuestro caso ésta es 500, por lo que cada 500\n",
        "# canciones se va a evaluar el modelo.\n",
        "def test():\n",
        "  print('\\nTesting:')\n",
        "  total_test_loss = 0\n",
        "\n",
        "  bar = progressbar.ProgressBar(maxval=test_set_size, redirect_stdout=False)\n",
        "  for i, test_song in enumerate(test_set):\n",
        "      X_test = np.array(test_song[:-1])\n",
        "      Y_test = np.array(np_utils.to_categorical(test_song[1:], num_classes=num_chords))\n",
        "      loss = model.evaluate(X_test, Y_test, batch_size=batch_size, verbose=verbose)\n",
        "      model.reset_states()\n",
        "      bar.update(i+1)\n",
        "\n",
        "      total_test_loss += loss\n",
        "\n",
        "  total_test_loss_array.append(total_test_loss/test_set_size)\n",
        "  print('\\nTotal test loss: ', total_test_loss/test_set_size)\n",
        "  print('-'*50)\n",
        "\n",
        "  # plt.plot(total_test_loss_array, 'b-', label='test loss')\n",
        "  # plt.plot(total_train_loss_array, 'r-', label='train loss')\n",
        "  # plt.ylabel(model_path)\n",
        "  # plt.grid()\n",
        "\n",
        "  if show_plot: plt.show()\n",
        "  if save_plot: plt.savefig(model_path+'plot.png')\n",
        "  pickle.dump([epoch_array, total_test_loss_array],open(model_path +'total_test_loss_array.pickle', 'wb'))\n",
        "  pickle.dump([epoch_array, total_train_loss_array],open(model_path +'total_train_loss_array.pickle', 'wb'))\n",
        "\n",
        "# La función train se encarga del entrenamiento del modelo, para ello va a realizar el\n",
        "# entrenamiento tantas veces como épocas le indiquemos, en nuestro caso 10. Para cada época\n",
        "# va a ir calculando la pérdida y cuando llega a 500 (variable test_step) se realiza el \n",
        "# guardado tanto de la pérdida de train como de test.\n",
        "def train():\n",
        "  print('training model...')\n",
        "  total_train_loss = 0\n",
        "  epoch_array_real_time = [i/4 for i in range(1, int(epochs * (train_set_size/test_step)) + 1)]\n",
        "  index_epoch_array_real_time = 0\n",
        "\n",
        "  for e in range(1, epochs+1):\n",
        "      print('Epoch ', e, 'of ', epochs, 'Epochs\\nTraining:')\n",
        "      if shuffle_train_set:\n",
        "          shuffle(train_set)\n",
        "      bar = progressbar.ProgressBar(maxval=train_set_size)\n",
        "      for i, song in enumerate(train_set):\n",
        "        # bar.start()\n",
        "        X = np.array(song[:-1])\n",
        "        Y = np.array(np_utils.to_categorical(song[1:], num_classes=num_chords))\n",
        "        hist = model.fit(X, Y, batch_size=batch_size, shuffle=False, verbose=verbose)\n",
        "        model.reset_states()\n",
        "        bar.update(i+1)\n",
        "#            print(hist.history)\n",
        "\n",
        "        total_train_loss += hist.history['loss'][0]\n",
        "        if (i+1)%test_step is 0:\n",
        "            total_train_loss = total_train_loss/test_step\n",
        "            total_train_loss_array.append(total_train_loss)\n",
        "            epoch_array.append(epoch_array_real_time[index_epoch_array_real_time])\n",
        "            test()\n",
        "            total_train_loss = 0\n",
        "            index_epoch_array_real_time +=1\n",
        "  \n",
        "      if e%save_step is 0:\n",
        "          print('saving model')\n",
        "          model_save_path = model_path + 'model_' + 'Epoch' + str(e) + '_' + str(i+1) + model_filetype\n",
        "          model.save(model_save_path)\n",
        "\n",
        "# Esta función se encarga de guardar en un fichero .txt los parámetros utilizados en el entranamiento.\n",
        "# Dicho fichero se va a localizar en la carpeta generada para el modelo.\n",
        "def save_params():\n",
        "  with open(model_path + 'params.txt', \"w\") as text_file:\n",
        "    text_file.write(\"epochs: %s\" % epochs + '\\n')\n",
        "    text_file.write(\"train_set_size: %s\" % train_set_size + '\\n')\n",
        "    text_file.write(\"test_set_size: %s\" % test_set_size + '\\n')\n",
        "    text_file.write(\"lstm_size: %s\" % lstm_size + '\\n')\n",
        "    text_file.write(\"embedding_dim: %s\" % chord_embedding_dim + '\\n')\n",
        "    text_file.write(\"learning_rate: %s\" % learning_rate + '\\n')\n",
        "    #text_file.write(\"save_step: %s\" % save_step + '\\n')\n",
        "    text_file.write(\"shuffle_train_set: %s\" % shuffle_train_set + '\\n')\n",
        "    text_file.write(\"test_step: %s\" % test_step + '\\n')\n",
        "    text_file.write(\"bidirectional: %s\" % bidirectional + '\\n')\n",
        "    text_file.write(\"num_chords: %s\" % num_chords + '\\n')\n",
        "    text_file.write(\"chord_n: %s\" % chord_n + '\\n')"
      ],
      "metadata": {
        "id": "IDevHmNuCzGx"
      },
      "execution_count": null,
      "outputs": []
    },
    {
      "cell_type": "markdown",
      "source": [
        "2.3.2 Responde las siguientes preguntas:\n",
        "*  ¿Qué representa cada elemento de *X* en la función de *train()*?\n",
        "\n",
        "Cada elemento X de la función train está representando una canción, la cual está formada por un conjunto de acordes, donde cada elemento del array indica el acorde correspondiente de la canción.\n",
        "\n",
        "Para ello se introduce todos los acordes de la canción menos el último.\n",
        "\n",
        "*  ¿Qué se está usando como *label* para cada elemento de *X*? \n",
        "\n",
        "Como label se está usando todos los acordes que hay en la canción, con excepción del primero, es decir, a la red neuronal se le pasa toda la canción menos el úlitmo acorde, y como label se usa toda la canción menos el primer acorde.\n",
        "\n",
        "*  Justifica el uso de *categorical_crossentropy* como función de loss\n",
        "\n",
        "En este caso estamos en un problema de clasificación, pero no es clasificación binaria, es decir, la variable objetivo no es 0 o 1 (por ejemplo si existe un acorde o no). Este problema lo que busca resolver es identificar un patrón en los datos para predecir cual sería el siguiente acorde, es decir, hay 50 acordes y todos ellos son excluyentes entre sí, por lo tanto estamos en un probleam de clasificación multiclase (hay varias clases, para se más exactos hay 50).\n",
        "\n",
        "Al ser un problema de clasificación de multiclases se usa la categorical cross entropy, de lo contrario se usaría la binary cross entropy.\n",
        "\n",
        "Un detalle por si hay dudas es ver qué función de activación se usa en la capa de salida, si es binaria se usa una sigmoide, pero al ser un problema de múltiples clases se usa softmax.\n",
        "\n",
        "*  ¿Qué crees que está aprendiendo la red?\n",
        "\n",
        "La diferencia entre la entrada de la red y la salida es básicamente una, en la entrada se introducen todos los acordes menos el último, y para la salida se comparan todos los acordes menos el primero.\n",
        "\n",
        "Con la anterior lo que quiero decir es que la red neuronal busca patrones en los datos de entrada para predecir una secuencia de acordes, es decir, a partir de unos acordes cuál sería el siguiente que se podría utilizar.\n",
        "\n",
        "Esto es básicamente lo que aprende la red, el saber qué acordes de los 50 disponibles se puedan usar para continuar con la canción.\n",
        "\n",
        "\n",
        " "
      ],
      "metadata": {
        "id": "P7byp9y1_00y"
      }
    },
    {
      "cell_type": "markdown",
      "source": [
        ""
      ],
      "metadata": {
        "id": "SjoEPKL7Cp9Z"
      }
    },
    {
      "cell_type": "markdown",
      "source": [
        "2.3.3 Entrena la red usando las funciones anteriores"
      ],
      "metadata": {
        "id": "Jzu-37C4EKom"
      }
    },
    {
      "cell_type": "code",
      "source": [
        "print(\"saving params\")\n",
        "save_params()\n",
        "print(\"starting training..\")\n",
        "train()"
      ],
      "metadata": {
        "id": "gS16GEJaCrLH",
        "colab": {
          "base_uri": "https://localhost:8080/"
        },
        "outputId": "78ed1a9e-419a-4667-9eb5-80142a6f259b"
      },
      "execution_count": null,
      "outputs": [
        {
          "output_type": "stream",
          "name": "stdout",
          "text": [
            "saving params\n",
            "starting training..\n",
            "training model...\n",
            "Epoch  1 of  10 Epochs\n",
            "Training:\n"
          ]
        },
        {
          "output_type": "stream",
          "name": "stderr",
          "text": [
            " 25% (500 of 2000) |#####                | Elapsed Time: 0:03:05 ETA:   0:11:20"
          ]
        },
        {
          "output_type": "stream",
          "name": "stdout",
          "text": [
            "\n",
            "Testing:\n"
          ]
        },
        {
          "output_type": "stream",
          "name": "stderr",
          "text": [
            "100% (500 of 500) |######################| Elapsed Time: 0:01:53 ETA:  00:00:00"
          ]
        },
        {
          "output_type": "stream",
          "name": "stdout",
          "text": [
            "\n",
            "Total test loss:  3.1931820752620697\n",
            "--------------------------------------------------\n"
          ]
        },
        {
          "output_type": "stream",
          "name": "stderr",
          "text": [
            "N/A% (0 of 500) |                        | Elapsed Time: 0:00:00 ETA:  --:--:--"
          ]
        },
        {
          "output_type": "stream",
          "name": "stdout",
          "text": [
            "\n",
            "Testing:\n"
          ]
        },
        {
          "output_type": "stream",
          "name": "stderr",
          "text": [
            "100% (500 of 500) |######################| Elapsed Time: 0:01:58 ETA:  00:00:00"
          ]
        },
        {
          "output_type": "stream",
          "name": "stdout",
          "text": [
            "\n",
            "Total test loss:  3.1710480122566223\n",
            "--------------------------------------------------\n"
          ]
        },
        {
          "output_type": "stream",
          "name": "stderr",
          "text": [
            "N/A% (0 of 500) |                        | Elapsed Time: 0:00:00 ETA:  --:--:--"
          ]
        },
        {
          "output_type": "stream",
          "name": "stdout",
          "text": [
            "\n",
            "Testing:\n"
          ]
        },
        {
          "output_type": "stream",
          "name": "stderr",
          "text": [
            "100% (500 of 500) |######################| Elapsed Time: 0:01:56 ETA:  00:00:00"
          ]
        },
        {
          "output_type": "stream",
          "name": "stdout",
          "text": [
            "\n",
            "Total test loss:  3.114895385026932\n",
            "--------------------------------------------------\n"
          ]
        },
        {
          "output_type": "stream",
          "name": "stderr",
          "text": [
            "N/A% (0 of 500) |                        | Elapsed Time: 0:00:00 ETA:  --:--:--"
          ]
        },
        {
          "output_type": "stream",
          "name": "stdout",
          "text": [
            "\n",
            "Testing:\n"
          ]
        },
        {
          "output_type": "stream",
          "name": "stderr",
          "text": [
            "100% (500 of 500) |######################| Elapsed Time: 0:01:50 ETA:  00:00:00"
          ]
        },
        {
          "output_type": "stream",
          "name": "stdout",
          "text": [
            "\n",
            "Total test loss:  3.1169390454292296\n",
            "--------------------------------------------------\n",
            "saving model\n"
          ]
        },
        {
          "output_type": "stream",
          "name": "stderr",
          "text": [
            "WARNING:absl:Found untraced functions such as lstm_cell_layer_call_fn, lstm_cell_layer_call_and_return_conditional_losses while saving (showing 2 of 2). These functions will not be directly callable after loading.\n"
          ]
        },
        {
          "output_type": "stream",
          "name": "stdout",
          "text": [
            "INFO:tensorflow:Assets written to: models/chords/8945-Shifted_True_Lr_1e-05_EmDim_10_opt_Adam_bi_False_lstmsize_128_trainsize_2000_testsize_500_samples_per_bar8/model_Epoch1_2000.pickle/assets\n"
          ]
        },
        {
          "output_type": "stream",
          "name": "stderr",
          "text": [
            "INFO:tensorflow:Assets written to: models/chords/8945-Shifted_True_Lr_1e-05_EmDim_10_opt_Adam_bi_False_lstmsize_128_trainsize_2000_testsize_500_samples_per_bar8/model_Epoch1_2000.pickle/assets\n",
            "WARNING:absl:<keras.layers.recurrent.LSTMCell object at 0x7fa0cbab6450> has the same name 'LSTMCell' as a built-in Keras object. Consider renaming <class 'keras.layers.recurrent.LSTMCell'> to avoid naming conflicts when loading with `tf.keras.models.load_model`. If renaming is not possible, pass the object in the `custom_objects` parameter of the load function.\n"
          ]
        },
        {
          "output_type": "stream",
          "name": "stdout",
          "text": [
            "Epoch  2 of  10 Epochs\n",
            "Training:\n"
          ]
        },
        {
          "output_type": "stream",
          "name": "stderr",
          "text": [
            "N/A% (0 of 500) |                        | Elapsed Time: 0:00:00 ETA:  --:--:--"
          ]
        },
        {
          "output_type": "stream",
          "name": "stdout",
          "text": [
            "\n",
            "Testing:\n"
          ]
        },
        {
          "output_type": "stream",
          "name": "stderr",
          "text": [
            "100% (500 of 500) |######################| Elapsed Time: 0:01:51 ETA:  00:00:00"
          ]
        },
        {
          "output_type": "stream",
          "name": "stdout",
          "text": [
            "\n",
            "Total test loss:  3.0705467684268952\n",
            "--------------------------------------------------\n"
          ]
        },
        {
          "output_type": "stream",
          "name": "stderr",
          "text": [
            "N/A% (0 of 500) |                        | Elapsed Time: 0:00:00 ETA:  --:--:--"
          ]
        },
        {
          "output_type": "stream",
          "name": "stdout",
          "text": [
            "\n",
            "Testing:\n"
          ]
        },
        {
          "output_type": "stream",
          "name": "stderr",
          "text": [
            "100% (500 of 500) |######################| Elapsed Time: 0:01:51 ETA:  00:00:00"
          ]
        },
        {
          "output_type": "stream",
          "name": "stdout",
          "text": [
            "\n",
            "Total test loss:  3.0633127477169038\n",
            "--------------------------------------------------\n"
          ]
        },
        {
          "output_type": "stream",
          "name": "stderr",
          "text": [
            "N/A% (0 of 500) |                        | Elapsed Time: 0:00:00 ETA:  --:--:--"
          ]
        },
        {
          "output_type": "stream",
          "name": "stdout",
          "text": [
            "\n",
            "Testing:\n"
          ]
        },
        {
          "output_type": "stream",
          "name": "stderr",
          "text": [
            "100% (500 of 500) |######################| Elapsed Time: 0:01:49 ETA:  00:00:00"
          ]
        },
        {
          "output_type": "stream",
          "name": "stdout",
          "text": [
            "\n",
            "Total test loss:  3.055948158740997\n",
            "--------------------------------------------------\n"
          ]
        },
        {
          "output_type": "stream",
          "name": "stderr",
          "text": [
            "N/A% (0 of 500) |                        | Elapsed Time: 0:00:00 ETA:  --:--:--"
          ]
        },
        {
          "output_type": "stream",
          "name": "stdout",
          "text": [
            "\n",
            "Testing:\n"
          ]
        },
        {
          "output_type": "stream",
          "name": "stderr",
          "text": [
            "100% (500 of 500) |######################| Elapsed Time: 0:01:51 ETA:  00:00:00"
          ]
        },
        {
          "output_type": "stream",
          "name": "stdout",
          "text": [
            "\n",
            "Total test loss:  3.051659468173981\n",
            "--------------------------------------------------\n",
            "saving model\n"
          ]
        },
        {
          "output_type": "stream",
          "name": "stderr",
          "text": [
            "WARNING:absl:Found untraced functions such as lstm_cell_layer_call_fn, lstm_cell_layer_call_and_return_conditional_losses while saving (showing 2 of 2). These functions will not be directly callable after loading.\n"
          ]
        },
        {
          "output_type": "stream",
          "name": "stdout",
          "text": [
            "INFO:tensorflow:Assets written to: models/chords/8945-Shifted_True_Lr_1e-05_EmDim_10_opt_Adam_bi_False_lstmsize_128_trainsize_2000_testsize_500_samples_per_bar8/model_Epoch2_2000.pickle/assets\n"
          ]
        },
        {
          "output_type": "stream",
          "name": "stderr",
          "text": [
            "INFO:tensorflow:Assets written to: models/chords/8945-Shifted_True_Lr_1e-05_EmDim_10_opt_Adam_bi_False_lstmsize_128_trainsize_2000_testsize_500_samples_per_bar8/model_Epoch2_2000.pickle/assets\n",
            "WARNING:absl:<keras.layers.recurrent.LSTMCell object at 0x7fa0cbab6450> has the same name 'LSTMCell' as a built-in Keras object. Consider renaming <class 'keras.layers.recurrent.LSTMCell'> to avoid naming conflicts when loading with `tf.keras.models.load_model`. If renaming is not possible, pass the object in the `custom_objects` parameter of the load function.\n"
          ]
        },
        {
          "output_type": "stream",
          "name": "stdout",
          "text": [
            "Epoch  3 of  10 Epochs\n",
            "Training:\n"
          ]
        },
        {
          "output_type": "stream",
          "name": "stderr",
          "text": [
            "N/A% (0 of 500) |                        | Elapsed Time: 0:00:00 ETA:  --:--:--"
          ]
        },
        {
          "output_type": "stream",
          "name": "stdout",
          "text": [
            "\n",
            "Testing:\n"
          ]
        },
        {
          "output_type": "stream",
          "name": "stderr",
          "text": [
            "100% (500 of 500) |######################| Elapsed Time: 0:01:51 ETA:  00:00:00"
          ]
        },
        {
          "output_type": "stream",
          "name": "stdout",
          "text": [
            "\n",
            "Total test loss:  3.0304313535690306\n",
            "--------------------------------------------------\n"
          ]
        },
        {
          "output_type": "stream",
          "name": "stderr",
          "text": [
            "N/A% (0 of 500) |                        | Elapsed Time: 0:00:00 ETA:  --:--:--"
          ]
        },
        {
          "output_type": "stream",
          "name": "stdout",
          "text": [
            "\n",
            "Testing:\n"
          ]
        },
        {
          "output_type": "stream",
          "name": "stderr",
          "text": [
            "100% (500 of 500) |######################| Elapsed Time: 0:01:56 ETA:  00:00:00"
          ]
        },
        {
          "output_type": "stream",
          "name": "stdout",
          "text": [
            "\n",
            "Total test loss:  3.030498951435089\n",
            "--------------------------------------------------\n"
          ]
        },
        {
          "output_type": "stream",
          "name": "stderr",
          "text": [
            "N/A% (0 of 500) |                        | Elapsed Time: 0:00:00 ETA:  --:--:--"
          ]
        },
        {
          "output_type": "stream",
          "name": "stdout",
          "text": [
            "\n",
            "Testing:\n"
          ]
        },
        {
          "output_type": "stream",
          "name": "stderr",
          "text": [
            "100% (500 of 500) |######################| Elapsed Time: 0:01:54 ETA:  00:00:00"
          ]
        },
        {
          "output_type": "stream",
          "name": "stdout",
          "text": [
            "\n",
            "Total test loss:  3.019024733781815\n",
            "--------------------------------------------------\n"
          ]
        },
        {
          "output_type": "stream",
          "name": "stderr",
          "text": [
            "N/A% (0 of 500) |                        | Elapsed Time: 0:00:00 ETA:  --:--:--"
          ]
        },
        {
          "output_type": "stream",
          "name": "stdout",
          "text": [
            "\n",
            "Testing:\n"
          ]
        },
        {
          "output_type": "stream",
          "name": "stderr",
          "text": [
            "100% (500 of 500) |######################| Elapsed Time: 0:01:56 ETA:  00:00:00"
          ]
        },
        {
          "output_type": "stream",
          "name": "stdout",
          "text": [
            "\n",
            "Total test loss:  3.0131524679660795\n",
            "--------------------------------------------------\n",
            "saving model\n"
          ]
        },
        {
          "output_type": "stream",
          "name": "stderr",
          "text": [
            "WARNING:absl:Found untraced functions such as lstm_cell_layer_call_fn, lstm_cell_layer_call_and_return_conditional_losses while saving (showing 2 of 2). These functions will not be directly callable after loading.\n"
          ]
        },
        {
          "output_type": "stream",
          "name": "stdout",
          "text": [
            "INFO:tensorflow:Assets written to: models/chords/8945-Shifted_True_Lr_1e-05_EmDim_10_opt_Adam_bi_False_lstmsize_128_trainsize_2000_testsize_500_samples_per_bar8/model_Epoch3_2000.pickle/assets\n"
          ]
        },
        {
          "output_type": "stream",
          "name": "stderr",
          "text": [
            "INFO:tensorflow:Assets written to: models/chords/8945-Shifted_True_Lr_1e-05_EmDim_10_opt_Adam_bi_False_lstmsize_128_trainsize_2000_testsize_500_samples_per_bar8/model_Epoch3_2000.pickle/assets\n",
            "WARNING:absl:<keras.layers.recurrent.LSTMCell object at 0x7fa0cbab6450> has the same name 'LSTMCell' as a built-in Keras object. Consider renaming <class 'keras.layers.recurrent.LSTMCell'> to avoid naming conflicts when loading with `tf.keras.models.load_model`. If renaming is not possible, pass the object in the `custom_objects` parameter of the load function.\n"
          ]
        },
        {
          "output_type": "stream",
          "name": "stdout",
          "text": [
            "Epoch  4 of  10 Epochs\n",
            "Training:\n"
          ]
        },
        {
          "output_type": "stream",
          "name": "stderr",
          "text": [
            "N/A% (0 of 500) |                        | Elapsed Time: 0:00:00 ETA:  --:--:--"
          ]
        },
        {
          "output_type": "stream",
          "name": "stdout",
          "text": [
            "\n",
            "Testing:\n"
          ]
        },
        {
          "output_type": "stream",
          "name": "stderr",
          "text": [
            "100% (500 of 500) |######################| Elapsed Time: 0:01:59 ETA:  00:00:00"
          ]
        },
        {
          "output_type": "stream",
          "name": "stdout",
          "text": [
            "\n",
            "Total test loss:  3.006427509307861\n",
            "--------------------------------------------------\n"
          ]
        },
        {
          "output_type": "stream",
          "name": "stderr",
          "text": [
            " 50% (1000 of 2000) |##########          | Elapsed Time: 0:08:00 ETA:   0:05:33"
          ]
        },
        {
          "output_type": "stream",
          "name": "stdout",
          "text": [
            "\n",
            "Testing:\n"
          ]
        },
        {
          "output_type": "stream",
          "name": "stderr",
          "text": [
            "100% (500 of 500) |######################| Elapsed Time: 0:01:57 ETA:  00:00:00"
          ]
        },
        {
          "output_type": "stream",
          "name": "stdout",
          "text": [
            "\n",
            "Total test loss:  2.989778675317764\n",
            "--------------------------------------------------\n"
          ]
        },
        {
          "output_type": "stream",
          "name": "stderr",
          "text": [
            "N/A% (0 of 500) |                        | Elapsed Time: 0:00:00 ETA:  --:--:--"
          ]
        },
        {
          "output_type": "stream",
          "name": "stdout",
          "text": [
            "\n",
            "Testing:\n"
          ]
        },
        {
          "output_type": "stream",
          "name": "stderr",
          "text": [
            "100% (500 of 500) |######################| Elapsed Time: 0:01:55 ETA:  00:00:00"
          ]
        },
        {
          "output_type": "stream",
          "name": "stdout",
          "text": [
            "\n",
            "Total test loss:  2.9934910864830018\n",
            "--------------------------------------------------\n"
          ]
        },
        {
          "output_type": "stream",
          "name": "stderr",
          "text": [
            "N/A% (0 of 500) |                        | Elapsed Time: 0:00:00 ETA:  --:--:--"
          ]
        },
        {
          "output_type": "stream",
          "name": "stdout",
          "text": [
            "\n",
            "Testing:\n"
          ]
        },
        {
          "output_type": "stream",
          "name": "stderr",
          "text": [
            "100% (500 of 500) |######################| Elapsed Time: 0:01:54 ETA:  00:00:00"
          ]
        },
        {
          "output_type": "stream",
          "name": "stdout",
          "text": [
            "\n",
            "Total test loss:  2.9818686418533327\n",
            "--------------------------------------------------\n",
            "saving model\n"
          ]
        },
        {
          "output_type": "stream",
          "name": "stderr",
          "text": [
            "WARNING:absl:Found untraced functions such as lstm_cell_layer_call_fn, lstm_cell_layer_call_and_return_conditional_losses while saving (showing 2 of 2). These functions will not be directly callable after loading.\n"
          ]
        },
        {
          "output_type": "stream",
          "name": "stdout",
          "text": [
            "INFO:tensorflow:Assets written to: models/chords/8945-Shifted_True_Lr_1e-05_EmDim_10_opt_Adam_bi_False_lstmsize_128_trainsize_2000_testsize_500_samples_per_bar8/model_Epoch4_2000.pickle/assets\n"
          ]
        },
        {
          "output_type": "stream",
          "name": "stderr",
          "text": [
            "INFO:tensorflow:Assets written to: models/chords/8945-Shifted_True_Lr_1e-05_EmDim_10_opt_Adam_bi_False_lstmsize_128_trainsize_2000_testsize_500_samples_per_bar8/model_Epoch4_2000.pickle/assets\n",
            "WARNING:absl:<keras.layers.recurrent.LSTMCell object at 0x7fa0cbab6450> has the same name 'LSTMCell' as a built-in Keras object. Consider renaming <class 'keras.layers.recurrent.LSTMCell'> to avoid naming conflicts when loading with `tf.keras.models.load_model`. If renaming is not possible, pass the object in the `custom_objects` parameter of the load function.\n"
          ]
        },
        {
          "output_type": "stream",
          "name": "stdout",
          "text": [
            "Epoch  5 of  10 Epochs\n",
            "Training:\n"
          ]
        },
        {
          "output_type": "stream",
          "name": "stderr",
          "text": [
            "N/A% (0 of 500) |                        | Elapsed Time: 0:00:00 ETA:  --:--:--"
          ]
        },
        {
          "output_type": "stream",
          "name": "stdout",
          "text": [
            "\n",
            "Testing:\n"
          ]
        },
        {
          "output_type": "stream",
          "name": "stderr",
          "text": [
            "100% (500 of 500) |######################| Elapsed Time: 0:01:56 ETA:  00:00:00"
          ]
        },
        {
          "output_type": "stream",
          "name": "stdout",
          "text": [
            "\n",
            "Total test loss:  2.9677823214530945\n",
            "--------------------------------------------------\n"
          ]
        },
        {
          "output_type": "stream",
          "name": "stderr",
          "text": [
            "N/A% (0 of 500) |                        | Elapsed Time: 0:00:00 ETA:  --:--:--"
          ]
        },
        {
          "output_type": "stream",
          "name": "stdout",
          "text": [
            "\n",
            "Testing:\n"
          ]
        },
        {
          "output_type": "stream",
          "name": "stderr",
          "text": [
            "100% (500 of 500) |######################| Elapsed Time: 0:01:55 ETA:  00:00:00"
          ]
        },
        {
          "output_type": "stream",
          "name": "stdout",
          "text": [
            "\n",
            "Total test loss:  2.9706240384578706\n",
            "--------------------------------------------------\n"
          ]
        },
        {
          "output_type": "stream",
          "name": "stderr",
          "text": [
            "N/A% (0 of 500) |                        | Elapsed Time: 0:00:00 ETA:  --:--:--"
          ]
        },
        {
          "output_type": "stream",
          "name": "stdout",
          "text": [
            "\n",
            "Testing:\n"
          ]
        },
        {
          "output_type": "stream",
          "name": "stderr",
          "text": [
            "100% (500 of 500) |######################| Elapsed Time: 0:01:55 ETA:  00:00:00"
          ]
        },
        {
          "output_type": "stream",
          "name": "stdout",
          "text": [
            "\n",
            "Total test loss:  2.970767486333847\n",
            "--------------------------------------------------\n"
          ]
        },
        {
          "output_type": "stream",
          "name": "stderr",
          "text": [
            "N/A% (0 of 500) |                        | Elapsed Time: 0:00:00 ETA:  --:--:--"
          ]
        },
        {
          "output_type": "stream",
          "name": "stdout",
          "text": [
            "\n",
            "Testing:\n"
          ]
        },
        {
          "output_type": "stream",
          "name": "stderr",
          "text": [
            "100% (500 of 500) |######################| Elapsed Time: 0:01:51 ETA:  00:00:00"
          ]
        },
        {
          "output_type": "stream",
          "name": "stdout",
          "text": [
            "\n",
            "Total test loss:  2.967471867799759\n",
            "--------------------------------------------------\n",
            "saving model\n"
          ]
        },
        {
          "output_type": "stream",
          "name": "stderr",
          "text": [
            "WARNING:absl:Found untraced functions such as lstm_cell_layer_call_fn, lstm_cell_layer_call_and_return_conditional_losses while saving (showing 2 of 2). These functions will not be directly callable after loading.\n"
          ]
        },
        {
          "output_type": "stream",
          "name": "stdout",
          "text": [
            "INFO:tensorflow:Assets written to: models/chords/8945-Shifted_True_Lr_1e-05_EmDim_10_opt_Adam_bi_False_lstmsize_128_trainsize_2000_testsize_500_samples_per_bar8/model_Epoch5_2000.pickle/assets\n"
          ]
        },
        {
          "output_type": "stream",
          "name": "stderr",
          "text": [
            "INFO:tensorflow:Assets written to: models/chords/8945-Shifted_True_Lr_1e-05_EmDim_10_opt_Adam_bi_False_lstmsize_128_trainsize_2000_testsize_500_samples_per_bar8/model_Epoch5_2000.pickle/assets\n",
            "WARNING:absl:<keras.layers.recurrent.LSTMCell object at 0x7fa0cbab6450> has the same name 'LSTMCell' as a built-in Keras object. Consider renaming <class 'keras.layers.recurrent.LSTMCell'> to avoid naming conflicts when loading with `tf.keras.models.load_model`. If renaming is not possible, pass the object in the `custom_objects` parameter of the load function.\n"
          ]
        },
        {
          "output_type": "stream",
          "name": "stdout",
          "text": [
            "Epoch  6 of  10 Epochs\n",
            "Training:\n"
          ]
        },
        {
          "output_type": "stream",
          "name": "stderr",
          "text": [
            "N/A% (0 of 500) |                        | Elapsed Time: 0:00:00 ETA:  --:--:--"
          ]
        },
        {
          "output_type": "stream",
          "name": "stdout",
          "text": [
            "\n",
            "Testing:\n"
          ]
        },
        {
          "output_type": "stream",
          "name": "stderr",
          "text": [
            "100% (500 of 500) |######################| Elapsed Time: 0:01:54 ETA:  00:00:00"
          ]
        },
        {
          "output_type": "stream",
          "name": "stdout",
          "text": [
            "\n",
            "Total test loss:  2.9597561777830124\n",
            "--------------------------------------------------\n"
          ]
        },
        {
          "output_type": "stream",
          "name": "stderr",
          "text": [
            "N/A% (0 of 500) |                        | Elapsed Time: 0:00:00 ETA:  --:--:--"
          ]
        },
        {
          "output_type": "stream",
          "name": "stdout",
          "text": [
            "\n",
            "Testing:\n"
          ]
        },
        {
          "output_type": "stream",
          "name": "stderr",
          "text": [
            "100% (500 of 500) |######################| Elapsed Time: 0:01:55 ETA:  00:00:00"
          ]
        },
        {
          "output_type": "stream",
          "name": "stdout",
          "text": [
            "\n",
            "Total test loss:  2.961755524516106\n",
            "--------------------------------------------------\n"
          ]
        },
        {
          "output_type": "stream",
          "name": "stderr",
          "text": [
            "N/A% (0 of 500) |                        | Elapsed Time: 0:00:00 ETA:  --:--:--"
          ]
        },
        {
          "output_type": "stream",
          "name": "stdout",
          "text": [
            "\n",
            "Testing:\n"
          ]
        },
        {
          "output_type": "stream",
          "name": "stderr",
          "text": [
            "100% (500 of 500) |######################| Elapsed Time: 0:01:53 ETA:  00:00:00"
          ]
        },
        {
          "output_type": "stream",
          "name": "stdout",
          "text": [
            "\n",
            "Total test loss:  2.95194156229496\n",
            "--------------------------------------------------\n"
          ]
        },
        {
          "output_type": "stream",
          "name": "stderr",
          "text": [
            "N/A% (0 of 500) |                        | Elapsed Time: 0:00:00 ETA:  --:--:--"
          ]
        },
        {
          "output_type": "stream",
          "name": "stdout",
          "text": [
            "\n",
            "Testing:\n"
          ]
        },
        {
          "output_type": "stream",
          "name": "stderr",
          "text": [
            "100% (500 of 500) |######################| Elapsed Time: 0:01:56 ETA:  00:00:00"
          ]
        },
        {
          "output_type": "stream",
          "name": "stdout",
          "text": [
            "\n",
            "Total test loss:  2.948941522717476\n",
            "--------------------------------------------------\n",
            "saving model\n"
          ]
        },
        {
          "output_type": "stream",
          "name": "stderr",
          "text": [
            "WARNING:absl:Found untraced functions such as lstm_cell_layer_call_fn, lstm_cell_layer_call_and_return_conditional_losses while saving (showing 2 of 2). These functions will not be directly callable after loading.\n"
          ]
        },
        {
          "output_type": "stream",
          "name": "stdout",
          "text": [
            "INFO:tensorflow:Assets written to: models/chords/8945-Shifted_True_Lr_1e-05_EmDim_10_opt_Adam_bi_False_lstmsize_128_trainsize_2000_testsize_500_samples_per_bar8/model_Epoch6_2000.pickle/assets\n"
          ]
        },
        {
          "output_type": "stream",
          "name": "stderr",
          "text": [
            "INFO:tensorflow:Assets written to: models/chords/8945-Shifted_True_Lr_1e-05_EmDim_10_opt_Adam_bi_False_lstmsize_128_trainsize_2000_testsize_500_samples_per_bar8/model_Epoch6_2000.pickle/assets\n",
            "WARNING:absl:<keras.layers.recurrent.LSTMCell object at 0x7fa0cbab6450> has the same name 'LSTMCell' as a built-in Keras object. Consider renaming <class 'keras.layers.recurrent.LSTMCell'> to avoid naming conflicts when loading with `tf.keras.models.load_model`. If renaming is not possible, pass the object in the `custom_objects` parameter of the load function.\n"
          ]
        },
        {
          "output_type": "stream",
          "name": "stdout",
          "text": [
            "Epoch  7 of  10 Epochs\n",
            "Training:\n"
          ]
        },
        {
          "output_type": "stream",
          "name": "stderr",
          "text": [
            "N/A% (0 of 500) |                        | Elapsed Time: 0:00:00 ETA:  --:--:--"
          ]
        },
        {
          "output_type": "stream",
          "name": "stdout",
          "text": [
            "\n",
            "Testing:\n"
          ]
        },
        {
          "output_type": "stream",
          "name": "stderr",
          "text": [
            "100% (500 of 500) |######################| Elapsed Time: 0:01:54 ETA:  00:00:00"
          ]
        },
        {
          "output_type": "stream",
          "name": "stdout",
          "text": [
            "\n",
            "Total test loss:  2.9451075760126115\n",
            "--------------------------------------------------\n"
          ]
        },
        {
          "output_type": "stream",
          "name": "stderr",
          "text": [
            "N/A% (0 of 500) |                        | Elapsed Time: 0:00:00 ETA:  --:--:--"
          ]
        },
        {
          "output_type": "stream",
          "name": "stdout",
          "text": [
            "\n",
            "Testing:\n"
          ]
        },
        {
          "output_type": "stream",
          "name": "stderr",
          "text": [
            "100% (500 of 500) |######################| Elapsed Time: 0:01:55 ETA:  00:00:00"
          ]
        },
        {
          "output_type": "stream",
          "name": "stdout",
          "text": [
            "\n",
            "Total test loss:  2.94939766561985\n",
            "--------------------------------------------------\n"
          ]
        },
        {
          "output_type": "stream",
          "name": "stderr",
          "text": [
            " 75% (1500 of 2000) |###############     | Elapsed Time: 0:13:04 ETA:   0:03:53"
          ]
        },
        {
          "output_type": "stream",
          "name": "stdout",
          "text": [
            "\n",
            "Testing:\n"
          ]
        },
        {
          "output_type": "stream",
          "name": "stderr",
          "text": [
            "100% (500 of 500) |######################| Elapsed Time: 0:01:58 ETA:  00:00:00"
          ]
        },
        {
          "output_type": "stream",
          "name": "stdout",
          "text": [
            "\n",
            "Total test loss:  2.94552974152565\n",
            "--------------------------------------------------\n"
          ]
        },
        {
          "output_type": "stream",
          "name": "stderr",
          "text": [
            "100% (2000 of 2000) |####################| Elapsed Time: 0:18:20 ETA:  00:00:00"
          ]
        },
        {
          "output_type": "stream",
          "name": "stdout",
          "text": [
            "\n",
            "Testing:\n"
          ]
        },
        {
          "output_type": "stream",
          "name": "stderr",
          "text": [
            "100% (500 of 500) |######################| Elapsed Time: 0:02:00 ETA:  00:00:00"
          ]
        },
        {
          "output_type": "stream",
          "name": "stdout",
          "text": [
            "\n",
            "Total test loss:  2.942133869886398\n",
            "--------------------------------------------------\n",
            "saving model\n"
          ]
        },
        {
          "output_type": "stream",
          "name": "stderr",
          "text": [
            "WARNING:absl:Found untraced functions such as lstm_cell_layer_call_fn, lstm_cell_layer_call_and_return_conditional_losses while saving (showing 2 of 2). These functions will not be directly callable after loading.\n"
          ]
        },
        {
          "output_type": "stream",
          "name": "stdout",
          "text": [
            "INFO:tensorflow:Assets written to: models/chords/8945-Shifted_True_Lr_1e-05_EmDim_10_opt_Adam_bi_False_lstmsize_128_trainsize_2000_testsize_500_samples_per_bar8/model_Epoch7_2000.pickle/assets\n"
          ]
        },
        {
          "output_type": "stream",
          "name": "stderr",
          "text": [
            "INFO:tensorflow:Assets written to: models/chords/8945-Shifted_True_Lr_1e-05_EmDim_10_opt_Adam_bi_False_lstmsize_128_trainsize_2000_testsize_500_samples_per_bar8/model_Epoch7_2000.pickle/assets\n",
            "WARNING:absl:<keras.layers.recurrent.LSTMCell object at 0x7fa0cbab6450> has the same name 'LSTMCell' as a built-in Keras object. Consider renaming <class 'keras.layers.recurrent.LSTMCell'> to avoid naming conflicts when loading with `tf.keras.models.load_model`. If renaming is not possible, pass the object in the `custom_objects` parameter of the load function.\n"
          ]
        },
        {
          "output_type": "stream",
          "name": "stdout",
          "text": [
            "Epoch  8 of  10 Epochs\n",
            "Training:\n"
          ]
        },
        {
          "output_type": "stream",
          "name": "stderr",
          "text": [
            "N/A% (0 of 500) |                        | Elapsed Time: 0:00:00 ETA:  --:--:--"
          ]
        },
        {
          "output_type": "stream",
          "name": "stdout",
          "text": [
            "\n",
            "Testing:\n"
          ]
        },
        {
          "output_type": "stream",
          "name": "stderr",
          "text": [
            "100% (500 of 500) |######################| Elapsed Time: 0:01:56 ETA:  00:00:00"
          ]
        },
        {
          "output_type": "stream",
          "name": "stdout",
          "text": [
            "\n",
            "Total test loss:  2.9351922682523726\n",
            "--------------------------------------------------\n"
          ]
        },
        {
          "output_type": "stream",
          "name": "stderr",
          "text": [
            " 50% (1000 of 2000) |##########          | Elapsed Time: 0:08:01 ETA:   0:05:25"
          ]
        },
        {
          "output_type": "stream",
          "name": "stdout",
          "text": [
            "\n",
            "Testing:\n"
          ]
        },
        {
          "output_type": "stream",
          "name": "stderr",
          "text": [
            "100% (500 of 500) |######################| Elapsed Time: 0:01:58 ETA:  00:00:00"
          ]
        },
        {
          "output_type": "stream",
          "name": "stdout",
          "text": [
            "\n",
            "Total test loss:  2.931347827076912\n",
            "--------------------------------------------------\n"
          ]
        },
        {
          "output_type": "stream",
          "name": "stderr",
          "text": [
            "N/A% (0 of 500) |                        | Elapsed Time: 0:00:00 ETA:  --:--:--"
          ]
        },
        {
          "output_type": "stream",
          "name": "stdout",
          "text": [
            "\n",
            "Testing:\n"
          ]
        },
        {
          "output_type": "stream",
          "name": "stderr",
          "text": [
            "100% (500 of 500) |######################| Elapsed Time: 0:01:57 ETA:  00:00:00"
          ]
        },
        {
          "output_type": "stream",
          "name": "stdout",
          "text": [
            "\n",
            "Total test loss:  2.937104499220848\n",
            "--------------------------------------------------\n"
          ]
        },
        {
          "output_type": "stream",
          "name": "stderr",
          "text": [
            "100% (2000 of 2000) |####################| Elapsed Time: 0:18:07 ETA:  00:00:00"
          ]
        },
        {
          "output_type": "stream",
          "name": "stdout",
          "text": [
            "\n",
            "Testing:\n"
          ]
        },
        {
          "output_type": "stream",
          "name": "stderr",
          "text": [
            "100% (500 of 500) |######################| Elapsed Time: 0:01:54 ETA:  00:00:00"
          ]
        },
        {
          "output_type": "stream",
          "name": "stdout",
          "text": [
            "\n",
            "Total test loss:  2.9337692749500275\n",
            "--------------------------------------------------\n",
            "saving model\n"
          ]
        },
        {
          "output_type": "stream",
          "name": "stderr",
          "text": [
            "WARNING:absl:Found untraced functions such as lstm_cell_layer_call_fn, lstm_cell_layer_call_and_return_conditional_losses while saving (showing 2 of 2). These functions will not be directly callable after loading.\n"
          ]
        },
        {
          "output_type": "stream",
          "name": "stdout",
          "text": [
            "INFO:tensorflow:Assets written to: models/chords/8945-Shifted_True_Lr_1e-05_EmDim_10_opt_Adam_bi_False_lstmsize_128_trainsize_2000_testsize_500_samples_per_bar8/model_Epoch8_2000.pickle/assets\n"
          ]
        },
        {
          "output_type": "stream",
          "name": "stderr",
          "text": [
            "INFO:tensorflow:Assets written to: models/chords/8945-Shifted_True_Lr_1e-05_EmDim_10_opt_Adam_bi_False_lstmsize_128_trainsize_2000_testsize_500_samples_per_bar8/model_Epoch8_2000.pickle/assets\n",
            "WARNING:absl:<keras.layers.recurrent.LSTMCell object at 0x7fa0cbab6450> has the same name 'LSTMCell' as a built-in Keras object. Consider renaming <class 'keras.layers.recurrent.LSTMCell'> to avoid naming conflicts when loading with `tf.keras.models.load_model`. If renaming is not possible, pass the object in the `custom_objects` parameter of the load function.\n"
          ]
        },
        {
          "output_type": "stream",
          "name": "stdout",
          "text": [
            "Epoch  9 of  10 Epochs\n",
            "Training:\n"
          ]
        },
        {
          "output_type": "stream",
          "name": "stderr",
          "text": [
            "N/A% (0 of 500) |                        | Elapsed Time: 0:00:00 ETA:  --:--:--"
          ]
        },
        {
          "output_type": "stream",
          "name": "stdout",
          "text": [
            "\n",
            "Testing:\n"
          ]
        },
        {
          "output_type": "stream",
          "name": "stderr",
          "text": [
            "100% (500 of 500) |######################| Elapsed Time: 0:01:53 ETA:  00:00:00"
          ]
        },
        {
          "output_type": "stream",
          "name": "stdout",
          "text": [
            "\n",
            "Total test loss:  2.9327947165966033\n",
            "--------------------------------------------------\n"
          ]
        },
        {
          "output_type": "stream",
          "name": "stderr",
          "text": [
            "N/A% (0 of 500) |                        | Elapsed Time: 0:00:00 ETA:  --:--:--"
          ]
        },
        {
          "output_type": "stream",
          "name": "stdout",
          "text": [
            "\n",
            "Testing:\n"
          ]
        },
        {
          "output_type": "stream",
          "name": "stderr",
          "text": [
            "100% (500 of 500) |######################| Elapsed Time: 0:01:58 ETA:  00:00:00"
          ]
        },
        {
          "output_type": "stream",
          "name": "stdout",
          "text": [
            "\n",
            "Total test loss:  2.9229523890018463\n",
            "--------------------------------------------------\n"
          ]
        },
        {
          "output_type": "stream",
          "name": "stderr",
          "text": [
            "N/A% (0 of 500) |                        | Elapsed Time: 0:00:00 ETA:  --:--:--"
          ]
        },
        {
          "output_type": "stream",
          "name": "stdout",
          "text": [
            "\n",
            "Testing:\n"
          ]
        },
        {
          "output_type": "stream",
          "name": "stderr",
          "text": [
            "100% (500 of 500) |######################| Elapsed Time: 0:01:57 ETA:  00:00:00"
          ]
        },
        {
          "output_type": "stream",
          "name": "stdout",
          "text": [
            "\n",
            "Total test loss:  2.9318629817962645\n",
            "--------------------------------------------------\n"
          ]
        },
        {
          "output_type": "stream",
          "name": "stderr",
          "text": [
            "N/A% (0 of 500) |                        | Elapsed Time: 0:00:00 ETA:  --:--:--"
          ]
        },
        {
          "output_type": "stream",
          "name": "stdout",
          "text": [
            "\n",
            "Testing:\n"
          ]
        },
        {
          "output_type": "stream",
          "name": "stderr",
          "text": [
            "100% (500 of 500) |######################| Elapsed Time: 0:01:55 ETA:  00:00:00"
          ]
        },
        {
          "output_type": "stream",
          "name": "stdout",
          "text": [
            "\n",
            "Total test loss:  2.9246486488580703\n",
            "--------------------------------------------------\n",
            "saving model\n"
          ]
        },
        {
          "output_type": "stream",
          "name": "stderr",
          "text": [
            "WARNING:absl:Found untraced functions such as lstm_cell_layer_call_fn, lstm_cell_layer_call_and_return_conditional_losses while saving (showing 2 of 2). These functions will not be directly callable after loading.\n"
          ]
        },
        {
          "output_type": "stream",
          "name": "stdout",
          "text": [
            "INFO:tensorflow:Assets written to: models/chords/8945-Shifted_True_Lr_1e-05_EmDim_10_opt_Adam_bi_False_lstmsize_128_trainsize_2000_testsize_500_samples_per_bar8/model_Epoch9_2000.pickle/assets\n"
          ]
        },
        {
          "output_type": "stream",
          "name": "stderr",
          "text": [
            "INFO:tensorflow:Assets written to: models/chords/8945-Shifted_True_Lr_1e-05_EmDim_10_opt_Adam_bi_False_lstmsize_128_trainsize_2000_testsize_500_samples_per_bar8/model_Epoch9_2000.pickle/assets\n",
            "WARNING:absl:<keras.layers.recurrent.LSTMCell object at 0x7fa0cbab6450> has the same name 'LSTMCell' as a built-in Keras object. Consider renaming <class 'keras.layers.recurrent.LSTMCell'> to avoid naming conflicts when loading with `tf.keras.models.load_model`. If renaming is not possible, pass the object in the `custom_objects` parameter of the load function.\n"
          ]
        },
        {
          "output_type": "stream",
          "name": "stdout",
          "text": [
            "Epoch  10 of  10 Epochs\n",
            "Training:\n"
          ]
        },
        {
          "output_type": "stream",
          "name": "stderr",
          "text": [
            " 25% (500 of 2000) |#####                | Elapsed Time: 0:02:55 ETA:   0:09:57"
          ]
        },
        {
          "output_type": "stream",
          "name": "stdout",
          "text": [
            "\n",
            "Testing:\n"
          ]
        },
        {
          "output_type": "stream",
          "name": "stderr",
          "text": [
            "100% (500 of 500) |######################| Elapsed Time: 0:02:01 ETA:  00:00:00"
          ]
        },
        {
          "output_type": "stream",
          "name": "stdout",
          "text": [
            "\n",
            "Total test loss:  2.919686899423599\n",
            "--------------------------------------------------\n"
          ]
        },
        {
          "output_type": "stream",
          "name": "stderr",
          "text": [
            "N/A% (0 of 500) |                        | Elapsed Time: 0:00:00 ETA:  --:--:--"
          ]
        },
        {
          "output_type": "stream",
          "name": "stdout",
          "text": [
            "\n",
            "Testing:\n"
          ]
        },
        {
          "output_type": "stream",
          "name": "stderr",
          "text": [
            "100% (500 of 500) |######################| Elapsed Time: 0:01:59 ETA:  00:00:00"
          ]
        },
        {
          "output_type": "stream",
          "name": "stdout",
          "text": [
            "\n",
            "Total test loss:  2.9235513738393784\n",
            "--------------------------------------------------\n"
          ]
        },
        {
          "output_type": "stream",
          "name": "stderr",
          "text": [
            " 75% (1500 of 2000) |###############     | Elapsed Time: 0:13:14 ETA:   0:03:13"
          ]
        },
        {
          "output_type": "stream",
          "name": "stdout",
          "text": [
            "\n",
            "Testing:\n"
          ]
        },
        {
          "output_type": "stream",
          "name": "stderr",
          "text": [
            "100% (500 of 500) |######################| Elapsed Time: 0:02:05 ETA:  00:00:00"
          ]
        },
        {
          "output_type": "stream",
          "name": "stdout",
          "text": [
            "\n",
            "Total test loss:  2.9286300568580628\n",
            "--------------------------------------------------\n"
          ]
        },
        {
          "output_type": "stream",
          "name": "stderr",
          "text": [
            "100% (2000 of 2000) |####################| Elapsed Time: 0:18:26 ETA:  00:00:00"
          ]
        },
        {
          "output_type": "stream",
          "name": "stdout",
          "text": [
            "\n",
            "Testing:\n"
          ]
        },
        {
          "output_type": "stream",
          "name": "stderr",
          "text": [
            "100% (500 of 500) |######################| Elapsed Time: 0:02:02 ETA:  00:00:00"
          ]
        },
        {
          "output_type": "stream",
          "name": "stdout",
          "text": [
            "\n",
            "Total test loss:  2.9142598633766172\n",
            "--------------------------------------------------\n",
            "saving model\n"
          ]
        },
        {
          "output_type": "stream",
          "name": "stderr",
          "text": [
            "WARNING:absl:Found untraced functions such as lstm_cell_layer_call_fn, lstm_cell_layer_call_and_return_conditional_losses while saving (showing 2 of 2). These functions will not be directly callable after loading.\n"
          ]
        },
        {
          "output_type": "stream",
          "name": "stdout",
          "text": [
            "INFO:tensorflow:Assets written to: models/chords/8945-Shifted_True_Lr_1e-05_EmDim_10_opt_Adam_bi_False_lstmsize_128_trainsize_2000_testsize_500_samples_per_bar8/model_Epoch10_2000.pickle/assets\n"
          ]
        },
        {
          "output_type": "stream",
          "name": "stderr",
          "text": [
            "INFO:tensorflow:Assets written to: models/chords/8945-Shifted_True_Lr_1e-05_EmDim_10_opt_Adam_bi_False_lstmsize_128_trainsize_2000_testsize_500_samples_per_bar8/model_Epoch10_2000.pickle/assets\n",
            "WARNING:absl:<keras.layers.recurrent.LSTMCell object at 0x7fa0cbab6450> has the same name 'LSTMCell' as a built-in Keras object. Consider renaming <class 'keras.layers.recurrent.LSTMCell'> to avoid naming conflicts when loading with `tf.keras.models.load_model`. If renaming is not possible, pass the object in the `custom_objects` parameter of the load function.\n"
          ]
        }
      ]
    },
    {
      "cell_type": "markdown",
      "source": [
        "##2.4 Comparación de modelos [2 pts]"
      ],
      "metadata": {
        "id": "CkpRym4eFnN9"
      }
    },
    {
      "cell_type": "markdown",
      "source": [
        "En este último paso compararemos diferentes modelos. En la carpeta *models/chords* encontrarás los datos (en un formato similar al generado anteriormente) del entrenamiento de modelos similares con otros parámetros:\n",
        "\n",
        "1.   carpeta: 2717-Shifted_True_...\n",
        "2.   carpeta: 5102-Shifted_True_...\n",
        "\n"
      ],
      "metadata": {
        "id": "FhwHC5ZJF0YW"
      }
    },
    {
      "cell_type": "markdown",
      "source": [
        "2.4.1 Compara los 3 modelos: grafica las funciones de loss para train y test de cada modelo.\n",
        "\n",
        "*   Indica los parámetros de cada uno de los 3 modelos (el que habéis entrenado y los 2 que os hemos dado)\n",
        "*   ¿Qué set de parámetros ha dado la mejor performance?\n",
        "*   ¿Se aprecia overfitting en alguno de los modelos? Justifica tu respuesta"
      ],
      "metadata": {
        "id": "ab531tCvGhI3"
      }
    },
    {
      "cell_type": "markdown",
      "source": [
        "GRAFICAMOS LAS FUNCIONES DE LOSS PARA TRAIN Y TEST"
      ],
      "metadata": {
        "id": "NT4SQep57WfU"
      }
    },
    {
      "cell_type": "code",
      "source": [
        "# Función para graficar las funciones de loss para train y test en cada modelo\n",
        "def plot_loss(train_loss, test_loss, epochs, name_model):\n",
        "  plt.figure(figsize=(25, 7))\n",
        "  xi = list(range(len(epochs)))\n",
        "  plt.plot(xi, train_loss, 'r-', label='train loss')\n",
        "  plt.plot(xi, test_loss, 'b-', label='test loss')\n",
        "  plt.xticks(xi, epochs, rotation=45)\n",
        "  plt.title(name_model)\n",
        "  plt.xlabel(\"Epoch\")\n",
        "  plt.ylabel(\"Loss\")\n",
        "  plt.legend()"
      ],
      "metadata": {
        "id": "BEsa5EA2C-jQ"
      },
      "execution_count": null,
      "outputs": []
    },
    {
      "cell_type": "code",
      "source": [
        "# Primer modelo\n",
        "name_model = \"2717-Shifted_True_Lr_1e-05_EmDim_10_opt_Adam_bi_False_lstmsize_256_trainsize_2000_testsize_500_samples_per_bar8\"\n",
        "train_loss = pickle.load(open(\"models/chords/\" + name_model + \"/total_train_loss_array.pickle\", \"rb\"))\n",
        "test_loss = pickle.load(open(\"models/chords/\" + name_model + \"/total_test_loss_array.pickle\", \"rb\"))\n",
        "\n",
        "plot_loss(train_loss[1], test_loss[1], train_loss[0], name_model)"
      ],
      "metadata": {
        "colab": {
          "base_uri": "https://localhost:8080/",
          "height": 471
        },
        "id": "e6-ZxCcjmO9S",
        "outputId": "7059bada-c637-4232-a691-13a2d5c333c8"
      },
      "execution_count": null,
      "outputs": [
        {
          "output_type": "display_data",
          "data": {
            "text/plain": [
              "<Figure size 1800x504 with 1 Axes>"
            ],
            "image/png": "[encoded data removed]"
          },
          "metadata": {
            "needs_background": "light"
          }
        }
      ]
    },
    {
      "cell_type": "code",
      "source": [
        "# Segundo modelo\n",
        "name_model = \"5102-Shifted_True_Lr_1e-05_EmDim_10_opt_Adam_bi_False_lstmsize_256_trainsize_4000_testsize_1000_samples_per_bar8\"\n",
        "train_loss = pickle.load(open(\"models/chords/\" + name_model + \"/total_train_loss_array.pickle\", \"rb\"))\n",
        "test_loss = pickle.load(open(\"models/chords/\" + name_model + \"/total_test_loss_array.pickle\", \"rb\"))\n",
        "\n",
        "plot_loss(train_loss[1], test_loss[1], train_loss[0], name_model)"
      ],
      "metadata": {
        "colab": {
          "base_uri": "https://localhost:8080/",
          "height": 476
        },
        "id": "TIJnoU-Xvt7v",
        "outputId": "e7eb7d4d-f935-4f24-83b2-c63b659ffd75"
      },
      "execution_count": null,
      "outputs": [
        {
          "output_type": "display_data",
          "data": {
            "text/plain": [
              "<Figure size 1800x504 with 1 Axes>"
            ],
            "image/png": "[encoded data removed]"
          },
          "metadata": {
            "needs_background": "light"
          }
        }
      ]
    },
    {
      "cell_type": "code",
      "source": [
        "# Tercer modelo\n",
        "name_model = model_name\n",
        "train_loss = pickle.load(open(\"models/chords/\" + name_model + \"/total_train_loss_array.pickle\", \"rb\"))\n",
        "test_loss = pickle.load(open(\"models/chords/\" + name_model + \"/total_test_loss_array.pickle\", \"rb\"))\n",
        "\n",
        "plot_loss(train_loss[1], test_loss[1], train_loss[0], name_model)"
      ],
      "metadata": {
        "colab": {
          "base_uri": "https://localhost:8080/",
          "height": 471
        },
        "id": "G2fVjIWpw1FY",
        "outputId": "4d258b60-827e-4794-88cc-a87a6d149251"
      },
      "execution_count": null,
      "outputs": [
        {
          "output_type": "display_data",
          "data": {
            "text/plain": [
              "<Figure size 1800x504 with 1 Axes>"
            ],
            "image/png": "[encoded data removed]"
          },
          "metadata": {
            "needs_background": "light"
          }
        }
      ]
    },
    {
      "cell_type": "markdown",
      "source": [
        "INDICAMOS LOS PARÁMETROS DE CADA MODELO"
      ],
      "metadata": {
        "id": "M2oFPu0H7cpQ"
      }
    },
    {
      "cell_type": "code",
      "source": [
        "# Parámetros de cada uno de los modelos\n",
        "df_model1 = pd.read_csv(\n",
        "    \"models/chords/2717-Shifted_True_Lr_1e-05_EmDim_10_opt_Adam_bi_False_lstmsize_256_trainsize_2000_testsize_500_samples_per_bar8/params_0.txt\",\n",
        "    sep=\": \",\n",
        "    header=None,\n",
        "    engine=\"python\")\n",
        "df_model1.columns = [\"params\", \"values\"]\n",
        "\n",
        "df_model2 = pd.read_csv(\n",
        "    \"models/chords/5102-Shifted_True_Lr_1e-05_EmDim_10_opt_Adam_bi_False_lstmsize_256_trainsize_4000_testsize_1000_samples_per_bar8/params_0.txt\",\n",
        "    sep=\": \",\n",
        "    header=None,\n",
        "    engine=\"python\")\n",
        "df_model2.columns = [\"params\", \"values\"]\n",
        "\n",
        "df_model3 = pd.read_csv(\n",
        "    \"models/chords/\" + name_model + \"/params.txt\",\n",
        "    sep=\": \",\n",
        "    header=None,\n",
        "    engine=\"python\")\n",
        "df_model3.columns = [\"params\", \"values\"]"
      ],
      "metadata": {
        "id": "Lgqv2r1s0bHD"
      },
      "execution_count": null,
      "outputs": []
    },
    {
      "cell_type": "code",
      "source": [
        "# Comparativa de modelos\n",
        "df_models = pd.DataFrame(\n",
        "    data={\n",
        "        name_model[0:17] + \"...\": df_model3[\"values\"].values,\n",
        "        \"2717-Shifted_True...\": df_model1[\"values\"].values,\n",
        "        \"5102-Shifted_True...\": df_model2[\"values\"].values\n",
        "    },\n",
        "    index=df_model1[\"params\"].values\n",
        ")\n",
        "\n",
        "df_models"
      ],
      "metadata": {
        "colab": {
          "base_uri": "https://localhost:8080/",
          "height": 394
        },
        "id": "40UjJGdZ0cPJ",
        "outputId": "0cc74105-9343-4efa-97d2-5927e703e406"
      },
      "execution_count": null,
      "outputs": [
        {
          "output_type": "execute_result",
          "data": {
            "text/plain": [
              "                  8945-Shifted_True... 2717-Shifted_True...  \\\n",
              "epochs                              10                   10   \n",
              "train_set_size                    2000                 2000   \n",
              "test_set_size                      500                  500   \n",
              "lstm_size                          128                  256   \n",
              "embedding_dim                       10                   10   \n",
              "learning_rate                    1e-05                1e-05   \n",
              "shuffle_train_set                 True                 True   \n",
              "test_step                          500                  500   \n",
              "bidirectional                    False                False   \n",
              "num_chords                          50                   50   \n",
              "chord_n                              3                    3   \n",
              "\n",
              "                  5102-Shifted_True...  \n",
              "epochs                              20  \n",
              "train_set_size                    4000  \n",
              "test_set_size                     1000  \n",
              "lstm_size                          256  \n",
              "embedding_dim                       10  \n",
              "learning_rate                    1e-05  \n",
              "shuffle_train_set                 True  \n",
              "test_step                         1000  \n",
              "bidirectional                    False  \n",
              "num_chords                          50  \n",
              "chord_n                              3  "
            ],
            "text/html": [
              "\n",
              "  <div id=\"df-7f451a7b-4811-4299-aead-a74750b45f84\">\n",
              "    <div class=\"colab-df-container\">\n",
              "      <div>\n",
              "<style scoped>\n",
              "    .dataframe tbody tr th:only-of-type {\n",
              "        vertical-align: middle;\n",
              "    }\n",
              "\n",
              "    .dataframe tbody tr th {\n",
              "        vertical-align: top;\n",
              "    }\n",
              "\n",
              "    .dataframe thead th {\n",
              "        text-align: right;\n",
              "    }\n",
              "</style>\n",
              "<table border=\"1\" class=\"dataframe\">\n",
              "  <thead>\n",
              "    <tr style=\"text-align: right;\">\n",
              "      <th></th>\n",
              "      <th>8945-Shifted_True...</th>\n",
              "      <th>2717-Shifted_True...</th>\n",
              "      <th>5102-Shifted_True...</th>\n",
              "    </tr>\n",
              "  </thead>\n",
              "  <tbody>\n",
              "    <tr>\n",
              "      <th>epochs</th>\n",
              "      <td>10</td>\n",
              "      <td>10</td>\n",
              "      <td>20</td>\n",
              "    </tr>\n",
              "    <tr>\n",
              "      <th>train_set_size</th>\n",
              "      <td>2000</td>\n",
              "      <td>2000</td>\n",
              "      <td>4000</td>\n",
              "    </tr>\n",
              "    <tr>\n",
              "      <th>test_set_size</th>\n",
              "      <td>500</td>\n",
              "      <td>500</td>\n",
              "      <td>1000</td>\n",
              "    </tr>\n",
              "    <tr>\n",
              "      <th>lstm_size</th>\n",
              "      <td>128</td>\n",
              "      <td>256</td>\n",
              "      <td>256</td>\n",
              "    </tr>\n",
              "    <tr>\n",
              "      <th>embedding_dim</th>\n",
              "      <td>10</td>\n",
              "      <td>10</td>\n",
              "      <td>10</td>\n",
              "    </tr>\n",
              "    <tr>\n",
              "      <th>learning_rate</th>\n",
              "      <td>1e-05</td>\n",
              "      <td>1e-05</td>\n",
              "      <td>1e-05</td>\n",
              "    </tr>\n",
              "    <tr>\n",
              "      <th>shuffle_train_set</th>\n",
              "      <td>True</td>\n",
              "      <td>True</td>\n",
              "      <td>True</td>\n",
              "    </tr>\n",
              "    <tr>\n",
              "      <th>test_step</th>\n",
              "      <td>500</td>\n",
              "      <td>500</td>\n",
              "      <td>1000</td>\n",
              "    </tr>\n",
              "    <tr>\n",
              "      <th>bidirectional</th>\n",
              "      <td>False</td>\n",
              "      <td>False</td>\n",
              "      <td>False</td>\n",
              "    </tr>\n",
              "    <tr>\n",
              "      <th>num_chords</th>\n",
              "      <td>50</td>\n",
              "      <td>50</td>\n",
              "      <td>50</td>\n",
              "    </tr>\n",
              "    <tr>\n",
              "      <th>chord_n</th>\n",
              "      <td>3</td>\n",
              "      <td>3</td>\n",
              "      <td>3</td>\n",
              "    </tr>\n",
              "  </tbody>\n",
              "</table>\n",
              "</div>\n",
              "      <button class=\"colab-df-convert\" onclick=\"convertToInteractive('df-7f451a7b-4811-4299-aead-a74750b45f84')\"\n",
              "              title=\"Convert this dataframe to an interactive table.\"\n",
              "              style=\"display:none;\">\n",
              "        \n",
              "  <svg xmlns=\"http://www.w3.org/2000/svg\" height=\"24px\"viewBox=\"0 0 24 24\"\n",
              "       width=\"24px\">\n",
              "    <path d=\"M0 0h24v24H0V0z\" fill=\"none\"/>\n",
              "    <path d=\"M18.56 5.44l.94 2.06.94-2.06 2.06-.94-2.06-.94-.94-2.06-.94 2.06-2.06.94zm-11 1L8.5 8.5l.94-2.06 2.06-.94-2.06-.94L8.5 2.5l-.94 2.06-2.06.94zm10 10l.94 2.06.94-2.06 2.06-.94-2.06-.94-.94-2.06-.94 2.06-2.06.94z\"/><path d=\"M17.41 7.96l-1.37-1.37c-.4-.4-.92-.59-1.43-.59-.52 0-1.04.2-1.43.59L10.3 9.45l-7.72 7.72c-.78.78-.78 2.05 0 2.83L4 21.41c.39.39.9.59 1.41.59.51 0 1.02-.2 1.41-.59l7.78-7.78 2.81-2.81c.8-.78.8-2.07 0-2.86zM5.41 20L4 18.59l7.72-7.72 1.47 1.35L5.41 20z\"/>\n",
              "  </svg>\n",
              "      </button>\n",
              "      \n",
              "  <style>\n",
              "    .colab-df-container {\n",
              "      display:flex;\n",
              "      flex-wrap:wrap;\n",
              "      gap: 12px;\n",
              "    }\n",
              "\n",
              "    .colab-df-convert {\n",
              "      background-color: #E8F0FE;\n",
              "      border: none;\n",
              "      border-radius: 50%;\n",
              "      cursor: pointer;\n",
              "      display: none;\n",
              "      fill: #1967D2;\n",
              "      height: 32px;\n",
              "      padding: 0 0 0 0;\n",
              "      width: 32px;\n",
              "    }\n",
              "\n",
              "    .colab-df-convert:hover {\n",
              "      background-color: #E2EBFA;\n",
              "      box-shadow: 0px 1px 2px rgba(60, 64, 67, 0.3), 0px 1px 3px 1px rgba(60, 64, 67, 0.15);\n",
              "      fill: #174EA6;\n",
              "    }\n",
              "\n",
              "    [theme=dark] .colab-df-convert {\n",
              "      background-color: #3B4455;\n",
              "      fill: #D2E3FC;\n",
              "    }\n",
              "\n",
              "    [theme=dark] .colab-df-convert:hover {\n",
              "      background-color: #434B5C;\n",
              "      box-shadow: 0px 1px 3px 1px rgba(0, 0, 0, 0.15);\n",
              "      filter: drop-shadow(0px 1px 2px rgba(0, 0, 0, 0.3));\n",
              "      fill: #FFFFFF;\n",
              "    }\n",
              "  </style>\n",
              "\n",
              "      <script>\n",
              "        const buttonEl =\n",
              "          document.querySelector('#df-7f451a7b-4811-4299-aead-a74750b45f84 button.colab-df-convert');\n",
              "        buttonEl.style.display =\n",
              "          google.colab.kernel.accessAllowed ? 'block' : 'none';\n",
              "\n",
              "        async function convertToInteractive(key) {\n",
              "          const element = document.querySelector('#df-7f451a7b-4811-4299-aead-a74750b45f84');\n",
              "          const dataTable =\n",
              "            await google.colab.kernel.invokeFunction('convertToInteractive',\n",
              "                                                     [key], {});\n",
              "          if (!dataTable) return;\n",
              "\n",
              "          const docLinkHtml = 'Like what you see? Visit the ' +\n",
              "            '<a target=\"_blank\" href=https://colab.research.google.com/notebooks/data_table.ipynb>data table notebook</a>'\n",
              "            + ' to learn more about interactive tables.';\n",
              "          element.innerHTML = '';\n",
              "          dataTable['output_type'] = 'display_data';\n",
              "          await google.colab.output.renderOutput(dataTable, element);\n",
              "          const docLink = document.createElement('div');\n",
              "          docLink.innerHTML = docLinkHtml;\n",
              "          element.appendChild(docLink);\n",
              "        }\n",
              "      </script>\n",
              "    </div>\n",
              "  </div>\n",
              "  "
            ]
          },
          "metadata": {},
          "execution_count": 36
        }
      ]
    },
    {
      "cell_type": "markdown",
      "source": [
        "EVALUAMOS LAS SOLUCIONES OBTENIDAS"
      ],
      "metadata": {
        "id": "zY52RP_17hUQ"
      }
    },
    {
      "cell_type": "markdown",
      "source": [
        "* Primer modelo base (2717-Shifted_True...)\n",
        "\n",
        "Este modelo es muy similar a nuestro modelo gneerado en el ejercicio (8945-Shifted_True...), tal y como podemos apreciar en la anterior celda de ejecución, solo difieren en un parámetro; lstm_size en este caso es de 256 mientras que en nuestro modelo es de 128.\n",
        "\n",
        "El rendimiento obtenido es ambos modelos es muy similar, lo cual es algo normal ya que presentan casi los mismos parámetros. Aún así el modelo (2717) se comporta al mejor, debido a que el error de entranamiento se va reduciendo de una forma más suave que en nuestro modelo (8945).\n",
        "\n",
        "La pérdida obtenida para este modelo en entrenamiento es de 2.6, mientras que en testing la pérdida es de casi 3. Ambas pérdidas son muy similares entre este modelo base y nuestro modelo, en nuestro modelo en el entrenamiento hay un poco más pérdida pero en el testing hay algo menos.\n",
        "\n",
        "Respondiendo a la pregunta de si hay overfitting, se entiende por overfitting cuando el modelo ajusta muy bien los datos para el entrenamiento, pero no es así para el conjunto de testing. En este caso, vemos que lógicamente la pérdida en el entrenamiento va a ser menor que en el testing, porque el modelo aprende a partir del conjunto de entrenamiento no de test. Otro punto a destacar, es que a medida que avanzan las épocas se van reduciendo ambas pérdidas, de forma progresiva, por lo que en este caso no podemos hablar de un overfitting exagerado, lógicamente algo siempre va a haber, pero en este modelo no es un problema.\n",
        "\n",
        "* Segundo modelo base (5102-Shifted_True...)\n",
        "\n",
        "En este caso, los parámetros de este modelo son muy diferentes tanto al modelo anterior (2717) como a nuestro modelo (8945). El número de épocas es 20 y en el resto de modelos 10, el conjunto de entrenamiento es de 4000 y el de test de 1000 mientras que en los otros es de 2000 y 500 respectivamente, el tamaño de la red LSTM es de 256 igual que en el modelo (2717) y el doble que en el modelo (8945), y en este caso se evalúa el modelo cada 1000 canciones y en los otros cada 500.\n",
        "\n",
        "El rendimiento obtenido en este modelo es mejor que en los otros dos, ya que la pérdida obtenida tanto en train como en test es mucho menor, en este caso estamos hablando de una pérdida de 2.4 para train y de 2.75 para test, en los otros modelos serían de 2.6 para train y casi 3 para test. Por lo tanto, vemos que sí que hay una mejora con este conjunto de parámetros, por lo que podríamos considerar éste como el mejor modelo.\n",
        "\n",
        "Respecto a si hay overfitting en este modelo, vemos que no es del todo cierto, es verdad que hay algo más de overfitting que en los otros dos modelos ya que consigue ajustar mejor el conjunto de entrenamiento, pero también mejora considerablemente a la hora de evaluar el modelo. Es verdad que la mejora no se realiza de forma proporcional como sucede con los otros dos modelos, es decir, a medida que avanzan las épocas mejora más rápido la pérdida en el entrenamiento que en el test, es por ello que se puede considerar que en este modelo hay overfitting, pero desde mi punto de vista aunque no sea proporcional la mejora la pérdida en test es muy buena, mucho más que en los anteriores modelos.\n",
        "\n",
        "* Nuestro modelo (8945-Shifted_True)\n",
        "\n",
        "En este caso, tal y como ya se ha comentado los parámetros son muy similares al modelo (2717), solamente cambia el tamaño de la red LSTM.\n",
        "\n",
        "El rendimiento obtenido entre este modelo y el modelo (2717) es similar, siendo el modleo (2717) algo mejor.\n",
        "\n",
        "En este caso, vemos que el modelo va ajustando los datos de entrenamiento a medida que avanzan las épocas, y con ello se va reduciendo la pérdida tanto en train y test, algo que sucedía con el modleo (2717), si en éste no hemos hablando de overfitting en este modelo tampoco ya que las gráficas son muy similares."
      ],
      "metadata": {
        "id": "oU0In3Ho7mAe"
      }
    },
    {
      "cell_type": "markdown",
      "source": [
        "# 3 Análisis de la capa de embedding [2 pts]"
      ],
      "metadata": {
        "id": "kEWwrLqnIhlz"
      }
    },
    {
      "cell_type": "markdown",
      "source": [
        "En esta sección recrearemos la figura 8 del artículo con la red que hemos entrenado y la que mejor performance nos ha dado en la comparación. "
      ],
      "metadata": {
        "id": "H01zsudCIuTg"
      }
    },
    {
      "cell_type": "code",
      "source": [
        "from keras.models import load_model\n",
        "import keras\n",
        "from keras import backend as K"
      ],
      "metadata": {
        "id": "jn_xE9QDJoMz"
      },
      "execution_count": 33,
      "outputs": []
    },
    {
      "cell_type": "markdown",
      "source": [
        "## 3.1 Carga de modelos entrenados y generación de embeddings [1 pts]"
      ],
      "metadata": {
        "id": "p0wEHRWAJ-ni"
      }
    },
    {
      "cell_type": "markdown",
      "source": [
        "3.1.1 Utiliza el *load_model* de **keras** para cargar:\n",
        "*   el modelo que hemos entrenado: *my_model*\n",
        "*   el modelo con mejor performance: *bp_model*\n"
      ],
      "metadata": {
        "id": "GVFaCsSrKHLj"
      }
    },
    {
      "cell_type": "code",
      "source": [
        "my_model = load_model(\"/content/drive/MyDrive/PEC3_PAC3/models/chords/8945-Shifted_True_Lr_1e-05_EmDim_10_opt_Adam_bi_False_lstmsize_128_trainsize_2000_testsize_500_samples_per_bar8/model_Epoch10_2000.pickle\")\n",
        "bp_model = load_model(\"/content/drive/MyDrive/PEC3_PAC3/models/chords/5102-Shifted_True_Lr_1e-05_EmDim_10_opt_Adam_bi_False_lstmsize_256_trainsize_4000_testsize_1000_samples_per_bar8/model_Epoch14_4000.pickle\")"
      ],
      "metadata": {
        "id": "j58DCb2YDBkJ"
      },
      "execution_count": 34,
      "outputs": []
    },
    {
      "cell_type": "markdown",
      "source": [
        "3.1.2 Ahora crearemos, para cada modelo, un nuevo modelo para los embedding. Para hacer esto, deberás crear un nuevo modelo cuya entrada sea igual a la entrada de los modelos originales y la salida sea el layer \"embedding\". Esto lo puedes hacer usando la función *get_layer()* del modelo.\n"
      ],
      "metadata": {
        "id": "LvTrSPKTLxUO"
      }
    },
    {
      "cell_type": "code",
      "source": [
        "# Creamos el modelo para my_model\n",
        "embed_my_model = keras.models.Model(inputs=my_model.input,outputs=my_model.get_layer(name=\"embedding\").output)\n",
        "\n",
        "# Creamos el modelo para bp_model\n",
        "embed_bp_model = keras.models.Model(inputs=bp_model.input,outputs=bp_model.get_layer(name=\"embedding\").output)"
      ],
      "metadata": {
        "id": "1Q5vhuS1DCYc"
      },
      "execution_count": 48,
      "outputs": []
    },
    {
      "cell_type": "markdown",
      "source": [
        "3.1.3 El modelo de embedding recibe un acorde y devuelve un vector de 10 dimensiones con el embedding para cada acorde. Calcula estos vectores con cada uno de los modelos de embedding"
      ],
      "metadata": {
        "id": "GVXc-FhGNfoP"
      }
    },
    {
      "cell_type": "code",
      "source": [
        "# Calculamos el vector para my_model\n",
        "acordes = np.array(list(dpf.get_chord_dict()[1].keys()))\n",
        "output_embed_my_model = embed_my_model.predict(acordes)\n",
        "\n",
        "# Calculamos el vector para bp_model\n",
        "output_embed_bp_model = embed_bp_model.predict(acordes)\n",
        "\n",
        "print(\"Shape de output_embed_my_model: \" + str(output_embed_my_model.shape))\n",
        "print(\"Shape de output_embed_bp_model: \" + str(output_embed_bp_model.shape))"
      ],
      "metadata": {
        "colab": {
          "base_uri": "https://localhost:8080/"
        },
        "id": "q0egpVr7OWr8",
        "outputId": "677c9344-4bdb-41ab-a463-91dcc7c4ff9a"
      },
      "execution_count": 92,
      "outputs": [
        {
          "output_type": "stream",
          "name": "stdout",
          "text": [
            "Shape de output_embed_my_model: (50, 1, 10)\n",
            "Shape de output_embed_bp_model: (50, 1, 10)\n"
          ]
        }
      ]
    },
    {
      "cell_type": "markdown",
      "source": [
        "3.1.4 Aplica un squeeze para eliminar los ejes de dimensión 1. El resultado de este squeeze debería ser (50,10)"
      ],
      "metadata": {
        "id": "D33AZTgmO9u1"
      }
    },
    {
      "cell_type": "code",
      "source": [
        "# Aplicamos squeeze a ambos vectores\n",
        "output_embed_my_model = np.squeeze(output_embed_my_model, axis=1)\n",
        "output_embed_bp_model = np.squeeze(output_embed_bp_model, axis=1)\n",
        "\n",
        "print(\"Shape de output_embed_my_model: \" + str(output_embed_my_model.shape))\n",
        "print(\"Shape de output_embed_bp_model: \" + str(output_embed_bp_model.shape))"
      ],
      "metadata": {
        "id": "S-keKk13DEXK",
        "colab": {
          "base_uri": "https://localhost:8080/"
        },
        "outputId": "60d4f131-63c2-4dbe-f74b-5cdcbb117847"
      },
      "execution_count": 94,
      "outputs": [
        {
          "output_type": "stream",
          "name": "stdout",
          "text": [
            "Shape de output_embed_my_model: (50, 10)\n",
            "Shape de output_embed_bp_model: (50, 10)\n"
          ]
        }
      ]
    },
    {
      "cell_type": "markdown",
      "source": [
        "## 3.2 Análisis PCA [1 pts]\n"
      ],
      "metadata": {
        "id": "_hQcmzeIPtrG"
      }
    },
    {
      "cell_type": "markdown",
      "source": [
        "Para acabar con nuestro análisis de los embeddings, vamos a realizar un proceso de PCA para reducir las dimensiones de los vectores resultantes y poder graficarlos en 2D."
      ],
      "metadata": {
        "id": "2vMTJ8nRbmMe"
      }
    },
    {
      "cell_type": "code",
      "source": [
        "from sklearn.preprocessing import StandardScaler\n",
        "from sklearn.decomposition import PCA"
      ],
      "metadata": {
        "id": "l9ROxo-lP-OY"
      },
      "execution_count": null,
      "outputs": []
    },
    {
      "cell_type": "markdown",
      "source": [
        "3.2.1 Escalar los vectores y aplicar PCA para reducir a 2 las dimensiones"
      ],
      "metadata": {
        "id": "0qcipt5oP74r"
      }
    },
    {
      "cell_type": "code",
      "source": [
        ""
      ],
      "metadata": {
        "id": "1co2NuRtF1BU"
      },
      "execution_count": null,
      "outputs": []
    },
    {
      "cell_type": "markdown",
      "source": [
        "3.2.2 Grafica para ambos embeddings los vectores en un scatterplot. Añadele anotaciones con las notas del acorde y comenta el resultado: ¿Observas el efecto word2vect en las gráficas?"
      ],
      "metadata": {
        "id": "Pj4FLd8DaLsF"
      }
    },
    {
      "cell_type": "code",
      "source": [
        ""
      ],
      "metadata": {
        "id": "WSE2OSp9F2Va"
      },
      "execution_count": null,
      "outputs": []
    },
    {
      "cell_type": "markdown",
      "source": [
        "Usa esta función para obtener un índice para los acordes y sus notas"
      ],
      "metadata": {
        "id": "lJDmLqpebnkI"
      }
    },
    {
      "cell_type": "code",
      "source": [
        "def get_chord_dict():\n",
        "    chord_to_index = pickle.load(open(dict_path + chord_dict_name, 'rb'))\n",
        "    index_to_chord = pickle.load(open(dict_path + index_dict_name, 'rb'))\n",
        "    return chord_to_index, index_to_chord\n",
        "\n",
        "chord_to_index, idx_2_chord = get_chord_dict()"
      ],
      "metadata": {
        "id": "ROgMjNOmbbvK"
      },
      "execution_count": null,
      "outputs": []
    },
    {
      "cell_type": "markdown",
      "source": [
        "3.2.3 Crea una función para calcular todas las distancias entre los primero 20 acordes. Luego haz una lista con las 10 distancias mínimas para ambos modelos. ¿Están relacionados estos acordes con distancias mínimas?"
      ],
      "metadata": {
        "id": "4TLRoLomVjzP"
      }
    },
    {
      "cell_type": "code",
      "source": [
        ""
      ],
      "metadata": {
        "id": "FLHzUPP9F5UJ"
      },
      "execution_count": 50,
      "outputs": []
    },
    {
      "cell_type": "markdown",
      "source": [
        "# 4. Rueda de 5tas (Bonus Track) [0.5 pts]"
      ],
      "metadata": {
        "id": "PKXh0-X3mg70"
      }
    },
    {
      "cell_type": "markdown",
      "source": [
        "En este bonus track, y usando lo mismo que has usado para los apartados anteriores, podrás dibujar la rueda de quintas con datos entrenados sobre la misma base de datos, pero no hacer el shifteo de los acordes."
      ],
      "metadata": {
        "id": "m3Ymmh_imljH"
      }
    },
    {
      "cell_type": "markdown",
      "source": [
        "Usa los datos que encontrarás en la carpeta *models/chords/9671-Shifted_False...* para repetir el proceso del análisis de PCA"
      ],
      "metadata": {
        "id": "OyesH52p0QDZ"
      }
    },
    {
      "cell_type": "markdown",
      "source": [
        "Una vez tienes los vectores, llama a las siguientes funciones para dibujar la rueda de quintas"
      ],
      "metadata": {
        "id": "ejP3t2sautBj"
      }
    },
    {
      "cell_type": "code",
      "source": [
        "def get_chord_dict_no_shifted():\n",
        "    chord_to_index = pickle.load(open('data/chord_dict.pickle', 'rb'))\n",
        "    index_to_chord = pickle.load(open('data/index_dict.pickle', 'rb'))\n",
        "    return chord_to_index, index_to_chord\n",
        "\n",
        "chord_to_index_, idx_2_chord_ = get_chord_dict_no_shifted()"
      ],
      "metadata": {
        "id": "_7ZU_OXZnxqX"
      },
      "execution_count": null,
      "outputs": []
    },
    {
      "cell_type": "code",
      "source": [
        "ddd={tuple((0,4,7)):'C',\n",
        "tuple((1,5,8)):'C#',\n",
        "tuple((2,6,9)):'D',\n",
        "tuple((3,7,10)):'D#',\n",
        "tuple((4,8,11)):'E',\n",
        "tuple((0,5,9)):'F',\n",
        "tuple((1,6,10)):'F#',\n",
        "tuple((2,7,11)):'G',\n",
        "tuple((0,3,8)):'G#',\n",
        "tuple((1,4,9)):'A',\n",
        "tuple((2,5,10)):'A#',\n",
        "tuple((3,6,11)):'B'}\n",
        "\n",
        "\n",
        "def plot_5th_circle(X_chords_2d):\n",
        "  \n",
        "  fig, ax = plt.subplots()\n",
        "  fig.set_size_inches(8, 6)\n",
        "\n",
        "  plt.tick_params(labelsize=12)\n",
        "  \n",
        "  style = dict(size=12, color='black')\n",
        "\n",
        "  for i in range(0,len(idx_2_chord_)):\n",
        "    try:\n",
        "      ax.text(-X_chords_2d[i,0]-0.32,X_chords_2d[i,1]+0.11, ddd[idx_2_chord_[i]],**style)\n",
        "      ax.scatter(-X_chords_2d[i,0],X_chords_2d[i,1], c=\"blue\", marker=\"*\")\n",
        "      \n",
        "    except:\n",
        "      pass\n",
        "\n",
        "  plt.show()"
      ],
      "metadata": {
        "id": "oTiU7UWtpnL2"
      },
      "execution_count": null,
      "outputs": []
    },
    {
      "cell_type": "code",
      "source": [
        "plot_5th_circle(my_embedd_pca) #pasa los vectores luego del análisis de PCA"
      ],
      "metadata": {
        "id": "mGBGU7LruOes"
      },
      "execution_count": null,
      "outputs": []
    }
  ]
}