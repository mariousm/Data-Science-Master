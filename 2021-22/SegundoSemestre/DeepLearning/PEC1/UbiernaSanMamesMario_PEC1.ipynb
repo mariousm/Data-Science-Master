{
  "cells": [
    {
      "cell_type": "markdown",
      "metadata": {
        "id": "YO1mZRrP4FT2"
      },
      "source": [
        "<div style=\"width: 100%; clear: both;\">\n",
        "<div style=\"float: left; width: 50%;\">\n",
        "<img src=\"http://www.uoc.edu/portal/_resources/common/imatges/marca_UOC/UOC_Masterbrand.jpg\", align=\"left\">\n",
        "</div>\n",
        "<div style=\"float: right; width: 50%;\">\n",
        "<p style=\"margin: 0; padding-top: 22px; text-align:right;\">M2.875 · Deep Learning · PEC1</p>\n",
        "<p style=\"margin: 0; text-align:right;\">2021-2 · Máster universitario en Ciencia de datos (Data science)</p>\n",
        "<p style=\"margin: 0; text-align:right; padding-button: 100px;\">Estudios de Informática, Multimedia y Telecomunicación</p>\n",
        "</div>\n",
        "</div>\n",
        "<div style=\"width:100%;\">&nbsp;</div>\n",
        "\n",
        "\n",
        "# PEC 1: Redes neuronales artificiales\n",
        "\n",
        "En esta práctica implementaremos redes neuronales artificiales para resolver problemas de:\n",
        "\n",
        "   - Clasificación\n",
        "   - Regresión   \n",
        "\n",
        "\n",
        "**Importante: La entrega debe hacerse en formato notebook y en formato html donde se vea el código y los resultados y comentarios de cada ejercicio. Para exportar el notebook a html puede hacerse desde el menú File $\\to$ Download as $\\to$ HTML.**"
      ]
    },
    {
      "cell_type": "markdown",
      "source": [
        "## Autor: Mario Ubierna San Mamés"
      ],
      "metadata": {
        "id": "OtfR1691KScA"
      }
    },
    {
      "cell_type": "markdown",
      "metadata": {
        "id": "M35X9fQv4dUv"
      },
      "source": [
        "## 0. Contexto y carga de librerías"
      ]
    },
    {
      "cell_type": "markdown",
      "metadata": {
        "id": "GtU00Tcg-KHd"
      },
      "source": [
        "El siguiente código carga los paquetes necesarios para la práctica y lee el fichero de datos que usaremos."
      ]
    },
    {
      "cell_type": "markdown",
      "metadata": {
        "id": "m9pjq3hFA5Yg"
      },
      "source": [
        "Los datos contienen información sobre coches de segunda mano, sus características y el precio de re-venta en euros. En un primer ejercicio diseñaremos un modelo que nos permita clasificar los coches en tres grupos según su gama de precio. En el segundo ejercicio diseñaremos un modelo de regresión para predecir el precio de re-venta."
      ]
    },
    {
      "cell_type": "code",
      "execution_count": 86,
      "metadata": {
        "id": "19ixS6Vp-KHd"
      },
      "outputs": [],
      "source": [
        "import pandas as pd\n",
        "import numpy as np\n",
        "\n",
        "import matplotlib.pyplot as plt\n",
        "import seaborn as sns\n",
        "import timeit\n",
        "\n",
        "import keras\n",
        "from keras.models import Sequential, Model\n",
        "from keras.layers import Dense\n",
        "from tensorflow.keras.optimizers import Adam, SGD, Adadelta, Adagrad\n",
        "from keras.utils import np_utils\n",
        "\n",
        "from sklearn.model_selection import train_test_split\n",
        "from sklearn.metrics import confusion_matrix, mean_squared_error, classification_report\n",
        "from sklearn.preprocessing import OneHotEncoder, StandardScaler, LabelEncoder\n",
        "from sklearn.compose import ColumnTransformer"
      ]
    },
    {
      "cell_type": "code",
      "execution_count": 70,
      "metadata": {
        "id": "vmCg_5zXItWM",
        "colab": {
          "base_uri": "https://localhost:8080/"
        },
        "outputId": "379a59dd-c4a6-4159-f95b-1cc2ae3858cb"
      },
      "outputs": [
        {
          "output_type": "stream",
          "name": "stdout",
          "text": [
            "Drive already mounted at /content/drive; to attempt to forcibly remount, call drive.mount(\"/content/drive\", force_remount=True).\n"
          ]
        }
      ],
      "source": [
        "##To read directly from Drive in Google Colab use:\n",
        "from google.colab import drive\n",
        "drive.mount('/content/drive')\n",
        "#input path: \"./drive/MyDrive/CarPricesData.pkl\"\n",
        "\n",
        "##To read in Kaggle, upload file in Kaggle \n",
        "##input path: \"/kaggle/input/botnetdl/botnet_dataset_DL.csv\""
      ]
    },
    {
      "cell_type": "code",
      "execution_count": 71,
      "metadata": {
        "id": "oAEbN2Xc-KHe"
      },
      "outputs": [],
      "source": [
        "df = pd.read_csv(\"./drive/MyDrive/DeepLearning/PEC1/data/dataset.csv\") #change path if needed\n",
        "df_copy = df.copy()"
      ]
    },
    {
      "cell_type": "code",
      "execution_count": 72,
      "metadata": {
        "id": "g8gJfmpY-r2p",
        "colab": {
          "base_uri": "https://localhost:8080/",
          "height": 206
        },
        "outputId": "d1ea8c27-ebe3-4c41-dafd-d3b0174413df"
      },
      "outputs": [
        {
          "output_type": "execute_result",
          "data": {
            "text/html": [
              "\n",
              "  <div id=\"df-2d6ce96a-f56f-418d-876f-ebaeac3607a5\">\n",
              "    <div class=\"colab-df-container\">\n",
              "      <div>\n",
              "<style scoped>\n",
              "    .dataframe tbody tr th:only-of-type {\n",
              "        vertical-align: middle;\n",
              "    }\n",
              "\n",
              "    .dataframe tbody tr th {\n",
              "        vertical-align: top;\n",
              "    }\n",
              "\n",
              "    .dataframe thead th {\n",
              "        text-align: right;\n",
              "    }\n",
              "</style>\n",
              "<table border=\"1\" class=\"dataframe\">\n",
              "  <thead>\n",
              "    <tr style=\"text-align: right;\">\n",
              "      <th></th>\n",
              "      <th>months_old</th>\n",
              "      <th>km</th>\n",
              "      <th>fuel_type</th>\n",
              "      <th>horsepower</th>\n",
              "      <th>metcolor</th>\n",
              "      <th>automatic</th>\n",
              "      <th>size_engine</th>\n",
              "      <th>doors_num</th>\n",
              "      <th>weight</th>\n",
              "      <th>price</th>\n",
              "    </tr>\n",
              "  </thead>\n",
              "  <tbody>\n",
              "    <tr>\n",
              "      <th>0</th>\n",
              "      <td>73</td>\n",
              "      <td>97494</td>\n",
              "      <td>Petrol</td>\n",
              "      <td>110</td>\n",
              "      <td>1</td>\n",
              "      <td>0</td>\n",
              "      <td>1600</td>\n",
              "      <td>5</td>\n",
              "      <td>1085</td>\n",
              "      <td>10950</td>\n",
              "    </tr>\n",
              "    <tr>\n",
              "      <th>1</th>\n",
              "      <td>48</td>\n",
              "      <td>89049</td>\n",
              "      <td>Petrol</td>\n",
              "      <td>97</td>\n",
              "      <td>1</td>\n",
              "      <td>0</td>\n",
              "      <td>1400</td>\n",
              "      <td>5</td>\n",
              "      <td>1060</td>\n",
              "      <td>13500</td>\n",
              "    </tr>\n",
              "    <tr>\n",
              "      <th>2</th>\n",
              "      <td>40</td>\n",
              "      <td>161000</td>\n",
              "      <td>Diesel</td>\n",
              "      <td>69</td>\n",
              "      <td>1</td>\n",
              "      <td>0</td>\n",
              "      <td>1900</td>\n",
              "      <td>3</td>\n",
              "      <td>1105</td>\n",
              "      <td>13950</td>\n",
              "    </tr>\n",
              "    <tr>\n",
              "      <th>3</th>\n",
              "      <td>37</td>\n",
              "      <td>38812</td>\n",
              "      <td>Petrol</td>\n",
              "      <td>97</td>\n",
              "      <td>0</td>\n",
              "      <td>0</td>\n",
              "      <td>1400</td>\n",
              "      <td>3</td>\n",
              "      <td>1025</td>\n",
              "      <td>13450</td>\n",
              "    </tr>\n",
              "    <tr>\n",
              "      <th>4</th>\n",
              "      <td>55</td>\n",
              "      <td>33230</td>\n",
              "      <td>Petrol</td>\n",
              "      <td>110</td>\n",
              "      <td>0</td>\n",
              "      <td>0</td>\n",
              "      <td>1600</td>\n",
              "      <td>3</td>\n",
              "      <td>1050</td>\n",
              "      <td>13500</td>\n",
              "    </tr>\n",
              "  </tbody>\n",
              "</table>\n",
              "</div>\n",
              "      <button class=\"colab-df-convert\" onclick=\"convertToInteractive('df-2d6ce96a-f56f-418d-876f-ebaeac3607a5')\"\n",
              "              title=\"Convert this dataframe to an interactive table.\"\n",
              "              style=\"display:none;\">\n",
              "        \n",
              "  <svg xmlns=\"http://www.w3.org/2000/svg\" height=\"24px\"viewBox=\"0 0 24 24\"\n",
              "       width=\"24px\">\n",
              "    <path d=\"M0 0h24v24H0V0z\" fill=\"none\"/>\n",
              "    <path d=\"M18.56 5.44l.94 2.06.94-2.06 2.06-.94-2.06-.94-.94-2.06-.94 2.06-2.06.94zm-11 1L8.5 8.5l.94-2.06 2.06-.94-2.06-.94L8.5 2.5l-.94 2.06-2.06.94zm10 10l.94 2.06.94-2.06 2.06-.94-2.06-.94-.94-2.06-.94 2.06-2.06.94z\"/><path d=\"M17.41 7.96l-1.37-1.37c-.4-.4-.92-.59-1.43-.59-.52 0-1.04.2-1.43.59L10.3 9.45l-7.72 7.72c-.78.78-.78 2.05 0 2.83L4 21.41c.39.39.9.59 1.41.59.51 0 1.02-.2 1.41-.59l7.78-7.78 2.81-2.81c.8-.78.8-2.07 0-2.86zM5.41 20L4 18.59l7.72-7.72 1.47 1.35L5.41 20z\"/>\n",
              "  </svg>\n",
              "      </button>\n",
              "      \n",
              "  <style>\n",
              "    .colab-df-container {\n",
              "      display:flex;\n",
              "      flex-wrap:wrap;\n",
              "      gap: 12px;\n",
              "    }\n",
              "\n",
              "    .colab-df-convert {\n",
              "      background-color: #E8F0FE;\n",
              "      border: none;\n",
              "      border-radius: 50%;\n",
              "      cursor: pointer;\n",
              "      display: none;\n",
              "      fill: #1967D2;\n",
              "      height: 32px;\n",
              "      padding: 0 0 0 0;\n",
              "      width: 32px;\n",
              "    }\n",
              "\n",
              "    .colab-df-convert:hover {\n",
              "      background-color: #E2EBFA;\n",
              "      box-shadow: 0px 1px 2px rgba(60, 64, 67, 0.3), 0px 1px 3px 1px rgba(60, 64, 67, 0.15);\n",
              "      fill: #174EA6;\n",
              "    }\n",
              "\n",
              "    [theme=dark] .colab-df-convert {\n",
              "      background-color: #3B4455;\n",
              "      fill: #D2E3FC;\n",
              "    }\n",
              "\n",
              "    [theme=dark] .colab-df-convert:hover {\n",
              "      background-color: #434B5C;\n",
              "      box-shadow: 0px 1px 3px 1px rgba(0, 0, 0, 0.15);\n",
              "      filter: drop-shadow(0px 1px 2px rgba(0, 0, 0, 0.3));\n",
              "      fill: #FFFFFF;\n",
              "    }\n",
              "  </style>\n",
              "\n",
              "      <script>\n",
              "        const buttonEl =\n",
              "          document.querySelector('#df-2d6ce96a-f56f-418d-876f-ebaeac3607a5 button.colab-df-convert');\n",
              "        buttonEl.style.display =\n",
              "          google.colab.kernel.accessAllowed ? 'block' : 'none';\n",
              "\n",
              "        async function convertToInteractive(key) {\n",
              "          const element = document.querySelector('#df-2d6ce96a-f56f-418d-876f-ebaeac3607a5');\n",
              "          const dataTable =\n",
              "            await google.colab.kernel.invokeFunction('convertToInteractive',\n",
              "                                                     [key], {});\n",
              "          if (!dataTable) return;\n",
              "\n",
              "          const docLinkHtml = 'Like what you see? Visit the ' +\n",
              "            '<a target=\"_blank\" href=https://colab.research.google.com/notebooks/data_table.ipynb>data table notebook</a>'\n",
              "            + ' to learn more about interactive tables.';\n",
              "          element.innerHTML = '';\n",
              "          dataTable['output_type'] = 'display_data';\n",
              "          await google.colab.output.renderOutput(dataTable, element);\n",
              "          const docLink = document.createElement('div');\n",
              "          docLink.innerHTML = docLinkHtml;\n",
              "          element.appendChild(docLink);\n",
              "        }\n",
              "      </script>\n",
              "    </div>\n",
              "  </div>\n",
              "  "
            ],
            "text/plain": [
              "   months_old      km fuel_type  horsepower  metcolor  automatic  size_engine  \\\n",
              "0          73   97494    Petrol         110         1          0         1600   \n",
              "1          48   89049    Petrol          97         1          0         1400   \n",
              "2          40  161000    Diesel          69         1          0         1900   \n",
              "3          37   38812    Petrol          97         0          0         1400   \n",
              "4          55   33230    Petrol         110         0          0         1600   \n",
              "\n",
              "   doors_num  weight  price  \n",
              "0          5    1085  10950  \n",
              "1          5    1060  13500  \n",
              "2          3    1105  13950  \n",
              "3          3    1025  13450  \n",
              "4          3    1050  13500  "
            ]
          },
          "metadata": {},
          "execution_count": 72
        }
      ],
      "source": [
        "df.head(5)"
      ]
    },
    {
      "cell_type": "code",
      "source": [
        "df_copy.head(5)"
      ],
      "metadata": {
        "colab": {
          "base_uri": "https://localhost:8080/",
          "height": 206
        },
        "id": "YPCPQFnXRGf4",
        "outputId": "fd023a63-75e0-4d37-c6c9-11da654e0281"
      },
      "execution_count": 73,
      "outputs": [
        {
          "output_type": "execute_result",
          "data": {
            "text/html": [
              "\n",
              "  <div id=\"df-03b55476-f09b-4957-ab6a-a97903a2a6b0\">\n",
              "    <div class=\"colab-df-container\">\n",
              "      <div>\n",
              "<style scoped>\n",
              "    .dataframe tbody tr th:only-of-type {\n",
              "        vertical-align: middle;\n",
              "    }\n",
              "\n",
              "    .dataframe tbody tr th {\n",
              "        vertical-align: top;\n",
              "    }\n",
              "\n",
              "    .dataframe thead th {\n",
              "        text-align: right;\n",
              "    }\n",
              "</style>\n",
              "<table border=\"1\" class=\"dataframe\">\n",
              "  <thead>\n",
              "    <tr style=\"text-align: right;\">\n",
              "      <th></th>\n",
              "      <th>months_old</th>\n",
              "      <th>km</th>\n",
              "      <th>fuel_type</th>\n",
              "      <th>horsepower</th>\n",
              "      <th>metcolor</th>\n",
              "      <th>automatic</th>\n",
              "      <th>size_engine</th>\n",
              "      <th>doors_num</th>\n",
              "      <th>weight</th>\n",
              "      <th>price</th>\n",
              "    </tr>\n",
              "  </thead>\n",
              "  <tbody>\n",
              "    <tr>\n",
              "      <th>0</th>\n",
              "      <td>73</td>\n",
              "      <td>97494</td>\n",
              "      <td>Petrol</td>\n",
              "      <td>110</td>\n",
              "      <td>1</td>\n",
              "      <td>0</td>\n",
              "      <td>1600</td>\n",
              "      <td>5</td>\n",
              "      <td>1085</td>\n",
              "      <td>10950</td>\n",
              "    </tr>\n",
              "    <tr>\n",
              "      <th>1</th>\n",
              "      <td>48</td>\n",
              "      <td>89049</td>\n",
              "      <td>Petrol</td>\n",
              "      <td>97</td>\n",
              "      <td>1</td>\n",
              "      <td>0</td>\n",
              "      <td>1400</td>\n",
              "      <td>5</td>\n",
              "      <td>1060</td>\n",
              "      <td>13500</td>\n",
              "    </tr>\n",
              "    <tr>\n",
              "      <th>2</th>\n",
              "      <td>40</td>\n",
              "      <td>161000</td>\n",
              "      <td>Diesel</td>\n",
              "      <td>69</td>\n",
              "      <td>1</td>\n",
              "      <td>0</td>\n",
              "      <td>1900</td>\n",
              "      <td>3</td>\n",
              "      <td>1105</td>\n",
              "      <td>13950</td>\n",
              "    </tr>\n",
              "    <tr>\n",
              "      <th>3</th>\n",
              "      <td>37</td>\n",
              "      <td>38812</td>\n",
              "      <td>Petrol</td>\n",
              "      <td>97</td>\n",
              "      <td>0</td>\n",
              "      <td>0</td>\n",
              "      <td>1400</td>\n",
              "      <td>3</td>\n",
              "      <td>1025</td>\n",
              "      <td>13450</td>\n",
              "    </tr>\n",
              "    <tr>\n",
              "      <th>4</th>\n",
              "      <td>55</td>\n",
              "      <td>33230</td>\n",
              "      <td>Petrol</td>\n",
              "      <td>110</td>\n",
              "      <td>0</td>\n",
              "      <td>0</td>\n",
              "      <td>1600</td>\n",
              "      <td>3</td>\n",
              "      <td>1050</td>\n",
              "      <td>13500</td>\n",
              "    </tr>\n",
              "  </tbody>\n",
              "</table>\n",
              "</div>\n",
              "      <button class=\"colab-df-convert\" onclick=\"convertToInteractive('df-03b55476-f09b-4957-ab6a-a97903a2a6b0')\"\n",
              "              title=\"Convert this dataframe to an interactive table.\"\n",
              "              style=\"display:none;\">\n",
              "        \n",
              "  <svg xmlns=\"http://www.w3.org/2000/svg\" height=\"24px\"viewBox=\"0 0 24 24\"\n",
              "       width=\"24px\">\n",
              "    <path d=\"M0 0h24v24H0V0z\" fill=\"none\"/>\n",
              "    <path d=\"M18.56 5.44l.94 2.06.94-2.06 2.06-.94-2.06-.94-.94-2.06-.94 2.06-2.06.94zm-11 1L8.5 8.5l.94-2.06 2.06-.94-2.06-.94L8.5 2.5l-.94 2.06-2.06.94zm10 10l.94 2.06.94-2.06 2.06-.94-2.06-.94-.94-2.06-.94 2.06-2.06.94z\"/><path d=\"M17.41 7.96l-1.37-1.37c-.4-.4-.92-.59-1.43-.59-.52 0-1.04.2-1.43.59L10.3 9.45l-7.72 7.72c-.78.78-.78 2.05 0 2.83L4 21.41c.39.39.9.59 1.41.59.51 0 1.02-.2 1.41-.59l7.78-7.78 2.81-2.81c.8-.78.8-2.07 0-2.86zM5.41 20L4 18.59l7.72-7.72 1.47 1.35L5.41 20z\"/>\n",
              "  </svg>\n",
              "      </button>\n",
              "      \n",
              "  <style>\n",
              "    .colab-df-container {\n",
              "      display:flex;\n",
              "      flex-wrap:wrap;\n",
              "      gap: 12px;\n",
              "    }\n",
              "\n",
              "    .colab-df-convert {\n",
              "      background-color: #E8F0FE;\n",
              "      border: none;\n",
              "      border-radius: 50%;\n",
              "      cursor: pointer;\n",
              "      display: none;\n",
              "      fill: #1967D2;\n",
              "      height: 32px;\n",
              "      padding: 0 0 0 0;\n",
              "      width: 32px;\n",
              "    }\n",
              "\n",
              "    .colab-df-convert:hover {\n",
              "      background-color: #E2EBFA;\n",
              "      box-shadow: 0px 1px 2px rgba(60, 64, 67, 0.3), 0px 1px 3px 1px rgba(60, 64, 67, 0.15);\n",
              "      fill: #174EA6;\n",
              "    }\n",
              "\n",
              "    [theme=dark] .colab-df-convert {\n",
              "      background-color: #3B4455;\n",
              "      fill: #D2E3FC;\n",
              "    }\n",
              "\n",
              "    [theme=dark] .colab-df-convert:hover {\n",
              "      background-color: #434B5C;\n",
              "      box-shadow: 0px 1px 3px 1px rgba(0, 0, 0, 0.15);\n",
              "      filter: drop-shadow(0px 1px 2px rgba(0, 0, 0, 0.3));\n",
              "      fill: #FFFFFF;\n",
              "    }\n",
              "  </style>\n",
              "\n",
              "      <script>\n",
              "        const buttonEl =\n",
              "          document.querySelector('#df-03b55476-f09b-4957-ab6a-a97903a2a6b0 button.colab-df-convert');\n",
              "        buttonEl.style.display =\n",
              "          google.colab.kernel.accessAllowed ? 'block' : 'none';\n",
              "\n",
              "        async function convertToInteractive(key) {\n",
              "          const element = document.querySelector('#df-03b55476-f09b-4957-ab6a-a97903a2a6b0');\n",
              "          const dataTable =\n",
              "            await google.colab.kernel.invokeFunction('convertToInteractive',\n",
              "                                                     [key], {});\n",
              "          if (!dataTable) return;\n",
              "\n",
              "          const docLinkHtml = 'Like what you see? Visit the ' +\n",
              "            '<a target=\"_blank\" href=https://colab.research.google.com/notebooks/data_table.ipynb>data table notebook</a>'\n",
              "            + ' to learn more about interactive tables.';\n",
              "          element.innerHTML = '';\n",
              "          dataTable['output_type'] = 'display_data';\n",
              "          await google.colab.output.renderOutput(dataTable, element);\n",
              "          const docLink = document.createElement('div');\n",
              "          docLink.innerHTML = docLinkHtml;\n",
              "          element.appendChild(docLink);\n",
              "        }\n",
              "      </script>\n",
              "    </div>\n",
              "  </div>\n",
              "  "
            ],
            "text/plain": [
              "   months_old      km fuel_type  horsepower  metcolor  automatic  size_engine  \\\n",
              "0          73   97494    Petrol         110         1          0         1600   \n",
              "1          48   89049    Petrol          97         1          0         1400   \n",
              "2          40  161000    Diesel          69         1          0         1900   \n",
              "3          37   38812    Petrol          97         0          0         1400   \n",
              "4          55   33230    Petrol         110         0          0         1600   \n",
              "\n",
              "   doors_num  weight  price  \n",
              "0          5    1085  10950  \n",
              "1          5    1060  13500  \n",
              "2          3    1105  13950  \n",
              "3          3    1025  13450  \n",
              "4          3    1050  13500  "
            ]
          },
          "metadata": {},
          "execution_count": 73
        }
      ]
    },
    {
      "cell_type": "markdown",
      "metadata": {
        "id": "v4uy3S_l4uMK"
      },
      "source": [
        "## 1. Exploración (1 punto)\n",
        "\n"
      ]
    },
    {
      "cell_type": "markdown",
      "metadata": {
        "id": "-OTrT_SvJoYF"
      },
      "source": [
        "En primer lugar exploraremos el conjunto de datos. "
      ]
    },
    {
      "cell_type": "markdown",
      "metadata": {
        "id": "WArt2HG7n1qY"
      },
      "source": [
        "<div style=\"background-color: #EDF7FF; border-color: #7C9DBF; border-left: 5px solid #7C9DBF; padding: 0.5em;\">\n",
        "<strong>Ejercicio (1 punto):</strong> Explora los datos: \n",
        "\n",
        "<ul>\n",
        "        \n",
        "<li> Indica el tamaño del dataset y el número de variables categóricas y continuas del conjunto de datos</li> \n",
        "<li>   Grafica las distribuciones de las variables categóricas y de las continuas</li>\n",
        "<li>    Genera una tabla de correlaciones de todas las variables usando la librería <code>seaborn</code>, mostrando en cada casilla el valor de la correlación</li>\n",
        "<li>    Genera una tabla (usando la librería <code>seaborn</code>) que muestre únicamente las correlaciones entre el precio y el resto de variables, ordenada de mayor a menor según los valores de correlación</li>\n",
        "<li>  Comenta los resultados de la exploración de datos</li>\n",
        "</ul>\n",
        "\n",
        "</div>"
      ]
    },
    {
      "cell_type": "markdown",
      "metadata": {
        "id": "V10fH2QxP_vg"
      },
      "source": [
        "\n",
        "\n",
        "*   **Variables**\n",
        "\n"
      ]
    },
    {
      "cell_type": "code",
      "execution_count": 74,
      "metadata": {
        "id": "N3TOQ_ko_COF",
        "colab": {
          "base_uri": "https://localhost:8080/"
        },
        "outputId": "49065f80-8f38-47ab-d870-f8a8de5d34e2"
      },
      "outputs": [
        {
          "output_type": "stream",
          "name": "stdout",
          "text": [
            "El número de variables es: 10\n",
            "El número de registros es: 1436\n"
          ]
        }
      ],
      "source": [
        "#Dataset size\n",
        "print(\"El número de variables es: \" + str(df_copy.shape[1]))\n",
        "print(\"El número de registros es: \" + str(df_copy.shape[0]))"
      ]
    },
    {
      "cell_type": "code",
      "execution_count": 75,
      "metadata": {
        "id": "i8-SrElyJFy3",
        "colab": {
          "base_uri": "https://localhost:8080/"
        },
        "outputId": "c8bdbe1f-3e7c-4fd7-d547-a98feb6b057b"
      },
      "outputs": [
        {
          "output_type": "stream",
          "name": "stdout",
          "text": [
            "El número de variables categóricas es: 1\n",
            "El número de variables continuas es: 9\n"
          ]
        }
      ],
      "source": [
        "#Number of categorical and continuous variables\n",
        "num_categorical_variables = df_copy.select_dtypes(exclude=[\"number\", \"bool_\"]).shape[1]\n",
        "num_continuous_variables = df_copy.select_dtypes(include=\"number\").shape[1]\n",
        "\n",
        "print(\"El número de variables categóricas es: \" + str(num_categorical_variables))\n",
        "print(\"El número de variables continuas es: \" + str(num_continuous_variables))"
      ]
    },
    {
      "cell_type": "markdown",
      "metadata": {
        "id": "bJvw7JwmQFss"
      },
      "source": [
        "*   **Distribuciones**\n",
        "\n",
        "\n",
        "\n"
      ]
    },
    {
      "cell_type": "code",
      "execution_count": 76,
      "metadata": {
        "id": "Oks_R5EhN5om",
        "colab": {
          "base_uri": "https://localhost:8080/",
          "height": 318
        },
        "outputId": "1303caba-5979-4e79-c6c0-b5948a57b280"
      },
      "outputs": [
        {
          "output_type": "execute_result",
          "data": {
            "text/plain": [
              "Text(0.5, 0, 'fuel_type')"
            ]
          },
          "metadata": {},
          "execution_count": 76
        },
        {
          "output_type": "display_data",
          "data": {
            "image/png": "[encoded data removed]",
            "text/plain": [
              "<Figure size 1800x288 with 1 Axes>"
            ]
          },
          "metadata": {
            "needs_background": "light"
          }
        }
      ],
      "source": [
        " #Distributions of categorical variables\n",
        " fig, axis = plt.subplots(nrows=1, ncols=num_categorical_variables, figsize=(25,4))\n",
        "\n",
        " name_columns_categorical = df_copy.select_dtypes(exclude=[\"number\", \"bool_\"]).columns\n",
        " \n",
        " df_copy[name_columns_categorical[0]].value_counts().plot(kind=\"bar\")\n",
        " plt.xlabel(name_columns_categorical[0])"
      ]
    },
    {
      "cell_type": "code",
      "execution_count": 77,
      "metadata": {
        "id": "tv7CULUcPiTc",
        "colab": {
          "base_uri": "https://localhost:8080/",
          "height": 281
        },
        "outputId": "1807643d-99b6-45d3-b61f-d0be9d6f86f7"
      },
      "outputs": [
        {
          "output_type": "display_data",
          "data": {
            "image/png": "[encoded data removed]",
            "text/plain": [
              "<Figure size 1800x288 with 9 Axes>"
            ]
          },
          "metadata": {
            "needs_background": "light"
          }
        }
      ],
      "source": [
        "#Distributions continuous variables\n",
        "fig, axis = plt.subplots(nrows=1, ncols=num_continuous_variables, figsize=(25,4))\n",
        "\n",
        "name_columns_numerical = df_copy.select_dtypes(include=\"number\").columns\n",
        "\n",
        "for i, ax in enumerate(axis):\n",
        "  ax.set_title(name_columns_numerical[i])\n",
        "  ax.hist(df_copy[name_columns_numerical[i]], density=True, bins=10)\n",
        "\n"
      ]
    },
    {
      "cell_type": "markdown",
      "metadata": {
        "id": "YPbtmbqRASsM"
      },
      "source": [
        "*   **Correlaciones**\n",
        "\n",
        "Cundo en el enunciado indica generar una tabla con seaborn, entiendo que se refiere a un heatmap.\n",
        "\n",
        "\n"
      ]
    },
    {
      "cell_type": "code",
      "execution_count": 78,
      "metadata": {
        "id": "LvO4C7ymANXf",
        "colab": {
          "base_uri": "https://localhost:8080/",
          "height": 500
        },
        "outputId": "b1fe3d3b-a217-430e-994a-fd6cbdf9d38c"
      },
      "outputs": [
        {
          "output_type": "display_data",
          "data": {
            "image/png": "[encoded data removed]",
            "text/plain": [
              "<Figure size 864x576 with 2 Axes>"
            ]
          },
          "metadata": {
            "needs_background": "light"
          }
        }
      ],
      "source": [
        "#All variables correlations\n",
        "\n",
        "correlations = df_copy.corr()\n",
        "\n",
        "fig, ax = plt.subplots(figsize=(12, 8))\n",
        "sns.heatmap(correlations, annot=True)\n",
        "plt.title(\"Correlaciones\")\n",
        "plt.show()"
      ]
    },
    {
      "cell_type": "code",
      "execution_count": 79,
      "metadata": {
        "id": "RSJWiWThAQj5",
        "colab": {
          "base_uri": "https://localhost:8080/",
          "height": 499
        },
        "outputId": "aac80258-432e-4a90-f6bd-204c378f19f2"
      },
      "outputs": [
        {
          "output_type": "display_data",
          "data": {
            "image/png": "[encoded data removed]",
            "text/plain": [
              "<Figure size 864x576 with 2 Axes>"
            ]
          },
          "metadata": {
            "needs_background": "light"
          }
        }
      ],
      "source": [
        "#Features correlating with Price\n",
        "\n",
        "correlations_ordered = correlations.sort_values(\"price\", ascending=False)\n",
        "df_correlations_price_ordered = pd.DataFrame(\n",
        "    {\n",
        "        \"price\": correlations_ordered[\"price\"].values\n",
        "    },\n",
        "    index=correlations_ordered[\"price\"].index\n",
        ")\n",
        "\n",
        "fig, ax = plt.subplots(figsize=(12, 8))\n",
        "sns.heatmap(df_correlations_price_ordered, annot=True)\n",
        "plt.title(\"Correlaciones de precio ordenadas\")\n",
        "plt.show()"
      ]
    },
    {
      "cell_type": "markdown",
      "metadata": {
        "id": "n1GaD4JqQhsJ"
      },
      "source": [
        "\n",
        "\n",
        "*   **Comentarios resultado exploración**\n",
        "\n"
      ]
    },
    {
      "cell_type": "markdown",
      "source": [
        "El primer punto a destacar es que el *dataset* está formado por 10 variables, 9 de éstas son variables continuas y solamente \"fuel_type\" es una variable categórica. Además, el *dataset* presenta un total de 1436 registros.\n",
        "\n",
        "El segundo punto que hemos realizado es graficar las distribuciones de todas las variables, obteniendo la siguiente información:\n",
        "\n",
        "* Respecto a \"fuel_type\" vemos que la mayoría de los vehículos son de tipo gasolina (\"petrol\") y después le sigue los vehículos diésel, son muy pocos los que usan una gasolina del tipo CNG. \n",
        "* En cuanto a \"months_old\", la gran mayoría del *dataset* se corresponde con vehículos que tienen muchos meses, entre 50 y 75 meses. Siendo minoritario los vehículos nuevos.\n",
        "* A pesar de que la gran mayoría de vehículos tinen una mayor antigüedad, respecto a \"km\" prácticamente el 90% de los vehículos tienen un rodaje inferior a 100000 km.\n",
        "* Los caballos de los vehículos tienden a rondar los 100, es decir, no suelen ser vehículos de gama alta.\n",
        "* La gran mayoría de vehículos no son automáticos \"automatic\".\n",
        "* El tamaño del motor \"size_engine\" mayoritariamente es de 1600, aunque también a motores de 1400 y 2000.\n",
        "* Los vehículos suelen tener 5 o 3 puertas, haciendo que los modelos con 4 puertas o 2 sean muy pocos.\n",
        "* El pesoo de los vehículos \"weight\" mayoritariamente está cercano a los 1000Kg, por lo que el *dataset* se entiende que son turimos (no camiones, furgonetas...).\n",
        "* El precio de un vehículo suele estar cercano a los 10000\\$, aunque la gran mayoría tienen un precio entre 8000\\$ y 20000\\$.\n",
        "\n",
        "Respecto al tercer punto a analizar, las correlaciones, obtenemos la siguiente información:\n",
        "* Los atributos altamente correlacionados son, el peso con el tamaño del motor, el peso con el precio.\n",
        "* Los atribtuos altamente correlacionados de forma inversa son, el precio con la antigüedad del coche y el precio con el rodaje del vehículo.\n",
        "\n"
      ],
      "metadata": {
        "id": "BVPWw8Q0oZQZ"
      }
    },
    {
      "cell_type": "markdown",
      "metadata": {
        "id": "kdn0ZNWI5HFE"
      },
      "source": [
        "## 2. Red neuronal artificial: Clasificación (4.5 puntos)\n"
      ]
    },
    {
      "cell_type": "markdown",
      "metadata": {
        "id": "3Li5TkOu7tGR"
      },
      "source": [
        "En este apartado entrenaremos un modelo que intente clasificar los coches según su gama de precio. Para ello crearemos una nueva variable como indicador de calidad del coche (gama baja, media o alta), siguiendo las siguientes condiciones:\n",
        "\n",
        "\n",
        "\n",
        "*   _low-end_: precio menor que 11000 euros\n",
        "*   _medium-end_: precio mayor o igual que 11000 euros y menor que 13000\n",
        "*   _high-end_: precio mayor o igual que 13000\n",
        "\n"
      ]
    },
    {
      "cell_type": "markdown",
      "metadata": {
        "id": "zkZrkOkb5QWL"
      },
      "source": [
        "### Pre-procesado\n"
      ]
    },
    {
      "cell_type": "markdown",
      "metadata": {
        "id": "v0z5hx64pNhv"
      },
      "source": [
        "<div style=\"background-color: #EDF7FF; border-color: #7C9DBF; border-left: 5px solid #7C9DBF; padding: 0.5em;\">\n",
        "<strong>Ejercicio (0.75 puntos):</strong> Pre-procesa los datos: \n",
        "\n",
        "<ul>\n",
        "        \n",
        "<li>   Crea una nueva variable <code>quality</code> que incluya la gama del coche, con las condiciones indicadas</li>\n",
        "<li>   Muestra el histograma de la nueva variable <code>quality</code></li>\n",
        "<li>   Crea los vectores de variables independientes (<i>features</i>) y de la variable dependiente (<i>labels</i>)</li>\n",
        "<li>   Normaliza debidamente los datos y binariza el vector de etiquetas (<i>labels</i>) </li>\n",
        "<li>   Divide el conjunto de datos en 80% para entrenamiento y 20% para test, usando la función <code>train_test_split</code></li>\n",
        "<li>   Muestra las dimensiones de los conjuntos de entrenamiento y test</li>\n",
        "</ul>\n",
        "</div>"
      ]
    },
    {
      "cell_type": "code",
      "execution_count": 80,
      "metadata": {
        "id": "GfltZ361AC89"
      },
      "outputs": [],
      "source": [
        "#Create new variable: quality\n",
        "df_copy.loc[df_copy[\"price\"] < 11000, \"quality\"] = \"low-end\"\n",
        "df_copy.loc[(df_copy[\"price\"] >= 11000) & (df_copy[\"price\"] < 13000), \"quality\"] = \"medium-end\"\n",
        "df_copy.loc[df_copy[\"price\"] >= 13000, \"quality\"] = \"high-end\""
      ]
    },
    {
      "cell_type": "code",
      "execution_count": 81,
      "metadata": {
        "id": "LLcPtn18BlQs",
        "colab": {
          "base_uri": "https://localhost:8080/",
          "height": 583
        },
        "outputId": "e933d5f7-de5b-47bf-863a-1c52b93e43db"
      },
      "outputs": [
        {
          "output_type": "execute_result",
          "data": {
            "text/plain": [
              "Text(0.5, 0, 'quality')"
            ]
          },
          "metadata": {},
          "execution_count": 81
        },
        {
          "output_type": "display_data",
          "data": {
            "image/png": "[encoded data removed]",
            "text/plain": [
              "<Figure size 720x576 with 1 Axes>"
            ]
          },
          "metadata": {
            "needs_background": "light"
          }
        }
      ],
      "source": [
        "#Histogram car quality\n",
        "fig, axis = plt.subplots(nrows=1, ncols=1, figsize=(10,8))\n",
        "df_copy[\"quality\"].value_counts().plot(kind=\"bar\")\n",
        "plt.title(\"Histograma de quality\")\n",
        "plt.xlabel(\"quality\")"
      ]
    },
    {
      "cell_type": "markdown",
      "source": [
        "Destacar que a la hora de las variables independientes vamos a considerar todas las variables, menos \"price\", ya que ésta no tiene sentido que forme parte de las features porque la clasificación de ésta es el objetivo del problema. Además, si en las features añadimos el \"price\" ya no tiene sentido crear un modelo para la clasificación, porque nosotros mismos podríamos hacerla sin necesidad de predecir.\n",
        "\n",
        "El objetivo es por lo tanto saber qué gama de calidad del coche tenemos según la antigüedad, los km que tiene, el tamaño del motor... Sin saber el precio del coche, ya que ésta determina la gama de calidad."
      ],
      "metadata": {
        "id": "LyEPilSF3E6d"
      }
    },
    {
      "cell_type": "code",
      "execution_count": 92,
      "metadata": {
        "id": "whqYSqQEBqjM"
      },
      "outputs": [],
      "source": [
        "#Create features and labels vectors\n",
        "X = df_copy.iloc[:, 0:9].values\n",
        "y = df_copy.iloc[:, 10].values\n",
        "\n",
        "# Creamos una variable dummy para \"fuel_type\"\n",
        "labelEncoder_fuel_type = LabelEncoder()\n",
        "X[:, 2] = labelEncoder_fuel_type.fit_transform(X[:, 2])\n",
        "transformer = ColumnTransformer(\n",
        "    transformers=[\n",
        "        (\"fuel_type\",        # Un nombre de la transformación\n",
        "         OneHotEncoder(categories='auto'), # La clase a la que transformar\n",
        "         [2]            # Las columnas a transformar.\n",
        "         )\n",
        "    ], remainder='passthrough'\n",
        ")\n",
        "X = transformer.fit_transform(X)\n",
        "\n",
        "# Eliminamos la primera columna para solventar los problemas de colinealidad\n",
        "X = X[:, 1:]"
      ]
    },
    {
      "cell_type": "code",
      "execution_count": 93,
      "metadata": {
        "id": "r8MdGHI7Btjr"
      },
      "outputs": [],
      "source": [
        "#Normalize the corresponding data\n",
        "standarScaler_X = StandardScaler()\n",
        "X = standarScaler_X.fit_transform(X)"
      ]
    },
    {
      "cell_type": "code",
      "execution_count": 94,
      "metadata": {
        "id": "OkVVv7yrBxhc"
      },
      "outputs": [],
      "source": [
        "#Binarize the labels\n",
        "labelEncoder_quality = LabelEncoder()\n",
        "y = labelEncoder_quality.fit_transform(y)\n",
        "y = np_utils.to_categorical(y)"
      ]
    },
    {
      "cell_type": "code",
      "execution_count": 95,
      "metadata": {
        "id": "JqDRRy2mAgUV"
      },
      "outputs": [],
      "source": [
        "#Train-test split\n",
        "X_train, X_test, y_train, y_test = train_test_split(X, y, test_size=0.2)"
      ]
    },
    {
      "cell_type": "code",
      "execution_count": 96,
      "metadata": {
        "id": "j7FJc1POAii4",
        "colab": {
          "base_uri": "https://localhost:8080/"
        },
        "outputId": "1c80a5ba-3a81-4a21-9bed-186c44a5da3d"
      },
      "outputs": [
        {
          "output_type": "stream",
          "name": "stdout",
          "text": [
            "La dimensión de X_train es: (1148, 10)\n",
            "La dimensión de X_test es: (288, 10)\n",
            "La dimensión de y_train es: (1148, 3)\n",
            "La dimensión de y_test es: (288, 3)\n"
          ]
        }
      ],
      "source": [
        "#Shapes\n",
        "print(\"La dimensión de X_train es: \" + str(X_train.shape))\n",
        "print(\"La dimensión de X_test es: \" + str(X_test.shape))\n",
        "print(\"La dimensión de y_train es: \" + str(y_train.shape))\n",
        "print(\"La dimensión de y_test es: \" + str(y_test.shape))"
      ]
    },
    {
      "cell_type": "markdown",
      "metadata": {
        "id": "Z60Pf12T5bjF"
      },
      "source": [
        "### Modelo base\n"
      ]
    },
    {
      "cell_type": "markdown",
      "metadata": {
        "id": "w9Dm_WN5rzGt"
      },
      "source": [
        "Empezaremos diseñando un modelo base con 4 capas ocultas.\n",
        " \n",
        "Nota: Para el ajuste del modelo usaremos los datos de test como conjunto de validación."
      ]
    },
    {
      "cell_type": "markdown",
      "metadata": {
        "id": "X-9gUgcQrGk1"
      },
      "source": [
        "<div style=\"background-color: #EDF7FF; border-color: #7C9DBF; border-left: 5px solid #7C9DBF; padding: 0.5em;\">\n",
        "<strong>Ejercicio (1.25 puntos):</strong> Implementa el modelo de red neuronal artificial:\n",
        "<ul>\n",
        "<li>   Diseña la arquitectura para el modelo de clasificación con la función de activación adecuada para la capa de salida y con las siguientes características:</li>\n",
        "   <ul>\n",
        "   <li> 4 capas ocultas con 64, 32, 10, 8 neuronas sucesivamente</li>\n",
        "   <li> Función de activación de las capas intermedias: ReLU</li>\n",
        "   </ul>\n",
        "\n",
        "<li>   Compila el modelo con la función de pérdida más adecuada, el optimizador Adam, una velocidad de aprendizaje de 0.1, y la métrica Accuracy.</li>\n",
        "\n",
        "<li>   Ajusta el modelo con 20 épocas y un tamaño del batch de 64</li>\n",
        "\n",
        "<li>   Muestra las gráficas de accuracy y loss. En cada gráfica debe visualizarse la curva de entrenamiento y la de validación</li>\n",
        "</ul>\n",
        "</div>"
      ]
    },
    {
      "cell_type": "code",
      "execution_count": 123,
      "metadata": {
        "id": "55FNYaQnB8iS"
      },
      "outputs": [],
      "source": [
        "#Create ANN model\n",
        "# https://medium.com/luca-chuangs-bapm-notes/build-a-neural-network-in-python-multi-class-classification-e940f74bd899\n",
        "# https://machinelearningmastery.com/multi-class-classification-tutorial-keras-deep-learning-library/\n",
        "\n",
        "model_clas = Sequential()\n",
        "model_clas.add(Dense(64, activation=\"relu\", input_dim=X_train.shape[1])) # Capa de entrada + 1ª capa oculta\n",
        "model_clas.add(Dense(32, activation=\"relu\")) # Segunda capa oculta\n",
        "model_clas.add(Dense(10, activation=\"relu\")) # Tercera capa oculta\n",
        "model_clas.add(Dense(8, activation=\"relu\")) # Cuarta capa oculta\n",
        "model_clas.add(Dense(y_train.shape[1], activation=\"softmax\")) # Capa de salida"
      ]
    },
    {
      "cell_type": "code",
      "execution_count": 124,
      "metadata": {
        "id": "4uZBJAsGqJau"
      },
      "outputs": [],
      "source": [
        "#Compile\n",
        "optimizer = Adam(learning_rate=0.1)\n",
        "model_clas.compile(loss=\"categorical_crossentropy\", optimizer=optimizer, metrics=[\"accuracy\"])"
      ]
    },
    {
      "cell_type": "code",
      "execution_count": 125,
      "metadata": {
        "id": "H-k_iYxBqLQK",
        "colab": {
          "base_uri": "https://localhost:8080/"
        },
        "outputId": "670b2d7e-a729-477a-ccaf-f3fa204f2116"
      },
      "outputs": [
        {
          "output_type": "stream",
          "name": "stdout",
          "text": [
            "Epoch 1/20\n",
            "18/18 - 1s - loss: 1.0409 - accuracy: 0.4991 - val_loss: 0.8368 - val_accuracy: 0.6250 - 751ms/epoch - 42ms/step\n",
            "Epoch 2/20\n",
            "18/18 - 0s - loss: 0.8117 - accuracy: 0.6045 - val_loss: 0.6939 - val_accuracy: 0.6944 - 78ms/epoch - 4ms/step\n",
            "Epoch 3/20\n",
            "18/18 - 0s - loss: 0.8201 - accuracy: 0.6629 - val_loss: 0.7636 - val_accuracy: 0.6701 - 70ms/epoch - 4ms/step\n",
            "Epoch 4/20\n",
            "18/18 - 0s - loss: 0.6692 - accuracy: 0.6934 - val_loss: 0.5835 - val_accuracy: 0.7326 - 61ms/epoch - 3ms/step\n",
            "Epoch 5/20\n",
            "18/18 - 0s - loss: 0.6751 - accuracy: 0.7108 - val_loss: 0.6611 - val_accuracy: 0.7326 - 69ms/epoch - 4ms/step\n",
            "Epoch 6/20\n",
            "18/18 - 0s - loss: 0.6640 - accuracy: 0.6995 - val_loss: 0.6501 - val_accuracy: 0.7639 - 75ms/epoch - 4ms/step\n",
            "Epoch 7/20\n",
            "18/18 - 0s - loss: 0.6530 - accuracy: 0.6986 - val_loss: 0.5804 - val_accuracy: 0.7431 - 78ms/epoch - 4ms/step\n",
            "Epoch 8/20\n",
            "18/18 - 0s - loss: 0.6178 - accuracy: 0.7317 - val_loss: 0.5619 - val_accuracy: 0.7465 - 70ms/epoch - 4ms/step\n",
            "Epoch 9/20\n",
            "18/18 - 0s - loss: 0.6143 - accuracy: 0.7256 - val_loss: 0.5724 - val_accuracy: 0.7812 - 74ms/epoch - 4ms/step\n",
            "Epoch 10/20\n",
            "18/18 - 0s - loss: 0.5890 - accuracy: 0.7570 - val_loss: 0.5379 - val_accuracy: 0.7882 - 81ms/epoch - 5ms/step\n",
            "Epoch 11/20\n",
            "18/18 - 0s - loss: 0.5857 - accuracy: 0.7544 - val_loss: 0.5883 - val_accuracy: 0.7604 - 76ms/epoch - 4ms/step\n",
            "Epoch 12/20\n",
            "18/18 - 0s - loss: 0.6025 - accuracy: 0.7369 - val_loss: 0.5527 - val_accuracy: 0.7708 - 79ms/epoch - 4ms/step\n",
            "Epoch 13/20\n",
            "18/18 - 0s - loss: 0.5739 - accuracy: 0.7596 - val_loss: 0.5598 - val_accuracy: 0.7674 - 81ms/epoch - 5ms/step\n",
            "Epoch 14/20\n",
            "18/18 - 0s - loss: 0.5914 - accuracy: 0.7465 - val_loss: 0.5392 - val_accuracy: 0.7743 - 69ms/epoch - 4ms/step\n",
            "Epoch 15/20\n",
            "18/18 - 0s - loss: 0.6117 - accuracy: 0.7160 - val_loss: 0.5017 - val_accuracy: 0.8090 - 77ms/epoch - 4ms/step\n",
            "Epoch 16/20\n",
            "18/18 - 0s - loss: 0.5730 - accuracy: 0.7605 - val_loss: 0.5222 - val_accuracy: 0.7812 - 80ms/epoch - 4ms/step\n",
            "Epoch 17/20\n",
            "18/18 - 0s - loss: 0.5723 - accuracy: 0.7474 - val_loss: 0.5077 - val_accuracy: 0.7778 - 60ms/epoch - 3ms/step\n",
            "Epoch 18/20\n",
            "18/18 - 0s - loss: 0.5780 - accuracy: 0.7404 - val_loss: 0.5209 - val_accuracy: 0.7604 - 58ms/epoch - 3ms/step\n",
            "Epoch 19/20\n",
            "18/18 - 0s - loss: 0.5706 - accuracy: 0.7247 - val_loss: 0.4912 - val_accuracy: 0.7986 - 72ms/epoch - 4ms/step\n",
            "Epoch 20/20\n",
            "18/18 - 0s - loss: 0.5900 - accuracy: 0.7195 - val_loss: 0.4794 - val_accuracy: 0.7917 - 56ms/epoch - 3ms/step\n"
          ]
        }
      ],
      "source": [
        "#Fit\n",
        "estimator_clas = model_clas.fit(\n",
        "    X_train,\n",
        "    y_train,\n",
        "    validation_data=(X_test, y_test),\n",
        "    epochs = 20,\n",
        "    batch_size=64,\n",
        "    verbose=2\n",
        ")"
      ]
    },
    {
      "cell_type": "code",
      "execution_count": 122,
      "metadata": {
        "id": "Id4u4igDBHtK",
        "colab": {
          "base_uri": "https://localhost:8080/",
          "height": 573
        },
        "outputId": "0098311c-fd02-4871-b873-e39ef5df3133"
      },
      "outputs": [
        {
          "output_type": "display_data",
          "data": {
            "image/png": "[encoded data removed]",
            "text/plain": [
              "<Figure size 432x288 with 1 Axes>"
            ]
          },
          "metadata": {
            "needs_background": "light"
          }
        },
        {
          "output_type": "display_data",
          "data": {
            "image/png": "[encoded data removed]",
            "text/plain": [
              "<Figure size 432x288 with 1 Axes>"
            ]
          },
          "metadata": {
            "needs_background": "light"
          }
        }
      ],
      "source": [
        "#Plots \n",
        "%matplotlib inline\n",
        "import matplotlib.pyplot as plt\n",
        "\n",
        "# Visualizamos la evolución de la accuracy\n",
        "plt.plot(estimator_clas.history['accuracy'])\n",
        "plt.plot(estimator_clas.history['val_accuracy'])\n",
        "plt.title('model accuracy')\n",
        "plt.ylabel('accuracy')\n",
        "plt.xlabel('epoch')\n",
        "plt.legend(['train', 'test'], loc='lower right')\n",
        "plt.show()\n",
        "\n",
        "# Visualizamos la evolución del error cometido por la red\n",
        "plt.plot(estimator_clas.history['loss'])\n",
        "plt.plot(estimator_clas.history['val_loss'])\n",
        "plt.title('model loss')\n",
        "plt.ylabel('loss')\n",
        "plt.xlabel('epoch')\n",
        "plt.legend(['train', 'test'], loc='upper right')\n",
        "plt.show()"
      ]
    },
    {
      "cell_type": "markdown",
      "metadata": {
        "id": "epfveZ6I5rzR"
      },
      "source": [
        "### Influencia velocidad aprendizaje y optimizador"
      ]
    },
    {
      "cell_type": "markdown",
      "metadata": {
        "id": "Pvt1o-bzDgQs"
      },
      "source": [
        "Una vez tenemos el modelo base, analizaremos la influencia que pueden tener la velocidad de aprendizaje y el tipo de optimizador en la mejora del rendimiento."
      ]
    },
    {
      "cell_type": "markdown",
      "metadata": {
        "id": "k4MKwGwYtBML"
      },
      "source": [
        "<div style=\"background-color: #EDF7FF; border-color: #7C9DBF; border-left: 5px solid #7C9DBF; padding: 0.5em;\">\n",
        "<strong>Ejercicio (1.5 puntos):</strong> Implementa una función para entrenar la arquitectura del ejercicio anterior para 4 optimizadores diferentes: Adam, SGD, Adadelta, Adagrad, y 4 velocidades de aprendizaje: 0.001, 0.01, 0.05, 0.1. \n",
        "Entrena los modelos, y representa dos gráficas:\n",
        " <ul>\n",
        "     <li> Tiempo de entrenamiento vs Velocidad de aprendizaje</li>\n",
        "     <li>  <i>Accuracy</i> vs Velocidad de aprendizaje</li>\n",
        "</ul>   \n",
        "    \n",
        "Cada gráfica debe incluir la evolución obtenida por los cuatro optimizadores para poderlos comparar mejor.\n",
        "    \n",
        "-----------------------------------------------------------------------------------------------------------\n",
        "<b>Importante</b>: para la entrega de la PEC, fijar el parámetro <code>verbose = 0</code> en el entrenamiento de los modelos. La solución únicamente debe mostrar las gráficas resultantes.\n",
        "</div>"
      ]
    },
    {
      "cell_type": "code",
      "execution_count": null,
      "metadata": {
        "id": "yt72wL7_CauO"
      },
      "outputs": [],
      "source": [
        "#Function to compute several models changing Optimizers and learning rate\n"
      ]
    },
    {
      "cell_type": "code",
      "execution_count": null,
      "metadata": {
        "id": "PF9BZo4WCdX6"
      },
      "outputs": [],
      "source": [
        "#Compute models\n"
      ]
    },
    {
      "cell_type": "code",
      "execution_count": null,
      "metadata": {
        "id": "KALAyx3bCgBm"
      },
      "outputs": [],
      "source": [
        "#Plots\n"
      ]
    },
    {
      "cell_type": "markdown",
      "metadata": {
        "id": "3FFT0HcW5yzD"
      },
      "source": [
        "### Elección del mejor modelo"
      ]
    },
    {
      "cell_type": "markdown",
      "metadata": {
        "id": "nxM_49dxuC1L"
      },
      "source": [
        "<div style=\"background-color: #EDF7FF; border-color: #7C9DBF; border-left: 5px solid #7C9DBF; padding: 0.5em;\">\n",
        "<strong>Ejercicio (1 punto):</strong> Identifica el valor de la velocidad de aprendizaje y del optimizador que mejor rendimiento dan al modelo, según los resultados del ejercicio anterior:\n",
        "<ul>\n",
        "    \n",
        "<li>   Justifica la elección</li>\n",
        "<li>   Compila y entrena el modelo elegido</li>\n",
        "<li>   Muestra las correspondientes gráficas de <i>Accuracy</i> y <i>Loss</i> de los conjuntos de entrenamiento y validación, e indica el <i>Accuracy</i> del modelo </li>\n",
        "<li>   Muestra la matriz de confusión multi-clase con las etiquetas originales de <code>quality</code> (<i>low-end</i>, <i>medium-end</i>, <i>high-end</i>)</li>\n",
        "<li>   Muestra la precisión, recall y F1-score resultantes para cada etiqueta</li>\n",
        "<li>   Comenta los resultados obtenidos</li>\n",
        "</ul>\n",
        "</div>"
      ]
    },
    {
      "cell_type": "code",
      "execution_count": null,
      "metadata": {
        "id": "4oiJyrGL6Ntb"
      },
      "outputs": [],
      "source": [
        "#Best model justification\n"
      ]
    },
    {
      "cell_type": "code",
      "execution_count": null,
      "metadata": {
        "id": "8Dwvn_0JCt9A"
      },
      "outputs": [],
      "source": [
        "#Create, compile and fit ANN BEST model\n"
      ]
    },
    {
      "cell_type": "code",
      "execution_count": null,
      "metadata": {
        "id": "7KvpGJi4C1fD"
      },
      "outputs": [],
      "source": [
        "#Plots\n"
      ]
    },
    {
      "cell_type": "code",
      "execution_count": null,
      "metadata": {
        "id": "rgUdskZ7Fz4n"
      },
      "outputs": [],
      "source": [
        "#Confusion matrix\n"
      ]
    },
    {
      "cell_type": "code",
      "execution_count": null,
      "metadata": {
        "id": "qWMB7Sq1hHdy"
      },
      "outputs": [],
      "source": [
        "#Accuracy\n"
      ]
    },
    {
      "cell_type": "code",
      "execution_count": null,
      "metadata": {
        "id": "FyVOsMOJISLp"
      },
      "outputs": [],
      "source": [
        "#Precision, Recall and F1-score for each label\n"
      ]
    },
    {
      "cell_type": "code",
      "execution_count": null,
      "metadata": {
        "id": "GlmpoPbzE5k0"
      },
      "outputs": [],
      "source": [
        "#Comment results\n"
      ]
    },
    {
      "cell_type": "markdown",
      "metadata": {
        "id": "LY6fFoV955e3"
      },
      "source": [
        "## 3. Red neuronal artificial: Regresión (4.5 puntos)"
      ]
    },
    {
      "cell_type": "markdown",
      "metadata": {
        "id": "vMTilNAuwN4X"
      },
      "source": [
        "En este apartado resolveremos un problema de regresión intentando predecir el precio de re-venta según las características de los coches. Partiremos del conjunto de datos original."
      ]
    },
    {
      "cell_type": "markdown",
      "metadata": {
        "id": "tKTYsFI45_rW"
      },
      "source": [
        "### Pre-procesado\n",
        "\n",
        "\n"
      ]
    },
    {
      "cell_type": "markdown",
      "metadata": {
        "id": "eSp_nZX3wQDT"
      },
      "source": [
        "<div style=\"background-color: #EDF7FF; border-color: #7C9DBF; border-left: 5px solid #7C9DBF; padding: 0.5em;\">\n",
        "<strong>Ejercicio (0.5 puntos):</strong> Pre-procesa los datos: \n",
        "<ul>\n",
        "<li>   Crea los vectores de variables dependientes (<i>features</i>) y de la variable independiente (<i>target</i>)</li>\n",
        "<li>   Normaliza debidamente los datos</li>\n",
        "<li>   Divide el conjunto de datos en 70% para entrenamiento y 30% para test, usando la función <code>train_test_split</code></li>\n",
        "<li>   Muestra las dimensiones de los conjuntos de entrenamiento y test</li>\n",
        "</ul>\n",
        "</div>"
      ]
    },
    {
      "cell_type": "code",
      "execution_count": null,
      "metadata": {
        "id": "2ZFhPX92wqB7"
      },
      "outputs": [],
      "source": [
        "#Create features and target vectors\n",
        "features = None\n",
        "target = None"
      ]
    },
    {
      "cell_type": "code",
      "execution_count": null,
      "metadata": {
        "id": "hUi95MvbAa-u"
      },
      "outputs": [],
      "source": [
        "#Normalizing the data\n"
      ]
    },
    {
      "cell_type": "code",
      "execution_count": null,
      "metadata": {
        "id": "_vUVcRn_wdQx"
      },
      "outputs": [],
      "source": [
        "#Split train-test\n"
      ]
    },
    {
      "cell_type": "code",
      "execution_count": null,
      "metadata": {
        "id": "Ca_Zk7PfwkPE"
      },
      "outputs": [],
      "source": [
        "#Dimensions\n"
      ]
    },
    {
      "cell_type": "markdown",
      "metadata": {
        "id": "6Q7VJZn_6Eru"
      },
      "source": [
        "### Modelo base"
      ]
    },
    {
      "cell_type": "markdown",
      "metadata": {
        "id": "aI1qOtftx4J0"
      },
      "source": [
        "En primer lugar diseñaremos un modelo base con tres capas ocultas.\n",
        "\n",
        "Nota: Para el ajuste del modelo usaremos los datos de test como conjunto de validación."
      ]
    },
    {
      "cell_type": "markdown",
      "metadata": {
        "id": "0AhiMwVZw13D"
      },
      "source": [
        "<div style=\"background-color: #EDF7FF; border-color: #7C9DBF; border-left: 5px solid #7C9DBF; padding: 0.5em;\">\n",
        "<strong>Ejercicio (1 punto):</strong> Implementa el modelo de red neuronal artificial:\n",
        "<ul>\n",
        "<li>Diseña la arquitectura para el modelo de regresión con las siguientes características:</li>\n",
        "    <ul>\n",
        "   <li>1 primera capa oculta completamente conectada de 128 neuronas y activación ReLU</li>\n",
        "   <li>2 capas ocultas de 32 y 16 neuronas y activación tangencial</li>\n",
        "   <li>Todas las capas deben tener <code>kernel_initizalizer</code> en modo 'normal'</li>\n",
        "   </ul>\n",
        "<li>Compila el modelo con la función de pérdida más adecuada y el optimizador Adam</li>\n",
        "\n",
        "<li>Ajusta el modelo con 50 épocas y un tamaño del batch de 32</li>\n",
        "\n",
        "<li>Muestra la gráfica de pérdida. En la gráfica debe visualizarse la curva de entrenamiento y la de validación</li>\n",
        "</ul>\n",
        "</div>"
      ]
    },
    {
      "cell_type": "code",
      "execution_count": null,
      "metadata": {
        "id": "KJaRnNOcAyNi"
      },
      "outputs": [],
      "source": [
        "#Create ANN model\n"
      ]
    },
    {
      "cell_type": "code",
      "execution_count": null,
      "metadata": {
        "id": "nvu-prE3radd"
      },
      "outputs": [],
      "source": [
        "#Compiling the model\n"
      ]
    },
    {
      "cell_type": "code",
      "execution_count": null,
      "metadata": {
        "id": "W6zQWqGjrb54"
      },
      "outputs": [],
      "source": [
        "#Fit model\n"
      ]
    },
    {
      "cell_type": "code",
      "execution_count": null,
      "metadata": {
        "id": "uJdhQfZlDlXj"
      },
      "outputs": [],
      "source": [
        "#Plots\n"
      ]
    },
    {
      "cell_type": "markdown",
      "metadata": {
        "id": "3_rxKFH96Jeb"
      },
      "source": [
        "### Búsqueda hiperparámetros"
      ]
    },
    {
      "cell_type": "markdown",
      "metadata": {
        "id": "CqVgHOUoF3hN"
      },
      "source": [
        "Una vez tenemos el modelo base nos interesa buscar la configuración de hiperparámetros que nos proporcione una mejor predicción del precio de re-venta de los coches. En este apartado haremos una búsqueda de hiperparámetros, recorriendo varios valores de número de capas, número de neuronas, tamaño del batch y épocas."
      ]
    },
    {
      "cell_type": "markdown",
      "metadata": {
        "id": "DtiaTO_LyC6p"
      },
      "source": [
        "<div style=\"background-color: #EDF7FF; border-color: #7C9DBF; border-left: 5px solid #7C9DBF; padding: 0.5em;\">\n",
        "<strong>Ejercicio (1.75 puntos):</strong> Implementa una función que evalúe distintos modelos combinando las siguientes características:\n",
        "<ul>    \n",
        "   <li>Tres arquitecturas diferentes con las siguientes configuraciones de número de capas ocultas (completamente conectadas) y número de neuronas en cada capa:</li>\n",
        "        <ul>\n",
        "        <li>[128, 64, 16]</li>\n",
        "        <li>[16, 4]</li>\n",
        "        <li>[4, 4]</li>\n",
        "        </ul> \n",
        "   <li>Tamaño del batch de 16 y 32</li>\n",
        "   <li>Épocas de 20, 50 y 100</li>\n",
        "</ul>   \n",
        "    \n",
        "    \n",
        "Como en el ejercicio anterior, la primera capa oculta tendrá siempre activación ReLU y las demás activación tangencial. El inicializador de kernel estará en modo 'normal' y usaremos el optimizador Adam.\n",
        "\n",
        "    \n",
        "La función deberá proporcionar una tabla con los siguientes campos: arquitectura de la red seleccionada, épocas, tamaño del batch, tiempo de entrenamiento, y raíz del error cuadrático medio (RMSE) del modelo \n",
        "\n",
        "-----------------------------------------------------------------------------------------------------------\n",
        "<b>Importante</b>: para la entrega de la PEC, fijar el parámetro <code>verbose = 0</code> en el entrenamiento de los modelos. La solución únicamente debe mostrar la tabla resultante.\n",
        "</div>"
      ]
    },
    {
      "cell_type": "code",
      "execution_count": null,
      "metadata": {
        "id": "2KkKLxm6dyyE"
      },
      "outputs": [],
      "source": [
        "#Hiperparameter search function\n"
      ]
    },
    {
      "cell_type": "code",
      "execution_count": null,
      "metadata": {
        "id": "Mb0zgnA4eTr1"
      },
      "outputs": [],
      "source": [
        "#Compute search\n"
      ]
    },
    {
      "cell_type": "markdown",
      "metadata": {
        "id": "rqrm7yA24NnA"
      },
      "source": [
        "<div style=\"background-color: #EDF7FF; border-color: #7C9DBF; border-left: 5px solid #7C9DBF; padding: 0.5em;\">\n",
        "<strong>Ejercicio (0.25 puntos):</strong> Representa en un gráfico el RMSE vs la configuración de los modelos \n",
        "\n",
        "</div>"
      ]
    },
    {
      "cell_type": "code",
      "execution_count": null,
      "metadata": {
        "id": "o2P1ljcIzmEY"
      },
      "outputs": [],
      "source": [
        "#Plot\n"
      ]
    },
    {
      "cell_type": "markdown",
      "metadata": {
        "id": "t4N_tg0l6QKu"
      },
      "source": [
        "### Elección mejor modelo y predicción"
      ]
    },
    {
      "cell_type": "markdown",
      "metadata": {
        "id": "AEZsFSi34t-9"
      },
      "source": [
        "<div style=\"background-color: #EDF7FF; border-color: #7C9DBF; border-left: 5px solid #7C9DBF; padding: 0.5em;\">\n",
        "<strong>Ejercicio (1 punto):</strong> Identifica la configuración que proporciona mejores resultados:\n",
        "<ul> \n",
        "<li>Justifica la elección del modelo</li>\n",
        "<li>Compila y entrena el modelo elegido. Nota: para la entrega, presentar con verbose=0</li>\n",
        "<li>Muestra la correspondiente gráfica de pérdida de los conjuntos de entrenamiento y validación</li>\n",
        "<li>Calcula las predicciones del precio y muestra en una tabla el Precio original (<code>price</code>) y el Precio predicho (<code>predicted_price</code>) para las 10 primeras filas del conjunto de test</li>\n",
        "<li>Comenta los resultados obtenidos</li>\n",
        "</ul> \n",
        "</div>"
      ]
    },
    {
      "cell_type": "code",
      "execution_count": null,
      "metadata": {
        "id": "yTfD3bP25nlO"
      },
      "outputs": [],
      "source": [
        "#Best configuration justification\n"
      ]
    },
    {
      "cell_type": "code",
      "execution_count": null,
      "metadata": {
        "id": "HX-ArM1vFNhX"
      },
      "outputs": [],
      "source": [
        "#Create, compile and fit ANN best model\n"
      ]
    },
    {
      "cell_type": "code",
      "execution_count": null,
      "metadata": {
        "id": "NuBBa_vgk7Ci"
      },
      "outputs": [],
      "source": [
        "#Plot\n"
      ]
    },
    {
      "cell_type": "code",
      "execution_count": null,
      "metadata": {
        "id": "ID7eKLDdF0P4"
      },
      "outputs": [],
      "source": [
        "#Generate Predictions on testing data\n"
      ]
    },
    {
      "cell_type": "code",
      "execution_count": null,
      "metadata": {
        "id": "7gqSXyS8511-"
      },
      "outputs": [],
      "source": [
        "#Comment results\n"
      ]
    }
  ],
  "metadata": {
    "colab": {
      "collapsed_sections": [],
      "name": "UbiernaSanMamesMario_PEC1.ipynb",
      "provenance": [],
      "toc_visible": true
    },
    "kernelspec": {
      "display_name": "Python 3 (ipykernel)",
      "language": "python",
      "name": "python3"
    },
    "language_info": {
      "codemirror_mode": {
        "name": "ipython",
        "version": 3
      },
      "file_extension": ".py",
      "mimetype": "text/x-python",
      "name": "python",
      "nbconvert_exporter": "python",
      "pygments_lexer": "ipython3",
      "version": "3.8.2"
    }
  },
  "nbformat": 4,
  "nbformat_minor": 0
}