{
  "cells": [
    {
      "cell_type": "markdown",
      "metadata": {
        "id": "YO1mZRrP4FT2"
      },
      "source": [
        "<div style=\"width: 100%; clear: both;\">\n",
        "<div style=\"float: left; width: 50%;\">\n",
        "<img src=\"http://www.uoc.edu/portal/_resources/common/imatges/marca_UOC/UOC_Masterbrand.jpg\", align=\"left\">\n",
        "</div>\n",
        "<div style=\"float: right; width: 50%;\">\n",
        "<p style=\"margin: 0; padding-top: 22px; text-align:right;\">M2.875 · Deep Learning · PEC1</p>\n",
        "<p style=\"margin: 0; text-align:right;\">2021-2 · Máster universitario en Ciencia de datos (Data science)</p>\n",
        "<p style=\"margin: 0; text-align:right; padding-button: 100px;\">Estudios de Informática, Multimedia y Telecomunicación</p>\n",
        "</div>\n",
        "</div>\n",
        "<div style=\"width:100%;\">&nbsp;</div>\n",
        "\n",
        "\n",
        "# PEC 1: Redes neuronales artificiales\n",
        "\n",
        "En esta práctica implementaremos redes neuronales artificiales para resolver problemas de:\n",
        "\n",
        "   - Clasificación\n",
        "   - Regresión   \n",
        "\n",
        "\n",
        "**Importante: La entrega debe hacerse en formato notebook y en formato html donde se vea el código y los resultados y comentarios de cada ejercicio. Para exportar el notebook a html puede hacerse desde el menú File $\\to$ Download as $\\to$ HTML.**"
      ]
    },
    {
      "cell_type": "markdown",
      "source": [
        "## Autor: Mario Ubierna San Mamés"
      ],
      "metadata": {
        "id": "OtfR1691KScA"
      }
    },
    {
      "cell_type": "markdown",
      "metadata": {
        "id": "M35X9fQv4dUv"
      },
      "source": [
        "## 0. Contexto y carga de librerías"
      ]
    },
    {
      "cell_type": "markdown",
      "metadata": {
        "id": "GtU00Tcg-KHd"
      },
      "source": [
        "El siguiente código carga los paquetes necesarios para la práctica y lee el fichero de datos que usaremos."
      ]
    },
    {
      "cell_type": "markdown",
      "metadata": {
        "id": "m9pjq3hFA5Yg"
      },
      "source": [
        "Los datos contienen información sobre coches de segunda mano, sus características y el precio de re-venta en euros. En un primer ejercicio diseñaremos un modelo que nos permita clasificar los coches en tres grupos según su gama de precio. En el segundo ejercicio diseñaremos un modelo de regresión para predecir el precio de re-venta."
      ]
    },
    {
      "cell_type": "code",
      "execution_count": 1,
      "metadata": {
        "id": "19ixS6Vp-KHd"
      },
      "outputs": [],
      "source": [
        "import pandas as pd\n",
        "import numpy as np\n",
        "\n",
        "import matplotlib.pyplot as plt\n",
        "import seaborn as sns\n",
        "import timeit\n",
        "\n",
        "import keras\n",
        "from keras.models import Sequential, Model\n",
        "from keras.layers import Dense\n",
        "from tensorflow.keras.optimizers import Adam, SGD, Adadelta, Adagrad\n",
        "\n",
        "from sklearn.model_selection import train_test_split\n",
        "from sklearn.metrics import confusion_matrix, mean_squared_error, classification_report\n",
        "from sklearn.preprocessing import OneHotEncoder, StandardScaler"
      ]
    },
    {
      "cell_type": "code",
      "execution_count": 2,
      "metadata": {
        "id": "vmCg_5zXItWM",
        "colab": {
          "base_uri": "https://localhost:8080/"
        },
        "outputId": "b916e5ac-82c1-468c-cea7-20904a3dc9fc"
      },
      "outputs": [
        {
          "output_type": "stream",
          "name": "stdout",
          "text": [
            "Mounted at /content/drive\n"
          ]
        }
      ],
      "source": [
        "##To read directly from Drive in Google Colab use:\n",
        "from google.colab import drive\n",
        "drive.mount('/content/drive')\n",
        "#input path: \"./drive/MyDrive/CarPricesData.pkl\"\n",
        "\n",
        "##To read in Kaggle, upload file in Kaggle \n",
        "##input path: \"/kaggle/input/botnetdl/botnet_dataset_DL.csv\""
      ]
    },
    {
      "cell_type": "code",
      "execution_count": 3,
      "metadata": {
        "id": "oAEbN2Xc-KHe"
      },
      "outputs": [],
      "source": [
        "df = pd.read_csv(\"./drive/MyDrive/DeepLearning/PEC1/data/dataset.csv\") #change path if needed\n",
        "df_copy = df.copy()"
      ]
    },
    {
      "cell_type": "code",
      "execution_count": 4,
      "metadata": {
        "id": "g8gJfmpY-r2p",
        "colab": {
          "base_uri": "https://localhost:8080/",
          "height": 206
        },
        "outputId": "d645cbb7-990d-4565-ae9c-47374e98361f"
      },
      "outputs": [
        {
          "output_type": "execute_result",
          "data": {
            "text/html": [
              "\n",
              "  <div id=\"df-e55f2d2b-fea3-4f95-bb07-6819850b79b3\">\n",
              "    <div class=\"colab-df-container\">\n",
              "      <div>\n",
              "<style scoped>\n",
              "    .dataframe tbody tr th:only-of-type {\n",
              "        vertical-align: middle;\n",
              "    }\n",
              "\n",
              "    .dataframe tbody tr th {\n",
              "        vertical-align: top;\n",
              "    }\n",
              "\n",
              "    .dataframe thead th {\n",
              "        text-align: right;\n",
              "    }\n",
              "</style>\n",
              "<table border=\"1\" class=\"dataframe\">\n",
              "  <thead>\n",
              "    <tr style=\"text-align: right;\">\n",
              "      <th></th>\n",
              "      <th>months_old</th>\n",
              "      <th>km</th>\n",
              "      <th>fuel_type</th>\n",
              "      <th>horsepower</th>\n",
              "      <th>metcolor</th>\n",
              "      <th>automatic</th>\n",
              "      <th>size_engine</th>\n",
              "      <th>doors_num</th>\n",
              "      <th>weight</th>\n",
              "      <th>price</th>\n",
              "    </tr>\n",
              "  </thead>\n",
              "  <tbody>\n",
              "    <tr>\n",
              "      <th>0</th>\n",
              "      <td>73</td>\n",
              "      <td>97494</td>\n",
              "      <td>Petrol</td>\n",
              "      <td>110</td>\n",
              "      <td>1</td>\n",
              "      <td>0</td>\n",
              "      <td>1600</td>\n",
              "      <td>5</td>\n",
              "      <td>1085</td>\n",
              "      <td>10950</td>\n",
              "    </tr>\n",
              "    <tr>\n",
              "      <th>1</th>\n",
              "      <td>48</td>\n",
              "      <td>89049</td>\n",
              "      <td>Petrol</td>\n",
              "      <td>97</td>\n",
              "      <td>1</td>\n",
              "      <td>0</td>\n",
              "      <td>1400</td>\n",
              "      <td>5</td>\n",
              "      <td>1060</td>\n",
              "      <td>13500</td>\n",
              "    </tr>\n",
              "    <tr>\n",
              "      <th>2</th>\n",
              "      <td>40</td>\n",
              "      <td>161000</td>\n",
              "      <td>Diesel</td>\n",
              "      <td>69</td>\n",
              "      <td>1</td>\n",
              "      <td>0</td>\n",
              "      <td>1900</td>\n",
              "      <td>3</td>\n",
              "      <td>1105</td>\n",
              "      <td>13950</td>\n",
              "    </tr>\n",
              "    <tr>\n",
              "      <th>3</th>\n",
              "      <td>37</td>\n",
              "      <td>38812</td>\n",
              "      <td>Petrol</td>\n",
              "      <td>97</td>\n",
              "      <td>0</td>\n",
              "      <td>0</td>\n",
              "      <td>1400</td>\n",
              "      <td>3</td>\n",
              "      <td>1025</td>\n",
              "      <td>13450</td>\n",
              "    </tr>\n",
              "    <tr>\n",
              "      <th>4</th>\n",
              "      <td>55</td>\n",
              "      <td>33230</td>\n",
              "      <td>Petrol</td>\n",
              "      <td>110</td>\n",
              "      <td>0</td>\n",
              "      <td>0</td>\n",
              "      <td>1600</td>\n",
              "      <td>3</td>\n",
              "      <td>1050</td>\n",
              "      <td>13500</td>\n",
              "    </tr>\n",
              "  </tbody>\n",
              "</table>\n",
              "</div>\n",
              "      <button class=\"colab-df-convert\" onclick=\"convertToInteractive('df-e55f2d2b-fea3-4f95-bb07-6819850b79b3')\"\n",
              "              title=\"Convert this dataframe to an interactive table.\"\n",
              "              style=\"display:none;\">\n",
              "        \n",
              "  <svg xmlns=\"http://www.w3.org/2000/svg\" height=\"24px\"viewBox=\"0 0 24 24\"\n",
              "       width=\"24px\">\n",
              "    <path d=\"M0 0h24v24H0V0z\" fill=\"none\"/>\n",
              "    <path d=\"M18.56 5.44l.94 2.06.94-2.06 2.06-.94-2.06-.94-.94-2.06-.94 2.06-2.06.94zm-11 1L8.5 8.5l.94-2.06 2.06-.94-2.06-.94L8.5 2.5l-.94 2.06-2.06.94zm10 10l.94 2.06.94-2.06 2.06-.94-2.06-.94-.94-2.06-.94 2.06-2.06.94z\"/><path d=\"M17.41 7.96l-1.37-1.37c-.4-.4-.92-.59-1.43-.59-.52 0-1.04.2-1.43.59L10.3 9.45l-7.72 7.72c-.78.78-.78 2.05 0 2.83L4 21.41c.39.39.9.59 1.41.59.51 0 1.02-.2 1.41-.59l7.78-7.78 2.81-2.81c.8-.78.8-2.07 0-2.86zM5.41 20L4 18.59l7.72-7.72 1.47 1.35L5.41 20z\"/>\n",
              "  </svg>\n",
              "      </button>\n",
              "      \n",
              "  <style>\n",
              "    .colab-df-container {\n",
              "      display:flex;\n",
              "      flex-wrap:wrap;\n",
              "      gap: 12px;\n",
              "    }\n",
              "\n",
              "    .colab-df-convert {\n",
              "      background-color: #E8F0FE;\n",
              "      border: none;\n",
              "      border-radius: 50%;\n",
              "      cursor: pointer;\n",
              "      display: none;\n",
              "      fill: #1967D2;\n",
              "      height: 32px;\n",
              "      padding: 0 0 0 0;\n",
              "      width: 32px;\n",
              "    }\n",
              "\n",
              "    .colab-df-convert:hover {\n",
              "      background-color: #E2EBFA;\n",
              "      box-shadow: 0px 1px 2px rgba(60, 64, 67, 0.3), 0px 1px 3px 1px rgba(60, 64, 67, 0.15);\n",
              "      fill: #174EA6;\n",
              "    }\n",
              "\n",
              "    [theme=dark] .colab-df-convert {\n",
              "      background-color: #3B4455;\n",
              "      fill: #D2E3FC;\n",
              "    }\n",
              "\n",
              "    [theme=dark] .colab-df-convert:hover {\n",
              "      background-color: #434B5C;\n",
              "      box-shadow: 0px 1px 3px 1px rgba(0, 0, 0, 0.15);\n",
              "      filter: drop-shadow(0px 1px 2px rgba(0, 0, 0, 0.3));\n",
              "      fill: #FFFFFF;\n",
              "    }\n",
              "  </style>\n",
              "\n",
              "      <script>\n",
              "        const buttonEl =\n",
              "          document.querySelector('#df-e55f2d2b-fea3-4f95-bb07-6819850b79b3 button.colab-df-convert');\n",
              "        buttonEl.style.display =\n",
              "          google.colab.kernel.accessAllowed ? 'block' : 'none';\n",
              "\n",
              "        async function convertToInteractive(key) {\n",
              "          const element = document.querySelector('#df-e55f2d2b-fea3-4f95-bb07-6819850b79b3');\n",
              "          const dataTable =\n",
              "            await google.colab.kernel.invokeFunction('convertToInteractive',\n",
              "                                                     [key], {});\n",
              "          if (!dataTable) return;\n",
              "\n",
              "          const docLinkHtml = 'Like what you see? Visit the ' +\n",
              "            '<a target=\"_blank\" href=https://colab.research.google.com/notebooks/data_table.ipynb>data table notebook</a>'\n",
              "            + ' to learn more about interactive tables.';\n",
              "          element.innerHTML = '';\n",
              "          dataTable['output_type'] = 'display_data';\n",
              "          await google.colab.output.renderOutput(dataTable, element);\n",
              "          const docLink = document.createElement('div');\n",
              "          docLink.innerHTML = docLinkHtml;\n",
              "          element.appendChild(docLink);\n",
              "        }\n",
              "      </script>\n",
              "    </div>\n",
              "  </div>\n",
              "  "
            ],
            "text/plain": [
              "   months_old      km fuel_type  horsepower  metcolor  automatic  size_engine  \\\n",
              "0          73   97494    Petrol         110         1          0         1600   \n",
              "1          48   89049    Petrol          97         1          0         1400   \n",
              "2          40  161000    Diesel          69         1          0         1900   \n",
              "3          37   38812    Petrol          97         0          0         1400   \n",
              "4          55   33230    Petrol         110         0          0         1600   \n",
              "\n",
              "   doors_num  weight  price  \n",
              "0          5    1085  10950  \n",
              "1          5    1060  13500  \n",
              "2          3    1105  13950  \n",
              "3          3    1025  13450  \n",
              "4          3    1050  13500  "
            ]
          },
          "metadata": {},
          "execution_count": 4
        }
      ],
      "source": [
        "df.head(5)"
      ]
    },
    {
      "cell_type": "code",
      "source": [
        "df_copy.head(5)"
      ],
      "metadata": {
        "colab": {
          "base_uri": "https://localhost:8080/",
          "height": 206
        },
        "id": "YPCPQFnXRGf4",
        "outputId": "f3bf369e-2222-4508-ba64-78410b1a9ec9"
      },
      "execution_count": 5,
      "outputs": [
        {
          "output_type": "execute_result",
          "data": {
            "text/html": [
              "\n",
              "  <div id=\"df-170b1034-8892-44ee-8291-330975eedfe4\">\n",
              "    <div class=\"colab-df-container\">\n",
              "      <div>\n",
              "<style scoped>\n",
              "    .dataframe tbody tr th:only-of-type {\n",
              "        vertical-align: middle;\n",
              "    }\n",
              "\n",
              "    .dataframe tbody tr th {\n",
              "        vertical-align: top;\n",
              "    }\n",
              "\n",
              "    .dataframe thead th {\n",
              "        text-align: right;\n",
              "    }\n",
              "</style>\n",
              "<table border=\"1\" class=\"dataframe\">\n",
              "  <thead>\n",
              "    <tr style=\"text-align: right;\">\n",
              "      <th></th>\n",
              "      <th>months_old</th>\n",
              "      <th>km</th>\n",
              "      <th>fuel_type</th>\n",
              "      <th>horsepower</th>\n",
              "      <th>metcolor</th>\n",
              "      <th>automatic</th>\n",
              "      <th>size_engine</th>\n",
              "      <th>doors_num</th>\n",
              "      <th>weight</th>\n",
              "      <th>price</th>\n",
              "    </tr>\n",
              "  </thead>\n",
              "  <tbody>\n",
              "    <tr>\n",
              "      <th>0</th>\n",
              "      <td>73</td>\n",
              "      <td>97494</td>\n",
              "      <td>Petrol</td>\n",
              "      <td>110</td>\n",
              "      <td>1</td>\n",
              "      <td>0</td>\n",
              "      <td>1600</td>\n",
              "      <td>5</td>\n",
              "      <td>1085</td>\n",
              "      <td>10950</td>\n",
              "    </tr>\n",
              "    <tr>\n",
              "      <th>1</th>\n",
              "      <td>48</td>\n",
              "      <td>89049</td>\n",
              "      <td>Petrol</td>\n",
              "      <td>97</td>\n",
              "      <td>1</td>\n",
              "      <td>0</td>\n",
              "      <td>1400</td>\n",
              "      <td>5</td>\n",
              "      <td>1060</td>\n",
              "      <td>13500</td>\n",
              "    </tr>\n",
              "    <tr>\n",
              "      <th>2</th>\n",
              "      <td>40</td>\n",
              "      <td>161000</td>\n",
              "      <td>Diesel</td>\n",
              "      <td>69</td>\n",
              "      <td>1</td>\n",
              "      <td>0</td>\n",
              "      <td>1900</td>\n",
              "      <td>3</td>\n",
              "      <td>1105</td>\n",
              "      <td>13950</td>\n",
              "    </tr>\n",
              "    <tr>\n",
              "      <th>3</th>\n",
              "      <td>37</td>\n",
              "      <td>38812</td>\n",
              "      <td>Petrol</td>\n",
              "      <td>97</td>\n",
              "      <td>0</td>\n",
              "      <td>0</td>\n",
              "      <td>1400</td>\n",
              "      <td>3</td>\n",
              "      <td>1025</td>\n",
              "      <td>13450</td>\n",
              "    </tr>\n",
              "    <tr>\n",
              "      <th>4</th>\n",
              "      <td>55</td>\n",
              "      <td>33230</td>\n",
              "      <td>Petrol</td>\n",
              "      <td>110</td>\n",
              "      <td>0</td>\n",
              "      <td>0</td>\n",
              "      <td>1600</td>\n",
              "      <td>3</td>\n",
              "      <td>1050</td>\n",
              "      <td>13500</td>\n",
              "    </tr>\n",
              "  </tbody>\n",
              "</table>\n",
              "</div>\n",
              "      <button class=\"colab-df-convert\" onclick=\"convertToInteractive('df-170b1034-8892-44ee-8291-330975eedfe4')\"\n",
              "              title=\"Convert this dataframe to an interactive table.\"\n",
              "              style=\"display:none;\">\n",
              "        \n",
              "  <svg xmlns=\"http://www.w3.org/2000/svg\" height=\"24px\"viewBox=\"0 0 24 24\"\n",
              "       width=\"24px\">\n",
              "    <path d=\"M0 0h24v24H0V0z\" fill=\"none\"/>\n",
              "    <path d=\"M18.56 5.44l.94 2.06.94-2.06 2.06-.94-2.06-.94-.94-2.06-.94 2.06-2.06.94zm-11 1L8.5 8.5l.94-2.06 2.06-.94-2.06-.94L8.5 2.5l-.94 2.06-2.06.94zm10 10l.94 2.06.94-2.06 2.06-.94-2.06-.94-.94-2.06-.94 2.06-2.06.94z\"/><path d=\"M17.41 7.96l-1.37-1.37c-.4-.4-.92-.59-1.43-.59-.52 0-1.04.2-1.43.59L10.3 9.45l-7.72 7.72c-.78.78-.78 2.05 0 2.83L4 21.41c.39.39.9.59 1.41.59.51 0 1.02-.2 1.41-.59l7.78-7.78 2.81-2.81c.8-.78.8-2.07 0-2.86zM5.41 20L4 18.59l7.72-7.72 1.47 1.35L5.41 20z\"/>\n",
              "  </svg>\n",
              "      </button>\n",
              "      \n",
              "  <style>\n",
              "    .colab-df-container {\n",
              "      display:flex;\n",
              "      flex-wrap:wrap;\n",
              "      gap: 12px;\n",
              "    }\n",
              "\n",
              "    .colab-df-convert {\n",
              "      background-color: #E8F0FE;\n",
              "      border: none;\n",
              "      border-radius: 50%;\n",
              "      cursor: pointer;\n",
              "      display: none;\n",
              "      fill: #1967D2;\n",
              "      height: 32px;\n",
              "      padding: 0 0 0 0;\n",
              "      width: 32px;\n",
              "    }\n",
              "\n",
              "    .colab-df-convert:hover {\n",
              "      background-color: #E2EBFA;\n",
              "      box-shadow: 0px 1px 2px rgba(60, 64, 67, 0.3), 0px 1px 3px 1px rgba(60, 64, 67, 0.15);\n",
              "      fill: #174EA6;\n",
              "    }\n",
              "\n",
              "    [theme=dark] .colab-df-convert {\n",
              "      background-color: #3B4455;\n",
              "      fill: #D2E3FC;\n",
              "    }\n",
              "\n",
              "    [theme=dark] .colab-df-convert:hover {\n",
              "      background-color: #434B5C;\n",
              "      box-shadow: 0px 1px 3px 1px rgba(0, 0, 0, 0.15);\n",
              "      filter: drop-shadow(0px 1px 2px rgba(0, 0, 0, 0.3));\n",
              "      fill: #FFFFFF;\n",
              "    }\n",
              "  </style>\n",
              "\n",
              "      <script>\n",
              "        const buttonEl =\n",
              "          document.querySelector('#df-170b1034-8892-44ee-8291-330975eedfe4 button.colab-df-convert');\n",
              "        buttonEl.style.display =\n",
              "          google.colab.kernel.accessAllowed ? 'block' : 'none';\n",
              "\n",
              "        async function convertToInteractive(key) {\n",
              "          const element = document.querySelector('#df-170b1034-8892-44ee-8291-330975eedfe4');\n",
              "          const dataTable =\n",
              "            await google.colab.kernel.invokeFunction('convertToInteractive',\n",
              "                                                     [key], {});\n",
              "          if (!dataTable) return;\n",
              "\n",
              "          const docLinkHtml = 'Like what you see? Visit the ' +\n",
              "            '<a target=\"_blank\" href=https://colab.research.google.com/notebooks/data_table.ipynb>data table notebook</a>'\n",
              "            + ' to learn more about interactive tables.';\n",
              "          element.innerHTML = '';\n",
              "          dataTable['output_type'] = 'display_data';\n",
              "          await google.colab.output.renderOutput(dataTable, element);\n",
              "          const docLink = document.createElement('div');\n",
              "          docLink.innerHTML = docLinkHtml;\n",
              "          element.appendChild(docLink);\n",
              "        }\n",
              "      </script>\n",
              "    </div>\n",
              "  </div>\n",
              "  "
            ],
            "text/plain": [
              "   months_old      km fuel_type  horsepower  metcolor  automatic  size_engine  \\\n",
              "0          73   97494    Petrol         110         1          0         1600   \n",
              "1          48   89049    Petrol          97         1          0         1400   \n",
              "2          40  161000    Diesel          69         1          0         1900   \n",
              "3          37   38812    Petrol          97         0          0         1400   \n",
              "4          55   33230    Petrol         110         0          0         1600   \n",
              "\n",
              "   doors_num  weight  price  \n",
              "0          5    1085  10950  \n",
              "1          5    1060  13500  \n",
              "2          3    1105  13950  \n",
              "3          3    1025  13450  \n",
              "4          3    1050  13500  "
            ]
          },
          "metadata": {},
          "execution_count": 5
        }
      ]
    },
    {
      "cell_type": "markdown",
      "metadata": {
        "id": "v4uy3S_l4uMK"
      },
      "source": [
        "## 1. Exploración (1 punto)\n",
        "\n"
      ]
    },
    {
      "cell_type": "markdown",
      "metadata": {
        "id": "-OTrT_SvJoYF"
      },
      "source": [
        "En primer lugar exploraremos el conjunto de datos. "
      ]
    },
    {
      "cell_type": "markdown",
      "metadata": {
        "id": "WArt2HG7n1qY"
      },
      "source": [
        "<div style=\"background-color: #EDF7FF; border-color: #7C9DBF; border-left: 5px solid #7C9DBF; padding: 0.5em;\">\n",
        "<strong>Ejercicio (1 punto):</strong> Explora los datos: \n",
        "\n",
        "<ul>\n",
        "        \n",
        "<li> Indica el tamaño del dataset y el número de variables categóricas y continuas del conjunto de datos</li> \n",
        "<li>   Grafica las distribuciones de las variables categóricas y de las continuas</li>\n",
        "<li>    Genera una tabla de correlaciones de todas las variables usando la librería <code>seaborn</code>, mostrando en cada casilla el valor de la correlación</li>\n",
        "<li>    Genera una tabla (usando la librería <code>seaborn</code>) que muestre únicamente las correlaciones entre el precio y el resto de variables, ordenada de mayor a menor según los valores de correlación</li>\n",
        "<li>  Comenta los resultados de la exploración de datos</li>\n",
        "</ul>\n",
        "\n",
        "</div>"
      ]
    },
    {
      "cell_type": "markdown",
      "metadata": {
        "id": "V10fH2QxP_vg"
      },
      "source": [
        "\n",
        "\n",
        "*   **Variables**\n",
        "\n"
      ]
    },
    {
      "cell_type": "code",
      "execution_count": 6,
      "metadata": {
        "id": "N3TOQ_ko_COF",
        "colab": {
          "base_uri": "https://localhost:8080/"
        },
        "outputId": "393f6f12-0870-4c74-cc52-ab7c4ec4df8c"
      },
      "outputs": [
        {
          "output_type": "stream",
          "name": "stdout",
          "text": [
            "El número de variables es: 10\n",
            "El número de registros es: 1436\n"
          ]
        }
      ],
      "source": [
        "#Dataset size\n",
        "print(\"El número de variables es: \" + str(df_copy.shape[1]))\n",
        "print(\"El número de registros es: \" + str(df_copy.shape[0]))"
      ]
    },
    {
      "cell_type": "code",
      "execution_count": 7,
      "metadata": {
        "id": "i8-SrElyJFy3",
        "colab": {
          "base_uri": "https://localhost:8080/"
        },
        "outputId": "eb982567-05b1-4789-8916-e0902b403a7f"
      },
      "outputs": [
        {
          "output_type": "stream",
          "name": "stdout",
          "text": [
            "El número de variables categóricas es: 1\n",
            "El número de variables continuas es: 9\n"
          ]
        }
      ],
      "source": [
        "#Number of categorical and continuous variables\n",
        "num_categorical_variables = df_copy.select_dtypes(exclude=[\"number\", \"bool_\"]).shape[1]\n",
        "num_continuous_variables = df_copy.select_dtypes(include=\"number\").shape[1]\n",
        "\n",
        "print(\"El número de variables categóricas es: \" + str(num_categorical_variables))\n",
        "print(\"El número de variables continuas es: \" + str(num_continuous_variables))"
      ]
    },
    {
      "cell_type": "markdown",
      "metadata": {
        "id": "bJvw7JwmQFss"
      },
      "source": [
        "*   **Distribuciones**\n",
        "\n",
        "\n",
        "\n"
      ]
    },
    {
      "cell_type": "code",
      "execution_count": 8,
      "metadata": {
        "id": "Oks_R5EhN5om",
        "colab": {
          "base_uri": "https://localhost:8080/",
          "height": 318
        },
        "outputId": "cc90ab8e-a334-4bab-8c66-35fe40ced1a5"
      },
      "outputs": [
        {
          "output_type": "execute_result",
          "data": {
            "text/plain": [
              "Text(0.5, 0, 'fuel_type')"
            ]
          },
          "metadata": {},
          "execution_count": 8
        },
        {
          "output_type": "display_data",
          "data": {
            "image/png": "[encoded data removed]",
            "text/plain": [
              "<Figure size 1800x288 with 1 Axes>"
            ]
          },
          "metadata": {
            "needs_background": "light"
          }
        }
      ],
      "source": [
        " #Distributions of categorical variables\n",
        " fig, axis = plt.subplots(nrows=1, ncols=num_categorical_variables, figsize=(25,4))\n",
        "\n",
        " name_columns_categorical = df_copy.select_dtypes(exclude=[\"number\", \"bool_\"]).columns\n",
        " \n",
        " df_copy[name_columns_categorical[0]].value_counts().plot(kind=\"bar\")\n",
        " plt.xlabel(name_columns_categorical[0])"
      ]
    },
    {
      "cell_type": "code",
      "execution_count": 9,
      "metadata": {
        "id": "tv7CULUcPiTc",
        "colab": {
          "base_uri": "https://localhost:8080/",
          "height": 281
        },
        "outputId": "6ff498d4-1674-4723-f462-6fb95b5bdeaf"
      },
      "outputs": [
        {
          "output_type": "display_data",
          "data": {
            "image/png": "[encoded data removed]",
            "text/plain": [
              "<Figure size 1800x288 with 9 Axes>"
            ]
          },
          "metadata": {
            "needs_background": "light"
          }
        }
      ],
      "source": [
        "#Distributions continuous variables\n",
        "fig, axis = plt.subplots(nrows=1, ncols=num_continuous_variables, figsize=(25,4))\n",
        "\n",
        "name_columns_numerical = df_copy.select_dtypes(include=\"number\").columns\n",
        "\n",
        "for i, ax in enumerate(axis):\n",
        "  ax.set_title(name_columns_numerical[i])\n",
        "  ax.hist(df_copy[name_columns_numerical[i]], density=True, bins=10)\n",
        "\n"
      ]
    },
    {
      "cell_type": "markdown",
      "metadata": {
        "id": "YPbtmbqRASsM"
      },
      "source": [
        "*   **Correlaciones**\n",
        "\n",
        "Cundo en el enunciado indica generar una tabla con seaborn, entiendo que se refiere a un heatmap.\n",
        "\n",
        "\n"
      ]
    },
    {
      "cell_type": "code",
      "execution_count": 10,
      "metadata": {
        "id": "LvO4C7ymANXf",
        "colab": {
          "base_uri": "https://localhost:8080/",
          "height": 500
        },
        "outputId": "9831e0e9-43b3-48f3-a537-f81ffde640cc"
      },
      "outputs": [
        {
          "output_type": "display_data",
          "data": {
            "image/png": "[encoded data removed]",
            "text/plain": [
              "<Figure size 864x576 with 2 Axes>"
            ]
          },
          "metadata": {
            "needs_background": "light"
          }
        }
      ],
      "source": [
        "#All variables correlations\n",
        "\n",
        "correlations = df_copy.corr()\n",
        "\n",
        "fig, ax = plt.subplots(figsize=(12, 8))\n",
        "sns.heatmap(correlations, annot=True)\n",
        "plt.title(\"Correlaciones\")\n",
        "plt.show()"
      ]
    },
    {
      "cell_type": "code",
      "execution_count": 11,
      "metadata": {
        "id": "RSJWiWThAQj5",
        "colab": {
          "base_uri": "https://localhost:8080/",
          "height": 499
        },
        "outputId": "56017904-4cc8-459a-85b1-fc223f2a4fd0"
      },
      "outputs": [
        {
          "output_type": "display_data",
          "data": {
            "image/png": "[encoded data removed]",
            "text/plain": [
              "<Figure size 864x576 with 2 Axes>"
            ]
          },
          "metadata": {
            "needs_background": "light"
          }
        }
      ],
      "source": [
        "#Features correlating with Price\n",
        "\n",
        "correlations_ordered = correlations.sort_values(\"price\", ascending=False)\n",
        "df_correlations_price_ordered = pd.DataFrame(\n",
        "    {\n",
        "        \"price\": correlations_ordered[\"price\"].values\n",
        "    },\n",
        "    index=correlations_ordered[\"price\"].index\n",
        ")\n",
        "\n",
        "fig, ax = plt.subplots(figsize=(12, 8))\n",
        "sns.heatmap(df_correlations_price_ordered, annot=True)\n",
        "plt.title(\"Correlaciones de precio ordenadas\")\n",
        "plt.show()"
      ]
    },
    {
      "cell_type": "markdown",
      "metadata": {
        "id": "n1GaD4JqQhsJ"
      },
      "source": [
        "\n",
        "\n",
        "*   **Comentarios resultado exploración**\n",
        "\n"
      ]
    },
    {
      "cell_type": "markdown",
      "source": [
        "El primer punto a destacar es que el *dataset* está formado por 10 variables, 9 de éstas son variables continuas y solamente \"fuel_type\" es una variable categórica. Además, el *dataset* presenta un total de 1436 registros.\n",
        "\n",
        "El segundo punto que hemos realizado es graficar las distribuciones de todas las variables, obteniendo la siguiente información:\n",
        "\n",
        "* Respecto a \"fuel_type\" vemos que la mayoría de los vehículos son de tipo gasolina (\"petrol\") y después le sigue los vehículos diésel, son muy pocos los que usan una gasolina del tipo CNG. \n",
        "* En cuanto a \"months_old\", la gran mayoría del *dataset* se corresponde con vehículos que tienen muchos meses, entre 50 y 75 meses. Siendo minoritario los vehículos nuevos.\n",
        "* A pesar de que la gran mayoría de vehículos tinen una mayor antigüedad, respecto a \"km\" prácticamente el 90% de los vehículos tienen un rodaje inferior a 100000 km.\n",
        "* Los caballos de los vehículos tienden a rondar los 100, es decir, no suelen ser vehículos de gama alta.\n",
        "* La gran mayoría de vehículos no son automáticos \"automatic\".\n",
        "* El tamaño del motor \"size_engine\" mayoritariamente es de 1600, aunque también a motores de 1400 y 2000.\n",
        "* Los vehículos suelen tener 5 o 3 puertas, haciendo que los modelos con 4 puertas o 2 sean muy pocos.\n",
        "* El pesoo de los vehículos \"weight\" mayoritariamente está cercano a los 1000Kg, por lo que el *dataset* se entiende que son turimos (no camiones, furgonetas...).\n",
        "* El precio de un vehículo suele estar cercano a los 10000\\$, aunque la gran mayoría tienen un precio entre 8000\\$ y 20000\\$.\n",
        "\n",
        "Respecto al tercer punto a analizar, las correlaciones, obtenemos la siguiente información:\n",
        "* Los atributos altamente correlacionados son, el peso con el tamaño del motor, el peso con el precio.\n",
        "* Los atribtuos altamente correlacionados de forma inversa son, el precio con la antigüedad del coche y el precio con el rodaje del vehículo.\n",
        "\n"
      ],
      "metadata": {
        "id": "BVPWw8Q0oZQZ"
      }
    },
    {
      "cell_type": "markdown",
      "metadata": {
        "id": "kdn0ZNWI5HFE"
      },
      "source": [
        "## 2. Red neuronal artificial: Clasificación (4.5 puntos)\n"
      ]
    },
    {
      "cell_type": "markdown",
      "metadata": {
        "id": "3Li5TkOu7tGR"
      },
      "source": [
        "En este apartado entrenaremos un modelo que intente clasificar los coches según su gama de precio. Para ello crearemos una nueva variable como indicador de calidad del coche (gama baja, media o alta), siguiendo las siguientes condiciones:\n",
        "\n",
        "\n",
        "\n",
        "*   _low-end_: precio menor que 11000 euros\n",
        "*   _medium-end_: precio mayor o igual que 11000 euros y menor que 13000\n",
        "*   _high-end_: precio mayor o igual que 13000\n",
        "\n"
      ]
    },
    {
      "cell_type": "markdown",
      "metadata": {
        "id": "zkZrkOkb5QWL"
      },
      "source": [
        "### Pre-procesado\n"
      ]
    },
    {
      "cell_type": "markdown",
      "metadata": {
        "id": "v0z5hx64pNhv"
      },
      "source": [
        "<div style=\"background-color: #EDF7FF; border-color: #7C9DBF; border-left: 5px solid #7C9DBF; padding: 0.5em;\">\n",
        "<strong>Ejercicio (0.75 puntos):</strong> Pre-procesa los datos: \n",
        "\n",
        "<ul>\n",
        "        \n",
        "<li>   Crea una nueva variable <code>quality</code> que incluya la gama del coche, con las condiciones indicadas</li>\n",
        "<li>   Muestra el histograma de la nueva variable <code>quality</code></li>\n",
        "<li>   Crea los vectores de variables independientes (<i>features</i>) y de la variable dependiente (<i>labels</i>)</li>\n",
        "<li>   Normaliza debidamente los datos y binariza el vector de etiquetas (<i>labels</i>) </li>\n",
        "<li>   Divide el conjunto de datos en 80% para entrenamiento y 20% para test, usando la función <code>train_test_split</code></li>\n",
        "<li>   Muestra las dimensiones de los conjuntos de entrenamiento y test</li>\n",
        "</ul>\n",
        "</div>"
      ]
    },
    {
      "cell_type": "code",
      "execution_count": 35,
      "metadata": {
        "id": "GfltZ361AC89"
      },
      "outputs": [],
      "source": [
        "#Create new variable: quality\n",
        "df_copy.loc[df_copy[\"price\"] < 11000, \"quality\"] = \"low-end\"\n",
        "df_copy.loc[(df_copy[\"price\"] >= 11000) & (df_copy[\"price\"] < 13000), \"quality\"] = \"medium-end\"\n",
        "df_copy.loc[df_copy[\"price\"] >= 13000, \"quality\"] = \"high-end\""
      ]
    },
    {
      "cell_type": "code",
      "execution_count": 42,
      "metadata": {
        "id": "LLcPtn18BlQs",
        "colab": {
          "base_uri": "https://localhost:8080/",
          "height": 583
        },
        "outputId": "484735f3-aecc-476a-abff-e7eedd8ddb03"
      },
      "outputs": [
        {
          "output_type": "execute_result",
          "data": {
            "text/plain": [
              "Text(0.5, 0, 'quality')"
            ]
          },
          "metadata": {},
          "execution_count": 42
        },
        {
          "output_type": "display_data",
          "data": {
            "image/png": "[encoded data removed]",
            "text/plain": [
              "<Figure size 720x576 with 1 Axes>"
            ]
          },
          "metadata": {
            "needs_background": "light"
          }
        }
      ],
      "source": [
        "#Histogram car quality\n",
        "fig, axis = plt.subplots(nrows=1, ncols=1, figsize=(10,8))\n",
        "df_copy[\"quality\"].value_counts().plot(kind=\"bar\")\n",
        "plt.title(\"Histograma de quality\")\n",
        "plt.xlabel(\"quality\")"
      ]
    },
    {
      "cell_type": "code",
      "source": [
        "#Distributions continuous variables\n",
        "fig, axis = plt.subplots(nrows=1, ncols=num_continuous_variables, figsize=(25,4))\n",
        "\n",
        "name_columns_numerical = df_copy.select_dtypes(include=\"number\").columns\n",
        "\n",
        "for i, ax in enumerate(axis):\n",
        "  ax.set_title(name_columns_numerical[i])\n",
        "  ax.hist(df_copy[name_columns_numerical[i]], density=True, bins=10)"
      ],
      "metadata": {
        "colab": {
          "base_uri": "https://localhost:8080/",
          "height": 281
        },
        "id": "fubpXFY21o5n",
        "outputId": "0b04027c-cd9a-478d-f445-45b4e8b8488e"
      },
      "execution_count": 43,
      "outputs": [
        {
          "output_type": "display_data",
          "data": {
            "image/png": "[encoded data removed]",
            "text/plain": [
              "<Figure size 1800x288 with 9 Axes>"
            ]
          },
          "metadata": {
            "needs_background": "light"
          }
        }
      ]
    },
    {
      "cell_type": "code",
      "source": [
        "len(np.unique(df_copy[\"doors_num\"]))"
      ],
      "metadata": {
        "colab": {
          "base_uri": "https://localhost:8080/"
        },
        "id": "2_Qtl1HN1sgp",
        "outputId": "99661a6e-08bb-4727-d729-249b879aabb3"
      },
      "execution_count": 49,
      "outputs": [
        {
          "output_type": "execute_result",
          "data": {
            "text/plain": [
              "4"
            ]
          },
          "metadata": {},
          "execution_count": 49
        }
      ]
    },
    {
      "cell_type": "code",
      "execution_count": null,
      "metadata": {
        "id": "whqYSqQEBqjM"
      },
      "outputs": [],
      "source": [
        "#Create features and labels vectors\n",
        "features = None\n",
        "labels = None"
      ]
    },
    {
      "cell_type": "code",
      "execution_count": null,
      "metadata": {
        "id": "r8MdGHI7Btjr"
      },
      "outputs": [],
      "source": [
        "#Normalize the corresponding data\n"
      ]
    },
    {
      "cell_type": "code",
      "execution_count": null,
      "metadata": {
        "id": "OkVVv7yrBxhc"
      },
      "outputs": [],
      "source": [
        "#Binarize the labels\n"
      ]
    },
    {
      "cell_type": "code",
      "execution_count": null,
      "metadata": {
        "id": "JqDRRy2mAgUV"
      },
      "outputs": [],
      "source": [
        "#Train-test split\n"
      ]
    },
    {
      "cell_type": "code",
      "execution_count": null,
      "metadata": {
        "id": "j7FJc1POAii4"
      },
      "outputs": [],
      "source": [
        "#Shapes\n"
      ]
    },
    {
      "cell_type": "markdown",
      "metadata": {
        "id": "Z60Pf12T5bjF"
      },
      "source": [
        "### Modelo base\n"
      ]
    },
    {
      "cell_type": "markdown",
      "metadata": {
        "id": "w9Dm_WN5rzGt"
      },
      "source": [
        "Empezaremos diseñando un modelo base con 4 capas ocultas.\n",
        " \n",
        "Nota: Para el ajuste del modelo usaremos los datos de test como conjunto de validación."
      ]
    },
    {
      "cell_type": "markdown",
      "metadata": {
        "id": "X-9gUgcQrGk1"
      },
      "source": [
        "<div style=\"background-color: #EDF7FF; border-color: #7C9DBF; border-left: 5px solid #7C9DBF; padding: 0.5em;\">\n",
        "<strong>Ejercicio (1.25 puntos):</strong> Implementa el modelo de red neuronal artificial:\n",
        "<ul>\n",
        "<li>   Diseña la arquitectura para el modelo de clasificación con la función de activación adecuada para la capa de salida y con las siguientes características:</li>\n",
        "   <ul>\n",
        "   <li> 4 capas ocultas con 64, 32, 10, 8 neuronas sucesivamente</li>\n",
        "   <li> Función de activación de las capas intermedias: ReLU</li>\n",
        "   </ul>\n",
        "\n",
        "<li>   Compila el modelo con la función de pérdida más adecuada, el optimizador Adam, una velocidad de aprendizaje de 0.1, y la métrica Accuracy.</li>\n",
        "\n",
        "<li>   Ajusta el modelo con 20 épocas y un tamaño del batch de 64</li>\n",
        "\n",
        "<li>   Muestra las gráficas de accuracy y loss. En cada gráfica debe visualizarse la curva de entrenamiento y la de validación</li>\n",
        "</ul>\n",
        "</div>"
      ]
    },
    {
      "cell_type": "code",
      "execution_count": null,
      "metadata": {
        "id": "55FNYaQnB8iS"
      },
      "outputs": [],
      "source": [
        "#Create ANN model\n"
      ]
    },
    {
      "cell_type": "code",
      "execution_count": null,
      "metadata": {
        "id": "4uZBJAsGqJau"
      },
      "outputs": [],
      "source": [
        "#Compile\n"
      ]
    },
    {
      "cell_type": "code",
      "execution_count": null,
      "metadata": {
        "id": "H-k_iYxBqLQK"
      },
      "outputs": [],
      "source": [
        "#Fit\n"
      ]
    },
    {
      "cell_type": "code",
      "execution_count": null,
      "metadata": {
        "id": "Id4u4igDBHtK"
      },
      "outputs": [],
      "source": [
        "#Plots \n"
      ]
    },
    {
      "cell_type": "markdown",
      "metadata": {
        "id": "epfveZ6I5rzR"
      },
      "source": [
        "### Influencia velocidad aprendizaje y optimizador"
      ]
    },
    {
      "cell_type": "markdown",
      "metadata": {
        "id": "Pvt1o-bzDgQs"
      },
      "source": [
        "Una vez tenemos el modelo base, analizaremos la influencia que pueden tener la velocidad de aprendizaje y el tipo de optimizador en la mejora del rendimiento."
      ]
    },
    {
      "cell_type": "markdown",
      "metadata": {
        "id": "k4MKwGwYtBML"
      },
      "source": [
        "<div style=\"background-color: #EDF7FF; border-color: #7C9DBF; border-left: 5px solid #7C9DBF; padding: 0.5em;\">\n",
        "<strong>Ejercicio (1.5 puntos):</strong> Implementa una función para entrenar la arquitectura del ejercicio anterior para 4 optimizadores diferentes: Adam, SGD, Adadelta, Adagrad, y 4 velocidades de aprendizaje: 0.001, 0.01, 0.05, 0.1. \n",
        "Entrena los modelos, y representa dos gráficas:\n",
        " <ul>\n",
        "     <li> Tiempo de entrenamiento vs Velocidad de aprendizaje</li>\n",
        "     <li>  <i>Accuracy</i> vs Velocidad de aprendizaje</li>\n",
        "</ul>   \n",
        "    \n",
        "Cada gráfica debe incluir la evolución obtenida por los cuatro optimizadores para poderlos comparar mejor.\n",
        "    \n",
        "-----------------------------------------------------------------------------------------------------------\n",
        "<b>Importante</b>: para la entrega de la PEC, fijar el parámetro <code>verbose = 0</code> en el entrenamiento de los modelos. La solución únicamente debe mostrar las gráficas resultantes.\n",
        "</div>"
      ]
    },
    {
      "cell_type": "code",
      "execution_count": null,
      "metadata": {
        "id": "yt72wL7_CauO"
      },
      "outputs": [],
      "source": [
        "#Function to compute several models changing Optimizers and learning rate\n"
      ]
    },
    {
      "cell_type": "code",
      "execution_count": null,
      "metadata": {
        "id": "PF9BZo4WCdX6"
      },
      "outputs": [],
      "source": [
        "#Compute models\n"
      ]
    },
    {
      "cell_type": "code",
      "execution_count": null,
      "metadata": {
        "id": "KALAyx3bCgBm"
      },
      "outputs": [],
      "source": [
        "#Plots\n"
      ]
    },
    {
      "cell_type": "markdown",
      "metadata": {
        "id": "3FFT0HcW5yzD"
      },
      "source": [
        "### Elección del mejor modelo"
      ]
    },
    {
      "cell_type": "markdown",
      "metadata": {
        "id": "nxM_49dxuC1L"
      },
      "source": [
        "<div style=\"background-color: #EDF7FF; border-color: #7C9DBF; border-left: 5px solid #7C9DBF; padding: 0.5em;\">\n",
        "<strong>Ejercicio (1 punto):</strong> Identifica el valor de la velocidad de aprendizaje y del optimizador que mejor rendimiento dan al modelo, según los resultados del ejercicio anterior:\n",
        "<ul>\n",
        "    \n",
        "<li>   Justifica la elección</li>\n",
        "<li>   Compila y entrena el modelo elegido</li>\n",
        "<li>   Muestra las correspondientes gráficas de <i>Accuracy</i> y <i>Loss</i> de los conjuntos de entrenamiento y validación, e indica el <i>Accuracy</i> del modelo </li>\n",
        "<li>   Muestra la matriz de confusión multi-clase con las etiquetas originales de <code>quality</code> (<i>low-end</i>, <i>medium-end</i>, <i>high-end</i>)</li>\n",
        "<li>   Muestra la precisión, recall y F1-score resultantes para cada etiqueta</li>\n",
        "<li>   Comenta los resultados obtenidos</li>\n",
        "</ul>\n",
        "</div>"
      ]
    },
    {
      "cell_type": "code",
      "execution_count": null,
      "metadata": {
        "id": "4oiJyrGL6Ntb"
      },
      "outputs": [],
      "source": [
        "#Best model justification\n"
      ]
    },
    {
      "cell_type": "code",
      "execution_count": null,
      "metadata": {
        "id": "8Dwvn_0JCt9A"
      },
      "outputs": [],
      "source": [
        "#Create, compile and fit ANN BEST model\n"
      ]
    },
    {
      "cell_type": "code",
      "execution_count": null,
      "metadata": {
        "id": "7KvpGJi4C1fD"
      },
      "outputs": [],
      "source": [
        "#Plots\n"
      ]
    },
    {
      "cell_type": "code",
      "execution_count": null,
      "metadata": {
        "id": "rgUdskZ7Fz4n"
      },
      "outputs": [],
      "source": [
        "#Confusion matrix\n"
      ]
    },
    {
      "cell_type": "code",
      "execution_count": null,
      "metadata": {
        "id": "qWMB7Sq1hHdy"
      },
      "outputs": [],
      "source": [
        "#Accuracy\n"
      ]
    },
    {
      "cell_type": "code",
      "execution_count": null,
      "metadata": {
        "id": "FyVOsMOJISLp"
      },
      "outputs": [],
      "source": [
        "#Precision, Recall and F1-score for each label\n"
      ]
    },
    {
      "cell_type": "code",
      "execution_count": null,
      "metadata": {
        "id": "GlmpoPbzE5k0"
      },
      "outputs": [],
      "source": [
        "#Comment results\n"
      ]
    },
    {
      "cell_type": "markdown",
      "metadata": {
        "id": "LY6fFoV955e3"
      },
      "source": [
        "## 3. Red neuronal artificial: Regresión (4.5 puntos)"
      ]
    },
    {
      "cell_type": "markdown",
      "metadata": {
        "id": "vMTilNAuwN4X"
      },
      "source": [
        "En este apartado resolveremos un problema de regresión intentando predecir el precio de re-venta según las características de los coches. Partiremos del conjunto de datos original."
      ]
    },
    {
      "cell_type": "markdown",
      "metadata": {
        "id": "tKTYsFI45_rW"
      },
      "source": [
        "### Pre-procesado\n",
        "\n",
        "\n"
      ]
    },
    {
      "cell_type": "markdown",
      "metadata": {
        "id": "eSp_nZX3wQDT"
      },
      "source": [
        "<div style=\"background-color: #EDF7FF; border-color: #7C9DBF; border-left: 5px solid #7C9DBF; padding: 0.5em;\">\n",
        "<strong>Ejercicio (0.5 puntos):</strong> Pre-procesa los datos: \n",
        "<ul>\n",
        "<li>   Crea los vectores de variables dependientes (<i>features</i>) y de la variable independiente (<i>target</i>)</li>\n",
        "<li>   Normaliza debidamente los datos</li>\n",
        "<li>   Divide el conjunto de datos en 70% para entrenamiento y 30% para test, usando la función <code>train_test_split</code></li>\n",
        "<li>   Muestra las dimensiones de los conjuntos de entrenamiento y test</li>\n",
        "</ul>\n",
        "</div>"
      ]
    },
    {
      "cell_type": "code",
      "execution_count": null,
      "metadata": {
        "id": "2ZFhPX92wqB7"
      },
      "outputs": [],
      "source": [
        "#Create features and target vectors\n",
        "features = None\n",
        "target = None"
      ]
    },
    {
      "cell_type": "code",
      "execution_count": null,
      "metadata": {
        "id": "hUi95MvbAa-u"
      },
      "outputs": [],
      "source": [
        "#Normalizing the data\n"
      ]
    },
    {
      "cell_type": "code",
      "execution_count": null,
      "metadata": {
        "id": "_vUVcRn_wdQx"
      },
      "outputs": [],
      "source": [
        "#Split train-test\n"
      ]
    },
    {
      "cell_type": "code",
      "execution_count": null,
      "metadata": {
        "id": "Ca_Zk7PfwkPE"
      },
      "outputs": [],
      "source": [
        "#Dimensions\n"
      ]
    },
    {
      "cell_type": "markdown",
      "metadata": {
        "id": "6Q7VJZn_6Eru"
      },
      "source": [
        "### Modelo base"
      ]
    },
    {
      "cell_type": "markdown",
      "metadata": {
        "id": "aI1qOtftx4J0"
      },
      "source": [
        "En primer lugar diseñaremos un modelo base con tres capas ocultas.\n",
        "\n",
        "Nota: Para el ajuste del modelo usaremos los datos de test como conjunto de validación."
      ]
    },
    {
      "cell_type": "markdown",
      "metadata": {
        "id": "0AhiMwVZw13D"
      },
      "source": [
        "<div style=\"background-color: #EDF7FF; border-color: #7C9DBF; border-left: 5px solid #7C9DBF; padding: 0.5em;\">\n",
        "<strong>Ejercicio (1 punto):</strong> Implementa el modelo de red neuronal artificial:\n",
        "<ul>\n",
        "<li>Diseña la arquitectura para el modelo de regresión con las siguientes características:</li>\n",
        "    <ul>\n",
        "   <li>1 primera capa oculta completamente conectada de 128 neuronas y activación ReLU</li>\n",
        "   <li>2 capas ocultas de 32 y 16 neuronas y activación tangencial</li>\n",
        "   <li>Todas las capas deben tener <code>kernel_initizalizer</code> en modo 'normal'</li>\n",
        "   </ul>\n",
        "<li>Compila el modelo con la función de pérdida más adecuada y el optimizador Adam</li>\n",
        "\n",
        "<li>Ajusta el modelo con 50 épocas y un tamaño del batch de 32</li>\n",
        "\n",
        "<li>Muestra la gráfica de pérdida. En la gráfica debe visualizarse la curva de entrenamiento y la de validación</li>\n",
        "</ul>\n",
        "</div>"
      ]
    },
    {
      "cell_type": "code",
      "execution_count": null,
      "metadata": {
        "id": "KJaRnNOcAyNi"
      },
      "outputs": [],
      "source": [
        "#Create ANN model\n"
      ]
    },
    {
      "cell_type": "code",
      "execution_count": null,
      "metadata": {
        "id": "nvu-prE3radd"
      },
      "outputs": [],
      "source": [
        "#Compiling the model\n"
      ]
    },
    {
      "cell_type": "code",
      "execution_count": null,
      "metadata": {
        "id": "W6zQWqGjrb54"
      },
      "outputs": [],
      "source": [
        "#Fit model\n"
      ]
    },
    {
      "cell_type": "code",
      "execution_count": null,
      "metadata": {
        "id": "uJdhQfZlDlXj"
      },
      "outputs": [],
      "source": [
        "#Plots\n"
      ]
    },
    {
      "cell_type": "markdown",
      "metadata": {
        "id": "3_rxKFH96Jeb"
      },
      "source": [
        "### Búsqueda hiperparámetros"
      ]
    },
    {
      "cell_type": "markdown",
      "metadata": {
        "id": "CqVgHOUoF3hN"
      },
      "source": [
        "Una vez tenemos el modelo base nos interesa buscar la configuración de hiperparámetros que nos proporcione una mejor predicción del precio de re-venta de los coches. En este apartado haremos una búsqueda de hiperparámetros, recorriendo varios valores de número de capas, número de neuronas, tamaño del batch y épocas."
      ]
    },
    {
      "cell_type": "markdown",
      "metadata": {
        "id": "DtiaTO_LyC6p"
      },
      "source": [
        "<div style=\"background-color: #EDF7FF; border-color: #7C9DBF; border-left: 5px solid #7C9DBF; padding: 0.5em;\">\n",
        "<strong>Ejercicio (1.75 puntos):</strong> Implementa una función que evalúe distintos modelos combinando las siguientes características:\n",
        "<ul>    \n",
        "   <li>Tres arquitecturas diferentes con las siguientes configuraciones de número de capas ocultas (completamente conectadas) y número de neuronas en cada capa:</li>\n",
        "        <ul>\n",
        "        <li>[128, 64, 16]</li>\n",
        "        <li>[16, 4]</li>\n",
        "        <li>[4, 4]</li>\n",
        "        </ul> \n",
        "   <li>Tamaño del batch de 16 y 32</li>\n",
        "   <li>Épocas de 20, 50 y 100</li>\n",
        "</ul>   \n",
        "    \n",
        "    \n",
        "Como en el ejercicio anterior, la primera capa oculta tendrá siempre activación ReLU y las demás activación tangencial. El inicializador de kernel estará en modo 'normal' y usaremos el optimizador Adam.\n",
        "\n",
        "    \n",
        "La función deberá proporcionar una tabla con los siguientes campos: arquitectura de la red seleccionada, épocas, tamaño del batch, tiempo de entrenamiento, y raíz del error cuadrático medio (RMSE) del modelo \n",
        "\n",
        "-----------------------------------------------------------------------------------------------------------\n",
        "<b>Importante</b>: para la entrega de la PEC, fijar el parámetro <code>verbose = 0</code> en el entrenamiento de los modelos. La solución únicamente debe mostrar la tabla resultante.\n",
        "</div>"
      ]
    },
    {
      "cell_type": "code",
      "execution_count": null,
      "metadata": {
        "id": "2KkKLxm6dyyE"
      },
      "outputs": [],
      "source": [
        "#Hiperparameter search function\n"
      ]
    },
    {
      "cell_type": "code",
      "execution_count": null,
      "metadata": {
        "id": "Mb0zgnA4eTr1"
      },
      "outputs": [],
      "source": [
        "#Compute search\n"
      ]
    },
    {
      "cell_type": "markdown",
      "metadata": {
        "id": "rqrm7yA24NnA"
      },
      "source": [
        "<div style=\"background-color: #EDF7FF; border-color: #7C9DBF; border-left: 5px solid #7C9DBF; padding: 0.5em;\">\n",
        "<strong>Ejercicio (0.25 puntos):</strong> Representa en un gráfico el RMSE vs la configuración de los modelos \n",
        "\n",
        "</div>"
      ]
    },
    {
      "cell_type": "code",
      "execution_count": null,
      "metadata": {
        "id": "o2P1ljcIzmEY"
      },
      "outputs": [],
      "source": [
        "#Plot\n"
      ]
    },
    {
      "cell_type": "markdown",
      "metadata": {
        "id": "t4N_tg0l6QKu"
      },
      "source": [
        "### Elección mejor modelo y predicción"
      ]
    },
    {
      "cell_type": "markdown",
      "metadata": {
        "id": "AEZsFSi34t-9"
      },
      "source": [
        "<div style=\"background-color: #EDF7FF; border-color: #7C9DBF; border-left: 5px solid #7C9DBF; padding: 0.5em;\">\n",
        "<strong>Ejercicio (1 punto):</strong> Identifica la configuración que proporciona mejores resultados:\n",
        "<ul> \n",
        "<li>Justifica la elección del modelo</li>\n",
        "<li>Compila y entrena el modelo elegido. Nota: para la entrega, presentar con verbose=0</li>\n",
        "<li>Muestra la correspondiente gráfica de pérdida de los conjuntos de entrenamiento y validación</li>\n",
        "<li>Calcula las predicciones del precio y muestra en una tabla el Precio original (<code>price</code>) y el Precio predicho (<code>predicted_price</code>) para las 10 primeras filas del conjunto de test</li>\n",
        "<li>Comenta los resultados obtenidos</li>\n",
        "</ul> \n",
        "</div>"
      ]
    },
    {
      "cell_type": "code",
      "execution_count": null,
      "metadata": {
        "id": "yTfD3bP25nlO"
      },
      "outputs": [],
      "source": [
        "#Best configuration justification\n"
      ]
    },
    {
      "cell_type": "code",
      "execution_count": null,
      "metadata": {
        "id": "HX-ArM1vFNhX"
      },
      "outputs": [],
      "source": [
        "#Create, compile and fit ANN best model\n"
      ]
    },
    {
      "cell_type": "code",
      "execution_count": null,
      "metadata": {
        "id": "NuBBa_vgk7Ci"
      },
      "outputs": [],
      "source": [
        "#Plot\n"
      ]
    },
    {
      "cell_type": "code",
      "execution_count": null,
      "metadata": {
        "id": "ID7eKLDdF0P4"
      },
      "outputs": [],
      "source": [
        "#Generate Predictions on testing data\n"
      ]
    },
    {
      "cell_type": "code",
      "execution_count": null,
      "metadata": {
        "id": "7gqSXyS8511-"
      },
      "outputs": [],
      "source": [
        "#Comment results\n"
      ]
    }
  ],
  "metadata": {
    "colab": {
      "collapsed_sections": [],
      "name": "UbiernaSanMamesMario_PEC1.ipynb",
      "provenance": [],
      "toc_visible": true
    },
    "kernelspec": {
      "display_name": "Python 3 (ipykernel)",
      "language": "python",
      "name": "python3"
    },
    "language_info": {
      "codemirror_mode": {
        "name": "ipython",
        "version": 3
      },
      "file_extension": ".py",
      "mimetype": "text/x-python",
      "name": "python",
      "nbconvert_exporter": "python",
      "pygments_lexer": "ipython3",
      "version": "3.8.2"
    }
  },
  "nbformat": 4,
  "nbformat_minor": 0
}