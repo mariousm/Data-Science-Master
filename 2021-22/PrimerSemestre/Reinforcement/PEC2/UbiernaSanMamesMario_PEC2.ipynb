{
 "cells": [
  {
   "cell_type": "markdown",
   "metadata": {
    "id": "ATAcq7bQyNxe"
   },
   "source": [
    "<div style=\"width: 100%; clear: both;\">\n",
    "<div style=\"float: left; width: 50%;\">\n",
    "<img src=\"http://www.uoc.edu/portal/_resources/common/imatges/marca_UOC/UOC_Masterbrand.jpg\", align=\"left\">\n",
    "</div>\n",
    "<div style=\"float: right; width: 50%;\">\n",
    "<p style=\"margin: 0; padding-top: 22px; text-align:right;\">M2.883 · Aprendizaje por refuerzo</p>\n",
    "<p style=\"margin: 0; text-align:right;\">Máster universitario en Ciencia de datos (<i>Data science</i>)</p>\n",
    "<p style=\"margin: 0; text-align:right; padding-button: 100px;\">Estudios de Informática, Multimedia y Telecomunicación</p>\n",
    "</div>\n",
    "</div>\n",
    "<div style=\"width:100%;\">&nbsp;</div>\n",
    "\n",
    "\n",
    "# PEC2: Deep Reinforcement Learning\n",
    " \n",
    "\n",
    "En esta práctica se implementarán tres modelos de DRL en un mismo entorno, con el objetivo de analizar distintas formas de aprendizaje de un agente y estudiar su rendimiento. El agente será entrenado con los métodos:\n",
    "\n",
    "<ol>\n",
    "    <li>DQN</li>\n",
    "    <li>Double DQN (DDQN)</li>\n",
    "    <li>REINFORCE con línea de base</li>\n",
    "    <li>REINFORCE con reward modificado </li>\n",
    " </ol>\n",
    " \n",
    "Finalmente, crearemos un entorno de cero y lo resolveremos.\n",
    " \n",
    " \n",
    "**Importante: La entrega debe hacerse en formato notebook y en formato html donde se vea el código y los resultados y comentarios de cada ejercicio. Para exportar el notebook a html puede hacerse desde el menú File  →  Download as  →  HTML.**"
   ]
  },
  {
   "cell_type": "markdown",
   "metadata": {},
   "source": [
    "# Autor: Mario Ubierna San Mamés"
   ]
  },
  {
   "cell_type": "markdown",
   "metadata": {
    "id": "VZXQSvJSyNxk"
   },
   "source": [
    "## 0. Contexto"
   ]
  },
  {
   "cell_type": "markdown",
   "metadata": {
    "id": "Zan-tCv_zJXF"
   },
   "source": [
    "**Mountain Car** consiste en un coche situado en un valle. El coche tiene muy poca potencia y sólo con su motor no es capaz de salir del valle porque la gravedad es más fuerte. Para ello, el agente debe conseguir impulsar el coche, ya sea acelerando hacia adelante o hacia atrás a la velocidad más adecuada para poder  llegar a la cima de la montaña y salir del valle."
   ]
  },
  {
   "cell_type": "markdown",
   "metadata": {
    "id": "9JMd-EGKzJXF"
   },
   "source": [
    "Las acciones que puede realizar el coche son las siguientes:\n",
    "<ul>\n",
    "    <li>0 : Acelerar hacia a la izquierda</li>\n",
    "    <li>1 : No usar el motor</li>\n",
    "    <li>2 : Acelerar hacia la derecha</li>\n",
    "</ul>"
   ]
  },
  {
   "cell_type": "markdown",
   "metadata": {},
   "source": [
    "![title](mountainCar.jpg)"
   ]
  },
  {
   "cell_type": "markdown",
   "metadata": {
    "id": "r9Z1HGctzJXG"
   },
   "source": [
    "El agente recibirá una recompensa (penalización) de -1 cada vez que no consiga llegar a la posición objetivo.\n",
    "\n",
    "Para más detalles sobre la definición del entorno de MountainCar, se recomienda consultar el código fuente: https://github.com/openai/gym/blob/master/gym/envs/classic_control/mountain_car.py"
   ]
  },
  {
   "cell_type": "markdown",
   "metadata": {
    "id": "DUsJh2LMzJXG"
   },
   "source": [
    "Cada episodio termina cuando el coche ha llegado al punto objetivo o si se han realizado 200 pasos. La solución óptima es aquella en la que el agente, con un desplazamiento eficiente, consigue llegar a la cima en el menor número de pasos posible."
   ]
  },
  {
   "cell_type": "markdown",
   "metadata": {
    "id": "wMMw53RSzJXH"
   },
   "source": [
    "<!-- Sure, in the second solution, I modified the reward function so that the agent received a reward based on its position. If the agent failed an episode by not getting to the top of the hill but got further to the right from the previous episode it still learns that going right is better even though it ultimately failed the task. Without this reinforcement, the agent has to reach the top of the hill by random chance before receiving a reward signal that causes it to modify its behavior in future episodes. -->"
   ]
  },
  {
   "cell_type": "markdown",
   "metadata": {
    "id": "QTgKXBHJyNxo"
   },
   "source": [
    "## 1. Inicialización y exploración del entorno (0.5 ptos)"
   ]
  },
  {
   "cell_type": "markdown",
   "metadata": {
    "id": "w8FuAhvNyNxp"
   },
   "source": [
    "Empezaremos cargando las principales librerías necesarias para la práctica:"
   ]
  },
  {
   "cell_type": "code",
   "execution_count": 1,
   "metadata": {
    "id": "arbFPOZ4yNxp"
   },
   "outputs": [],
   "source": [
    "import gym\n",
    "import matplotlib.pyplot as plt\n",
    "%matplotlib inline\n",
    "import torch\n",
    "import numpy as np\n",
    "import time"
   ]
  },
  {
   "cell_type": "markdown",
   "metadata": {
    "id": "hLoPqSUfyNxs"
   },
   "source": [
    "<div style=\"background-color: #grey; border-color: #7C9DBF; border-left: 5px solid #7C9DBF; padding: 0.5em;\">\n",
    "<strong>Ejercicio (0.1 ptos):</strong> Inicializar el entorno 'MountainCar-v0'. Extraer:\n",
    "    \n",
    "   <ul>\n",
    "        <li>Valor del umbral de recompensa definido en el entorno</li>\n",
    "        <li>Máximo de pasos establecidos por cada episodio</li>\n",
    "        <li>Dimensión del espacio de acciones</li>\n",
    "        <li>Espacio de estados</li>\n",
    "        <li>Dimensión del espacio de estados</li>\n",
    "        <li>Valores mínimos permitidos de posición y velocidad</li>\n",
    "       <li>Valores máximos permitidos de posición y velocidad</li>\n",
    "</ul>\n",
    "</div>"
   ]
  },
  {
   "cell_type": "code",
   "execution_count": 2,
   "metadata": {},
   "outputs": [],
   "source": [
    "env = gym.make('MountainCar-v0')"
   ]
  },
  {
   "cell_type": "code",
   "execution_count": 3,
   "metadata": {},
   "outputs": [
    {
     "name": "stdout",
     "output_type": "stream",
     "text": [
      "El valor del umbral de recompensa es: -110.0\n",
      "El máximo número de pasos por episodio es: 200\n",
      "La dimensión del espacio de acciones es: 3\n",
      "El espacio de estados es: Box([-1.2  -0.07], [0.6  0.07], (2,), float32)\n",
      "La dimensión del espacio de estados: 2\n",
      "El valor mínimo de posición: -1.2\n",
      "El valor mínimo de velocidad: -0.07\n",
      "El valor máximo de posición: 0.6\n",
      "El valor máximo de velocidad: 0.07\n"
     ]
    }
   ],
   "source": [
    "print(\"El valor del umbral de recompensa es: {}\".format(env.spec.reward_threshold))\n",
    "print(\"El máximo número de pasos por episodio es: {}\".format(env.spec.max_episode_steps))\n",
    "print(\"La dimensión del espacio de acciones es: {}\".format(env.action_space.n))\n",
    "print(\"El espacio de estados es: {}\".format(env.observation_space))\n",
    "print(\"La dimensión del espacio de estados: {}\".format(env.observation_space.shape[0]))\n",
    "print(\"El valor mínimo de posición: {}\".format(env.env.min_position))\n",
    "print(\"El valor mínimo de velocidad: {}\".format(-env.env.max_speed))\n",
    "print(\"El valor máximo de posición: {}\".format(env.env.max_position))\n",
    "print(\"El valor máximo de velocidad: {}\".format(env.env.max_speed))"
   ]
  },
  {
   "cell_type": "markdown",
   "metadata": {
    "id": "B4XpV-t2yNxy"
   },
   "source": [
    "<div style=\"background-color: #grey; border-color: #7C9DBF; border-left: 5px solid #7C9DBF; padding: 0.5em;\">\n",
    "<strong>Ejercicio (0.2 ptos):</strong> Mostrar la representación vectorial de cada observación del entorno junto con la acción aleatoria seleccionada (ej. 'Observation: [..] , Action: Accelerate left'), en un intervalo de 10 episodios de 100 pasos cada uno.\n",
    "    \n",
    "<i>Opcional</i>: visualizar los 10 episodios <code>env.render()</code>, sólo posible en local\n",
    "</div>"
   ]
  },
  {
   "cell_type": "code",
   "execution_count": 4,
   "metadata": {},
   "outputs": [],
   "source": [
    "def translate_action(action):\n",
    "    actions_space = {\n",
    "        0: \"Accelerate left\",\n",
    "        1: \"No accelerating\",\n",
    "        2: \"Accelerate right\"\n",
    "    }\n",
    "    return actions_space[action]"
   ]
  },
  {
   "cell_type": "code",
   "execution_count": 5,
   "metadata": {},
   "outputs": [
    {
     "name": "stdout",
     "output_type": "stream",
     "text": [
      "***********\n",
      "Episode: 1\n",
      "***********\n",
      "[-0.53088504  0.        ] -> Accelerate left\n",
      "[-0.5318304  -0.00094536] -> No accelerating\n",
      "[-0.532714   -0.00088363] -> No accelerating\n",
      "[-0.5335293  -0.00081527] -> Accelerate right\n",
      "[-5.3327006e-01  2.5919673e-04] -> Accelerate right\n",
      "[-0.5319384   0.00133172] -> Accelerate right\n",
      "[-0.5295441   0.00239426] -> Accelerate right\n",
      "[-0.5261052   0.00343885] -> No accelerating\n",
      "[-0.5226476   0.00345765] -> Accelerate left\n",
      "[-0.5201971   0.00245051] -> No accelerating\n",
      "[-0.5177721  0.002425 ] -> No accelerating\n",
      "[-0.51539075  0.0023813 ] -> Accelerate right\n",
      "[-0.512071    0.00331975] -> Accelerate right\n",
      "[-0.5078377   0.00423331] -> Accelerate left\n",
      "[-0.5047226   0.00311515] -> No accelerating\n",
      "[-0.5017489   0.00297365] -> Accelerate right\n",
      "[-0.49793905  0.00380989] -> Accelerate right\n",
      "[-0.4933214   0.00461763] -> Accelerate left\n",
      "[-0.48993054  0.00339087] -> Accelerate left\n",
      "[-0.48779175  0.00213878] -> No accelerating\n",
      "[-0.485921    0.00187075] -> Accelerate left\n",
      "[-0.48533225  0.00058877] -> Accelerate right\n",
      "[-0.48402983  0.0013024 ] -> Accelerate right\n",
      "[-0.4820235   0.00200633] -> Accelerate right\n",
      "[-0.4793282   0.00269532] -> Accelerate right\n",
      "[-0.47596392  0.00336427] -> Accelerate left\n",
      "[-0.47395572  0.00200822] -> No accelerating\n",
      "[-0.47231844  0.00163727] -> Accelerate left\n",
      "[-4.7206426e-01  2.5418325e-04] -> No accelerating\n",
      "[-4.7219506e-01 -1.3078774e-04] -> Accelerate right\n",
      "[-0.47170985  0.00048521] -> Accelerate right\n",
      "[-0.47061223  0.00109761] -> No accelerating\n",
      "[-0.46991032  0.00070189] -> Accelerate right\n",
      "[-0.46860936  0.00130096] -> No accelerating\n",
      "[-0.46771896  0.00089041] -> Accelerate right\n",
      "[-0.4662457   0.00147327] -> Accelerate left\n",
      "[-4.6620044e-01  4.5241421e-05] -> No accelerating\n",
      "[-4.6658358e-01 -3.8312175e-04] -> Accelerate right\n",
      "[-4.6639222e-01  1.9134631e-04] -> No accelerating\n",
      "[-4.6662784e-01 -2.3559973e-04] -> Accelerate right\n",
      "[-4.6628863e-01  3.3919537e-04] -> Accelerate left\n",
      "[-0.46737716 -0.00108852] -> Accelerate right\n",
      "[-0.46788535 -0.00050818] -> Accelerate right\n",
      "[-4.678094e-01  7.590997e-05] -> Accelerate left\n",
      "[-0.46914998 -0.00134056] -> Accelerate right\n",
      "[-0.4698971  -0.00074711] -> Accelerate right\n",
      "[-4.7004524e-01 -1.4813441e-04] -> Accelerate right\n",
      "[-4.6959329e-01  4.5193965e-04] -> Accelerate left\n",
      "[-0.4705446  -0.00095133] -> No accelerating\n",
      "[-0.47189218 -0.00134756] -> Accelerate left\n",
      "[-0.47462597 -0.00273381] -> No accelerating\n",
      "[-0.47772577 -0.00309978] -> No accelerating\n",
      "[-0.4811685  -0.00344274] -> No accelerating\n",
      "[-0.48492864 -0.00376011] -> Accelerate left\n",
      "[-0.4899781  -0.00504949] -> Accelerate right\n",
      "[-0.49427933 -0.00430122] -> No accelerating\n",
      "[-0.49880016 -0.00452083] -> Accelerate left\n",
      "[-0.5045068  -0.00570665] -> Accelerate left\n",
      "[-0.5113566  -0.00684976] -> No accelerating\n",
      "[-0.51829815 -0.00694155] -> No accelerating\n",
      "[-0.5252794  -0.00698131] -> Accelerate left\n",
      "[-0.5332481 -0.0079687] -> Accelerate left\n",
      "[-0.5421445  -0.00889634] -> No accelerating\n",
      "[-0.5509018  -0.00875732] -> Accelerate right\n",
      "[-0.5584546  -0.00755278] -> No accelerating\n",
      "[-0.5657464  -0.00729184] -> Accelerate left\n",
      "[-0.57372296 -0.00797657] -> Accelerate left\n",
      "[-0.58232504 -0.00860205] -> No accelerating\n",
      "[-0.5904889  -0.00816388] -> Accelerate right\n",
      "[-0.5971545  -0.00666557] -> Accelerate left\n",
      "[-0.60427284 -0.00711836] -> Accelerate left\n",
      "[-0.611792  -0.0075192] -> Accelerate left\n",
      "[-0.61965746 -0.00786544] -> No accelerating\n",
      "[-0.6268124  -0.00715493] -> Accelerate left\n",
      "[-0.6342056  -0.00739314] -> No accelerating\n",
      "[-0.64078426 -0.00657873] -> Accelerate left\n",
      "[-0.6475021  -0.00671783] -> Accelerate left\n",
      "[-0.6543119 -0.0068098] -> Accelerate left\n",
      "[-0.6611663  -0.00685439] -> No accelerating\n",
      "[-0.667018   -0.00585167] -> Accelerate right\n",
      "[-0.67082685 -0.00380891] -> Accelerate left\n",
      "[-0.6745671  -0.00374025] -> Accelerate left\n",
      "[-0.6782134 -0.0036463] -> Accelerate right\n",
      "[-0.67974126 -0.00152783] -> No accelerating\n",
      "[-6.8014038e-01 -3.9912187e-04] -> Accelerate right\n",
      "[-0.67840815  0.00173226] -> No accelerating\n",
      "[-0.6755561   0.00285204] -> Accelerate left\n",
      "[-0.6726034   0.00295265] -> Accelerate right\n",
      "[-0.6675701   0.00503334] -> Accelerate right\n",
      "[-0.6604903   0.00707986] -> No accelerating\n",
      "[-0.6524123   0.00807793] -> Accelerate right\n",
      "[-0.64239216  0.01002017] -> Accelerate left\n",
      "[-0.63249975  0.00989238] -> No accelerating\n",
      "[-0.6218051   0.01069468] -> Accelerate right\n",
      "[-0.6093845   0.01242062] -> Accelerate right\n",
      "[-0.59532756  0.01405693] -> Accelerate left\n",
      "[-0.5817368   0.01359076] -> No accelerating\n",
      "[-0.5677122   0.01402458] -> Accelerate right\n",
      "[-0.55235773  0.01535447] -> No accelerating\n",
      "[-0.5367878  0.0155699] -> No accelerating\n",
      "***********\n",
      "Episode: 2\n",
      "***********\n",
      "[-0.5464528  0.       ] -> Accelerate right\n",
      "[-0.5452815   0.00117127] -> Accelerate right\n",
      "[-0.54294777  0.00233378] -> No accelerating\n",
      "[-0.54046893  0.00247881] -> Accelerate right\n",
      "[-0.5368637   0.00360529] -> Accelerate right\n",
      "[-0.5321589   0.00470475] -> No accelerating\n",
      "[-0.52739     0.00476894] -> No accelerating\n",
      "[-0.5225926   0.00479737] -> No accelerating\n",
      "[-0.5178028   0.00478983] -> Accelerate right\n",
      "[-0.5120564   0.00574636] -> Accelerate right\n",
      "[-0.5053966   0.00665981] -> Accelerate right\n",
      "[-0.49787325  0.00752336] -> Accelerate left\n",
      "[-0.49154264  0.00633061] -> No accelerating\n",
      "[-0.4854521   0.00609056] -> Accelerate right\n",
      "[-0.478647    0.00680508] -> Accelerate left\n",
      "[-0.47317803  0.00546897] -> Accelerate left\n",
      "[-0.46908578  0.00409225] -> Accelerate left\n",
      "[-0.46640056  0.00268522] -> Accelerate right\n",
      "[-0.46314222  0.00325834] -> Accelerate right\n",
      "[-0.45933482  0.0038074 ] -> Accelerate left\n",
      "[-0.45700642  0.0023284 ] -> Accelerate left\n",
      "[-0.45617417  0.00083227] -> No accelerating\n",
      "[-4.5584413e-01  3.3002655e-04] -> Accelerate right\n",
      "[-0.45501876  0.00082536] -> No accelerating\n",
      "[-4.5470414e-01  3.1462961e-04] -> Accelerate right\n",
      "[-0.45390254  0.00080159] -> Accelerate right\n",
      "[-0.45261988  0.00128267] -> Accelerate left\n",
      "[-4.5286554e-01 -2.4565842e-04] -> Accelerate left\n",
      "[-0.45463774 -0.00177219] -> No accelerating\n",
      "[-0.45692343 -0.00228571] -> Accelerate right\n",
      "[-0.45870587 -0.00178245] -> Accelerate left\n",
      "[-0.46197197 -0.00326608] -> No accelerating\n",
      "[-0.46569762 -0.00372565] -> Accelerate left\n",
      "[-0.47085533 -0.00515773] -> Accelerate left\n",
      "[-0.47740698 -0.00655166] -> Accelerate left\n",
      "[-0.48530397 -0.00789699] -> No accelerating\n",
      "[-0.49348754 -0.00818356] -> Accelerate left\n",
      "[-0.5028966  -0.00940909] -> Accelerate left\n",
      "[-0.5134609  -0.01056426] -> Accelerate right\n",
      "[-0.52310115 -0.00964028] -> Accelerate left\n",
      "[-0.53374517 -0.01064401] -> Accelerate right\n",
      "[-0.5433131  -0.00956793] -> Accelerate left\n",
      "[-0.5537333  -0.01042016] -> Accelerate left\n",
      "[-0.5649277  -0.01119445] -> Accelerate right\n",
      "[-0.574813   -0.00988528] -> Accelerate right\n",
      "[-0.5833157  -0.00850268] -> Accelerate right\n",
      "[-0.59037286 -0.0070572 ] -> No accelerating\n",
      "[-0.59693265 -0.00655974] -> Accelerate right\n",
      "[-0.6019468  -0.00501416] -> Accelerate right\n",
      "[-0.60537875 -0.00343194] -> Accelerate left\n",
      "[-0.60920346 -0.00382473] -> Accelerate left\n",
      "[-0.6133932  -0.00418973] -> No accelerating\n",
      "[-0.61691755 -0.00352438] -> Accelerate right\n",
      "[-0.61875117 -0.0018336 ] -> Accelerate right\n",
      "[-6.1888075e-01 -1.2961027e-04] -> No accelerating\n",
      "[-6.1830544e-01  5.7531282e-04] -> Accelerate right\n",
      "[-0.6160294  0.0022761] -> Accelerate right\n",
      "[-0.6120689   0.00396047] -> Accelerate left\n",
      "[-0.6084527   0.00361624] -> Accelerate left\n",
      "[-0.60520685  0.00324579] -> Accelerate right\n",
      "[-0.6003551   0.00485176] -> Accelerate left\n",
      "[-0.5959328   0.00442235] -> No accelerating\n",
      "[-0.5909721   0.00496061] -> No accelerating\n",
      "[-0.58550966  0.00546248] -> Accelerate left\n",
      "[-0.58058554  0.00492414] -> Accelerate left\n",
      "[-0.57623607  0.00434947] -> Accelerate left\n",
      "[-0.57249343  0.00374261] -> Accelerate left\n",
      "[-0.56938547  0.003108  ] -> No accelerating\n",
      "[-0.56593513  0.00345032] -> Accelerate right\n",
      "[-0.56116813  0.00476699] -> No accelerating\n",
      "[-0.55612     0.00504817] -> Accelerate left\n",
      "[-0.55182827  0.00429169] -> No accelerating\n",
      "[-0.54732513  0.00450316] -> No accelerating\n",
      "[-0.54264414  0.00468096] -> No accelerating\n",
      "[-0.53782046  0.00482372] -> No accelerating\n",
      "[-0.5328901   0.00493035] -> No accelerating\n",
      "[-0.5278901   0.00500002] -> No accelerating\n",
      "[-0.52285784  0.00503221] -> Accelerate left\n",
      "[-0.5188312   0.00402665] -> Accelerate right\n",
      "[-0.5138403  0.0049909] -> No accelerating\n",
      "[-0.5089226   0.00491772] -> Accelerate right\n",
      "[-0.5031149   0.00580768] -> Accelerate left\n",
      "[-0.49846077  0.00465415] -> Accelerate right\n",
      "[-0.49299496  0.00546579] -> Accelerate right\n",
      "[-0.48675838  0.00623659] -> No accelerating\n",
      "[-0.48079753  0.00596085] -> Accelerate left\n",
      "[-0.4761568   0.00464072] -> Accelerate left\n",
      "[-0.4728707  0.0032861] -> Accelerate right\n",
      "[-0.4689636   0.00390711] -> Accelerate left\n",
      "[-0.46646443  0.00249918] -> No accelerating\n",
      "[-0.46439165  0.00207277] -> Accelerate right\n",
      "[-0.4617606   0.00263104] -> No accelerating\n",
      "[-0.4595907   0.00216991] -> No accelerating\n",
      "[-0.4578979  0.0016928] -> Accelerate right\n",
      "[-0.45569468  0.00220322] -> Accelerate left\n",
      "[-0.4549972   0.00069746] -> No accelerating\n",
      "[-4.5481065e-01  1.8657191e-04] -> Accelerate right\n",
      "[-0.45413634  0.00067431] -> Accelerate left\n",
      "[-0.4549792  -0.00084289] -> Accelerate right\n",
      "[-4.5533314e-01 -3.5391041e-04] -> No accelerating\n",
      "***********\n",
      "Episode: 3\n",
      "***********\n",
      "[-0.52319306  0.        ] -> Accelerate left\n",
      "[-0.5241961  -0.00100304] -> Accelerate right\n",
      "[-5.2419466e-01  1.4369161e-06] -> Accelerate left\n",
      "[-0.52518874 -0.00099409] -> Accelerate right\n",
      "[-5.251709e-01  1.783076e-05] -> Accelerate right\n",
      "[-0.5241413   0.00102962] -> Accelerate left\n",
      "[-5.2410764e-01  3.3690685e-05] -> No accelerating\n",
      "[-5.2407008e-01  3.7506907e-05] -> Accelerate right\n",
      "[-0.523029    0.00104104] -> Accelerate right\n",
      "[-0.5209923   0.00203677] -> Accelerate right\n",
      "[-0.5179751   0.00301722] -> Accelerate left\n",
      "[-0.51600003  0.00197504] -> Accelerate right\n",
      "[-0.51308197  0.00291806] -> Accelerate left\n",
      "[-0.51124275  0.0018392 ] -> Accelerate left\n",
      "[-0.5104962   0.00074655] -> Accelerate right\n",
      "[-0.5088479  0.0016483] -> No accelerating\n",
      "[-0.5073102   0.00153771] -> Accelerate right\n",
      "[-0.5048946   0.00241559] -> Accelerate right\n",
      "[-0.5016192   0.00327538] -> Accelerate left\n",
      "[-0.4995086   0.00211066] -> Accelerate right\n",
      "[-0.49657843  0.00293014] -> Accelerate left\n",
      "[-0.49485072  0.00172771] -> Accelerate left\n",
      "[-0.49433836  0.00051236] -> Accelerate left\n",
      "[-0.49504519 -0.00070681] -> No accelerating\n",
      "[-0.49596587 -0.0009207 ] -> Accelerate left\n",
      "[-0.49809358 -0.00212771] -> Accelerate right\n",
      "[-0.4994124  -0.00131881] -> Accelerate left\n",
      "[-0.5019124  -0.00250005] -> Accelerate left\n",
      "[-0.505575   -0.00366258] -> No accelerating\n",
      "[-0.5093727  -0.00379769] -> No accelerating\n",
      "[-0.51327705 -0.00390436] -> Accelerate left\n",
      "[-0.5182588  -0.00498176] -> Accelerate right\n",
      "[-0.52228063 -0.0040218 ] -> Accelerate left\n",
      "[-0.52731234 -0.00503169] -> No accelerating\n",
      "[-0.53231615 -0.00500384] -> No accelerating\n",
      "[-0.53725463 -0.00493847] -> No accelerating\n",
      "[-0.5420907  -0.00483608] -> No accelerating\n",
      "[-0.54678816 -0.00469746] -> Accelerate right\n",
      "[-0.55031186 -0.00352368] -> No accelerating\n",
      "[-0.55363536 -0.00332354] -> No accelerating\n",
      "[-0.55673397 -0.00309857] -> Accelerate left\n",
      "[-0.5605844  -0.00385047] -> Accelerate right\n",
      "[-0.5631581  -0.00257365] -> No accelerating\n",
      "[-0.5654357  -0.00227765] -> Accelerate right\n",
      "[-0.5664004  -0.00096469] -> No accelerating\n",
      "[-0.567045   -0.00064456] -> Accelerate right\n",
      "[-0.5663646   0.00068036] -> No accelerating\n",
      "[-0.56536436  0.00100023] -> Accelerate right\n",
      "[-0.56305176  0.00231265] -> Accelerate right\n",
      "[-0.5594439   0.00360786] -> Accelerate left\n",
      "[-0.5565677   0.00287618] -> No accelerating\n",
      "[-0.5534447   0.00312304] -> Accelerate right\n",
      "[-0.5490981   0.00434659] -> No accelerating\n",
      "[-0.54456043  0.00453764] -> No accelerating\n",
      "[-0.5398657   0.00469475] -> Accelerate left\n",
      "[-0.53604895  0.00381671] -> No accelerating\n",
      "[-0.53213894  0.00391006] -> No accelerating\n",
      "[-0.5281648   0.00397411] -> Accelerate right\n",
      "[-0.52315646  0.00500835] -> Accelerate right\n",
      "[-0.5171514   0.00600503] -> Accelerate right\n",
      "[-0.5101948   0.00695668] -> Accelerate right\n",
      "[-0.5023386   0.00785618] -> Accelerate left\n",
      "[-0.49564174  0.00669683] -> No accelerating\n",
      "[-0.48915434  0.0064874 ] -> Accelerate left\n",
      "[-0.4839248   0.00522953] -> Accelerate left\n",
      "[-0.47999212  0.00393267] -> Accelerate left\n",
      "[-0.47738558  0.00260656] -> No accelerating\n",
      "[-0.4751245   0.00226107] -> Accelerate right\n",
      "[-0.47222573  0.00289879] -> No accelerating\n",
      "[-0.4697107   0.00251502] -> No accelerating\n",
      "[-0.46759808  0.00211261] -> Accelerate left\n",
      "[-0.4669035   0.00069458] -> Accelerate right\n",
      "[-0.46563208  0.00127141] -> No accelerating\n",
      "[-0.46479324  0.00083885] -> No accelerating\n",
      "[-4.6439314e-01  4.0009472e-04] -> No accelerating\n",
      "[-4.6443477e-01 -4.1616411e-05] -> Accelerate right\n",
      "[-0.4639178   0.00051698] -> No accelerating\n",
      "[-4.6384603e-01  7.1759852e-05] -> Accelerate right\n",
      "[-0.46322     0.00062601] -> No accelerating\n",
      "[-4.6304438e-01  1.7564200e-04] -> Accelerate right\n",
      "[-0.4623204   0.00072398] -> Accelerate left\n",
      "[-0.4630534  -0.00073303] -> Accelerate left\n",
      "[-0.46523803 -0.00218462] -> Accelerate right\n",
      "[-0.46685815 -0.0016201 ] -> Accelerate left\n",
      "[-0.46990174 -0.0030436 ] -> No accelerating\n",
      "[-0.47334632 -0.00344459] -> No accelerating\n",
      "[-0.47716638 -0.00382005] -> Accelerate left\n",
      "[-0.48233354 -0.00516717] -> No accelerating\n",
      "[-0.48780942 -0.00547587] -> Accelerate left\n",
      "[-0.4945532  -0.00674378] -> Accelerate right\n",
      "[-0.50051457 -0.00596134] -> Accelerate left\n",
      "[-0.5076489  -0.00713434] -> Accelerate right\n",
      "[-0.5139028  -0.00625391] -> Accelerate left\n",
      "[-0.5212294  -0.00732662] -> No accelerating\n",
      "[-0.5285738  -0.00734439] -> Accelerate left\n",
      "[-0.5368809  -0.00830708] -> Accelerate left\n",
      "[-0.5460884  -0.00920749] -> No accelerating\n",
      "[-0.5551273  -0.00903895] -> Accelerate right\n",
      "[-0.56293017 -0.00780284] -> Accelerate left\n",
      "[-0.5714387  -0.00850854] -> Accelerate right\n",
      "***********\n",
      "Episode: 4\n",
      "***********\n",
      "[-0.41198406  0.        ] -> Accelerate right\n",
      "[-4.1180560e-01  1.7844504e-04] -> Accelerate left\n",
      "[-0.41344997 -0.00164437] -> Accelerate right\n",
      "[-0.41490552 -0.00145554] -> No accelerating\n",
      "[-0.41716188 -0.00225637] -> No accelerating\n",
      "[-0.42020303 -0.00304115] -> Accelerate left\n",
      "[-0.42500728 -0.00480424] -> Accelerate right\n",
      "[-0.42954022 -0.00453294] -> No accelerating\n",
      "[-0.43476927 -0.00522906] -> Accelerate right\n",
      "[-0.4396567  -0.00488742] -> Accelerate left\n",
      "[-0.44616705 -0.00651035] -> Accelerate right\n",
      "[-0.45225292 -0.00608588] -> No accelerating\n",
      "[-0.4588698 -0.0066169] -> Accelerate left\n",
      "[-0.46696916 -0.00809932] -> No accelerating\n",
      "[-0.47549114 -0.008522  ] -> Accelerate left\n",
      "[-0.48537272 -0.00988156] -> Accelerate right\n",
      "[-0.49454033 -0.00916763] -> No accelerating\n",
      "[-0.5039256  -0.00938529] -> Accelerate right\n",
      "[-0.5124584  -0.00853275] -> Accelerate left\n",
      "[-0.52207464 -0.00961629] -> Accelerate left\n",
      "[-0.5327024  -0.01062772] -> Accelerate right\n",
      "[-0.54226184 -0.00955945] -> Accelerate right\n",
      "[-0.5506814  -0.00841955] -> No accelerating\n",
      "[-0.55889803 -0.00821666] -> Accelerate right\n",
      "[-0.56585044 -0.00695241] -> No accelerating\n",
      "[-0.5724868  -0.00663637] -> No accelerating\n",
      "[-0.5787578  -0.00627102] -> Accelerate right\n",
      "[-0.58361703 -0.00485921] -> Accelerate right\n",
      "[-0.58702856 -0.0034115 ] -> No accelerating\n",
      "[-0.5899672  -0.00293864] -> Accelerate right\n",
      "[-0.59141135 -0.00144416] -> Accelerate right\n",
      "[-5.9135044e-01  6.0929466e-05] -> Accelerate left\n",
      "[-5.9178483e-01 -4.3442467e-04] -> No accelerating\n",
      "[-5.9171146e-01  7.3411888e-05] -> No accelerating\n",
      "[-5.9113073e-01  5.8070931e-04] -> No accelerating\n",
      "[-0.590047    0.00108374] -> Accelerate right\n",
      "[-0.5874682   0.00257881] -> No accelerating\n",
      "[-0.5844133  0.0030549] -> No accelerating\n",
      "[-0.5809048   0.00350849] -> Accelerate right\n",
      "[-0.5759686   0.00493617] -> Accelerate right\n",
      "[-0.5696413   0.00632733] -> Accelerate left\n",
      "[-0.56396973  0.00567155] -> Accelerate right\n",
      "[-0.55699617  0.00697359] -> Accelerate right\n",
      "[-0.5487725   0.00822365] -> No accelerating\n",
      "[-0.5403602   0.00841228] -> Accelerate right\n",
      "[-0.5308223   0.00953793] -> Accelerate left\n",
      "[-0.5222302   0.00859211] -> No accelerating\n",
      "[-0.51364833  0.00858184] -> Accelerate right\n",
      "[-0.5041411   0.00950722] -> Accelerate left\n",
      "[-0.49577975  0.00836138] -> Accelerate left\n",
      "[-0.48862678  0.00715298] -> No accelerating\n",
      "[-0.4817356   0.00689117] -> Accelerate left\n",
      "[-0.47615758  0.00557802] -> No accelerating\n",
      "[-0.47093418  0.00522341] -> Accelerate right\n",
      "[-0.4651041   0.00583006] -> Accelerate left\n",
      "[-0.4607105  0.0043936] -> Accelerate left\n",
      "[-0.4577858   0.00292473] -> No accelerating\n",
      "[-0.45535144  0.00243434] -> Accelerate left\n",
      "[-0.4544254   0.00092605] -> Accelerate left\n",
      "[-0.4550144  -0.00058903] -> No accelerating\n",
      "[-0.4561142 -0.0010998] -> Accelerate left\n",
      "[-0.4587167  -0.00260248] -> Accelerate right\n",
      "[-0.46080273 -0.00208603] -> Accelerate left\n",
      "[-0.46435693 -0.00355422] -> Accelerate right\n",
      "[-0.46735314 -0.0029962 ] -> Accelerate right\n",
      "[-0.46976918 -0.00241604] -> Accelerate right\n",
      "[-0.47158718 -0.00181801] -> Accelerate left\n",
      "[-0.4747937  -0.00320651] -> No accelerating\n",
      "[-0.47836494 -0.00357125] -> No accelerating\n",
      "[-0.4822744  -0.00390946] -> No accelerating\n",
      "[-0.486493  -0.0042186] -> No accelerating\n",
      "[-0.49098933 -0.00449632] -> No accelerating\n",
      "[-0.4957298 -0.0047405] -> Accelerate left\n",
      "[-0.50167906 -0.00594927] -> Accelerate left\n",
      "[-0.50879264 -0.00711355] -> Accelerate right\n",
      "[-0.5150172  -0.00622456] -> Accelerate right\n",
      "[-0.5203061  -0.00528892] -> Accelerate right\n",
      "[-0.52461976 -0.00431361] -> No accelerating\n",
      "[-0.52892566 -0.00430595] -> No accelerating\n",
      "[-0.5331917 -0.004266 ] -> Accelerate right\n",
      "[-0.5363858  -0.00319407] -> Accelerate left\n",
      "[-0.54048395 -0.00409819] -> Accelerate left\n",
      "[-0.5454556 -0.0049716] -> Accelerate left\n",
      "[-0.55126333 -0.00580779] -> Accelerate left\n",
      "[-0.5578639  -0.00660055] -> Accelerate left\n",
      "[-0.5652079  -0.00734401] -> Accelerate right\n",
      "[-0.57124066 -0.00603275] -> Accelerate left\n",
      "[-0.57791734 -0.00667666] -> No accelerating\n",
      "[-0.5841884  -0.00627107] -> No accelerating\n",
      "[-0.59000754 -0.00581914] -> No accelerating\n",
      "[-0.5953319  -0.00532437] -> Accelerate right\n",
      "[-0.5991224  -0.00379051] -> No accelerating\n",
      "[-0.6023513  -0.00322892] -> Accelerate right\n",
      "[-0.6039951  -0.00164375] -> Accelerate right\n",
      "[-6.040417e-01 -4.660907e-05] -> Accelerate left\n",
      "[-6.044908e-01 -4.491265e-04] -> No accelerating\n",
      "[-6.0433918e-01  1.5162636e-04] -> No accelerating\n",
      "[-0.6035879   0.00075128] -> Accelerate left\n",
      "[-6.0324246e-01  3.4545260e-04] -> No accelerating\n",
      "[-0.60230535  0.00093711] -> No accelerating\n",
      "***********\n",
      "Episode: 5\n",
      "***********\n",
      "[-0.5840308  0.       ] -> No accelerating\n",
      "[-5.8358008e-01  4.5076146e-04] -> No accelerating\n",
      "[-0.58268183  0.0008982 ] -> Accelerate left\n",
      "[-5.8234286e-01  3.3900360e-04] -> Accelerate left\n",
      "[-5.8256555e-01 -2.2269289e-04] -> Accelerate right\n",
      "[-0.5813483   0.00121725] -> No accelerating\n",
      "[-0.57970005  0.00164821] -> Accelerate right\n",
      "[-0.5766331   0.00306699] -> No accelerating\n",
      "[-0.57317     0.00346307] -> Accelerate right\n",
      "[-0.56833655  0.00483349] -> Accelerate right\n",
      "[-0.56216854  0.00616801] -> Accelerate left\n",
      "[-0.55671185  0.00545664] -> Accelerate left\n",
      "[-0.5520073   0.00470458] -> Accelerate right\n",
      "[-0.5460899   0.00591739] -> Accelerate left\n",
      "[-0.54100394  0.00508594] -> No accelerating\n",
      "[-0.5357875   0.00521642] -> Accelerate right\n",
      "[-0.52947974  0.00630782] -> Accelerate left\n",
      "[-0.5241278   0.00535192] -> Accelerate right\n",
      "[-0.5177719   0.00635589] -> Accelerate right\n",
      "[-0.5104597   0.00731219] -> Accelerate right\n",
      "[-0.5022461   0.00821367] -> Accelerate right\n",
      "[-0.4931924   0.00905364] -> No accelerating\n",
      "[-0.4843665   0.00882591] -> Accelerate right\n",
      "[-0.47483417  0.00953234] -> Accelerate left\n",
      "[-0.46666625  0.00816791] -> Accelerate right\n",
      "[-0.45792326  0.00874299] -> Accelerate right\n",
      "[-0.44866967  0.0092536 ] -> Accelerate left\n",
      "[-0.4409733   0.00769636] -> No accelerating\n",
      "[-0.4338903   0.00708299] -> Accelerate left\n",
      "[-0.42847204  0.00541827] -> No accelerating\n",
      "[-0.42375758  0.00471447] -> Accelerate left\n",
      "[-0.42078078  0.0029768 ] -> Accelerate right\n",
      "[-0.41756293  0.00321784] -> No accelerating\n",
      "[-0.415127    0.00243591] -> Accelerate right\n",
      "[-0.41249037  0.00263666] -> Accelerate right\n",
      "[-0.40967166  0.00281869] -> Accelerate left\n",
      "[-0.4086909   0.00098078] -> Accelerate right\n",
      "[-0.40755495  0.00113593] -> Accelerate right\n",
      "[-0.40627187  0.00128308] -> Accelerate left\n",
      "[-0.4068507  -0.00057881] -> Accelerate right\n",
      "[-0.40728733 -0.00043663] -> Accelerate right\n",
      "[-4.0757871e-01 -2.9137402e-04] -> Accelerate right\n",
      "[-4.0772277e-01 -1.4406147e-04] -> No accelerating\n",
      "[-0.4087185  -0.00099573] -> No accelerating\n",
      "[-0.41055888 -0.00184038] -> Accelerate right\n",
      "[-0.4122309  -0.00167202] -> Accelerate left\n",
      "[-0.41572273 -0.00349183] -> No accelerating\n",
      "[-0.42000958 -0.00428685] -> Accelerate left\n",
      "[-0.42606091 -0.00605132] -> No accelerating\n",
      "[-0.43283337 -0.00677246] -> No accelerating\n",
      "[-0.4402782  -0.00744482] -> Accelerate left\n",
      "[-0.44934142 -0.00906324] -> No accelerating\n",
      "[-0.45895702 -0.00961557] -> Accelerate left\n",
      "[-0.47005436 -0.01109735] -> No accelerating\n",
      "[-0.48155156 -0.01149721] -> Accelerate left\n",
      "[-0.4943633  -0.01281173] -> No accelerating\n",
      "[-0.507394   -0.01303072] -> Accelerate right\n",
      "[-0.5195462 -0.0121522] -> Accelerate right\n",
      "[-0.5307288 -0.0111826] -> Accelerate right\n",
      "[-0.540858   -0.01012913] -> No accelerating\n",
      "[-0.55085766 -0.00999974] -> Accelerate right\n",
      "[-0.5596532  -0.00879553] -> Accelerate right\n",
      "[-0.56717885 -0.00752565] -> No accelerating\n",
      "[-0.5743786  -0.00719972] -> Accelerate right\n",
      "[-0.58019894 -0.00582035] -> Accelerate right\n",
      "[-0.5845968  -0.00439788] -> Accelerate right\n",
      "[-0.5875398  -0.00294295] -> Accelerate right\n",
      "[-0.58900607 -0.00146633] -> Accelerate left\n",
      "[-0.590985   -0.00197891] -> Accelerate right\n",
      "[-5.9146196e-01 -4.7695107e-04] -> No accelerating\n",
      "[-5.9143347e-01  2.8513985e-05] -> No accelerating\n",
      "[-5.9089965e-01  5.3376961e-04] -> Accelerate left\n",
      "[-5.9086454e-01  3.5103909e-05] -> No accelerating\n",
      "[-5.903284e-01  5.361803e-04] -> Accelerate left\n",
      "[-5.9029508e-01  3.3316257e-05] -> Accelerate left\n",
      "[-5.9076488e-01 -4.6979266e-04] -> Accelerate right\n",
      "[-0.5897343   0.00103055] -> Accelerate right\n",
      "[-0.587211    0.00252332] -> No accelerating\n",
      "[-0.5842135   0.00299752] -> Accelerate left\n",
      "[-0.58176386  0.00244963] -> Accelerate left\n",
      "[-0.5798802   0.00188366] -> Accelerate right\n",
      "[-0.5765764   0.00330377] -> No accelerating\n",
      "[-0.572877    0.00369943] -> Accelerate right\n",
      "[-0.56780934  0.00506767] -> Accelerate right\n",
      "[-0.561411    0.00639828] -> Accelerate left\n",
      "[-0.5557298   0.00568126] -> No accelerating\n",
      "[-0.5498079   0.00592187] -> Accelerate right\n",
      "[-0.5426897   0.00711824] -> Accelerate left\n",
      "[-0.53642833  0.00626134] -> No accelerating\n",
      "[-0.5300708   0.00635754] -> Accelerate right\n",
      "[-0.5226647   0.00740608] -> Accelerate right\n",
      "[-0.51426566  0.00839907] -> Accelerate left\n",
      "[-0.50693655  0.00732908] -> Accelerate left\n",
      "[-0.5007324   0.00620417] -> No accelerating\n",
      "[-0.4946996  0.0060328] -> No accelerating\n",
      "[-0.4888833   0.00581633] -> Accelerate left\n",
      "[-0.48432684  0.00455643] -> Accelerate right\n",
      "[-0.47906426  0.00526258] -> Accelerate left\n",
      "[-0.4751347   0.00392956] -> No accelerating\n",
      "[-0.47156736  0.00356736] -> Accelerate right\n",
      "***********\n",
      "Episode: 6\n",
      "***********\n",
      "[-0.55918247  0.        ] -> Accelerate right\n",
      "[-0.5579161   0.00126637] -> No accelerating\n",
      "[-0.5563928  0.0015233] -> Accelerate right\n",
      "[-0.5536239   0.00276886] -> Accelerate right\n",
      "[-0.5496302   0.00399374] -> No accelerating\n",
      "[-0.54544145  0.00418878] -> No accelerating\n",
      "[-0.54108894  0.00435248] -> Accelerate left\n",
      "[-0.53760535  0.0034836 ] -> No accelerating\n",
      "[-0.5340167   0.00358861] -> Accelerate left\n",
      "[-0.53135     0.00266674] -> No accelerating\n",
      "[-0.52862513  0.00272486] -> Accelerate left\n",
      "[-0.52686256  0.00176256] -> No accelerating\n",
      "[-0.52507555  0.00178704] -> Accelerate left\n",
      "[-0.5242774   0.00079811] -> Accelerate left\n",
      "[-5.244742e-01 -1.967957e-04] -> Accelerate left\n",
      "[-0.52566445 -0.00119023] -> No accelerating\n",
      "[-0.5268392  -0.00117474] -> Accelerate left\n",
      "[-0.5289896  -0.00215043] -> No accelerating\n",
      "[-0.5310996  -0.00211001] -> No accelerating\n",
      "[-0.53315336 -0.00205375] -> Accelerate left\n",
      "[-0.5361355 -0.0029821] -> Accelerate right\n",
      "[-0.5380236 -0.0018881] -> Accelerate right\n",
      "[-0.5388035  -0.00077995] -> Accelerate right\n",
      "[-5.3846949e-01  3.3404748e-04] -> Accelerate left\n",
      "[-0.53902394 -0.00055446] -> Accelerate right\n",
      "[-0.53846276  0.00056119] -> Accelerate left\n",
      "[-5.387901e-01 -3.273689e-04] -> Accelerate right\n",
      "[-0.5380036   0.00078653] -> Accelerate right\n",
      "[-0.5361091   0.00189453] -> Accelerate right\n",
      "[-0.53312075  0.00298833] -> Accelerate left\n",
      "[-0.531061    0.00205974] -> No accelerating\n",
      "[-0.52894527  0.0021157 ] -> No accelerating\n",
      "[-0.5267895  0.0021558] -> Accelerate right\n",
      "[-0.52360976  0.00317973] -> Accelerate left\n",
      "[-0.52142996  0.00217981] -> No accelerating\n",
      "[-0.5192664   0.00216354] -> Accelerate left\n",
      "[-0.51813537  0.00113105] -> Accelerate left\n",
      "[-5.1804525e-01  9.0079142e-05] -> Accelerate right\n",
      "[-0.51699686  0.00104843] -> Accelerate right\n",
      "[-0.5149979   0.00199892] -> Accelerate left\n",
      "[-0.51406354  0.00093442] -> No accelerating\n",
      "[-0.5132006   0.00086291] -> No accelerating\n",
      "[-0.51241565  0.00078494] -> Accelerate right\n",
      "[-0.5107146   0.00170108] -> Accelerate right\n",
      "[-0.5081101   0.00260448] -> No accelerating\n",
      "[-0.50562173  0.00248835] -> Accelerate left\n",
      "[-0.50426817  0.00135359] -> Accelerate left\n",
      "[-5.0405943e-01  2.0869155e-04] -> Accelerate left\n",
      "[-0.50499725 -0.00093777] -> Accelerate right\n",
      "[-5.0507444e-01 -7.7208620e-05] -> Accelerate left\n",
      "[-0.5062905  -0.00121607] -> Accelerate right\n",
      "[-5.0663632e-01 -3.4582336e-04] -> No accelerating\n",
      "[-5.0710934e-01 -4.7298678e-04] -> Accelerate right\n",
      "[-5.0670594e-01  4.0339271e-04] -> Accelerate left\n",
      "[-0.5074292  -0.00072325] -> Accelerate right\n",
      "[-5.0727367e-01  1.5552608e-04] -> No accelerating\n",
      "[-5.0724053e-01  3.3136570e-05] -> No accelerating\n",
      "[-5.0733000e-01 -8.9501176e-05] -> Accelerate left\n",
      "[-0.50854146 -0.00121147] -> No accelerating\n",
      "[-0.5098658  -0.00132436] -> No accelerating\n",
      "[-0.5112932  -0.00142733] -> Accelerate right\n",
      "[-0.51181275 -0.0005196 ] -> No accelerating\n",
      "[-0.5124207  -0.00060798] -> No accelerating\n",
      "[-0.51311255 -0.00069179] -> Accelerate right\n",
      "[-5.1288295e-01  2.2957126e-04] -> Accelerate left\n",
      "[-0.51373374 -0.00085078] -> No accelerating\n",
      "[-0.5146585  -0.00092476] -> Accelerate right\n",
      "[-5.146503e-01  8.195678e-06] -> Accelerate right\n",
      "[-0.51370925  0.00094109] -> Accelerate left\n",
      "[-5.1384228e-01 -1.3307048e-04] -> No accelerating\n",
      "[-5.1404852e-01 -2.0623364e-04] -> Accelerate left\n",
      "[-0.5153264  -0.00127785] -> Accelerate right\n",
      "[-5.1566625e-01 -3.3988731e-04] -> No accelerating\n",
      "[-5.1606566e-01 -3.9937551e-04] -> No accelerating\n",
      "[-5.1652151e-01 -4.5586922e-04] -> Accelerate left\n",
      "[-0.51803046 -0.00150894] -> No accelerating\n",
      "[-0.51958114 -0.00155071] -> Accelerate right\n",
      "[-0.520162   -0.00058084] -> Accelerate left\n",
      "[-0.5217686  -0.00160661] -> No accelerating\n",
      "[-0.5233889  -0.00162034] -> Accelerate right\n",
      "[-0.52401084 -0.00062191] -> Accelerate left\n",
      "[-0.5256297  -0.00161882] -> No accelerating\n",
      "[-0.52723324 -0.00160359] -> Accelerate left\n",
      "[-0.5298096  -0.00257633] -> Accelerate right\n",
      "[-0.53133935 -0.00152975] -> No accelerating\n",
      "[-0.53281105 -0.0014717 ] -> No accelerating\n",
      "[-0.53421366 -0.00140262] -> Accelerate left\n",
      "[-0.5365367  -0.00232302] -> Accelerate left\n",
      "[-0.53976274 -0.00322601] -> Accelerate right\n",
      "[-0.54186755 -0.00210483] -> No accelerating\n",
      "[-0.5438354  -0.00196788] -> Accelerate right\n",
      "[-0.5446516 -0.0008162] -> Accelerate right\n",
      "[-5.4431003e-01  3.4159026e-04] -> Accelerate right\n",
      "[-0.5428132   0.00149682] -> Accelerate right\n",
      "[-0.54017234  0.00264085] -> Accelerate right\n",
      "[-0.53640723  0.0037651 ] -> Accelerate left\n",
      "[-0.5335461   0.00286114] -> Accelerate left\n"
     ]
    },
    {
     "name": "stdout",
     "output_type": "stream",
     "text": [
      "[-0.53161037  0.00193574] -> Accelerate right\n",
      "[-0.5286146   0.00299582] -> Accelerate right\n",
      "[-0.52458113  0.00403344] -> Accelerate left\n",
      "***********\n",
      "Episode: 7\n",
      "***********\n",
      "[-0.55176204  0.        ] -> Accelerate left\n",
      "[-0.5525511  -0.00078903] -> Accelerate left\n",
      "[-0.5541232  -0.00157216] -> Accelerate left\n",
      "[-0.55646676 -0.00234354] -> Accelerate left\n",
      "[-0.55956423 -0.00309743] -> Accelerate left\n",
      "[-0.5633924  -0.00382822] -> Accelerate left\n",
      "[-0.5679229  -0.00453047] -> Accelerate left\n",
      "[-0.5731219  -0.00519902] -> Accelerate right\n",
      "[-0.5769509  -0.00382896] -> No accelerating\n",
      "[-0.5803814  -0.00343053] -> No accelerating\n",
      "[-0.5833881  -0.00300671] -> Accelerate right\n",
      "[-0.58494884 -0.00156069] -> Accelerate left\n",
      "[-0.587052   -0.00210316] -> No accelerating\n",
      "[-0.5886821  -0.00163013] -> Accelerate right\n",
      "[-5.888272e-01 -1.451020e-04] -> No accelerating\n",
      "[-5.8848619e-01  3.4099497e-04] -> Accelerate left\n",
      "[-5.8866161e-01 -1.7541695e-04] -> No accelerating\n",
      "[-5.8835214e-01  3.0946184e-04] -> Accelerate right\n",
      "[-0.58656013  0.00179206] -> Accelerate left\n",
      "[-0.58529866  0.00126147] -> Accelerate right\n",
      "[-0.58257705  0.00272158] -> Accelerate right\n",
      "[-0.57841545  0.00416161] -> Accelerate left\n",
      "[-0.57484454  0.00357089] -> Accelerate left\n",
      "[-0.57189083  0.00295372] -> No accelerating\n",
      "[-0.56857616  0.00331464] -> No accelerating\n",
      "[-0.56492525  0.00365095] -> No accelerating\n",
      "[-0.5609651   0.00396011] -> Accelerate left\n",
      "[-0.55772537  0.00323977] -> Accelerate left\n",
      "[-0.5552301   0.00249527] -> Accelerate right\n",
      "[-0.55149794  0.00373215] -> Accelerate right\n",
      "[-0.5465568   0.00494115] -> Accelerate left\n",
      "[-0.5424436  0.0041132] -> Accelerate right\n",
      "[-0.5371891   0.00525446] -> Accelerate right\n",
      "[-0.53083277  0.00635636] -> No accelerating\n",
      "[-0.52442217  0.00641061] -> No accelerating\n",
      "[-0.5180054   0.00641678] -> Accelerate left\n",
      "[-0.5126305   0.00537484] -> No accelerating\n",
      "[-0.5073379   0.00529259] -> No accelerating\n",
      "[-0.5021673   0.00517068] -> Accelerate right\n",
      "[-0.4961572   0.00601006] -> Accelerate left\n",
      "[-0.49135274  0.00480448] -> Accelerate right\n",
      "[-0.48578972  0.00556301] -> Accelerate left\n",
      "[-0.4815097   0.00428005] -> Accelerate right\n",
      "[-0.47654447  0.00496522] -> No accelerating\n",
      "[-0.47193098  0.00461348] -> Accelerate right\n",
      "[-0.46670344  0.00522752] -> No accelerating\n",
      "[-0.4619006   0.00480288] -> Accelerate left\n",
      "[-0.4585578   0.00334278] -> Accelerate left\n",
      "[-0.45669973  0.00185806] -> No accelerating\n",
      "[-0.45534006  0.00135968] -> Accelerate right\n",
      "[-0.45348877  0.00185131] -> Accelerate right\n",
      "[-0.45115942  0.00232935] -> Accelerate left\n",
      "[-0.4503691   0.00079032] -> Accelerate right\n",
      "[-0.44912356  0.00124551] -> Accelerate left\n",
      "[-4.494320e-01 -3.084205e-04] -> No accelerating\n",
      "[-0.45029208 -0.00086009] -> Accelerate right\n",
      "[-4.5069757e-01 -4.0547212e-04] -> No accelerating\n",
      "[-0.45164543 -0.00094788] -> Accelerate left\n",
      "[-0.4541288  -0.00248335] -> Accelerate right\n",
      "[-0.4561294  -0.00200061] -> No accelerating\n",
      "[-0.4586326  -0.00250319] -> No accelerating\n",
      "[-0.46161994 -0.00298735] -> Accelerate left\n",
      "[-0.46606946 -0.00444952] -> Accelerate right\n",
      "[-0.46994832 -0.00387885] -> Accelerate left\n",
      "[-0.4752278  -0.00527949] -> Accelerate left\n",
      "[-0.4818688  -0.00664101] -> Accelerate right\n",
      "[-0.48782197 -0.00595316] -> Accelerate right\n",
      "[-0.49304295 -0.00522097] -> No accelerating\n",
      "[-0.49849278 -0.00544982] -> Accelerate right\n",
      "[-0.50313073 -0.00463794] -> Accelerate right\n",
      "[-0.50692207 -0.00379135] -> Accelerate right\n",
      "[-0.50983846 -0.00291638] -> Accelerate left\n",
      "[-0.513858   -0.00401955] -> Accelerate left\n",
      "[-0.5189506  -0.00509259] -> Accelerate left\n",
      "[-0.52507806 -0.00612746] -> Accelerate left\n",
      "[-0.5321944  -0.00711636] -> Accelerate right\n",
      "[-0.5382463 -0.0060519] -> Accelerate right\n",
      "[-0.5431884  -0.00494208] -> No accelerating\n",
      "[-0.54798365 -0.00479524] -> No accelerating\n",
      "[-0.55259615 -0.00461252] -> No accelerating\n",
      "[-0.55699146 -0.00439531] -> Accelerate right\n",
      "[-0.56013674 -0.00314529] -> Accelerate right\n",
      "[-0.56200856 -0.0018718 ] -> No accelerating\n",
      "[-0.5635929  -0.00158436] -> No accelerating\n",
      "[-0.56487805 -0.00128513] -> No accelerating\n",
      "[-0.5658544  -0.00097632] -> No accelerating\n",
      "[-0.5665146  -0.00066025] -> Accelerate left\n",
      "[-0.56785387 -0.00133927] -> Accelerate right\n",
      "[-5.678622e-01 -8.335171e-06] -> No accelerating\n",
      "[-5.6753957e-01  3.2266587e-04] -> No accelerating\n",
      "[-0.5668883   0.00065127] -> No accelerating\n",
      "[-0.56591326  0.00097503] -> Accelerate left\n",
      "[-5.6562173e-01  2.9153447e-04] -> Accelerate right\n",
      "[-0.56401587  0.00160587] -> Accelerate right\n",
      "[-0.5611076   0.00290826] -> No accelerating\n",
      "[-0.5579186   0.00318898] -> Accelerate right\n",
      "[-0.5534727   0.00444593] -> No accelerating\n",
      "[-0.54880303  0.00466968] -> Accelerate right\n",
      "[-0.5429445   0.00585853] -> Accelerate left\n",
      "[-0.5379409   0.00500354] -> No accelerating\n",
      "***********\n",
      "Episode: 8\n",
      "***********\n",
      "[-0.43693447  0.        ] -> No accelerating\n",
      "[-0.43757716 -0.00064268] -> Accelerate right\n",
      "[-4.3785787e-01 -2.8070898e-04] -> No accelerating\n",
      "[-0.4387746 -0.0009167] -> Accelerate right\n",
      "[-0.43932062 -0.00054604] -> No accelerating\n",
      "[-0.44049203 -0.00117141] -> Accelerate right\n",
      "[-0.4412803  -0.00078827] -> Accelerate right\n",
      "[-4.4167969e-01 -3.9940438e-04] -> No accelerating\n",
      "[-0.44268733 -0.00100763] -> Accelerate right\n",
      "[-0.44329587 -0.00060853] -> No accelerating\n",
      "[-0.44450083 -0.00120499] -> No accelerating\n",
      "[-0.4462935  -0.00179267] -> No accelerating\n",
      "[-0.4486608  -0.00236728] -> Accelerate right\n",
      "[-0.4505854  -0.00192459] -> Accelerate right\n",
      "[-0.45205322 -0.00146782] -> No accelerating\n",
      "[-0.45405352 -0.0020003 ] -> Accelerate right\n",
      "[-0.45557162 -0.00151812] -> Accelerate left\n",
      "[-0.4585964  -0.00302479] -> Accelerate right\n",
      "[-0.46110564 -0.00250922] -> Accelerate left\n",
      "[-0.4650808  -0.00397518] -> No accelerating\n",
      "[-0.4694926  -0.00441181] -> No accelerating\n",
      "[-0.47430846 -0.00481583] -> Accelerate left\n",
      "[-0.48049262 -0.00618416] -> No accelerating\n",
      "[-0.48699915 -0.00650656] -> Accelerate left\n",
      "[-0.49477968 -0.0077805 ] -> No accelerating\n",
      "[-0.502776   -0.00799638] -> Accelerate right\n",
      "[-0.50992846 -0.00715244] -> Accelerate right\n",
      "[-0.51618344 -0.00625494] -> Accelerate right\n",
      "[-0.521494   -0.00531055] -> No accelerating\n",
      "[-0.5268203  -0.00532634] -> Accelerate left\n",
      "[-0.5331225  -0.00630218] -> Accelerate left\n",
      "[-0.54035324 -0.00723076] -> Accelerate right\n",
      "[-0.5464584  -0.00610515] -> Accelerate right\n",
      "[-0.55139226 -0.00493384] -> No accelerating\n",
      "[-0.5561179  -0.00472563] -> Accelerate left\n",
      "[-0.5616     -0.00548212] -> No accelerating\n",
      "[-0.56679773 -0.00519773] -> Accelerate left\n",
      "[-0.5726724  -0.00587465] -> No accelerating\n",
      "[-0.5781803  -0.00550792] -> No accelerating\n",
      "[-0.5832807  -0.00510039] -> Accelerate left\n",
      "[-0.58893585 -0.00565516] -> Accelerate left\n",
      "[-0.59510416 -0.00616826] -> No accelerating\n",
      "[-0.6007402  -0.00563608] -> Accelerate left\n",
      "[-0.6068029  -0.00606267] -> No accelerating\n",
      "[-0.612248  -0.0054451] -> No accelerating\n",
      "[-0.617036   -0.00478804] -> Accelerate left\n",
      "[-0.6221324 -0.0050964] -> No accelerating\n",
      "[-0.62650055 -0.00436811] -> Accelerate left\n",
      "[-0.63110906 -0.00460855] -> Accelerate right\n",
      "[-0.6339252  -0.00281613] -> No accelerating\n",
      "[-0.6359289  -0.00200371] -> Accelerate left\n",
      "[-0.638106   -0.00217709] -> Accelerate right\n",
      "[-6.384411e-01 -3.350729e-04] -> No accelerating\n",
      "[-6.3793176e-01  5.0930562e-04] -> No accelerating\n",
      "[-0.63658166  0.00135009] -> Accelerate right\n",
      "[-0.6334003   0.00318133] -> Accelerate left\n",
      "[-0.6304103   0.00299003] -> Accelerate right\n",
      "[-0.6256328   0.00477747] -> Accelerate right\n",
      "[-0.619102    0.00653084] -> Accelerate left\n",
      "[-0.6128647   0.00623735] -> Accelerate right\n",
      "[-0.6049658   0.00789887] -> No accelerating\n",
      "[-0.5964627   0.00850308] -> Accelerate right\n",
      "[-0.5864175   0.01004522] -> No accelerating\n",
      "[-0.5759039   0.01051358] -> No accelerating\n",
      "[-0.56499964  0.01090426] -> Accelerate left\n",
      "[-0.55478567  0.01021397] -> Accelerate right\n",
      "[-0.5433382   0.01144753] -> Accelerate right\n",
      "[-0.5307427   0.01259548] -> Accelerate left\n",
      "[-0.51909363  0.01164906] -> Accelerate right\n",
      "[-0.50647837  0.01261527] -> Accelerate right\n",
      "[-0.49299142  0.01348693] -> Accelerate left\n",
      "[-0.48073372  0.01225769] -> No accelerating\n",
      "[-0.46879664  0.01193709] -> No accelerating\n",
      "[-0.45726871  0.01152792] -> Accelerate left\n",
      "[-0.447235    0.01003372] -> No accelerating\n",
      "[-0.437769    0.00946599] -> No accelerating\n",
      "[-0.42893964  0.00882936] -> No accelerating\n",
      "[-0.42081073  0.00812892] -> Accelerate left\n",
      "[-0.41444054  0.00637017] -> No accelerating\n",
      "[-0.4088745   0.00556604] -> Accelerate right\n",
      "[-0.40315202  0.00572249] -> Accelerate right\n",
      "[-0.39731336  0.00583867] -> Accelerate right\n",
      "[-0.39139932  0.00591403] -> Accelerate right\n",
      "[-0.38545102  0.00594832] -> Accelerate left\n",
      "[-0.3815094   0.00394162] -> No accelerating\n",
      "[-0.37860146  0.00290793] -> No accelerating\n",
      "[-0.37674704  0.00185442] -> Accelerate left\n",
      "[-3.7695873e-01 -2.1168462e-04] -> No accelerating\n",
      "[-0.37823507 -0.00127635] -> Accelerate left\n",
      "[-0.38156745 -0.00333235] -> Accelerate left\n",
      "[-0.3869331  -0.00536564] -> Accelerate left\n",
      "[-0.39429525 -0.00736216] -> No accelerating\n",
      "[-0.40260303 -0.0083078 ] -> No accelerating\n",
      "[-0.4117985  -0.00919547] -> Accelerate right\n",
      "[-0.42081684 -0.00901834] -> Accelerate right\n",
      "[-0.4295939  -0.00877705] -> Accelerate left\n",
      "[-0.44006667 -0.01047277] -> Accelerate right\n",
      "[-0.4501594  -0.01009273] -> Accelerate right\n",
      "[-0.45979849 -0.00963908] -> Accelerate left\n",
      "[-0.47091314 -0.01111466] -> Accelerate left\n",
      "***********\n",
      "Episode: 9\n",
      "***********\n",
      "[-0.40710306  0.        ] -> Accelerate right\n",
      "[-4.0695912e-01  1.4396009e-04] -> No accelerating\n",
      "[-0.4076722  -0.00071309] -> Accelerate left\n",
      "[-0.41023734 -0.00256512] -> Accelerate left\n",
      "[-0.41463637 -0.00439904] -> Accelerate left\n",
      "[-0.42083815 -0.00620178] -> Accelerate left\n",
      "[-0.4287985  -0.00796034] -> No accelerating\n",
      "[-0.43746027 -0.00866179] -> Accelerate left\n",
      "[-0.44776094 -0.01030066] -> Accelerate left\n",
      "[-0.45962548 -0.01186455] -> No accelerating\n",
      "[-0.4719669  -0.01234141] -> Accelerate left\n",
      "[-0.48569402 -0.01372711] -> Accelerate right\n",
      "[-0.4987048  -0.01301078] -> Accelerate right\n",
      "[-0.5109021  -0.01219731] -> No accelerating\n",
      "[-0.5231946  -0.01229251] -> Accelerate left\n",
      "[-0.53649014 -0.01329554] -> No accelerating\n",
      "[-0.54968905 -0.01319888] -> Accelerate right\n",
      "[-0.5616924  -0.01200341] -> Accelerate left\n",
      "[-0.5744108  -0.01271832] -> No accelerating\n",
      "[-0.5867495  -0.01233871] -> Accelerate right\n",
      "[-0.5976174  -0.01086791] -> Accelerate right\n",
      "[-0.6069347  -0.00931732] -> No accelerating\n",
      "[-0.6156335  -0.00869879] -> No accelerating\n",
      "[-0.6236507  -0.00801727] -> Accelerate right\n",
      "[-0.6299288  -0.00627809] -> Accelerate left\n",
      "[-0.63642293 -0.00649407] -> Accelerate right\n",
      "[-0.6410869  -0.00466396] -> Accelerate left\n",
      "[-0.6458878  -0.00480093] -> Accelerate right\n",
      "[-0.64879197 -0.0029042 ] -> Accelerate right\n",
      "[-0.64977914 -0.00098717] -> Accelerate left\n",
      "[-0.6508424  -0.00106325] -> Accelerate left\n",
      "[-0.6519743  -0.00113193] -> Accelerate left\n",
      "[-0.65316707 -0.00119274] -> Accelerate left\n",
      "[-0.6544123  -0.00124527] -> Accelerate left\n",
      "[-0.6557015  -0.00128915] -> Accelerate left\n",
      "[-0.65702564 -0.00132412] -> Accelerate left\n",
      "[-0.65837556 -0.00134992] -> Accelerate right\n",
      "[-6.5774196e-01  6.3358335e-04] -> Accelerate left\n",
      "[-6.571292e-01  6.127208e-04] -> No accelerating\n",
      "[-0.6555416   0.00158763] -> No accelerating\n",
      "[-0.65299004  0.00255156] -> No accelerating\n",
      "[-0.64949226  0.00349781] -> No accelerating\n",
      "[-0.6450725   0.00441972] -> Accelerate left\n",
      "[-0.6407618   0.00431074] -> Accelerate left\n",
      "[-0.6365903   0.00417148] -> Accelerate right\n",
      "[-0.6305875   0.00600278] -> Accelerate right\n",
      "[-0.62279606  0.00779149] -> Accelerate left\n",
      "[-0.6152715   0.00752454] -> No accelerating\n",
      "[-0.60706806  0.00820345] -> Accelerate right\n",
      "[-0.5972451   0.00982295] -> No accelerating\n",
      "[-0.5868743   0.01037081] -> Accelerate right\n",
      "[-0.57503176  0.01184253] -> No accelerating\n",
      "[-0.562805    0.01222675] -> Accelerate left\n",
      "[-0.55128485  0.01152012] -> Accelerate left\n",
      "[-0.5405573   0.01072753] -> Accelerate left\n",
      "[-0.5307027   0.00985466] -> Accelerate right\n",
      "[-0.51979476  0.01090794] -> Accelerate right\n",
      "[-0.5079153   0.01187941] -> Accelerate left\n",
      "[-0.49715352  0.01076183] -> Accelerate left\n",
      "[-0.4875898   0.00956369] -> Accelerate right\n",
      "[-0.47729567  0.01029415] -> Accelerate left\n",
      "[-0.46834767  0.00894799] -> Accelerate right\n",
      "[-0.45881218  0.00953551] -> No accelerating\n",
      "[-0.4497595   0.00905266] -> No accelerating\n",
      "[-0.4412561   0.00850338] -> No accelerating\n",
      "[-0.43336403  0.00789208] -> No accelerating\n",
      "[-0.4261405   0.00722355] -> No accelerating\n",
      "[-0.4196375   0.00650298] -> Accelerate right\n",
      "[-0.41290167  0.00673585] -> Accelerate right\n",
      "[-0.40598086  0.0069208 ] -> Accelerate right\n",
      "[-0.398924    0.00705686] -> Accelerate right\n",
      "[-0.39178056  0.00714345] -> No accelerating\n",
      "[-0.38560018  0.00618038] -> Accelerate left\n",
      "[-0.38142547  0.0041747 ] -> Accelerate right\n",
      "[-0.37728503  0.00414044] -> Accelerate right\n",
      "[-0.37320706  0.00407798] -> No accelerating\n",
      "[-0.37021914  0.00298793] -> No accelerating\n",
      "[-0.3683414   0.00187774] -> Accelerate left\n",
      "[-3.6858642e-01 -2.4503781e-04] -> Accelerate right\n",
      "[-3.689526e-01 -3.661776e-04] -> No accelerating\n",
      "[-0.37043747 -0.00148486] -> Accelerate left\n",
      "[-0.37403104 -0.00359358] -> Accelerate right\n",
      "[-0.37770912 -0.00367807] -> Accelerate left\n",
      "[-0.38344675 -0.00573764] -> Accelerate left\n",
      "[-0.39120483 -0.00775809] -> No accelerating\n",
      "[-0.39992997 -0.00872514] -> Accelerate left\n",
      "[-0.4105615  -0.01063152] -> No accelerating\n",
      "[-0.42202464 -0.01146315] -> Accelerate right\n",
      "[-0.43323785 -0.01121322] -> Accelerate right\n",
      "[-0.44412053 -0.01088265] -> Accelerate left\n",
      "[-0.45659363 -0.01247311] -> No accelerating\n",
      "[-0.4695659  -0.01297227] -> No accelerating\n",
      "[-0.48294163 -0.01337574] -> Accelerate left\n",
      "[-0.49762157 -0.01467992] -> Accelerate left\n",
      "[-0.5134961  -0.01587455] -> Accelerate left\n",
      "[-0.5304464  -0.01695031] -> No accelerating\n",
      "[-0.54734534 -0.01689895] -> No accelerating\n",
      "[-0.56406635 -0.016721  ] -> Accelerate left\n",
      "[-0.5814846  -0.01741824] -> No accelerating\n",
      "[-0.59847087 -0.01698628] -> No accelerating\n",
      "***********\n",
      "Episode: 10\n",
      "***********\n",
      "[-0.49875584  0.        ] -> Accelerate right\n",
      "[-0.497942    0.00081385] -> Accelerate left\n",
      "[-4.9832037e-01 -3.7838536e-04] -> No accelerating\n",
      "[-0.49888816 -0.00056779] -> Accelerate right\n",
      "[-4.9864113e-01  2.4704859e-04] -> Accelerate left\n",
      "[-0.4995811  -0.00093996] -> Accelerate right\n",
      "[-4.99701023e-01 -1.19935765e-04] -> Accelerate right\n",
      "[-0.49900004  0.00070098] -> No accelerating\n",
      "[-0.4984834   0.00051666] -> No accelerating\n",
      "[-4.9815491e-01  3.2847415e-04] -> No accelerating\n",
      "[-4.9801707e-01  1.3783037e-04] -> No accelerating\n",
      "[-4.9807093e-01 -5.3844120e-05] -> Accelerate left\n",
      "[-0.49931604 -0.00124512] -> No accelerating\n",
      "[-0.5007431  -0.00142708] -> Accelerate left\n",
      "[-0.5033415  -0.00259836] -> No accelerating\n",
      "[-0.50609165 -0.0027502 ] -> Accelerate right\n",
      "[-0.5079731  -0.00188144] -> No accelerating\n",
      "[-0.5099717  -0.00199859] -> No accelerating\n",
      "[-0.51207244 -0.00210076] -> Accelerate left\n",
      "[-0.5152596  -0.00318719] -> Accelerate right\n",
      "[-0.5175094  -0.00224973] -> Accelerate right\n",
      "[-0.5188048 -0.0012954] -> Accelerate right\n",
      "[-5.1913613e-01 -3.3135136e-04] -> Accelerate left\n",
      "[-0.52050096 -0.00136482] -> Accelerate right\n",
      "[-5.2088898e-01 -3.8805368e-04] -> No accelerating\n",
      "[-5.2129740e-01 -4.0837683e-04] -> Accelerate left\n",
      "[-0.522723   -0.00142564] -> Accelerate left\n",
      "[-0.5251552  -0.00243221] -> Accelerate right\n",
      "[-0.52657574 -0.00142053] -> Accelerate left\n",
      "[-0.52897394 -0.00239821] -> No accelerating\n",
      "[-0.53133184 -0.00235789] -> Accelerate right\n",
      "[-0.53263175 -0.0012999 ] -> No accelerating\n",
      "[-0.5338639  -0.00123216] -> Accelerate right\n",
      "[-5.3401911e-01 -1.5518503e-04] -> Accelerate left\n",
      "[-0.5350961  -0.00107705] -> Accelerate left\n",
      "[-0.53708696 -0.00199083] -> No accelerating\n",
      "[-0.53897667 -0.0018897 ] -> Accelerate right\n",
      "[-0.53975105 -0.00077441] -> Accelerate right\n",
      "[-5.394044e-01  3.466897e-04] -> Accelerate right\n",
      "[-0.5379392   0.00146519] -> Accelerate left\n",
      "[-0.5373665   0.00057271] -> Accelerate left\n",
      "[-5.376906e-01 -3.240642e-04] -> No accelerating\n",
      "[-5.3790897e-01 -2.1840735e-04] -> Accelerate right\n",
      "[-0.5370201   0.00088889] -> Accelerate right\n",
      "[-0.53503054  0.00198952] -> Accelerate right\n",
      "[-0.5319553   0.00307524] -> Accelerate left\n",
      "[-0.5298174   0.00213791] -> No accelerating\n",
      "[-0.5276329   0.00218454] -> No accelerating\n",
      "[-0.52541804  0.0022148 ] -> Accelerate left\n",
      "[-0.5241896   0.00122844] -> No accelerating\n",
      "[-0.5229567   0.00123288] -> Accelerate right\n",
      "[-0.5207287   0.00222806] -> No accelerating\n",
      "[-0.51852214  0.00220653] -> Accelerate left\n",
      "[-0.5173537   0.00116846] -> No accelerating\n",
      "[-0.5162321   0.00112163] -> No accelerating\n",
      "[-0.5151657   0.00106638] -> Accelerate right\n",
      "[-0.51316255  0.00200314] -> Accelerate right\n",
      "[-0.51023763  0.00292488] -> No accelerating\n",
      "[-0.50741297  0.0028247 ] -> Accelerate right\n",
      "[-0.5037096   0.00370335] -> No accelerating\n",
      "[-0.5001553   0.00355427] -> Accelerate left\n",
      "[-0.49777675  0.00237859] -> No accelerating\n",
      "[-0.49559164  0.00218512] -> No accelerating\n",
      "[-0.4936163   0.00197531] -> Accelerate left\n",
      "[-0.49286556  0.00075075] -> Accelerate right\n",
      "[-0.491345    0.00152058] -> Accelerate left\n",
      "[-4.9106595e-01  2.7904916e-04] -> No accelerating\n",
      "[-4.910305e-01  3.544009e-05] -> Accelerate left\n",
      "[-0.49223894 -0.00120843] -> Accelerate left\n",
      "[-0.49468222 -0.00244329] -> Accelerate left\n",
      "[-0.4983421  -0.00365989] -> Accelerate left\n",
      "[-0.50319123 -0.00484913] -> Accelerate right\n",
      "[-0.5071933  -0.00400209] -> Accelerate right\n",
      "[-0.5103184  -0.00312508] -> No accelerating\n",
      "[-0.51354307 -0.00322466] -> No accelerating\n",
      "[-0.51684314 -0.00330007] -> Accelerate right\n",
      "[-0.5191939  -0.00235073] -> Accelerate right\n",
      "[-0.5205776  -0.00138377] -> Accelerate left\n",
      "[-0.5229841  -0.00240642] -> No accelerating\n",
      "[-0.5253951  -0.00241103] -> Accelerate left\n",
      "[-0.5287927  -0.00339756] -> Accelerate left\n",
      "[-0.53315127 -0.00435861] -> Accelerate right\n",
      "[-0.5364382  -0.00328698] -> No accelerating\n",
      "[-0.5396289 -0.0031907] -> Accelerate left\n",
      "[-0.54369944 -0.00407052] -> Accelerate right\n",
      "[-0.54661936 -0.00291986] -> No accelerating\n",
      "[-0.54936665 -0.00274734] -> Accelerate right\n",
      "[-0.55092096 -0.00155428] -> No accelerating\n",
      "[-0.55227053 -0.00134959] -> Accelerate left\n",
      "[-0.55440533 -0.00213482] -> No accelerating\n",
      "[-0.55630946 -0.0019041 ] -> Accelerate left\n",
      "[-0.5589686  -0.00265916] -> Accelerate left\n",
      "[-0.56236297 -0.00339438] -> Accelerate right\n",
      "[-0.5644673  -0.00210431] -> No accelerating\n",
      "[-0.5662659  -0.00179856] -> No accelerating\n",
      "[-0.56774527 -0.00147943] -> Accelerate right\n",
      "[-5.6789458e-01 -1.4929747e-04] -> Accelerate left\n",
      "[-0.56871265 -0.00081806] -> No accelerating\n",
      "[-5.6919336e-01 -4.8073387e-04] -> Accelerate right\n",
      "[-0.5683332   0.00086016] -> Accelerate left\n"
     ]
    }
   ],
   "source": [
    "num_episodios = 10\n",
    "num_pasos = 100\n",
    "\n",
    "for episodio in range(num_episodios):\n",
    "    obs = env.reset()\n",
    "    print(\"***********\")\n",
    "    print(\"Episode: \" + str(episodio + 1))\n",
    "    print(\"***********\")\n",
    "    \n",
    "    for paso in range(num_pasos):\n",
    "        linea = \"\"\n",
    "        # Añadimos la observación\n",
    "        linea += str(obs)\n",
    "        # Añadimos la acción\n",
    "        accion = env.action_space.sample()\n",
    "        linea += \" -> \" + translate_action(accion)\n",
    "        \n",
    "        new_obs, reward, done, info = env.step(accion)\n",
    "        obs = new_obs\n",
    "        print(linea)\n",
    "        if done:\n",
    "            print(str(obs) + \" -> End\")\n",
    "            break"
   ]
  },
  {
   "cell_type": "markdown",
   "metadata": {
    "id": "TZuCCe4WzJXN"
   },
   "source": [
    "<div style=\"background-color: #grey; border-color: #7C9DBF; border-left: 5px solid #7C9DBF; padding: 0.5em;\">\n",
    "<strong>Ejercicio (0.2 ptos):</strong> Ejecutar 1000 episodios con el máximo de pasos establecido en el entorno de MountainCar, tomando acciones de forma aleatoria. Almacenar la posición final del coche en cada episodio, y mostrar el resultado en un gráfico. Comentar el resultado.\n",
    "</div>"
   ]
  },
  {
   "cell_type": "code",
   "execution_count": 6,
   "metadata": {},
   "outputs": [
    {
     "data": {
      "text/plain": [
       "Text(0, 0.5, 'Posición')"
      ]
     },
     "execution_count": 6,
     "metadata": {},
     "output_type": "execute_result"
    },
    {
     "data": {
      "image/png": "[encoded data removed]",
      "text/plain": [
       "<Figure size 864x576 with 1 Axes>"
      ]
     },
     "metadata": {
      "needs_background": "light"
     },
     "output_type": "display_data"
    }
   ],
   "source": [
    "num_episodios = 1000\n",
    "num_pasos = 200\n",
    "pos_episodio = []\n",
    "\n",
    "for episodio in range(num_episodios):\n",
    "    obs = env.reset()\n",
    "    pos_paso = []\n",
    "    \n",
    "    for paso in range(num_pasos):\n",
    "        pos_paso.append(obs[0])\n",
    "        accion = env.action_space.sample()\n",
    "        new_obs, reward, done, info = env.step(accion)\n",
    "        obs = new_obs\n",
    "        if done:\n",
    "            pos_paso.append(obs[0])\n",
    "            break\n",
    "    \n",
    "    pos_episodio.append(pos_paso[-1])\n",
    "\n",
    "fig, ax = plt.subplots(figsize=(12,8))\n",
    "plt.scatter(range(1, num_episodios + 1), pos_episodio)\n",
    "plt.title(\"Evolución de la posición durante {} episodios\".format(num_episodios))\n",
    "plt.xlabel(\"Episodio\")\n",
    "plt.ylabel(\"Posición\")"
   ]
  },
  {
   "cell_type": "markdown",
   "metadata": {},
   "source": [
    "De la anterior ejecución podemos observar que nunca llegamos a la meta (cuando la posición es mayor que 0.5). Además, observamos que el proceso de aprendizaje es totalmente aleatorio, no hay mejora, esto es normal ya que las acciones se han tomado de forma aleatoria.\n",
    "\n",
    "Un punto interesante sería ver cuánto tarda en converger el algoritmo para llegar del estado inicial al estado final, para ello solo hay que comentar la línea de código `obs = env.rest()`, de esta forma para cada episodio vamos a partir de la posición final alcanzada en el episodio anterior."
   ]
  },
  {
   "cell_type": "markdown",
   "metadata": {
    "id": "e-ls7BUfzJXO"
   },
   "source": [
    "## 2. Agente DQN (2.5 ptos)"
   ]
  },
  {
   "cell_type": "markdown",
   "metadata": {
    "id": "lY-1yE_rzJXO"
   },
   "source": [
    "En este apartado implementaremos una DQN teniendo en cuenta la exploración-explotación (epsilon-*greedy*), la red objetivo, y el buffer de repetición de experiencias."
   ]
  },
  {
   "cell_type": "markdown",
   "metadata": {
    "id": "ZGMSF2_DzJXO"
   },
   "source": [
    "Definiremos el buffer como sigue:"
   ]
  },
  {
   "cell_type": "code",
   "execution_count": 16,
   "metadata": {
    "id": "nOVGNzjqyNyL"
   },
   "outputs": [],
   "source": [
    "from collections import namedtuple, deque"
   ]
  },
  {
   "cell_type": "code",
   "execution_count": 17,
   "metadata": {
    "id": "cajqLdkWyNyN"
   },
   "outputs": [],
   "source": [
    "class experienceReplayBuffer:\n",
    "\n",
    "    def __init__(self, memory_size=50000, burn_in=10000):\n",
    "        self.memory_size = memory_size\n",
    "        self.burn_in = burn_in\n",
    "        self.buffer = namedtuple('Buffer', \n",
    "            field_names=['state', 'action', 'reward', 'done', 'next_state'])\n",
    "        self.replay_memory = deque(maxlen=memory_size)\n",
    "\n",
    "    def sample_batch(self, batch_size=32):\n",
    "        samples = np.random.choice(len(self.replay_memory), batch_size, \n",
    "                                   replace=False)\n",
    "        # Use asterisk operator to unpack deque \n",
    "        batch = zip(*[self.replay_memory[i] for i in samples])\n",
    "        return batch\n",
    "\n",
    "    def append(self, state, action, reward, done, next_state):\n",
    "        self.replay_memory.append(\n",
    "            self.buffer(state, action, reward, done, next_state))\n",
    "\n",
    "    def burn_in_capacity(self):\n",
    "        return len(self.replay_memory) / self.burn_in"
   ]
  },
  {
   "cell_type": "markdown",
   "metadata": {
    "id": "q-Kdu1XBzJXP"
   },
   "source": [
    "Primeramente implementaremos la red neuronal, utilizando un modelo Secuencial con la siguiente configuración:\n",
    "<ul>\n",
    "    <li>Tres capas completamente conectadas (representadas en pytorch por <code>nn.Lineal</code>) con 512, 256 y 128 neuronas cada una, <code>bias=True</code>, y activación ReLU </li>\n",
    "    <li>Una capa de salida completamente conectada y <code>bias=True</code> </li>\n",
    "</ul>\n",
    "\n",
    "Usaremos el optimizador Adam para entrenar la red."
   ]
  },
  {
   "cell_type": "markdown",
   "metadata": {
    "id": "OkZkUxCuzJXP"
   },
   "source": [
    "<div style=\"background-color: #grey; border-color: #7C9DBF; border-left: 5px solid #7C9DBF; padding: 0.5em;\">\n",
    "    <strong>Ejercicio (0.75 ptos):</strong> Implementar la clase <code>NeuralNet()</code>. Inicializar las variables necesarias y definir el modelo Secuencial de red neuronal indicado.\n",
    "\n",
    "-----------------------------------------------------------------------------------------------------------\n",
    "<b>Nota</b>: se os proporciona el código pre-implementado. La implementación que se pide en el enunciado está indicada en los bloques <i>TODO</i> y/o con variables igualadas a <i>None</i>.\n",
    "</div>"
   ]
  },
  {
   "cell_type": "code",
   "execution_count": 18,
   "metadata": {
    "id": "V_zF7yu3zJXP"
   },
   "outputs": [],
   "source": [
    "class NeuralNet(torch.nn.Module):  \n",
    "\n",
    "    def __init__(self, env, learning_rate=1e-3):\n",
    "        \n",
    "        \"\"\"\n",
    "        Params\n",
    "        ======\n",
    "        n_inputs: tamaño del espacio de estadps\n",
    "        n_outputs: tamaño del espacio de acciones\n",
    "        actions: array de acciones posibles\n",
    "        \"\"\"\n",
    "        ######################################\n",
    "        ##TODO: Inicializar parámetros\n",
    "        super(NeuralNet, self).__init__()\n",
    "        self.n_inputs = env.observation_space.shape[0]\n",
    "        self.n_outputs = env.action_space.n\n",
    "        self.actions = np.arange(env.action_space.n)\n",
    "        self.learning_rate = learning_rate\n",
    "        \n",
    "        #######################################\n",
    "        ##TODO: Neural network\n",
    "        self.model = torch.nn.Sequential(\n",
    "            torch.nn.Linear(self.n_inputs, 512, bias=True),\n",
    "            torch.nn.ReLU(),\n",
    "            torch.nn.Linear(512, 256, bias=True),\n",
    "            torch.nn.ReLU(),\n",
    "            torch.nn.Linear(256, 128, bias=True),\n",
    "            torch.nn.ReLU(),\n",
    "            torch.nn.Linear(128, self.n_outputs, bias=True),\n",
    "        )\n",
    "        \n",
    "        #######################################\n",
    "        ##TODO: Initialize optimizer\n",
    "        self.optimizer = torch.optim.Adam(self.parameters(), lr=self.learning_rate)\n",
    "\n",
    "\n",
    "    ### e-greedy method\n",
    "    def get_action(self, state, epsilon=0.05):\n",
    "        if np.random.random() < epsilon:\n",
    "            action = np.random.choice(self.actions)  # acción random\n",
    "        else:\n",
    "            qvals = self.get_qvals(state)  # acción del cálculo de Q para esta acción\n",
    "            action= torch.max(qvals, dim=-1)[1].item()\n",
    "        return action\n",
    "    \n",
    "    \n",
    "    def get_qvals(self, state):\n",
    "        if type(state) is tuple:\n",
    "            state = np.array([np.ravel(s) for s in state])\n",
    "        state_t = torch.FloatTensor(state)\n",
    "        return self.model(state_t)  "
   ]
  },
  {
   "cell_type": "markdown",
   "metadata": {
    "id": "53o_VHkBzJXQ"
   },
   "source": [
    "A continuación implementaremos una clase que defina el comportamiento del agente DQN teniendo en cuenta:\n",
    "    <ul>\n",
    "        <li>La exploración/explotación (decaimiento de epsilon)</li>\n",
    "        <li>La actualización y sincronización de la red principal y la red objetivo (pérdida)</li>\n",
    "    </ul>\n",
    "    \n",
    "    \n",
    "Consideraremos que el agente ha aprendido a realizar la tarea (i.e. el \"juego\" termina) cuando obtiene una media de mínimo -110 puntos durante 100 episodios consecutivos.\n"
   ]
  },
  {
   "cell_type": "markdown",
   "metadata": {
    "id": "YotfiaNDzJXQ"
   },
   "source": [
    "<div style=\"background-color: #grey; border-color: #7C9DBF; border-left: 5px solid #7C9DBF; padding: 0.5em;\">\n",
    "<strong>Ejercicio (75 ptos):</strong> Implementar los siguientes puntos de la clase <code>DQNAgent()</code>:\n",
    "    <ol>\n",
    "        <li>Declarar las variables de la clase</li>\n",
    "        <li>Inicializar las variables necesarias</li>\n",
    "        <li>Implementar la acción a tomar</li>\n",
    "        <li>Actualizar la red principal según la frecuencia establecida en los hiperparámetros</li>\n",
    "        <li>Calcular la pérdida (ecuación Bellman, etc)</li> \n",
    "        <li>Sincronizar la red objetivo según la frecuencia establecida en los hiperparámetros</li>\n",
    "        <li>Calcular la media de recompensas de los últimos 100 episodios</li>\n",
    "        <li>Comprobar límite de episodios</li>\n",
    "        <li>Actualizar epsilon según: $$\\textrm{max}(\\epsilon · \\epsilon_{\\textrm{decay}}, 0.01)$$ </li>\n",
    "    </ol>\n",
    "Además, durante el proceso se deben almacenar (*):\n",
    "    <ul>\n",
    "        <li>Las recompensas obtenidas en cada paso del entrenamiento</li>\n",
    "        <li>Las recompensas medias cada 100 episodios</li>\n",
    "        <li>La pérdida durante el entrenamiento</li>\n",
    "        <li>La posición final del coche en cada episodio</li>\n",
    "        <li>La evolución de epsilon a lo largo del entrenamiento</li>\n",
    "    </ul>\n",
    "\n",
    "-----------------------------------------------------------------------------------------------------------\n",
    "<b>Nota</b>: se os proporciona el código pre-implementado. La implementación que se pide en el enunciado está indicada en los bloques <i>TODO</i> y/o con variables igualadas a <i>None</i>, salvo (*) en qué momento almacenar las variables que se indican.\n",
    "</div>"
   ]
  },
  {
   "cell_type": "code",
   "execution_count": 19,
   "metadata": {
    "id": "pg5NY6uLzJXQ"
   },
   "outputs": [],
   "source": [
    "from copy import deepcopy, copy"
   ]
  },
  {
   "cell_type": "code",
   "execution_count": 91,
   "metadata": {
    "id": "HRqWgeW0zJXQ"
   },
   "outputs": [],
   "source": [
    "class DQNAgent:\n",
    "    \n",
    "    ######################################\n",
    "    ##TODO 1: Declarar variables\n",
    "    def __init__(self, env, main_network, buffer, reward_threshold, epsilon=0.1, eps_decay=0.99, batch_size=32):\n",
    "        \n",
    "        self.env = env\n",
    "        self.main_network = main_network\n",
    "        self.target_network = deepcopy(main_network) \n",
    "        self.buffer = buffer\n",
    "        self.epsilon = epsilon\n",
    "        self.eps_decay = eps_decay\n",
    "        self.batch_size = batch_size\n",
    "        self.reward_threshold = reward_threshold\n",
    "        self.nblock = 100 # bloque de los X últimos episodios de los que se calculará la media de recompensas\n",
    "        self.initialize()\n",
    "        \n",
    "    ######################################\n",
    "    ##TODO 2: Inicializar otras variables necesarias\n",
    "    def initialize(self):\n",
    "        self.update_loss = []\n",
    "        self.training_rewards = []\n",
    "        self.mean_training_rewards = []\n",
    "        self.update_position = []\n",
    "        self.history_loss = []\n",
    "        self.update_epsilon = []\n",
    "        self.sync_eps = []\n",
    "        self.total_reward = 0\n",
    "        self.step_count = 0\n",
    "        self.state0 = self.env.reset()\n",
    "    \n",
    "    ######################################\n",
    "    ##TODO 3: Tomar paso siguiente\n",
    "    def take_step(self, eps, mode='train'):\n",
    "        if mode == 'explore': \n",
    "            action = self.env.action_space.sample()  # acción aleatoria en el burn-in\n",
    "        else:\n",
    "            action = self.main_network.get_action(self.state0, eps) # acción a partir del valor de Q (elección de la acción con mejor Q)\n",
    "            self.step_count += 1\n",
    "            \n",
    "        #TODO: tomar 'step' i obtener nuevo estado y recompensa. Guardar la experiencia en el buffer\n",
    "        new_state, reward, done, _ = self.env.step(action)\n",
    "        self.total_reward += reward\n",
    "        self.buffer.append(self.state0, action, reward, done, new_state)\n",
    "        self.state0 = new_state.copy()\n",
    "        \n",
    "        #TODO: resetear entorno 'if done'\n",
    "        if done:\n",
    "            self.update_position.append(self.state0[0]) # Guardamos la posición final de cada episodio\n",
    "            self.state0 = self.env.reset()\n",
    "        return done\n",
    "\n",
    "    ## TRAINING\n",
    "    def train(self, gamma=0.99, max_episodes=50000, \n",
    "              batch_size=32,\n",
    "              dnn_update_frequency=4,\n",
    "              dnn_sync_frequency=2000):\n",
    "        \n",
    "        self.gamma = gamma\n",
    "\n",
    "        # Rellenamos el buffer con N experiencias aleatorias ()\n",
    "        print(\"Filling replay buffer...\")\n",
    "        while self.buffer.burn_in_capacity() < 1:\n",
    "            self.take_step(self.epsilon, mode='explore')\n",
    "\n",
    "            \n",
    "        episode = 0\n",
    "        training = True\n",
    "        print(\"Training...\")\n",
    "        while training:\n",
    "            self.state0 = self.env.reset()\n",
    "            self.total_reward = 0\n",
    "            gamedone = False\n",
    "            while gamedone == False:\n",
    "                # El agente toma una acción\n",
    "                gamedone = self.take_step(self.epsilon, mode='train')\n",
    "                \n",
    "                #################################################################################\n",
    "                #####TODO 4:  Actualizar la red principal según la frecuencia establecida #######\n",
    "                if self.step_count % dnn_update_frequency == 0:\n",
    "                    self.update()\n",
    "                    \n",
    "                ########################################################################################\n",
    "                ###TODO 6: Sincronizar red principal y red objetivo según la frecuencia establecida#####\n",
    "                if self.step_count % dnn_sync_frequency == 0:\n",
    "                    self.target_network.load_state_dict(\n",
    "                        self.main_network.state_dict()\n",
    "                    )\n",
    "                    self.sync_eps.append(episode)\n",
    "                \n",
    "                if gamedone:                   \n",
    "                    episode += 1\n",
    "                    \n",
    "                    # Guardamos la evolución de la pérdida\n",
    "                    #self.history_loss.append(self.update_loss[-1])\n",
    "                    for i in self.update_loss:\n",
    "                        self.history_loss.append(i)\n",
    "                        \n",
    "                    self.update_loss = []\n",
    "                                    \n",
    "                    #######################################################################################\n",
    "                    ###TODO 7: calcular la media de recompensa de los últimos X episodios, y almacenar\n",
    "                    self.training_rewards.append(self.total_reward)\n",
    "                    mean_rewards = np.mean(\n",
    "                        self.training_rewards[-self.nblock:]\n",
    "                    )\n",
    "                    self.mean_training_rewards.append(mean_rewards)\n",
    "\n",
    "                    self.update_epsilon.append(self.epsilon) # Guardamos la evolución de epsilon\n",
    "                    \n",
    "                    print(\"\\rEpisode {:d} Mean Rewards {:.2f} Epsilon {}\\t\\t\".format(\n",
    "                        episode, mean_rewards, self.epsilon), end=\"\")\n",
    "                    \n",
    "                    #######################################################################################\n",
    "                    ### TODO 8: Comprobar que todavía quedan episodios. Parar el aprendizaje si se llega al límite\n",
    "                    if episode >= max_episodes:\n",
    "                        training = False\n",
    "                        print('\\nEpisode limit reached')\n",
    "                        break\n",
    "                    \n",
    "                    #Termina el juego si la media de recompensas ha llegado al umbral fijado para este juego  \n",
    "                    if mean_rewards >= self.reward_threshold:\n",
    "                        training = False\n",
    "                        print('\\nEnvironment solved in {} episodes!'.format(\n",
    "                            episode))\n",
    "                        break\n",
    "                    \n",
    "                    #################################################################################\n",
    "                    ######TODO 9: Actualizar epsilon según la velocidad de decaimiento fijada########\n",
    "                    self.epsilon = max(self.epsilon * self.eps_decay, 0.01)\n",
    "\n",
    "                    \n",
    "    #####################################         \n",
    "    #####TODO 5: cálculo de la pérdida###\n",
    "    def calculate_loss(self, batch):\n",
    "        # Separamos las variables de la experiencia y las convertimos a tensores \n",
    "        states, actions, rewards, dones, next_states = [i for i in batch] \n",
    "        rewards_vals = torch.FloatTensor(rewards)\n",
    "        actions_vals = torch.LongTensor(np.array(actions)).reshape(-1,1)\n",
    "        dones_t = torch.ByteTensor(dones)\n",
    "        \n",
    "        # Obtenemos los valores de Q de la red principal\n",
    "        qvals = torch.gather(self.main_network.get_qvals(states), 1, actions_vals)\n",
    "        # Obtenemos los valores de Q objetivo. El parámetro detach() evita que estos valores actualicen la red objetivo\n",
    "        qvals_next = torch.max(self.target_network.get_qvals(next_states),\n",
    "                               dim=-1)[0].detach()\n",
    "        qvals_next[dones_t] = 0 # 0 en estados terminales\n",
    "        \n",
    "        #################################################################################\n",
    "        ### TODO: Calcular ecuación de Bellman\n",
    "        expected_qvals = self.gamma * qvals_next + rewards_vals\n",
    "        \n",
    "        #################################################################################\n",
    "        ### TODO: Calcular la pérdida (MSE)\n",
    "        loss = torch.nn.MSELoss()(qvals, expected_qvals.reshape(-1,1))\n",
    "        \n",
    "        return loss\n",
    "\n",
    "    \n",
    "    def update(self):\n",
    "        self.main_network.optimizer.zero_grad()  # eliminamos cualquier gradiente pasado\n",
    "        batch = self.buffer.sample_batch(batch_size=self.batch_size) # seleccionamos un conjunto del buffer\n",
    "        loss = self.calculate_loss(batch) # calculamos la pérdida\n",
    "        loss.backward() # hacemos la diferencia para obtener los gradientes\n",
    "        self.main_network.optimizer.step() # aplicamos los gradientes a la red neuronal\n",
    "        # Guardamos los valores de pérdida\n",
    "        self.update_loss.append(loss.detach().numpy())\n",
    "        \n",
    "    def plot_rewards(self):\n",
    "        plt.figure(figsize=(12,8))\n",
    "        plt.plot(self.training_rewards, label='Rewards')\n",
    "        plt.plot(self.mean_training_rewards, label='Mean Rewards')\n",
    "        plt.axhline(self.reward_threshold, color='r', label=\"Reward threshold\")\n",
    "        plt.title(\"Evolución de las recompensas\")\n",
    "        plt.xlabel('Episode')\n",
    "        plt.ylabel('Reward')\n",
    "        plt.legend(loc=\"upper left\")\n",
    "        plt.show()\n",
    "        \n",
    "    def plot_position(self):\n",
    "        plt.figure(figsize=(12,8))\n",
    "        plt.plot(self.update_position)\n",
    "        plt.title(\"Evolución de la posición final\")\n",
    "        plt.xlabel('Episode')\n",
    "        plt.ylabel('Position')\n",
    "        plt.show()\n",
    "        \n",
    "    def plot_loss(self):\n",
    "        plt.figure(figsize=(12,8))\n",
    "        plt.plot(self.history_loss)\n",
    "        plt.title(\"Evolución de la pérdida\")\n",
    "        plt.xlabel('Step')\n",
    "        plt.ylabel('Loss')\n",
    "        plt.show()\n",
    "        \n",
    "    def plot_epsilon(self):\n",
    "        plt.figure(figsize=(12,8))\n",
    "        plt.plot(self.update_epsilon)\n",
    "        plt.title(\"Evolución de epsilon\")\n",
    "        plt.xlabel('Episode')\n",
    "        plt.ylabel('Epsilon')\n",
    "        plt.show()"
   ]
  },
  {
   "cell_type": "markdown",
   "metadata": {
    "id": "W9aacIO4yNyV"
   },
   "source": [
    "A continuación entrenaremos el modelo con los siguientes hiperparámetros:\n",
    "   <ul>\n",
    "        <li>Velocidad de aprendizaje: 0.001</li>\n",
    "        <li>Tamaño del batch: 32</li>\n",
    "        <li>Número de episodios: 5000</li>\n",
    "        <li>Número de episodios para rellenar el buffer: 1000</li>\n",
    "        <li>Frecuencia de actualización de la red neuronal: 3 </li>\n",
    "        <li>Frecuencia de sincronización con la red objetivo: 1000</li>\n",
    "        <li>Capacidad máxima del buffer: 10000</li>\n",
    "        <li>Factor de descuento: 0.99</li>\n",
    "        <li>Epsilon: 1, con decaimiento de 0.99</li>\n",
    "    </ul>"
   ]
  },
  {
   "cell_type": "markdown",
   "metadata": {
    "id": "FtWA3A9WyNyV"
   },
   "source": [
    "<div style=\"background-color: #grey; border-color: #7C9DBF; border-left: 5px solid #7C9DBF; padding: 0.5em;\">\n",
    "<strong>Ejercicio (0.25 ptos):</strong> Declarar los hiperparámetros, cargar el modelo de red neuronal y entrenar el agente. Guardar el modelo entrenado en formato \".pth\".\n",
    "</div>"
   ]
  },
  {
   "cell_type": "code",
   "execution_count": 102,
   "metadata": {
    "id": "1ezQ-ziGyNyW"
   },
   "outputs": [],
   "source": [
    "# Definición de los hiperparámetros\n",
    "lr = 0.001            # Velocidad de aprendizaje\n",
    "BATCH_SIZE = 32       # Tamaño del batch\n",
    "MAX_EPISODES = 5000   # Número de episodios\n",
    "BURN_IN = 1000        # Número de episodios para rellenar el buffer\n",
    "DNN_UPD = 3           # Frecuencia de actualización de la red neuronal\n",
    "DNN_SYNC = 1000       # Frecuencia de sincronización con la red objetivo\n",
    "MEMORY_SIZE = 10000   # Capacidad máxima del buffer\n",
    "GAMMA = 0.99          # Factor de descuento\n",
    "EPSILON = 1           # Epsilon\n",
    "EPSILON_DECAY = 0.99   # Decaimiento de epsilon"
   ]
  },
  {
   "cell_type": "code",
   "execution_count": 103,
   "metadata": {},
   "outputs": [
    {
     "name": "stdout",
     "output_type": "stream",
     "text": [
      "Filling replay buffer...\n",
      "Training...\n"
     ]
    },
    {
     "name": "stderr",
     "output_type": "stream",
     "text": [
      "<ipython-input-91-1a41763cd746>:147: UserWarning: masked_fill_ received a mask with dtype torch.uint8, this behavior is now deprecated,please use a mask with dtype torch.bool instead. (Triggered internally at  ..\\aten\\src\\ATen\\native\\TensorAdvancedIndexing.cpp:1273.)\n",
      "  qvals_next[dones_t] = 0 # 0 en estados terminales\n"
     ]
    },
    {
     "name": "stdout",
     "output_type": "stream",
     "text": [
      "Episode 1149 Mean Rewards -109.67 Epsilon 0.01\t\t118606165716\t\t\t\n",
      "Environment solved in 1149 episodes!\n"
     ]
    }
   ],
   "source": [
    "# Carga de la red neuronal\n",
    "dqn = NeuralNet(env, learning_rate=lr)\n",
    "\n",
    "# Creación del buffer\n",
    "buffer = experienceReplayBuffer(\n",
    "    memory_size=MEMORY_SIZE, \n",
    "    burn_in=BURN_IN\n",
    ")\n",
    "\n",
    "# Creación del agente\n",
    "agent = DQNAgent(\n",
    "    env=env,\n",
    "    main_network=dqn,\n",
    "    buffer=buffer,\n",
    "    reward_threshold=env.spec.reward_threshold,\n",
    "    epsilon=EPSILON,\n",
    "    eps_decay=EPSILON_DECAY,\n",
    "    batch_size=BATCH_SIZE\n",
    ")\n",
    "\n",
    "# Entrenamos el agente\n",
    "agent.train(\n",
    "    gamma=GAMMA, \n",
    "    max_episodes=MAX_EPISODES, \n",
    "    batch_size=BATCH_SIZE,  \n",
    "    dnn_update_frequency=DNN_UPD, \n",
    "    dnn_sync_frequency=DNN_SYNC\n",
    ")"
   ]
  },
  {
   "cell_type": "code",
   "execution_count": 104,
   "metadata": {},
   "outputs": [],
   "source": [
    "# Guardamos el modelo entrenado\n",
    "trained_model = {\n",
    "    \"state_dic\" : agent.main_network.state_dict()\n",
    "}\n",
    "torch.save(trained_model, \"DQN.pth\")"
   ]
  },
  {
   "cell_type": "markdown",
   "metadata": {
    "id": "4_vYhUcsyNyh"
   },
   "source": [
    "<div style=\"background-color: #grey; border-color: #7C9DBF; border-left: 5px solid #7C9DBF; padding: 0.5em;\">\n",
    "<strong>Ejercicio (0.25 ptos):</strong> Representar:\n",
    "    <ol>\n",
    "        <li>Gráfico con las recompensas obtenidas a lo largo del entrenamieno, la evolución de las recompensas medias cada 100 episodios, y el umbral de recompensa establecido por el entorno.</li>\n",
    "        <li>Gráfico con la posición final del coche en cada episodio</li>\n",
    "        <li>Gráfico con la evolución de la perdida a lo largo del entrenamiento</li>\n",
    "        <li>Gráfico con la evolución de epsilon a lo largo del entrenamiento</li>\n",
    "    </ol>\n",
    "\n",
    "Comentar los resultados obtenidos.\n",
    "</div>"
   ]
  },
  {
   "cell_type": "code",
   "execution_count": 106,
   "metadata": {},
   "outputs": [
    {
     "data": {
      "image/png": "[encoded data removed]",
      "text/plain": [
       "<Figure size 864x576 with 1 Axes>"
      ]
     },
     "metadata": {
      "needs_background": "light"
     },
     "output_type": "display_data"
    },
    {
     "data": {
      "image/png": "[encoded data removed]",
      "text/plain": [
       "<Figure size 864x576 with 1 Axes>"
      ]
     },
     "metadata": {
      "needs_background": "light"
     },
     "output_type": "display_data"
    },
    {
     "data": {
      "image/png": "[encoded data removed]",
      "text/plain": [
       "<Figure size 864x576 with 1 Axes>"
      ]
     },
     "metadata": {
      "needs_background": "light"
     },
     "output_type": "display_data"
    },
    {
     "data": {
      "image/png": "[encoded data removed]",
      "text/plain": [
       "<Figure size 864x576 with 1 Axes>"
      ]
     },
     "metadata": {
      "needs_background": "light"
     },
     "output_type": "display_data"
    }
   ],
   "source": [
    "agent.plot_rewards()\n",
    "agent.plot_position()\n",
    "agent.plot_loss()\n",
    "agent.plot_epsilon()"
   ]
  },
  {
   "cell_type": "markdown",
   "metadata": {},
   "source": [
    "# !!!!!!!!!!!!!!!!!!!!!!!Falta comentar"
   ]
  },
  {
   "cell_type": "markdown",
   "metadata": {
    "id": "gvQTGX9-C2r8"
   },
   "source": [
    "Una vez entrenado el agente, nos interesa comprobar cómo de bien ha aprendido y si es capaz de conseguir que el coche llegue a su objetivo. Para ello, recuperamos el modelo entrenado y dejamos que el agente tome acciones aleatorias según ese modelo y observamos su comportamiento."
   ]
  },
  {
   "cell_type": "markdown",
   "metadata": {
    "id": "859cm-vKyNy5"
   },
   "source": [
    "<div style=\"background-color: #grey; border-color: #7C9DBF; border-left: 5px solid #7C9DBF; padding: 0.5em;\">\n",
    "<strong>Ejercicio (0.5 ptos):</strong> Cargar el modelo entrenado y ejecutar el agente entrenado durante 100 episodios consecutivos. Almacenar la posición final del agente en cada episodio, y calcular la suma de recompensas por cada episodio. Mostrar:\n",
    "    <ul>\n",
    "        <li>un gráfico con la suma de las recompensas respecto de los episodios, incluyendo el umbral de recompensa establecido por el entorno</li>\n",
    "        <li> un gráfico con la posición final del coche en cada episodio</li>\n",
    "    </ul>\n",
    "\n",
    "Comentar los resultados obtenidos.\n",
    "\n",
    "---------------------------------------------------------------------------------------------------\n",
    "<i>Opcional</i>: visualizar los episodios con <code>env.render()</code>, sólo posible en local. Esta visualización ralentiza el proceso unos segundos por episodio.\n",
    "</div>"
   ]
  },
  {
   "cell_type": "code",
   "execution_count": 121,
   "metadata": {},
   "outputs": [
    {
     "data": {
      "image/png": "[encoded data removed]",
      "text/plain": [
       "<Figure size 864x576 with 1 Axes>"
      ]
     },
     "metadata": {
      "needs_background": "light"
     },
     "output_type": "display_data"
    },
    {
     "name": "stdout",
     "output_type": "stream",
     "text": [
      "[-113.0, -113.0, -111.0, -115.0, -182.0, -114.0, -182.0, -120.0, -168.0, -113.0, -114.0, -166.0, -194.0, -111.0, -114.0, -112.0, -115.0, -176.0, -184.0, -113.0, -181.0, -115.0, -121.0, -116.0, -116.0, -112.0, -113.0, -127.0, -114.0, -174.0, -111.0, -186.0, -177.0, -115.0, -177.0, -123.0, -185.0, -187.0, -200.0, -121.0, -112.0, -113.0, -114.0, -113.0, -112.0, -113.0, -114.0, -115.0, -200.0, -182.0, -114.0, -181.0, -184.0, -115.0, -115.0, -113.0, -183.0, -113.0, -113.0, -115.0, -200.0, -117.0, -113.0, -175.0, -187.0, -116.0, -113.0, -120.0, -111.0, -114.0, -117.0, -200.0, -118.0, -200.0, -138.0, -179.0, -183.0, -176.0, -113.0, -116.0, -115.0, -117.0, -114.0, -131.0, -112.0, -117.0, -172.0, -116.0, -113.0, -113.0, -177.0, -115.0, -180.0, -167.0, -114.0, -114.0, -189.0, -118.0, -179.0, -188.0]\n"
     ]
    },
    {
     "data": {
      "image/png": "[encoded data removed]",
      "text/plain": [
       "<Figure size 864x576 with 1 Axes>"
      ]
     },
     "metadata": {
      "needs_background": "light"
     },
     "output_type": "display_data"
    },
    {
     "name": "stdout",
     "output_type": "stream",
     "text": [
      "[0.5198698, 0.5189877, 0.5336332, 0.5066337, 0.51670957, 0.5104441, 0.52367556, 0.5024746, 0.5137549, 0.5296958, 0.5318957, 0.5282805, 0.5118719, 0.52089906, 0.502919, 0.5025153, 0.53273594, 0.5189449, 0.52134496, 0.50888515, 0.5059977, 0.5009305, 0.5210643, 0.5153357, 0.5053069, 0.5030267, 0.51217467, 0.51259226, 0.52102846, 0.5073792, 0.5219652, 0.516797, 0.5110058, 0.517961, 0.5035025, 0.5183901, 0.5125643, 0.514511, -1.1071562, 0.5112691, 0.5052596, 0.5193443, 0.5188441, 0.52347314, 0.5037421, 0.50642675, 0.5097994, 0.5091782, -0.40563786, 0.50286645, 0.5068435, 0.5130206, 0.50962484, 0.5338402, 0.506985, 0.52731556, 0.5275226, 0.5104858, 0.50593805, 0.52701765, 0.52068037, 0.5255802, 0.52671117, 0.5059616, 0.52048266, 0.5023486, 0.5162604, 0.51826656, 0.5120607, 0.51980513, 0.5190368, -0.8614917, 0.52016956, 0.23488626, 0.50223845, 0.5208581, 0.52437747, 0.53164464, 0.50898904, 0.5304353, 0.5283447, 0.5222294, 0.50612986, 0.5012506, 0.5025874, 0.52399534, 0.5000472, 0.5284272, 0.503594, 0.524644, 0.506787, 0.5117963, 0.5023813, 0.51689285, 0.5018924, 0.51539034, 0.52747965, 0.53014857, 0.5236539, 0.51894885]\n"
     ]
    }
   ],
   "source": [
    "# Carga del modelo entrenado\n",
    "# agent.main_network.load_state_dict(modelo['state_dic'])\n",
    "modelo = torch.load(\"DQN.pth\")['state_dic']\n",
    "dqn.load_state_dict(modelo)\n",
    "\n",
    "pos_episodio = []\n",
    "rew_episodio = []\n",
    "for episodio in range(100):\n",
    "    obs = env.reset()\n",
    "    pos_paso = []\n",
    "    rew_paso = 0\n",
    "    \n",
    "    pos_paso.append(obs[0])\n",
    "    \n",
    "    while True:\n",
    "        \n",
    "        accion = dqn.get_action(obs) # USO DEL MODELO\n",
    "        new_obs, reward, done, info = env.step(accion)\n",
    "        \n",
    "        obs = new_obs\n",
    "        pos_paso.append(obs[0])\n",
    "        rew_paso += reward\n",
    "        \n",
    "        if done:\n",
    "            break\n",
    "    pos_episodio.append(pos_paso[-1])\n",
    "    rew_episodio.append(rew_paso)\n",
    "\n",
    "plt.figure(figsize=(12,8))\n",
    "plt.plot(rew_episodio, label='Rewards')\n",
    "plt.axhline(env.spec.reward_threshold, color='r', label=\"Reward threshold\")\n",
    "plt.title(\"Evolución de las recompensas\")\n",
    "plt.xlabel('Episode')\n",
    "plt.ylabel('Reward')\n",
    "plt.legend(loc=\"upper left\")\n",
    "plt.show()\n",
    "\n",
    "print(rew_episodio)\n",
    "\n",
    "plt.figure(figsize=(12,8))\n",
    "plt.plot(pos_episodio)\n",
    "plt.title(\"Evolución de la posición\")\n",
    "plt.xlabel('Episode')\n",
    "plt.ylabel('Position')\n",
    "plt.show()\n",
    "\n",
    "print(pos_episodio)\n"
   ]
  },
  {
   "cell_type": "markdown",
   "metadata": {
    "id": "Zu8QjJ_LyNyG"
   },
   "source": [
    "## 3. Agente DDQN (2.5 ptos)"
   ]
  },
  {
   "cell_type": "markdown",
   "metadata": {
    "id": "UtTQvNPJyNyG"
   },
   "source": [
    "En este apartado implementaremos una doble DQN con la misma red neuronal y características de la DQN del apartado anterior. "
   ]
  },
  {
   "cell_type": "markdown",
   "metadata": {
    "id": "GsW7n9AeyNyP"
   },
   "source": [
    "Recordemos que con la doble DQN, es la red principal la que elije la acción con mayor valor de Q, y la red objetivo la que proporciona el valor objetivo de Q para esa\n",
    "acción, es decir, la que dirá qué recompensa tiene esa acción elegida por la red principal. \n",
    "\n",
    "Siguiendo el mismo esquema que en el ejercicio anterior, a continuación implementaremos una clase que defina el entrenamiento del agente teniendo en cuenta: \n",
    "    <ul>\n",
    "        <li>La exploración/explotación (decaimiento de epsilon)</li>\n",
    "        <li>La actualización y sincronización de la red principal y la red objetivo (pérdida)</li>\n",
    "    </ul>\n",
    "    \n",
    "Consideraremos que el agente ha aprendido a realizar la tarea (i.e. el \"juego\" termina) cuando obtiene una media de mínimo -110 puntos durante 100 episodios consecutivos.\n"
   ]
  },
  {
   "cell_type": "markdown",
   "metadata": {
    "id": "S_-cpMzgyNyQ"
   },
   "source": [
    "<div style=\"background-color: #grey; border-color: #7C9DBF; border-left: 5px solid #7C9DBF; padding: 0.5em;\">\n",
    "<strong>Ejercicio (1 pto):</strong> Implementar los siguientes puntos de la clase <code>DDQNAgent()</code> siguiendo el mismo esquema de implementación realizado con el método <code>DQNAgent()</code>\n",
    "</div>"
   ]
  },
  {
   "cell_type": "code",
   "execution_count": 45,
   "metadata": {
    "id": "geNcnkj5yNyS"
   },
   "outputs": [],
   "source": [
    "class DDQNAgent:\n",
    "\n",
    "    #TODO"
   ]
  },
  {
   "cell_type": "markdown",
   "metadata": {
    "id": "UgNdP0Q2zJXY"
   },
   "source": [
    "A continuación entrenaremos el modelo con los mismos hiperparámetros que con la DQN."
   ]
  },
  {
   "cell_type": "markdown",
   "metadata": {
    "id": "8HEET99Fg8V-"
   },
   "source": [
    "<div style=\"background-color: #grey; border-color: #7C9DBF; border-left: 5px solid #7C9DBF; padding: 0.5em;\">\n",
    "<strong>Ejercicio (0.25 ptos):</strong> Entrenar el agente. Guardar el modelo entrenado en formato \".pth\".\n",
    "</div>"
   ]
  },
  {
   "cell_type": "code",
   "execution_count": null,
   "metadata": {},
   "outputs": [],
   "source": []
  },
  {
   "cell_type": "markdown",
   "metadata": {
    "id": "5qMZj-rLzJXZ"
   },
   "source": [
    "<div style=\"background-color: #grey; border-color: #7C9DBF; border-left: 5px solid #7C9DBF; padding: 0.5em;\">\n",
    "<strong>Ejercicio (0.25 ptos):</strong> Representar:\n",
    "    <ol>\n",
    "        <li>Gráfico con las recompensas obtenidas a lo largo del entrenamieno, la evolución de las recompensas medias cada 100 episodios, y el umbral de recompensa establecido por el entorno</li>\n",
    "        <li>Gráfico con la posición final del coche en cada episodio</li>\n",
    "        <li>Gráfico con la evolución de la perdida a lo largo del entrenamiento</li>\n",
    "        <li>Gráfico con la evolución de epsilon a lo largo del entrenamiento</li>\n",
    "  </ol>\n",
    "Comentar los resultados obtenidos.\n",
    "</div>"
   ]
  },
  {
   "cell_type": "code",
   "execution_count": null,
   "metadata": {},
   "outputs": [],
   "source": []
  },
  {
   "cell_type": "markdown",
   "metadata": {
    "id": "PGI4zhoZzJXa"
   },
   "source": [
    "Una vez entrenado el agente, nos interesa comprobar cómo de bien ha aprendido, si el \"robot\" es capaz de realizar las tareas aprendidas. Para ello, recuperamos el modelo entrenado y dejamos que el agente tome acciones aleatorias según ese modelo y observamos su comportamiento."
   ]
  },
  {
   "cell_type": "markdown",
   "metadata": {
    "id": "SYbtLYtFzJXa"
   },
   "source": [
    "<div style=\"background-color: #grey; border-color: #7C9DBF; border-left: 5px solid #7C9DBF; padding: 0.5em;\">\n",
    "<strong>Ejercicio (0.5 ptos):</strong> Cargar el modelo entrenado y ejecutar el agente entrenado durante 100 episodios consecutivos. Almacenar la posición final del agente en cada episodio, y calcular la suma de recompensas por cada episodio. Mostrar:\n",
    "    <ul>\n",
    "        <li>un gráfico con la suma de las recompensas respecto de los episodios, incluyendo el umbral de recompensa establecido por el entorno</li>\n",
    "        <li> un gráfico con la posición final del coche en cada episodio</li>\n",
    "    </ul>\n",
    "\n",
    "Comentar los resultados obtenidos.\n",
    "    \n",
    "---------------------------------------------------------------------------------------------------\n",
    "<i>Opcional</i>: visualizar los episodios con <code>env.render()</code>, sólo posible en local. Esta visualización ralentiza el proceso unos segundos por episodio.\n",
    "</div>"
   ]
  },
  {
   "cell_type": "code",
   "execution_count": null,
   "metadata": {},
   "outputs": [],
   "source": []
  },
  {
   "cell_type": "markdown",
   "metadata": {
    "id": "TSeDMmIDyNzx"
   },
   "source": [
    "## 4. REINFORCE con línea de base (2 ptos)"
   ]
  },
  {
   "cell_type": "markdown",
   "metadata": {
    "id": "1pCX29gujLx0"
   },
   "source": [
    "En este apartado implementaremos un modelo basado en Gradientes de Política, el método de REINFORCE con línea de base."
   ]
  },
  {
   "cell_type": "markdown",
   "metadata": {
    "id": "YjoLM_eiyNzx"
   },
   "source": [
    "Utilizaremos un modelo Secuencial con la siguiente configuración:\n",
    "<ul>\n",
    "    <li>Tres capas completamente conectadas de 64, 32 y 16 neuronas respectivamente, <code>bias=True</code>, y activación tangencial</li>\n",
    "    <li>Una capa de salida completamente conectada, <code>bias=True</code>, y activación Softmax (dim=-1)\n",
    "</ul>\n",
    "\n",
    "Usaremos el optimizador Adam para entrenar la red."
   ]
  },
  {
   "cell_type": "markdown",
   "metadata": {
    "id": "aOm-7BMDyNzx"
   },
   "source": [
    "<div style=\"background-color: #grey; border-color: #7C9DBF; border-left: 5px solid #7C9DBF; padding: 0.5em;\">\n",
    "<strong>Ejercicio (0.75 ptos):</strong> Implementar la clase <code>PGReinforce()</code>. Inicializar las variables necesarias y definir el modelo Secuencial de red neuronal indicado.\n",
    "\n",
    "-----------------------------------------------------------------------------------------------------------\n",
    "<b>Nota</b>: se os proporciona el código pre-implementado. La implementación que se pide en el enunciado está indicada en los bloques <i>TODO</i> y/o con variables igualadas a <i>None</i>.\n",
    "</div>"
   ]
  },
  {
   "cell_type": "code",
   "execution_count": 3,
   "metadata": {
    "id": "u9uCoGrQyNzy"
   },
   "outputs": [],
   "source": [
    "class NeuralNetReinforce(torch.nn.Module):\n",
    "\n",
    "    def __init__(self, env, learning_rate=1e-3):\n",
    "        \"\"\"\n",
    "        Params\n",
    "        ======\n",
    "        n_inputs: tamaño del espacio de estadps\n",
    "        n_outputs: tamaño del espacio de acciones\n",
    "        learning_rate: velocidad aprendizaje\n",
    "        \"\"\"       \n",
    "        super(NeuralNetReinforce, self).__init__()\n",
    "        \n",
    "        ###################################\n",
    "        ####TODO: Inicializar parámetros#### \n",
    "\n",
    "        \n",
    "        \n",
    "        \n",
    "\n",
    "        \n",
    "        #######################################\n",
    "        ##TODO: Construcción de la red neuronal \n",
    "        self.model = None\n",
    "        \n",
    "        \n",
    "        \n",
    "        \n",
    "        \n",
    "        \n",
    "        #######################################\n",
    "        ##TODO: Inicializar el optimizador\n",
    "        self.optimizer = None\n",
    "        \n",
    "\n",
    "\n",
    "    #Obtención de las probabilidades de las posibles acciones       \n",
    "    def get_action_prob(self, state):\n",
    "        action_probs = self.model(torch.FloatTensor(state))\n",
    "        return action_probs"
   ]
  },
  {
   "cell_type": "markdown",
   "metadata": {
    "id": "4MkqfqUuzJXc"
   },
   "source": [
    "A continuación definiremos el comportamiento del agente. En este caso no tendremos en cuenta el umbral de recompensa en la finalización del aprendizaje, sino **dejaremos al agente realizar el máximo de episodios establecido**."
   ]
  },
  {
   "cell_type": "markdown",
   "metadata": {
    "id": "FusJMueNyNz0"
   },
   "source": [
    "<div style=\"background-color: #grey; border-color: #7C9DBF; border-left: 5px solid #7C9DBF; padding: 0.5em;\">\n",
    "<strong>Ejercicio (0.75 ptos):</strong> Implementar la clase <code>reinforceAgent()</code> teniendo en cuenta los siguientes puntos:\n",
    "    <ol>\n",
    "        <li>Inicializar parámetros</li>\n",
    "        <li>Inicializar las variables necesarias</li>\n",
    "        <li>Implementar la acción a tomar</li>\n",
    "        <li>Calcular el <i>discounted rewards</i> usando como línea de base la media del retorno estandarizada</li>\n",
    "        <li>Calcular la media de recompensas de los últimos 100 episodios</li>\n",
    "        <li>Actualizar red, almacenar pérdida y resetear variables cuando se completa el batch</li>\n",
    "        <li>Implementar la pérdida por actualización</li>\n",
    "        <li>Hacer las comprobaciones necesarias de fin de episodio</li>\n",
    "    </ol>\n",
    "Además, durante el proceso se deben almacenar (*):\n",
    "    <ul>\n",
    "        <li>Las recompensas obtenidas en cada paso del entrenamiento</li>\n",
    "        <li>Las recompensas medias cada 100 episodios</li>\n",
    "        <li>La posición final del coche en cada episodio</li>\n",
    "        <li>La pérdida durante el entrenamiento</li>\n",
    "    </ul>\n",
    "\n",
    "\n",
    "-----------------------------------------------------------------------------------------------------------\n",
    "<b>Nota</b>: se os proporciona el código pre-implementado. La implementación que se pide en el enunciado está indicada en los bloques <i>TODO</i> y/o con variables igualadas a <i>None</i>, salvo (*) en qué momento almacenar las variables que se indican.\n",
    "</div>"
   ]
  },
  {
   "cell_type": "code",
   "execution_count": 58,
   "metadata": {
    "id": "Z9gBfz0UyNz0"
   },
   "outputs": [],
   "source": [
    "class reinforceAgent:\n",
    "    \n",
    "    def __init__(self, env, main_network):\n",
    "        \"\"\"\n",
    "        Params\n",
    "        ======\n",
    "        env: entorno\n",
    "        main_network: clase con la red neuronal diseñada\n",
    "        nblock: bloque de los X últimos episodios de los que se calculará la media de recompensa\n",
    "        \"\"\"    \n",
    "        \n",
    "        ###################################################\n",
    "        ######TODO 1: inicializar parámetros ##################\n",
    "\n",
    "        \n",
    "        \n",
    "        \n",
    "        \n",
    "        self.initialize()\n",
    "\n",
    "        \n",
    "    ###############################################################\n",
    "    #####TODO 2: inicializar variables extra que se necesiten######:\n",
    "    def initialize(self):\n",
    "        self.batch_rewards = []\n",
    "        self.batch_actions = []\n",
    "        self.batch_states = []\n",
    "        self.batch_counter = 1\n",
    "    \n",
    "    \n",
    "    \n",
    "    \n",
    "    \n",
    "\n",
    "        \n",
    "    ## TRAINING\n",
    "    def train(self, gamma=0.99, max_episodes=2000, batch_size=10):\n",
    "        self.gamma = gamma\n",
    "        self.batch_size = batch_size\n",
    "        \n",
    "        episode = 0\n",
    "        action_space = np.arange(self.env.action_space.n)\n",
    "        training = True\n",
    "        print(\"Training...\")\n",
    "        while training:\n",
    "            state0 = env.reset()\n",
    "            episode_states = [] #array para almacenar estados\n",
    "            episode_rewards = [] #array para almacenar rewards\n",
    "            episode_actions = [] #array para almacenar acciones\n",
    "            gamedone = False\n",
    "            \n",
    "            while gamedone == False:\n",
    "                ###########################################################\n",
    "                ######TODO 3:  Tomar nueva acción ##############################################\n",
    "                action_probs = None  #distribución de probabilidad de las acciones dado el estado actual\n",
    "                action = None   #acción aleatoria de la distribución de probabilidad\n",
    "                next_state, reward, gamedone, _ = None\n",
    "                \n",
    "                                \n",
    "                #TODO: Almacenamos experiencias (estados, rewards y acciones) que se van obteniendo en este episodio\n",
    "\n",
    "                \n",
    "                \n",
    "                \n",
    "                \n",
    "                state0 = None\n",
    "                \n",
    "                \n",
    "                if gamedone:\n",
    "                    episode += 1\n",
    "                    \n",
    "                    # Calculamos el término del retorno menos la línea de base\n",
    "                    self.batch_rewards.extend(self.discount_rewards(episode_rewards))\n",
    "                    self.batch_states.extend(episode_states)\n",
    "                    self.batch_actions.extend(episode_actions)\n",
    "                    \n",
    "                    \n",
    "                    #####################################################################################\n",
    "                    ###TODO 5: calcular media de recompensas de los últimos X episodios#####\n",
    "\n",
    "                    \n",
    "                    \n",
    "                    \n",
    "                    \n",
    "\n",
    "                    \n",
    "                    #####################################################################################\n",
    "                    ###TODO 6: Cuando se completa el tamaño del batch: actualizar la red (update), almacenar \n",
    "                    #la pérdida del entrenamiento, y resetear las variables del episodio necesarias\n",
    "\n",
    " \n",
    "\n",
    "\n",
    "\n",
    "\n",
    "\n",
    "\n",
    "                  \n",
    "                    self.batch_counter += 1\n",
    "                    print(\"\\rEpisode {:d} Mean Rewards {:.2f}\\t\\t\".format(\n",
    "                        episode, mean_rewards), end=\"\")\n",
    "         \n",
    "        \n",
    "                    #####################################################################################\n",
    "                    ###TODO 8:Hacer las comprobaciones necesarias de fin de episodio\n",
    "                    \n",
    "                    \n",
    "                    \n",
    "                    \n",
    "                    \n",
    "                          \n",
    "\n",
    "    ########################################################\n",
    "    ###TODO 4: cálculo del retorno menos la línea de base###                  \n",
    "    def discount_rewards(self, rewards):\n",
    "\n",
    "        \n",
    "        \n",
    "        \n",
    "        \n",
    "        \n",
    "\n",
    "        \n",
    " \n",
    "\n",
    "    #################################################\n",
    "    ###TODO 7: Cálculo de la pérdida#################\n",
    "    # Recordatorio: cada actualización es proporcional al producto del retorno y el gradiente de la probabilidad\n",
    "    # de tomar la acción tomada, dividido por la probabilidad de tomar esa acción (logaritmo natural)\n",
    "    def calculate_loss(self, state_t, action_t, reward_t):\n",
    "        logprob = torch.log(self.main_network.get_action_prob(state_t))\n",
    "        selected_logprobs = None\n",
    "        loss = None\n",
    "        return loss\n",
    "\n",
    "\n",
    "        \n",
    "    ## Actualización                \n",
    "    def update(self, batch_s, batch_r, batch_a):\n",
    "        self.main_network.optimizer.zero_grad()  # eliminamos cualquier gradiente pasado\n",
    "        state_t = torch.FloatTensor(batch_s)\n",
    "        reward_t = torch.FloatTensor(batch_r)       \n",
    "        action_t = torch.LongTensor(batch_a)             \n",
    "        loss = self.calculate_loss(state_t, action_t, reward_t) # calculamos la pérdida\n",
    "        loss.backward() # hacemos la diferencia para obtener los gradientes\n",
    "        self.main_network.optimizer.step() # aplicamos los gradientes a la red neuronal\n",
    "        # Guardamos los valores de pérdida\n",
    "        self.update_loss.append(loss.detach().numpy())\n",
    "        \n"
   ]
  },
  {
   "cell_type": "markdown",
   "metadata": {
    "id": "5BAefENuyNz2"
   },
   "source": [
    "### Entrenamiento"
   ]
  },
  {
   "cell_type": "markdown",
   "metadata": {
    "id": "8qru0f53yNz2"
   },
   "source": [
    "A continuación entrenaremos el modelo con los siguientes hiperparámetros:\n",
    "   <ul>\n",
    "        <li>Velocidad de aprendizaje: 0.01</li>\n",
    "        <li>Tamaño del batch: 8</li>\n",
    "        <li>Gamma: 0.99</li>\n",
    "        <li>Número máximo de episodios: 5000</li>\n",
    "</ul>"
   ]
  },
  {
   "cell_type": "markdown",
   "metadata": {
    "id": "lWBA9D-JyNz2"
   },
   "source": [
    "<div style=\"background-color: #grey; border-color: #7C9DBF; border-left: 5px solid #7C9DBF; padding: 0.5em;\">\n",
    "<strong>Ejercicio (0.25 ptos):</strong> Definir los hiperparámetros, cargar el modelo de red neuronal y entrenar el agente\n",
    "</div>"
   ]
  },
  {
   "cell_type": "code",
   "execution_count": null,
   "metadata": {},
   "outputs": [],
   "source": []
  },
  {
   "cell_type": "markdown",
   "metadata": {
    "id": "IK35p3r4yNz9"
   },
   "source": [
    "<div style=\"background-color: #grey; border-color: #7C9DBF; border-left: 5px solid #7C9DBF; padding: 0.5em;\">\n",
    "<strong>Análisis (0.25 ptos):</strong> ¿Qué ha ocurrido? ¿El agente es capaz de aprender la tarea? ¿Por qué? \n",
    "</div>"
   ]
  },
  {
   "cell_type": "code",
   "execution_count": null,
   "metadata": {
    "id": "WFWK0jmpzJXe"
   },
   "outputs": [],
   "source": []
  },
  {
   "cell_type": "markdown",
   "metadata": {
    "id": "_wfNFwFuzJXe"
   },
   "source": [
    "### 4.1 Modificación de la recompensa"
   ]
  },
  {
   "cell_type": "markdown",
   "metadata": {
    "id": "J5N4iYJtzJXf"
   },
   "source": [
    "Como hemos visto, el entorno de MountainCar únicamente proporciona recompensa cuando el agente llega al objetivo. Pero no hay otras indicaciones que permitan al agente saber que está yendo en la buena dirección de aprendizaje, lo que hace el aprendizaje un poco aleatorio y difícil para el agente. \n",
    "\n",
    "En este apartado vamos a modificar la recompensa del agente REINFORCE creando una función que dé al agente una recompensa según la posición en la que se encuentra. Que aunque no llegue al objetivo final pueda al menos saber que no iba tan mal encaminado. "
   ]
  },
  {
   "cell_type": "markdown",
   "metadata": {
    "id": "hQ-TgotlzJXf"
   },
   "source": [
    "<div style=\"background-color: #grey; border-color: #7C9DBF; border-left: 5px solid #7C9DBF; padding: 0.5em;\">\n",
    "<strong>Ejercicio (0.25 ptos):</strong> Definir una función <code>get_reward()</code> en la que, si el agente se encuentra:\n",
    "<ul>\n",
    "<li>en una posición mayor o igual a 0.5, la recompensa será: +10</li>\n",
    "<li>en una posición mayor que -0.4, la recompensa será: $(1+s)^2$ , es decir, proporcional a la posición</li>\n",
    "<li>en cualquier otra posición, se le penalizará con una recompensa de: -1 </li>\n",
    "</ul>\n",
    "</div>"
   ]
  },
  {
   "cell_type": "code",
   "execution_count": null,
   "metadata": {},
   "outputs": [],
   "source": []
  },
  {
   "cell_type": "markdown",
   "metadata": {
    "id": "h7cC8D9TzJXf"
   },
   "source": [
    "<div style=\"background-color: #grey; border-color: #7C9DBF; border-left: 5px solid #7C9DBF; padding: 0.5em;\">\n",
    "<strong>Ejercicio (0.5 ptos):</strong> Modificar la clase <code>reinforceAgent</code> del ejercicio anterior para que el agente reciba las nuevas recompensas. Entrenar el agente con los mismos parámetros que en el ejercicio anterior, y mostrar las gráficas de recompensas y de la posición final del coche en cada episodio.\n",
    "</div>"
   ]
  },
  {
   "cell_type": "code",
   "execution_count": 5,
   "metadata": {
    "id": "eurDaz_11OMq"
   },
   "outputs": [],
   "source": [
    "    "
   ]
  },
  {
   "cell_type": "markdown",
   "metadata": {
    "id": "Zxs9sT0llza7"
   },
   "source": [
    "<div style=\"background-color: #grey; border-color: #7C9DBF; border-left: 5px solid #7C9DBF; padding: 0.5em;\">\n",
    "    <strong>Análisis (0.2 ptos):</strong> Comentar los resultados obtenidos. ¿Ha conseguido el agente REINFORCE aprender a llegar al objetivo? Indicar qué se podría hacer para mejorar el resultado.\n",
    "</div>"
   ]
  },
  {
   "cell_type": "code",
   "execution_count": null,
   "metadata": {},
   "outputs": [],
   "source": []
  },
  {
   "cell_type": "markdown",
   "metadata": {
    "id": "LQvAa-AvyN0L"
   },
   "source": [
    "## 5. Comparación de modelos (0.5 ptos)"
   ]
  },
  {
   "cell_type": "markdown",
   "metadata": {
    "id": "oxF6XdywyN0L"
   },
   "source": [
    "<div style=\"background-color: #grey; border-color: #7C9DBF; border-left: 5px solid #7C9DBF; padding: 0.5em;\">\n",
    "<strong>Ejercicio:</strong> Mostrar en un mismo gráfico la evolución de la media de recompensas de los modelos DQN y DDQN, junto con el umbral de recompensa. Comentar los resultados.\n",
    "</div>"
   ]
  },
  {
   "cell_type": "code",
   "execution_count": null,
   "metadata": {},
   "outputs": [],
   "source": []
  },
  {
   "cell_type": "markdown",
   "metadata": {
    "id": "XhIZshE7Xawz"
   },
   "source": [
    "## 6. Creación de un entorno en Gym (2 ptos)"
   ]
  },
  {
   "cell_type": "markdown",
   "metadata": {
    "id": "_1J3ZQQ2zJXh"
   },
   "source": [
    "En este ejercicio diseñaremos un entorno sencillo siguiendo el esquema de los entornos de <code>gym</code>, y trataremos de resolverlo.\n",
    "\n",
    "Los entornos de <code>gym</code> suelen tener la siguiente estructura:\n",
    "\n",
    "```\n",
    "class FooEnv(gym.Env):\n",
    "  metadata = {'render.modes': ['human']}\n",
    "\n",
    "  def __init__(self):\n",
    "    ...\n",
    "  def step(self, action):\n",
    "    ...\n",
    "  def reset(self):\n",
    "    ...\n",
    "  def render(self, mode='human', close=False):\n",
    "    ...\n",
    " \n",
    " ```\n",
    " \n",
    "Para nuestro entorno usaremos todas estas funciones salvo el <code>render</code> (relativo al diseño de la visualización el entorno)."
   ]
  },
  {
   "cell_type": "markdown",
   "metadata": {
    "id": "7U1O0HWGzJXh"
   },
   "source": [
    "Primeramente importamos la librerías necesarias:"
   ]
  },
  {
   "cell_type": "code",
   "execution_count": 58,
   "metadata": {
    "id": "yuHxDz3ZXawz"
   },
   "outputs": [],
   "source": [
    "from gym import Env\n",
    "from gym.spaces import Discrete, Box\n",
    "import numpy as np\n",
    "import random"
   ]
  },
  {
   "cell_type": "markdown",
   "metadata": {
    "id": "kl1cEczLzJXh"
   },
   "source": [
    "### 6.1 Entorno"
   ]
  },
  {
   "cell_type": "markdown",
   "metadata": {
    "id": "K_icId-jzJXi"
   },
   "source": [
    "El entorno que vamos a diseñar consiste en un regulador de temperatura. Imaginemos que queremos tener una ducha inteligente que sea capaz de mantener la temperatura en un intervalo concreto (37-39 grados) durante todo el tiempo de baño que fijemos. Cada acción será subir o bajar la temperatura un grado, o mantener la temperatura actual.\n",
    "\n",
    "Concretamente queremos que el regulador de temperatura tenga las siguientes características:\n",
    "    <ul>\n",
    "        <li>La temperatura (i.e. estado) puede oscilar entre los 0 y los 100 grados</li>\n",
    "        <li>La temperatura inicial (i.e. estado inicial) será de 38+-3 grados</li>\n",
    "        <li>La duración del baño debe ser de 3 minutos (180 segundos)</li>\n",
    "        <li>Las acciones posibles seran:\n",
    "            <ul>\n",
    "                <li>0 : bajar temperatura un grado</li>\n",
    "                <li>1 : mantener temperatura</li>\n",
    "                <li>2 : subir temperatura un grado</li>\n",
    "            </ul></li>\n",
    "        <li>La recompensa será de +1 si la temperatura se encuentra entre 37 y 39 grados, de lo contrario será -1</li>\n",
    "        <li>El episodio termina cuando el tiempo de baño se agota (se cumplen los 180 segundos)</li>\n",
    "    </ul>\n"
   ]
  },
  {
   "cell_type": "markdown",
   "metadata": {
    "id": "nLrYAbIBzJXi"
   },
   "source": [
    "<div style=\"background-color: #grey; border-color: #7C9DBF; border-left: 5px solid #7C9DBF; padding: 0.5em;\">\n",
    "    <strong>Ejercicio (0.75 ptos):</strong> Diseñar el entorno <code>TempControlEnv</code> con las características indicadas.\n",
    "</div>"
   ]
  },
  {
   "cell_type": "code",
   "execution_count": 59,
   "metadata": {
    "id": "fe9EFgu9zJXi"
   },
   "outputs": [],
   "source": [
    "class TempControlEnv(Env):\n",
    "    def __init__(self):\n",
    "        '''\n",
    "        Argumentos:\n",
    "            - espacio de acciones\n",
    "            - espacio de observaciones (se recomienda usar la función Box)\n",
    "            - estado inicial\n",
    "            - duración episodio\n",
    "        '''\n",
    "        ###TODO: inicializar variables###\n",
    "    \n",
    "    \n",
    "        \n",
    "        \n",
    "        \n",
    "        \n",
    "    def step(self, action):\n",
    "        '''\n",
    "        Argumentos:\n",
    "            - temperatura según acción tomada\n",
    "            - disminución tiempo de baño\n",
    "        '''\n",
    "     \n",
    "        ###TODO: nueva temperatura y còmput de reducción del tiempo de baño###\n",
    "\n",
    "      \n",
    "    \n",
    "\n",
    "        \n",
    "        ###TODO: Cálculo de las recompensas###\n",
    "        \n",
    "        \n",
    "        \n",
    "\n",
    "        \n",
    "        ###TODO: Comprobar si el tiempo de baño se ha agotado###\n",
    "        \n",
    "        \n",
    "\n",
    "        \n",
    "        \n",
    "        # Aplicamos ruido a la temperatura (exe: alguien abre el agua caliente de otro grifo\n",
    "        # y altera la temperatura del agua de nuestra ducha)\n",
    "        self.state += random.randint(-1,1)  # Apply some temperature noise \n",
    "        \n",
    "        info = {} # Set placeholder for info\n",
    "        \n",
    "        # Return step information\n",
    "        return self.state, reward, done, info\n",
    "\n",
    "    \n",
    "    \n",
    "    def reset(self):  \n",
    "        '''\n",
    "        Argumentos:\n",
    "            - resetear temperatura inicial\n",
    "            - resetear tiempo de baño\n",
    "        '''\n",
    "        \n",
    "        ###TODO: resetear variables###\n",
    "\n",
    "    \n",
    "    \n",
    "        return self.state"
   ]
  },
  {
   "cell_type": "markdown",
   "metadata": {
    "id": "WmlDKL_WzJXi"
   },
   "source": [
    "<div style=\"background-color: #grey; border-color: #7C9DBF; border-left: 5px solid #7C9DBF; padding: 0.5em;\">\n",
    "    <strong>Ejercicio (0.25 ptos):</strong> Cargar el entorno <code>TempControlEnv</code> y mostrar el espacio de acciones y el espacio de observaciones. Ejecutar 10 episodios con acciones aleatorias, mostrando el episodio y la recompensa obtenida.\n",
    "</div>"
   ]
  },
  {
   "cell_type": "code",
   "execution_count": null,
   "metadata": {},
   "outputs": [],
   "source": []
  },
  {
   "cell_type": "markdown",
   "metadata": {
    "id": "m_ZXX9atzJXj"
   },
   "source": [
    "### 6.2 Agente regulador de la temperatura"
   ]
  },
  {
   "cell_type": "markdown",
   "metadata": {
    "id": "T36bmAaYzJXj"
   },
   "source": [
    "<div style=\"background-color: #grey; border-color: #7C9DBF; border-left: 5px solid #7C9DBF; padding: 0.5em;\">\n",
    "<strong>Ejercicio (1 pto):</strong> Implementar un agente capaz de regular la temperatura y mantenerla en los intervalos establecidos por el entorno <code>TempControlEnv</code> diseñado. Se puede implementar cualquier tipo de agente visto en el curso (módulos 9, 10 y 11) con los hiperparámetros que se considere conveniente.\n",
    "    <ul>\n",
    "        <li>Mostrar gráficamente la evolución de las recompensas</li>\n",
    "        <li>Mostrar gráficamente la evolución de la temperatura final de cada episodio a lo largo del entrenamiento</li>\n",
    "        <li>Testear el modelo de agente con 100 episodios y mostrar las gráficas de recompensas y temperatura</li>\n",
    "    </ul>\n",
    "</div>"
   ]
  },
  {
   "cell_type": "code",
   "execution_count": null,
   "metadata": {},
   "outputs": [],
   "source": []
  }
 ],
 "metadata": {
  "accelerator": "GPU",
  "colab": {
   "collapsed_sections": [],
   "name": "M2_883_RL_PEC2_Solucion_v4.ipynb",
   "provenance": [],
   "toc_visible": true
  },
  "kernelspec": {
   "display_name": "Python 3",
   "language": "python",
   "name": "python3"
  },
  "language_info": {
   "codemirror_mode": {
    "name": "ipython",
    "version": 3
   },
   "file_extension": ".py",
   "mimetype": "text/x-python",
   "name": "python",
   "nbconvert_exporter": "python",
   "pygments_lexer": "ipython3",
   "version": "3.8.3"
  }
 },
 "nbformat": 4,
 "nbformat_minor": 1
}
