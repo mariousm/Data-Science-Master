{
 "cells": [
  {
   "cell_type": "markdown",
   "metadata": {},
   "source": [
    "<div style=\"width: 100%; clear: both;\">\n",
    "<div style=\"float: left; width: 50%;\">\n",
    "<img src=\"http://www.uoc.edu/portal/_resources/common/imatges/marca_UOC/UOC_Masterbrand.jpg\", align=\"left\">\n",
    "</div>\n",
    "<div style=\"float: right; width: 50%;\">\n",
    "<p style=\"margin: 0; padding-top: 22px; text-align:right;\">M2.883 · Aprendizaje por refuerzo</p>\n",
    "<p style=\"margin: 0; text-align:right;\">Máster universitario en Ciencia de datos (<i>Data science</i>)</p>\n",
    "<p style=\"margin: 0; text-align:right; padding-button: 100px;\">Estudios de Informática, Multimedia y Telecomunicación</p>\n",
    "</div>\n",
    "</div>\n",
    "<div style=\"width:100%;\">&nbsp;</div>\n",
    "\n",
    "\n",
    "# PRA1: Deep Reinforcement Learning\n",
    "\n",
    "#### AUTOR: Mario Ubierna San Mamés\n",
    " \n",
    "\n",
    "En esta práctica se hará un estudio sobre el entorno **highway-env**, donde inicialmente se realizará una exploración sobre el entorno, posteriormente implementaremos un agente DQN y finalmente mejoraremos el primer agente implementado"
   ]
  },
  {
   "cell_type": "markdown",
   "metadata": {},
   "source": [
    "## 0. Contexto"
   ]
  },
  {
   "cell_type": "markdown",
   "metadata": {},
   "source": [
    "**Highway-env** es un problema de conducción autónoma, donde tenemos múltiples carriles y varios coches transitando. Nuestro objetivo es que el agente sea capaz de controlar el vehículo con el fin de:\n",
    "\n",
    "- Evitar colisiones con otros vehículos.\n",
    "- Tener la máxima velocidad posible.\n",
    "- Mantenerse en el carril derecho lo más posible.\n",
    "\n",
    "El entorno se considera superado cuando en el tiempo de observación máximo establecido, se han verificado las tres condiciones anteriores."
   ]
  },
  {
   "cell_type": "markdown",
   "metadata": {},
   "source": [
    "![Alt Text](https://raw.githubusercontent.com/eleurent/highway-env/gh-media/docs/media/highway-env.gif?raw=true)"
   ]
  },
  {
   "cell_type": "markdown",
   "metadata": {},
   "source": [
    "## 1. Entorno"
   ]
  },
  {
   "cell_type": "markdown",
   "metadata": {},
   "source": [
    "Lo primero de todo es cargar las librerías necesarias:"
   ]
  },
  {
   "cell_type": "code",
   "execution_count": 2,
   "metadata": {},
   "outputs": [],
   "source": [
    "import gym\n",
    "import highway_env\n",
    "import matplotlib.pyplot as plt\n",
    "%matplotlib inline\n",
    "import torch\n",
    "import numpy as np\n",
    "import time"
   ]
  },
  {
   "cell_type": "markdown",
   "metadata": {},
   "source": [
    "<div style=\"background-color: #grey; border-color: #7C9DBF; border-left: 5px solid #7C9DBF; padding: 0.5em;\">\n",
    "<strong>Ejercicio 1.1 (0.5 ptos) - </strong> Exploración del entorno y representación de una ejecución aleatoria:\n",
    "</div>"
   ]
  },
  {
   "cell_type": "markdown",
   "metadata": {},
   "source": [
    "#### Exploración del entorno"
   ]
  },
  {
   "cell_type": "markdown",
   "metadata": {},
   "source": [
    "Carga del entorno:"
   ]
  },
  {
   "cell_type": "code",
   "execution_count": 3,
   "metadata": {},
   "outputs": [],
   "source": [
    "# Definimos el entorno\n",
    "env = gym.make(\"highway-v0\")"
   ]
  },
  {
   "cell_type": "markdown",
   "metadata": {},
   "source": [
    "Información básica del entorno:"
   ]
  },
  {
   "cell_type": "code",
   "execution_count": 4,
   "metadata": {},
   "outputs": [
    {
     "name": "stdout",
     "output_type": "stream",
     "text": [
      "El espacio de acciones es Discrete(5) \n",
      "La dimensión del espacio de acciones es: 5\n",
      "El espacio de observaciones es Box([[-inf -inf -inf -inf -inf]\n",
      " [-inf -inf -inf -inf -inf]\n",
      " [-inf -inf -inf -inf -inf]\n",
      " [-inf -inf -inf -inf -inf]\n",
      " [-inf -inf -inf -inf -inf]], [[inf inf inf inf inf]\n",
      " [inf inf inf inf inf]\n",
      " [inf inf inf inf inf]\n",
      " [inf inf inf inf inf]\n",
      " [inf inf inf inf inf]], (5, 5), float32) \n",
      "La dimensión del espacio de estados: 5\n",
      "El rango de recompensas es (-inf, inf) \n"
     ]
    }
   ],
   "source": [
    "print(\"El espacio de acciones es {} \".format(env.action_space))\n",
    "print(\"La dimensión del espacio de acciones es: {}\".format(env.action_space.n))\n",
    "# print(\"Las acciones por defecto son {}\".format(str(env.action_type.actions_indexes)))\n",
    "print(\"El espacio de observaciones es {} \".format(env.observation_space))\n",
    "print(\"La dimensión del espacio de estados: {}\".format(env.observation_space.shape[0]))\n",
    "print(\"El rango de recompensas es {} \".format(env.reward_range))"
   ]
  },
  {
   "cell_type": "markdown",
   "metadata": {},
   "source": [
    "De la anterior ejecución podemos observar que, por defecto tanto la dimensión del espacio de acciones como de estados es 5. Estos valores vienen predefinidos a la hora de cargar el entorno **highway-v0**.  \n",
    "  \n",
    "Para saber más sobre la configuración por defecto del entorno ejecutamos la siguiente instrucción:"
   ]
  },
  {
   "cell_type": "code",
   "execution_count": 5,
   "metadata": {},
   "outputs": [
    {
     "data": {
      "text/plain": [
       "{'observation': {'type': 'Kinematics'},\n",
       " 'action': {'type': 'DiscreteMetaAction'},\n",
       " 'simulation_frequency': 15,\n",
       " 'policy_frequency': 1,\n",
       " 'other_vehicles_type': 'highway_env.vehicle.behavior.IDMVehicle',\n",
       " 'screen_width': 600,\n",
       " 'screen_height': 150,\n",
       " 'centering_position': [0.3, 0.5],\n",
       " 'scaling': 5.5,\n",
       " 'show_trajectories': False,\n",
       " 'render_agent': True,\n",
       " 'offscreen_rendering': False,\n",
       " 'manual_control': False,\n",
       " 'real_time_rendering': False,\n",
       " 'lanes_count': 4,\n",
       " 'vehicles_count': 50,\n",
       " 'controlled_vehicles': 1,\n",
       " 'initial_lane_id': None,\n",
       " 'duration': 40,\n",
       " 'ego_spacing': 2,\n",
       " 'vehicles_density': 1,\n",
       " 'collision_reward': -1,\n",
       " 'right_lane_reward': 0.1,\n",
       " 'high_speed_reward': 0.4,\n",
       " 'lane_change_reward': 0,\n",
       " 'reward_speed_range': [20, 30],\n",
       " 'offroad_terminal': False}"
      ]
     },
     "execution_count": 5,
     "metadata": {},
     "output_type": "execute_result"
    }
   ],
   "source": [
    "env.env.default_config()"
   ]
  },
  {
   "cell_type": "markdown",
   "metadata": {},
   "source": [
    "Como podemos ver obtenemos la siguiente información:  \n",
    "- El tipo de observación es Kinematics, esto lo que significa es que el espacio de estados va a ser una matriz del tipo VxF, donde V es el número de vehículos cercanos a nuestro coche y F el número de características (['presence', 'x', 'y', 'vx', 'vy']).\n",
    "\n",
    "- El tipo de acciones es DiscreteMetaAction, en este caso hay 5 acciones. La primera es movernos al carril de la izquierda \"0\", la segunda es un movimiento ilegal o mantenernos en el carril actual a la velocidad actual \"1\" (cuando se produce un cambio de carril en el límite de la carretera, o cuando la acelaración o desaceleración es mayor o menor que la velocidad máxima/mínima) \"1\", la tercera es movernos al carril de la derecha \"2\", la cuarta es aumentar la velocidad \"3\" y la quinta reducir la velocidad \"4\".\n",
    "\n",
    "- El número de carriles es 4, se puede modificar para añadir más o menos.\n",
    "\n",
    "- El número de vehículos es 50 y al igual que antes se puede modificar.\n",
    "\n",
    "- La recompensa por colisión es -1.\n",
    "\n",
    "- La recompensa por estar en el carril de la derecha es 0.1.\n",
    "\n",
    "- La recompensa por alcanzar una alta velocidad es 0.4.\n",
    "\n",
    "- La recompensa por cambiar de carril es 0.\n",
    "\n",
    "- Y la recompensa por aumentar o disminuir la velocidad varía entre 20 y 30 dependiendo de forma lineal a su velocidad."
   ]
  },
  {
   "cell_type": "markdown",
   "metadata": {},
   "source": [
    "A continuación podemos ver un ejemplo de una acción tomada aleatoriamente y todas las posibles acciones que podemos tomar:"
   ]
  },
  {
   "cell_type": "code",
   "execution_count": 6,
   "metadata": {},
   "outputs": [
    {
     "name": "stdout",
     "output_type": "stream",
     "text": [
      "Acción aleatoria tomada 4\n",
      "Las posibles acciones son {'LANE_LEFT': 0, 'IDLE': 1, 'LANE_RIGHT': 2, 'FASTER': 3, 'SLOWER': 4}\n"
     ]
    }
   ],
   "source": [
    "print(\"Acción aleatoria tomada {}\".format(env.action_space.sample()))\n",
    "print(\"Las posibles acciones son {}\".format(env.action_type.actions_indexes))"
   ]
  },
  {
   "cell_type": "markdown",
   "metadata": {},
   "source": [
    "Para concluir con la exploración del entorno, vamos a mostrar un ejemplo de un estado según el espacio de observaciones por defecto junto el nombre de cada columna:"
   ]
  },
  {
   "cell_type": "code",
   "execution_count": 7,
   "metadata": {},
   "outputs": [
    {
     "name": "stdout",
     "output_type": "stream",
     "text": [
      "Un estado aleatorio sería \n",
      "[[ 0.7914213   0.08466537  0.8596269  -0.6130368   2.7401903 ]\n",
      " [-0.92616034 -1.037354   -0.06236986 -0.8295883  -1.6887697 ]\n",
      " [-0.42051014 -0.7013899   0.51139015 -1.554946   -1.6017873 ]\n",
      " [-0.6488767   1.9025084   0.8368827  -0.3603859  -0.5567021 ]\n",
      " [ 0.10267998 -0.569971   -0.4342516  -0.6010843   1.1216875 ]]\n",
      "El nombre de cada columna (característica \"F\") es ['presence', 'x', 'y', 'vx', 'vy']\n"
     ]
    }
   ],
   "source": [
    "print(\"Un estado aleatorio sería \\n{}\".format(env.observation_space.sample()))\n",
    "print(\"El nombre de cada columna (característica \\\"F\\\") es {}\".format(env.env.observation_type.features))"
   ]
  },
  {
   "cell_type": "markdown",
   "metadata": {},
   "source": [
    "#### Representación de una ejecución aleatoria"
   ]
  },
  {
   "cell_type": "code",
   "execution_count": 18,
   "metadata": {},
   "outputs": [
    {
     "name": "stdout",
     "output_type": "stream",
     "text": [
      "Obs inicial:\n"
     ]
    },
    {
     "data": {
      "image/png": "[encoded data removed]",
      "text/plain": [
       "<Figure size 432x288 with 1 Axes>"
      ]
     },
     "metadata": {
      "needs_background": "light"
     },
     "output_type": "display_data"
    },
    {
     "name": "stdout",
     "output_type": "stream",
     "text": [
      "[[ 1.          0.9077264   0.25        0.3125      0.        ]\n",
      " [ 1.          0.0999883   0.5        -0.04683888  0.        ]\n",
      " [ 1.          0.20804437  0.25       -0.03083692  0.        ]\n",
      " [ 1.          0.31833214 -0.25       -0.03555275  0.        ]\n",
      " [ 1.          0.43481907  0.         -0.02355815  0.        ]]\n",
      "\n",
      "Acción: LANE_RIGHT -> recommpensa: 0.8444444444444444\n",
      "Nuevo estado:\n"
     ]
    },
    {
     "data": {
      "image/png": "[encoded data removed]",
      "text/plain": [
       "<Figure size 432x288 with 1 Axes>"
      ]
     },
     "metadata": {
      "needs_background": "light"
     },
     "output_type": "display_data"
    },
    {
     "name": "stdout",
     "output_type": "stream",
     "text": [
      "[[ 1.          1.          0.4582173   0.31063917  0.03405233]\n",
      " [ 1.          0.0813692   0.2917827  -0.05005691 -0.03405233]\n",
      " [ 1.          0.19611406  0.0417827  -0.03517903 -0.03405233]\n",
      " [ 1.          0.3040316  -0.4582173  -0.03967458 -0.03405233]\n",
      " [ 1.          0.4195314  -0.20821731 -0.05533974 -0.03405233]]\n",
      "\n",
      "Acción: LANE_RIGHT -> recommpensa: 0.8666666666666667\n",
      "Nuevo estado:\n"
     ]
    },
    {
     "data": {
      "image/png": "[encoded data removed]",
      "text/plain": [
       "<Figure size 432x288 with 1 Axes>"
      ]
     },
     "metadata": {
      "needs_background": "light"
     },
     "output_type": "display_data"
    },
    {
     "name": "stdout",
     "output_type": "stream",
     "text": [
      "[[ 1.          1.          0.7219096   0.31064758  0.0339754 ]\n",
      " [ 1.          0.06184099  0.02809043 -0.05317559 -0.0339754 ]\n",
      " [ 1.          0.18183674 -0.22190957 -0.04176284 -0.0339754 ]\n",
      " [ 1.          0.28860992 -0.7219096  -0.04291799 -0.0339754 ]\n",
      " [ 1.          0.3989584  -0.47190955 -0.05172227 -0.0339754 ]]\n",
      "\n",
      "Acción: IDLE -> recommpensa: 0.8666666666666667\n",
      "Nuevo estado:\n"
     ]
    },
    {
     "data": {
      "image/png": "[encoded data removed]",
      "text/plain": [
       "<Figure size 432x288 with 1 Axes>"
      ]
     },
     "metadata": {
      "needs_background": "light"
     },
     "output_type": "display_data"
    },
    {
     "name": "stdout",
     "output_type": "stream",
     "text": [
      "[[ 1.          1.          0.76615626  0.3124935  -0.00201384]\n",
      " [ 1.          0.03951476 -0.01615628 -0.05715047  0.00201384]\n",
      " [ 1.          0.16354844 -0.2661563  -0.04849479  0.00201384]\n",
      " [ 1.          0.27044815 -0.76615626 -0.04650817  0.00201384]\n",
      " [ 1.          0.37820393 -0.51615626 -0.05085659  0.00201384]]\n",
      "\n",
      "Acción: FASTER -> recommpensa: 0.06666666666666665\n",
      "Nuevo estado:\n"
     ]
    },
    {
     "data": {
      "image/png": "[encoded data removed]",
      "text/plain": [
       "<Figure size 432x288 with 1 Axes>"
      ]
     },
     "metadata": {
      "needs_background": "light"
     },
     "output_type": "display_data"
    },
    {
     "name": "stdout",
     "output_type": "stream",
     "text": [
      "[[ 1.          1.          0.7512507   0.21632071 -0.00217799]\n",
      " [ 1.          0.02504912 -0.00230605 -0.05921775  0.00217799]\n",
      " [ 1.          0.15218437 -0.25125065  0.04390009  0.00217799]\n",
      " [ 1.          0.26042607 -0.7512507   0.04873104  0.00217799]\n",
      " [ 1.          0.3669406  -0.5012507   0.04679021  0.00217799]]\n",
      "Episodio terminado después de 4 pasos y la recompensa fue 2.644444444444445\n"
     ]
    }
   ],
   "source": [
    "obs = env.reset()\n",
    "t, total_reward, done = 0, 0, False\n",
    "\n",
    "print(\"Obs inicial:\")\n",
    "plt.imshow(env.render(mode=\"rgb_array\"))\n",
    "plt.show()\n",
    "print(obs)\n",
    "\n",
    "while not done:\n",
    "    # Obtener la acción y la ejecutamos\n",
    "    action = env.action_space.sample()\n",
    "    new_obs, reward, done, info = env.step(action)\n",
    "    \n",
    "    # Imprimimos el paso\n",
    "    print(\"\\nAcción: {} -> recommpensa: {}\".format(env.action_type.actions[action], reward))\n",
    "    print(\"Nuevo estado:\")\n",
    "    plt.imshow(env.render(mode=\"rgb_array\"))\n",
    "    plt.show()\n",
    "    print(new_obs)\n",
    "    \n",
    "    t += 1\n",
    "    total_reward += reward\n",
    "    obs = new_obs\n",
    "    \n",
    "print(\"Episodio terminado después de {} pasos y la recompensa fue {}\".format(t, total_reward))"
   ]
  },
  {
   "cell_type": "code",
   "execution_count": null,
   "metadata": {},
   "outputs": [],
   "source": []
  }
 ],
 "metadata": {
  "kernelspec": {
   "display_name": "Python 3",
   "language": "python",
   "name": "python3"
  },
  "language_info": {
   "codemirror_mode": {
    "name": "ipython",
    "version": 3
   },
   "file_extension": ".py",
   "mimetype": "text/x-python",
   "name": "python",
   "nbconvert_exporter": "python",
   "pygments_lexer": "ipython3",
   "version": "3.8.3"
  }
 },
 "nbformat": 4,
 "nbformat_minor": 4
}
