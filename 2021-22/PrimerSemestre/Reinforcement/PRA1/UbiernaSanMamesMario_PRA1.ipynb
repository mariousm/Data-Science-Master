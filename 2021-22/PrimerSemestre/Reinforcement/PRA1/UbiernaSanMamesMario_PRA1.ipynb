{
 "cells": [
  {
   "cell_type": "markdown",
   "metadata": {},
   "source": [
    "<div style=\"width: 100%; clear: both;\">\n",
    "<div style=\"float: left; width: 50%;\">\n",
    "<img src=\"http://www.uoc.edu/portal/_resources/common/imatges/marca_UOC/UOC_Masterbrand.jpg\", align=\"left\">\n",
    "</div>\n",
    "<div style=\"float: right; width: 50%;\">\n",
    "<p style=\"margin: 0; padding-top: 22px; text-align:right;\">M2.883 · Aprendizaje por refuerzo</p>\n",
    "<p style=\"margin: 0; text-align:right;\">Máster universitario en Ciencia de datos (<i>Data science</i>)</p>\n",
    "<p style=\"margin: 0; text-align:right; padding-button: 100px;\">Estudios de Informática, Multimedia y Telecomunicación</p>\n",
    "</div>\n",
    "</div>\n",
    "<div style=\"width:100%;\">&nbsp;</div>\n",
    "\n",
    "\n",
    "# PRA1: Deep Reinforcement Learning\n",
    "\n",
    "#### AUTOR: Mario Ubierna San Mamés\n",
    " \n",
    "\n",
    "En esta práctica se hará un estudio sobre el entorno **highway-env**, donde inicialmente se realizará una exploración sobre el entorno, posteriormente implementaremos un agente DQN y finalmente mejoraremos el primer agente implementado"
   ]
  },
  {
   "cell_type": "markdown",
   "metadata": {},
   "source": [
    "## 0. Contexto"
   ]
  },
  {
   "cell_type": "markdown",
   "metadata": {},
   "source": [
    "**Highway-env** es un problema de conducción autónoma, donde tenemos múltiples carriles y varios coches transitando. Nuestro objetivo es que el agente sea capaz de controlar el vehículo con el fin de:\n",
    "\n",
    "- Evitar colisiones con otros vehículos.\n",
    "- Tener la máxima velocidad posible.\n",
    "- Mantenerse en el carril derecho lo más posible.\n",
    "\n",
    "El entorno se considera superado cuando en el tiempo de observación máximo establecido, se han verificado las tres condiciones anteriores."
   ]
  },
  {
   "cell_type": "markdown",
   "metadata": {},
   "source": [
    "![Alt Text](https://raw.githubusercontent.com/eleurent/highway-env/gh-media/docs/media/highway-env.gif?raw=true)"
   ]
  },
  {
   "cell_type": "markdown",
   "metadata": {},
   "source": [
    "## 1. Entorno"
   ]
  },
  {
   "cell_type": "markdown",
   "metadata": {},
   "source": [
    "Lo primero de todo es cargar las librerías necesarias:"
   ]
  },
  {
   "cell_type": "code",
   "execution_count": 1,
   "metadata": {},
   "outputs": [],
   "source": [
    "import gym\n",
    "import highway_env\n",
    "from collections import namedtuple, deque\n",
    "from copy import deepcopy, copy\n",
    "import matplotlib.pyplot as plt\n",
    "%matplotlib inline\n",
    "import torch\n",
    "import numpy as np\n",
    "import time"
   ]
  },
  {
   "cell_type": "markdown",
   "metadata": {},
   "source": [
    "<div style=\"background-color: #grey; border-color: #7C9DBF; border-left: 5px solid #7C9DBF; padding: 0.5em;\">\n",
    "<strong>Ejercicio 1.1 (0.5 ptos) - </strong> Exploración del entorno y representación de una ejecución aleatoria:\n",
    "</div>"
   ]
  },
  {
   "cell_type": "markdown",
   "metadata": {},
   "source": [
    "#### Exploración del entorno"
   ]
  },
  {
   "cell_type": "markdown",
   "metadata": {},
   "source": [
    "Carga del entorno:"
   ]
  },
  {
   "cell_type": "code",
   "execution_count": 2,
   "metadata": {},
   "outputs": [],
   "source": [
    "# Definimos el entorno\n",
    "env = gym.make(\"highway-v0\")"
   ]
  },
  {
   "cell_type": "markdown",
   "metadata": {},
   "source": [
    "Información básica del entorno:"
   ]
  },
  {
   "cell_type": "code",
   "execution_count": 3,
   "metadata": {},
   "outputs": [
    {
     "name": "stdout",
     "output_type": "stream",
     "text": [
      "El espacio de acciones es Discrete(5) \n",
      "La dimensión del espacio de acciones es: 5\n",
      "El espacio de observaciones es Box([[-inf -inf -inf -inf -inf]\n",
      " [-inf -inf -inf -inf -inf]\n",
      " [-inf -inf -inf -inf -inf]\n",
      " [-inf -inf -inf -inf -inf]\n",
      " [-inf -inf -inf -inf -inf]], [[inf inf inf inf inf]\n",
      " [inf inf inf inf inf]\n",
      " [inf inf inf inf inf]\n",
      " [inf inf inf inf inf]\n",
      " [inf inf inf inf inf]], (5, 5), float32) \n",
      "La dimensión del espacio de estados: 5\n",
      "El rango de recompensas es (-inf, inf) \n"
     ]
    }
   ],
   "source": [
    "print(\"El espacio de acciones es {} \".format(env.action_space))\n",
    "print(\"La dimensión del espacio de acciones es: {}\".format(env.action_space.n))\n",
    "# print(\"Las acciones por defecto son {}\".format(str(env.action_type.actions_indexes)))\n",
    "print(\"El espacio de observaciones es {} \".format(env.observation_space))\n",
    "print(\"La dimensión del espacio de estados: {}\".format(env.observation_space.shape[0]))\n",
    "print(\"El rango de recompensas es {} \".format(env.reward_range))"
   ]
  },
  {
   "cell_type": "markdown",
   "metadata": {},
   "source": [
    "De la anterior ejecución podemos observar que, por defecto tanto la dimensión del espacio de acciones como de estados es 5. Estos valores vienen predefinidos a la hora de cargar el entorno **highway-v0**.  \n",
    "  \n",
    "Para saber más sobre la configuración por defecto del entorno ejecutamos la siguiente instrucción:"
   ]
  },
  {
   "cell_type": "code",
   "execution_count": 4,
   "metadata": {},
   "outputs": [
    {
     "data": {
      "text/plain": [
       "{'observation': {'type': 'Kinematics'},\n",
       " 'action': {'type': 'DiscreteMetaAction'},\n",
       " 'simulation_frequency': 15,\n",
       " 'policy_frequency': 1,\n",
       " 'other_vehicles_type': 'highway_env.vehicle.behavior.IDMVehicle',\n",
       " 'screen_width': 600,\n",
       " 'screen_height': 150,\n",
       " 'centering_position': [0.3, 0.5],\n",
       " 'scaling': 5.5,\n",
       " 'show_trajectories': False,\n",
       " 'render_agent': True,\n",
       " 'offscreen_rendering': False,\n",
       " 'manual_control': False,\n",
       " 'real_time_rendering': False,\n",
       " 'lanes_count': 4,\n",
       " 'vehicles_count': 50,\n",
       " 'controlled_vehicles': 1,\n",
       " 'initial_lane_id': None,\n",
       " 'duration': 40,\n",
       " 'ego_spacing': 2,\n",
       " 'vehicles_density': 1,\n",
       " 'collision_reward': -1,\n",
       " 'right_lane_reward': 0.1,\n",
       " 'high_speed_reward': 0.4,\n",
       " 'lane_change_reward': 0,\n",
       " 'reward_speed_range': [20, 30],\n",
       " 'offroad_terminal': False}"
      ]
     },
     "execution_count": 4,
     "metadata": {},
     "output_type": "execute_result"
    }
   ],
   "source": [
    "env.env.default_config()"
   ]
  },
  {
   "cell_type": "markdown",
   "metadata": {},
   "source": [
    "Como podemos ver obtenemos la siguiente información:  \n",
    "- El tipo de observación es Kinematics, esto lo que significa es que el espacio de estados va a ser una matriz del tipo VxF, donde V es el número de vehículos cercanos a nuestro coche y F el número de características (['presence', 'x', 'y', 'vx', 'vy']).\n",
    "\n",
    "- El tipo de acciones es DiscreteMetaAction, en este caso hay 5 acciones. La primera es movernos al carril de la izquierda \"0\", la segunda es un movimiento ilegal o mantenernos en el carril actual a la velocidad actual \"1\" (cuando se produce un cambio de carril en el límite de la carretera, o cuando la acelaración o desaceleración es mayor o menor que la velocidad máxima/mínima) \"1\", la tercera es movernos al carril de la derecha \"2\", la cuarta es aumentar la velocidad \"3\" y la quinta reducir la velocidad \"4\".\n",
    "\n",
    "- El número de carriles es 4, se puede modificar para añadir más o menos.\n",
    "\n",
    "- El número de vehículos es 50 y al igual que antes se puede modificar.\n",
    "\n",
    "- La recompensa por colisión es -1.\n",
    "\n",
    "- La recompensa por estar en el carril de la derecha es 0.1.\n",
    "\n",
    "- La recompensa por alcanzar una alta velocidad es 0.4.\n",
    "\n",
    "- La recompensa por cambiar de carril es 0.\n",
    "\n",
    "- Y la recompensa por aumentar o disminuir la velocidad varía entre 20 y 30 dependiendo de forma lineal a su velocidad."
   ]
  },
  {
   "cell_type": "markdown",
   "metadata": {},
   "source": [
    "A continuación podemos ver un ejemplo de una acción tomada aleatoriamente y todas las posibles acciones que podemos tomar:"
   ]
  },
  {
   "cell_type": "code",
   "execution_count": 5,
   "metadata": {},
   "outputs": [
    {
     "name": "stdout",
     "output_type": "stream",
     "text": [
      "Acción aleatoria tomada 3\n",
      "Las posibles acciones son {'LANE_LEFT': 0, 'IDLE': 1, 'LANE_RIGHT': 2, 'FASTER': 3, 'SLOWER': 4}\n"
     ]
    }
   ],
   "source": [
    "print(\"Acción aleatoria tomada {}\".format(env.action_space.sample()))\n",
    "print(\"Las posibles acciones son {}\".format(env.action_type.actions_indexes))"
   ]
  },
  {
   "cell_type": "markdown",
   "metadata": {},
   "source": [
    "Para concluir con la exploración del entorno, vamos a mostrar un ejemplo de un estado según el espacio de observaciones por defecto junto el nombre de cada columna:"
   ]
  },
  {
   "cell_type": "code",
   "execution_count": 6,
   "metadata": {},
   "outputs": [
    {
     "name": "stdout",
     "output_type": "stream",
     "text": [
      "Un estado aleatorio sería \n",
      "[[-0.71611434  0.4489629   0.27404615 -0.9834625   0.37145188]\n",
      " [-1.12642    -0.5751261  -0.55118793  0.15826419  0.46431756]\n",
      " [ 0.17371619 -1.3394618   0.14829169  0.24760346  0.6260575 ]\n",
      " [ 0.2704591  -1.2554212   1.7203774   1.2534722   0.8363086 ]\n",
      " [ 0.4502559   2.196639   -1.1433518   0.24345477 -0.5309939 ]]\n",
      "El nombre de cada columna (característica \"F\") es ['presence', 'x', 'y', 'vx', 'vy']\n"
     ]
    }
   ],
   "source": [
    "print(\"Un estado aleatorio sería \\n{}\".format(env.observation_space.sample()))\n",
    "print(\"El nombre de cada columna (característica \\\"F\\\") es {}\".format(env.env.observation_type.features))"
   ]
  },
  {
   "cell_type": "markdown",
   "metadata": {},
   "source": [
    "#### Representación de una ejecución aleatoria"
   ]
  },
  {
   "cell_type": "code",
   "execution_count": 8,
   "metadata": {},
   "outputs": [
    {
     "name": "stdout",
     "output_type": "stream",
     "text": [
      "Obs inicial:\n"
     ]
    },
    {
     "data": {
      "image/png": "[encoded data removed]",
      "text/plain": [
       "<Figure size 432x288 with 1 Axes>"
      ]
     },
     "metadata": {
      "needs_background": "light"
     },
     "output_type": "display_data"
    },
    {
     "name": "stdout",
     "output_type": "stream",
     "text": [
      "[[ 1.          0.8879762   0.5         0.3125      0.        ]\n",
      " [ 1.          0.10103771 -0.5        -0.02180158  0.        ]\n",
      " [ 1.          0.19824308  0.25       -0.04466243  0.        ]\n",
      " [ 1.          0.2992122  -0.25       -0.04763457  0.        ]\n",
      " [ 1.          0.403103    0.         -0.04101941  0.        ]]\n",
      "\n",
      "Acción: SLOWER -> recommpensa: 0.7338962090612631\n",
      "Nuevo estado:\n"
     ]
    },
    {
     "data": {
      "image/png": "[encoded data removed]",
      "text/plain": [
       "<Figure size 432x288 with 1 Axes>"
      ]
     },
     "metadata": {
      "needs_background": "light"
     },
     "output_type": "display_data"
    },
    {
     "name": "stdout",
     "output_type": "stream",
     "text": [
      "[[ 1.00000000e+00  1.00000000e+00  5.00000000e-01  2.60680526e-01\n",
      "   0.00000000e+00]\n",
      " [ 1.00000000e+00  1.01841718e-01 -5.00000000e-01  1.38452975e-02\n",
      "   0.00000000e+00]\n",
      " [ 1.00000000e+00  1.91837981e-01  2.50000000e-01  1.70202949e-03\n",
      "   0.00000000e+00]\n",
      " [ 1.00000000e+00  2.91763723e-01 -2.50000000e-01 -3.90557980e-04\n",
      "   0.00000000e+00]\n",
      " [ 1.00000000e+00  3.97983074e-01  0.00000000e+00 -1.29935783e-04\n",
      "   0.00000000e+00]]\n",
      "\n",
      "Acción: IDLE -> recommpensa: 0.7150048162755963\n",
      "Nuevo estado:\n"
     ]
    },
    {
     "data": {
      "image/png": "[encoded data removed]",
      "text/plain": [
       "<Figure size 432x288 with 1 Axes>"
      ]
     },
     "metadata": {
      "needs_background": "light"
     },
     "output_type": "display_data"
    },
    {
     "name": "stdout",
     "output_type": "stream",
     "text": [
      "[[ 1.          1.          0.5         0.25182518  0.        ]\n",
      " [ 1.          0.10691518 -0.5         0.00939511  0.        ]\n",
      " [ 1.          0.19460802  0.25        0.01088256  0.        ]\n",
      " [ 1.          0.29327065 -0.25        0.00614922  0.        ]\n",
      " [ 1.          0.39784792  0.         -0.00190492  0.        ]]\n",
      "\n",
      "Acción: FASTER -> recommpensa: 0.822324734896006\n",
      "Nuevo estado:\n"
     ]
    },
    {
     "data": {
      "image/png": "[encoded data removed]",
      "text/plain": [
       "<Figure size 432x288 with 1 Axes>"
      ]
     },
     "metadata": {
      "needs_background": "light"
     },
     "output_type": "display_data"
    },
    {
     "name": "stdout",
     "output_type": "stream",
     "text": [
      "[[ 1.          1.          0.5         0.30213138  0.        ]\n",
      " [ 1.          0.09652952 -0.5        -0.05083687  0.        ]\n",
      " [ 1.          0.1868245   0.25       -0.04061944  0.        ]\n",
      " [ 1.          0.2832872  -0.25       -0.04533862  0.        ]\n",
      " [ 1.          0.3837005   0.         -0.05818549  0.        ]]\n",
      "\n",
      "Acción: LANE_LEFT -> recommpensa: 0.8184422241070465\n",
      "Nuevo estado:\n"
     ]
    },
    {
     "data": {
      "image/png": "[encoded data removed]",
      "text/plain": [
       "<Figure size 432x288 with 1 Axes>"
      ]
     },
     "metadata": {
      "needs_background": "light"
     },
     "output_type": "display_data"
    },
    {
     "name": "stdout",
     "output_type": "stream",
     "text": [
      "[[ 1.          1.          0.29078707  0.30885625 -0.03405561]\n",
      " [ 1.          0.07382414 -0.29078707 -0.06511736  0.03405561]\n",
      " [ 1.          0.16897275  0.45921293 -0.05067441  0.03405561]\n",
      " [ 1.          0.26413068 -0.04078706 -0.05266114  0.03405561]\n",
      " [ 1.          0.36028486  0.20921294 -0.05910895  0.03405561]]\n",
      "\n",
      "Acción: FASTER -> recommpensa: 0.932124500400611\n",
      "Nuevo estado:\n"
     ]
    },
    {
     "data": {
      "image/png": "[encoded data removed]",
      "text/plain": [
       "<Figure size 432x288 with 1 Axes>"
      ]
     },
     "metadata": {
      "needs_background": "light"
     },
     "output_type": "display_data"
    },
    {
     "name": "stdout",
     "output_type": "stream",
     "text": [
      "[[ 1.00000000e+00  1.00000000e+00  2.32782379e-01  3.64015967e-01\n",
      "   7.33717636e-04]\n",
      " [ 1.00000000e+00  3.30909155e-02 -2.32782379e-01 -1.26180232e-01\n",
      "  -7.33717636e-04]\n",
      " [ 1.00000000e+00  1.34840518e-01  5.17217636e-01 -1.07427485e-01\n",
      "  -7.33717636e-04]\n",
      " [ 1.00000000e+00  2.27486402e-01  1.72176287e-02 -1.20167859e-01\n",
      "  -7.33717636e-04]\n",
      " [ 1.00000000e+00  3.16209614e-01 -2.32782379e-01 -1.62764475e-01\n",
      "  -7.33717636e-04]]\n",
      "\n",
      "Acción: LANE_RIGHT -> recommpensa: 0.9737736861269216\n",
      "Nuevo estado:\n"
     ]
    },
    {
     "data": {
      "image/png": "[encoded data removed]",
      "text/plain": [
       "<Figure size 432x288 with 1 Axes>"
      ]
     },
     "metadata": {
      "needs_background": "light"
     },
     "output_type": "display_data"
    },
    {
     "name": "stdout",
     "output_type": "stream",
     "text": [
      "[[ 1.          1.          0.45651752  0.37128937  0.03694628]\n",
      " [ 1.         -0.01907814 -0.45651752 -0.13623244 -0.03694628]\n",
      " [ 1.          0.09063492  0.29348248 -0.11548033 -0.03694628]\n",
      " [ 1.          0.17687058 -0.20651752 -0.1342984  -0.03694628]\n",
      " [ 1.          0.253152   -0.45651752 -0.15430841 -0.03694628]]\n",
      "\n",
      "Acción: IDLE -> recommpensa: 0.9770935256242819\n",
      "Nuevo estado:\n"
     ]
    },
    {
     "data": {
      "image/png": "[encoded data removed]",
      "text/plain": [
       "<Figure size 432x288 with 1 Axes>"
      ]
     },
     "metadata": {
      "needs_background": "light"
     },
     "output_type": "display_data"
    },
    {
     "name": "stdout",
     "output_type": "stream",
     "text": [
      "[[ 1.00000000e+00  1.00000000e+00  5.17079532e-01  3.74678046e-01\n",
      "  -9.47570545e-04]\n",
      " [ 1.00000000e+00  4.33936268e-02  2.32920453e-01 -1.19228214e-01\n",
      "   9.47570545e-04]\n",
      " [ 1.00000000e+00  1.21572144e-01 -2.67079532e-01 -1.40460566e-01\n",
      "   9.47570545e-04]\n",
      " [ 1.00000000e+00  1.92612991e-01 -5.17079532e-01 -1.46918982e-01\n",
      "   9.47570545e-04]\n",
      " [ 1.00000000e+00  2.34270155e-01 -1.70795470e-02 -1.14875004e-01\n",
      "   9.47570545e-04]]\n",
      "\n",
      "Acción: SLOWER -> recommpensa: 0.8671126117520463\n",
      "Nuevo estado:\n"
     ]
    },
    {
     "data": {
      "image/png": "[encoded data removed]",
      "text/plain": [
       "<Figure size 432x288 with 1 Axes>"
      ]
     },
     "metadata": {
      "needs_background": "light"
     },
     "output_type": "display_data"
    },
    {
     "name": "stdout",
     "output_type": "stream",
     "text": [
      "[[ 1.          1.          0.50266397  0.32311848 -0.00216012]\n",
      " [ 1.          0.00817407  0.24733603 -0.06781118  0.00216012]\n",
      " [ 1.          0.07769314 -0.25266397 -0.08972305  0.00216012]\n",
      " [ 1.          0.14776759 -0.50266397 -0.08831152  0.00216012]\n",
      " [ 1.          0.20100641 -0.00266397 -0.06244579  0.00216012]]\n",
      "\n",
      "Acción: LANE_RIGHT -> recommpensa: 0.06666666666666665\n",
      "Nuevo estado:\n"
     ]
    },
    {
     "data": {
      "image/png": "[encoded data removed]",
      "text/plain": [
       "<Figure size 432x288 with 1 Axes>"
      ]
     },
     "metadata": {
      "needs_background": "light"
     },
     "output_type": "display_data"
    },
    {
     "name": "stdout",
     "output_type": "stream",
     "text": [
      "[[ 1.          1.          0.66810215  0.19297089  0.03042854]\n",
      " [ 1.         -0.01639266  0.11809959 -0.04163959 -0.03042854]\n",
      " [ 1.          0.05503775 -0.41810215  0.04058455 -0.03042854]\n",
      " [ 1.          0.1265742  -0.66810215  0.04631693 -0.03042854]\n",
      " [ 1.          0.18933906 -0.16810213  0.06809094 -0.03042854]]\n",
      "Episodio terminado después de 9 pasos y la recompensa fue 6.906438974910439\n"
     ]
    }
   ],
   "source": [
    "obs = env.reset()\n",
    "t, total_reward, done = 0, 0, False\n",
    "\n",
    "print(\"Obs inicial:\")\n",
    "plt.imshow(env.render(mode=\"rgb_array\"))\n",
    "plt.show()\n",
    "print(obs)\n",
    "\n",
    "while not done:\n",
    "    # Obtener la acción y la ejecutamos\n",
    "    action = env.action_space.sample()\n",
    "    new_obs, reward, done, info = env.step(action)\n",
    "    \n",
    "    # Imprimimos el paso\n",
    "    print(\"\\nAcción: {} -> recommpensa: {}\".format(env.action_type.actions[action], reward))\n",
    "    print(\"Nuevo estado:\")\n",
    "    plt.imshow(env.render(mode=\"rgb_array\"))\n",
    "    plt.show()\n",
    "    env.close()\n",
    "    print(new_obs)\n",
    "    \n",
    "    t += 1\n",
    "    total_reward += reward\n",
    "    obs = new_obs\n",
    "    \n",
    "print(\"Episodio terminado después de {} pasos y la recompensa fue {}\".format(t, total_reward))"
   ]
  },
  {
   "cell_type": "markdown",
   "metadata": {},
   "source": [
    "<div style=\"background-color: #grey; border-color: #7C9DBF; border-left: 5px solid #7C9DBF; padding: 0.5em;\">\n",
    "<strong>Ejercicio 1.2 (0.5 ptos) - </strong> Explicar los diferentes espacios de observaciones y de acciones:\n",
    "</div>"
   ]
  },
  {
   "cell_type": "markdown",
   "metadata": {},
   "source": [
    "Resuelto en el informe"
   ]
  },
  {
   "cell_type": "markdown",
   "metadata": {},
   "source": [
    "## 2. Agente de referencia"
   ]
  },
  {
   "cell_type": "markdown",
   "metadata": {},
   "source": [
    "<div style=\"background-color: #grey; border-color: #7C9DBF; border-left: 5px solid #7C9DBF; padding: 0.5em;\">\n",
    "<strong>Ejercicio 2.1 (1.5 ptos) - </strong> Implementar un agente DQN con la observación kinematics\n",
    "</div>"
   ]
  },
  {
   "cell_type": "markdown",
   "metadata": {},
   "source": [
    "Lo primero de todo es definir la clase que nos va a permitir crear el replay buffer:"
   ]
  },
  {
   "cell_type": "code",
   "execution_count": 9,
   "metadata": {},
   "outputs": [],
   "source": [
    "class experienceReplayBuffer:\n",
    "\n",
    "    def __init__(self, memory_size=50000, burn_in=10000):\n",
    "        self.memory_size = memory_size\n",
    "        self.burn_in = burn_in\n",
    "        self.buffer = namedtuple('Buffer', \n",
    "            field_names=['state', 'action', 'reward', 'done', 'next_state'])\n",
    "        self.replay_memory = deque(maxlen=memory_size)\n",
    "\n",
    "    def sample_batch(self, batch_size=32):\n",
    "        samples = np.random.choice(len(self.replay_memory), batch_size, \n",
    "                                   replace=False)\n",
    "        # Use asterisk operator to unpack deque \n",
    "        batch = zip(*[self.replay_memory[i] for i in samples])\n",
    "        return batch\n",
    "\n",
    "    def append(self, state, action, reward, done, next_state):\n",
    "        self.replay_memory.append(\n",
    "            self.buffer(state, action, reward, done, next_state))\n",
    "\n",
    "    def burn_in_capacity(self):\n",
    "        return len(self.replay_memory) / self.burn_in"
   ]
  },
  {
   "cell_type": "markdown",
   "metadata": {},
   "source": [
    "Posteriormente tenemos que crear la red neuronal:"
   ]
  },
  {
   "cell_type": "code",
   "execution_count": 131,
   "metadata": {},
   "outputs": [],
   "source": [
    "class NeuralNet(torch.nn.Module):  \n",
    "\n",
    "    def __init__(self, env, learning_rate=1e-3):\n",
    "        \n",
    "        \"\"\"\n",
    "        Params\n",
    "        ======\n",
    "        n_inputs: tamaño del espacio de estadps\n",
    "        n_outputs: tamaño del espacio de acciones\n",
    "        actions: array de acciones posibles\n",
    "        \"\"\"\n",
    "        ######################################\n",
    "        ##TODO: Inicializar parámetros\n",
    "        super(NeuralNet, self).__init__()\n",
    "        self.n_inputs = env.observation_space.shape[0]\n",
    "        self.n_outputs = env.action_space.n\n",
    "        self.actions = np.arange(env.action_space.n)\n",
    "        self.learning_rate = learning_rate\n",
    "        \n",
    "        #######################################\n",
    "        ##TODO: Neural network\n",
    "        self.model = torch.nn.Sequential(\n",
    "            torch.nn.Linear(self.n_inputs, 512, bias=True),\n",
    "            torch.nn.ReLU(),\n",
    "            torch.nn.Linear(512, 256, bias=True),\n",
    "            torch.nn.ReLU(),\n",
    "            torch.nn.Linear(256, 128, bias=True),\n",
    "            torch.nn.ReLU(),\n",
    "            torch.nn.Linear(128, self.n_outputs, bias=True),\n",
    "        )\n",
    "        \n",
    "        #######################################\n",
    "        ##TODO: Initialize optimizer\n",
    "        self.optimizer = torch.optim.Adam(self.parameters(), lr=self.learning_rate)\n",
    "\n",
    "\n",
    "    ### e-greedy method\n",
    "    def get_action(self, state, epsilon=0.05):\n",
    "        if np.random.random() < epsilon:\n",
    "            action = np.random.choice(self.actions)  # acción random\n",
    "        else:\n",
    "            qvals = self.get_qvals(state)  # acción del cálculo de Q para esta acción\n",
    "#             print(state)\n",
    "#             print(qvals)\n",
    "#             print(state[0])\n",
    "#             print(self.get_qvals(state[0]))\n",
    "#             action= torch.max(qvals, dim=-1)[1].item()\n",
    "            action= torch.max(qvals[0], dim=-1)[1].item()\n",
    "#             print(action)\n",
    "        return action\n",
    "    \n",
    "    \n",
    "    def get_qvals(self, state):\n",
    "        if type(state) is tuple:\n",
    "#             print(\"*******************\")\n",
    "#             print(\"ACTUALIZCION\")\n",
    "#             print(state)\n",
    "#             state = np.array([np.ravel(s) for s in state])\n",
    "#             print(state)\n",
    "#             print(\"*******************\")\n",
    "            lista = []\n",
    "            for s in state:\n",
    "                lista.append(s)\n",
    "            state = np.array(lista)\n",
    "        state_t = torch.FloatTensor(state)\n",
    "        return self.model(state_t)  "
   ]
  },
  {
   "cell_type": "markdown",
   "metadata": {},
   "source": [
    "Luego tenemos que crear el agente:"
   ]
  },
  {
   "cell_type": "code",
   "execution_count": 132,
   "metadata": {},
   "outputs": [],
   "source": [
    "class DQNAgent:\n",
    "    \n",
    "    ######################################\n",
    "    ##TODO 1: Declarar variables\n",
    "    def __init__(self, env, main_network, buffer, epsilon=0.1, eps_decay=0.99, batch_size=32):\n",
    "        \n",
    "        self.env = env\n",
    "        self.main_network = main_network\n",
    "        self.target_network = deepcopy(main_network) \n",
    "        self.buffer = buffer\n",
    "        self.epsilon = epsilon\n",
    "        self.eps_decay = eps_decay\n",
    "        self.batch_size = batch_size\n",
    "        self.nblock = 100 # bloque de los X últimos episodios de los que se calculará la media de recompensas\n",
    "        self.initialize()\n",
    "        \n",
    "    ######################################\n",
    "    ##TODO 2: Inicializar otras variables necesarias\n",
    "    def initialize(self):\n",
    "        self.update_loss = []\n",
    "        self.training_rewards = []\n",
    "        self.mean_training_rewards = []\n",
    "        self.history_loss = []\n",
    "        self.update_epsilon = []\n",
    "        self.sync_eps = []\n",
    "        self.total_reward = 0\n",
    "        self.step_count = 0\n",
    "        self.state0 = self.env.reset()\n",
    "    \n",
    "    ######################################\n",
    "    ##TODO 3: Tomar paso siguiente\n",
    "    def take_step(self, eps, mode='train'):\n",
    "        if mode == 'explore': \n",
    "            action = self.env.action_space.sample()  # acción aleatoria en el burn-in\n",
    "        else:\n",
    "            action = self.main_network.get_action(self.state0, eps) # acción a partir del valor de Q (elección de la acción con mejor Q)\n",
    "            self.step_count += 1\n",
    "            \n",
    "        #TODO: tomar 'step' i obtener nuevo estado y recompensa. Guardar la experiencia en el buffer\n",
    "        new_state, reward, done, _ = self.env.step(action)\n",
    "        self.total_reward += reward\n",
    "        self.buffer.append(self.state0, action, reward, done, new_state)\n",
    "        self.state0 = new_state.copy()\n",
    "        \n",
    "        #TODO: resetear entorno 'if done'\n",
    "        if done:\n",
    "            self.state0 = self.env.reset()\n",
    "        return done\n",
    "\n",
    "    ## TRAINING\n",
    "    def train(self, gamma=0.99, max_episodes=50000, \n",
    "              batch_size=32,\n",
    "              dnn_update_frequency=4,\n",
    "              dnn_sync_frequency=2000):\n",
    "        \n",
    "        self.gamma = gamma\n",
    "\n",
    "        # Rellenamos el buffer con N experiencias aleatorias ()\n",
    "        print(\"Filling replay buffer...\")\n",
    "        while self.buffer.burn_in_capacity() < 1:\n",
    "            self.take_step(self.epsilon, mode='explore')\n",
    "\n",
    "            \n",
    "        episode = 0\n",
    "        training = True\n",
    "        print(\"Training...\")\n",
    "        while training:\n",
    "            self.state0 = self.env.reset()\n",
    "            self.total_reward = 0\n",
    "            gamedone = False\n",
    "            while gamedone == False:\n",
    "                # El agente toma una acción\n",
    "                gamedone = self.take_step(self.epsilon, mode='train')\n",
    "                \n",
    "                #################################################################################\n",
    "                #####TODO 4:  Actualizar la red principal según la frecuencia establecida #######\n",
    "                if self.step_count % dnn_update_frequency == 0:\n",
    "                    self.update()\n",
    "                    \n",
    "                ########################################################################################\n",
    "                ###TODO 6: Sincronizar red principal y red objetivo según la frecuencia establecida#####\n",
    "                if self.step_count % dnn_sync_frequency == 0:\n",
    "                    self.target_network.load_state_dict(\n",
    "                        self.main_network.state_dict()\n",
    "                    )\n",
    "                    self.sync_eps.append(episode)\n",
    "                \n",
    "                if gamedone:                   \n",
    "                    episode += 1\n",
    "                    \n",
    "                    # Guardamos la evolución de la pérdida\n",
    "                    self.history_loss.append(np.mean(self.update_loss))\n",
    "                        \n",
    "                    self.update_loss = []\n",
    "                                    \n",
    "                    #######################################################################################\n",
    "                    ###TODO 7: calcular la media de recompensa de los últimos X episodios, y almacenar\n",
    "                    self.training_rewards.append(self.total_reward)\n",
    "                    mean_rewards = np.mean(\n",
    "                        self.training_rewards[-self.nblock:]\n",
    "                    )\n",
    "                    self.mean_training_rewards.append(mean_rewards)\n",
    "\n",
    "                    self.update_epsilon.append(self.epsilon) # Guardamos la evolución de epsilon\n",
    "                    \n",
    "                    print(\"\\rEpisode {:d} Mean Rewards {:.2f} Epsilon {}\\t\\t\".format(\n",
    "                        episode, mean_rewards, self.epsilon), end=\"\")\n",
    "                    \n",
    "                    #######################################################################################\n",
    "                    ### TODO 8: Comprobar que todavía quedan episodios. Parar el aprendizaje si se llega al límite\n",
    "                    if episode >= max_episodes:\n",
    "                        training = False\n",
    "                        print('\\nEpisode limit reached')\n",
    "                        break\n",
    "                    \n",
    "                    #Termina el juego si la media de recompensas ha llegado al umbral fijado para este juego  \n",
    "#                     if mean_rewards >= self.reward_threshold:\n",
    "#                         training = False\n",
    "#                         print('\\nEnvironment solved in {} episodes!'.format(\n",
    "#                             episode))\n",
    "#                         break\n",
    "                    \n",
    "                    #################################################################################\n",
    "                    ######TODO 9: Actualizar epsilon según la velocidad de decaimiento fijada########\n",
    "                    self.epsilon = max(self.epsilon * self.eps_decay, 0.01)\n",
    "\n",
    "    \n",
    "    def getQ(qvalues):\n",
    "        \n",
    "                    \n",
    "    #####################################         \n",
    "    #####TODO 5: cálculo de la pérdida###\n",
    "    def calculate_loss(self, batch):\n",
    "        # Separamos las variables de la experiencia y las convertimos a tensores \n",
    "        states, actions, rewards, dones, next_states = [i for i in batch] \n",
    "        rewards_vals = torch.FloatTensor(rewards)\n",
    "        actions_vals = torch.LongTensor(np.array(actions)).reshape(-1,1)\n",
    "        dones_t = torch.ByteTensor(dones)\n",
    "        \n",
    "        print(states)\n",
    "        print(\"*******************\")\n",
    "        print(actions)\n",
    "        print(\"*******************\")\n",
    "        print(actions_vals)\n",
    "        print(\"*******************\")\n",
    "        aux1 = self.main_network.get_qvals(states) \n",
    "        print(aux1)\n",
    "        \n",
    "        # Obtenemos los valores de Q de la red principal\n",
    "        qvals = torch.gather(self.main_network.get_qvals(states), 1, actions_vals)\n",
    "        # Obtenemos los valores de Q objetivo. El parámetro detach() evita que estos valores actualicen la red objetivo\n",
    "        qvals_next = torch.max(self.target_network.get_qvals(next_states),\n",
    "                               dim=-1)[0].detach()\n",
    "        qvals_next[dones_t] = 0 # 0 en estados terminales\n",
    "        \n",
    "        #################################################################################\n",
    "        ### TODO: Calcular ecuación de Bellman\n",
    "        expected_qvals = self.gamma * qvals_next + rewards_vals\n",
    "        \n",
    "        #################################################################################\n",
    "        ### TODO: Calcular la pérdida (MSE)\n",
    "        loss = torch.nn.MSELoss()(qvals, expected_qvals.reshape(-1,1))\n",
    "        \n",
    "        return loss\n",
    "\n",
    "    \n",
    "    def update(self):\n",
    "        self.main_network.optimizer.zero_grad()  # eliminamos cualquier gradiente pasado\n",
    "        batch = self.buffer.sample_batch(batch_size=self.batch_size) # seleccionamos un conjunto del buffer\n",
    "        loss = self.calculate_loss(batch) # calculamos la pérdida\n",
    "        loss.backward() # hacemos la diferencia para obtener los gradientes\n",
    "        self.main_network.optimizer.step() # aplicamos los gradientes a la red neuronal\n",
    "        # Guardamos los valores de pérdida\n",
    "        self.update_loss.append(loss.detach().numpy())\n",
    "        \n",
    "    def plot_rewards(self):\n",
    "        plt.figure(figsize=(12,8))\n",
    "        plt.plot(self.training_rewards, label='Rewards')\n",
    "        plt.plot(self.mean_training_rewards, label='Mean Rewards')\n",
    "        plt.axhline(self.reward_threshold, color='r', label=\"Reward threshold\")\n",
    "        plt.title(\"Evolución de las recompensas\")\n",
    "        plt.xlabel('Episode')\n",
    "        plt.ylabel('Reward')\n",
    "        plt.legend(loc=\"upper left\")\n",
    "        plt.show()\n",
    "        \n",
    "    def plot_loss(self):\n",
    "        plt.figure(figsize=(12,8))\n",
    "        plt.plot(self.history_loss)\n",
    "        plt.title(\"Evolución de la pérdida\")\n",
    "        plt.xlabel('Episode')\n",
    "        plt.ylabel('Loss')\n",
    "        plt.show()\n",
    "        \n",
    "    def plot_epsilon(self):\n",
    "        plt.figure(figsize=(12,8))\n",
    "        plt.plot(self.update_epsilon)\n",
    "        plt.title(\"Evolución de epsilon\")\n",
    "        plt.xlabel('Episode')\n",
    "        plt.ylabel('Epsilon')\n",
    "        plt.show()"
   ]
  },
  {
   "cell_type": "markdown",
   "metadata": {},
   "source": [
    "<div style=\"background-color: #grey; border-color: #7C9DBF; border-left: 5px solid #7C9DBF; padding: 0.5em;\">\n",
    "<strong>Ejercicio 2.2 (1 ptos) - </strong> Entrenar el agente y buscar los hiperparámetros óptimos:\n",
    "</div>"
   ]
  },
  {
   "cell_type": "code",
   "execution_count": 133,
   "metadata": {},
   "outputs": [],
   "source": [
    "# Definición de los hiperparámetros\n",
    "lr = 0.001            # Velocidad de aprendizaje\n",
    "BATCH_SIZE = 32       # Tamaño del batch\n",
    "MAX_EPISODES = 5000   # Número de episodios\n",
    "BURN_IN = 30        # Número de episodios para rellenar el buffer\n",
    "DNN_UPD = 3           # Frecuencia de actualización de la red neuronal\n",
    "DNN_SYNC = 1000       # Frecuencia de sincronización con la red objetivo\n",
    "MEMORY_SIZE = 10000   # Capacidad máxima del buffer\n",
    "GAMMA = 0.99          # Factor de descuento\n",
    "EPSILON = 1           # Epsilon\n",
    "EPSILON_DECAY = 0.99   # Decaimiento de epsilon\n",
    "# lr = 0.001            # Velocidad de aprendizaje\n",
    "# BATCH_SIZE = 32       # Tamaño del batch\n",
    "# MAX_EPISODES = 5000   # Número de episodios\n",
    "# BURN_IN = 1        # Número de episodios para rellenar el buffer\n",
    "# DNN_UPD = 3           # Frecuencia de actualización de la red neuronal\n",
    "# DNN_SYNC = 1000       # Frecuencia de sincronización con la red objetivo\n",
    "# MEMORY_SIZE = 10   # Capacidad máxima del buffer\n",
    "# GAMMA = 0.99          # Factor de descuento\n",
    "# EPSILON = 0.01           # Epsilon\n",
    "# EPSILON_DECAY = 0.99   # Decaimiento de epsilon"
   ]
  },
  {
   "cell_type": "code",
   "execution_count": 134,
   "metadata": {},
   "outputs": [
    {
     "name": "stdout",
     "output_type": "stream",
     "text": [
      "Filling replay buffer...\n",
      "Training...\n",
      "(array([[ 1.        ,  0.9129914 ,  0.        ,  0.3125    ,  0.        ],\n",
      "       [ 1.        ,  0.10992516,  0.75      , -0.03899418,  0.        ],\n",
      "       [ 1.        ,  0.2139314 ,  0.25      , -0.04853057,  0.        ],\n",
      "       [ 1.        ,  0.3258597 ,  0.5       , -0.02142795,  0.        ],\n",
      "       [ 1.        ,  0.41954118,  0.75      , -0.03356429,  0.        ]],\n",
      "      dtype=float32), array([[ 1.0000000e+00,  1.0000000e+00,  7.5000000e-01,  2.5000182e-01,\n",
      "         0.0000000e+00],\n",
      "       [ 1.0000000e+00,  2.5979714e-02, -2.5000000e-01,  3.1719066e-02,\n",
      "         3.9924042e-10],\n",
      "       [ 1.0000000e+00,  8.4599458e-02, -2.0757529e-10,  3.4087964e-03,\n",
      "         2.1864266e-10],\n",
      "       [ 1.0000000e+00,  1.7799485e-01, -7.5000000e-01, -4.7481712e-03,\n",
      "         2.4980018e-12],\n",
      "       [ 1.0000000e+00,  2.8250137e-01, -5.0000000e-01,  8.9859543e-03,\n",
      "         9.8496766e-12]], dtype=float32), array([[ 1.0000000e+00,  1.0000000e+00,  7.5000000e-01,  2.5031191e-01,\n",
      "         0.0000000e+00],\n",
      "       [ 1.0000000e+00,  9.8870032e-02, -5.0752532e-01,  2.0903568e-03,\n",
      "         2.0492331e-03],\n",
      "       [ 1.0000000e+00,  1.7856456e-01, -7.5000000e-01, -2.0344680e-02,\n",
      "         0.0000000e+00],\n",
      "       [ 1.0000000e+00,  2.7227977e-01, -1.4818458e-01, -1.2470865e-02,\n",
      "         4.9146596e-02],\n",
      "       [ 1.0000000e+00,  4.0204459e-01, -7.5215417e-01,  1.6092334e-03,\n",
      "        -5.2488806e-05]], dtype=float32), array([[ 1.0000000e+00,  1.0000000e+00,  7.5000000e-01,  3.6279714e-01,\n",
      "         0.0000000e+00],\n",
      "       [ 1.0000000e+00,  2.8224058e-02, -2.5052780e-01, -8.5313611e-02,\n",
      "         8.9640227e-05],\n",
      "       [ 1.0000000e+00,  4.1425422e-02, -4.9677953e-01, -1.2316075e-01,\n",
      "        -1.7857953e-03],\n",
      "       [ 1.0000000e+00,  1.7927967e-01, -8.7596563e-06, -1.1077094e-01,\n",
      "         3.4309796e-05],\n",
      "       [ 1.0000000e+00,  2.9773596e-01, -7.5000107e-01, -1.1843761e-01,\n",
      "         6.3646019e-07]], dtype=float32), array([[ 1.0000000e+00,  1.0000000e+00,  7.5000000e-01,  3.0359164e-01,\n",
      "         0.0000000e+00],\n",
      "       [ 1.0000000e+00,  5.3727213e-02, -2.4938661e-01, -2.9696051e-02,\n",
      "        -1.0839517e-03],\n",
      "       [ 1.0000000e+00,  8.2129367e-02, -4.8946881e-01, -6.7813963e-02,\n",
      "         2.7294557e-03],\n",
      "       [ 1.0000000e+00,  2.1410659e-01, -3.6402847e-04, -5.0735995e-02,\n",
      "         9.5877389e-05],\n",
      "       [ 1.0000000e+00,  3.3569992e-01, -7.5000393e-01, -5.8799174e-02,\n",
      "        -8.0033323e-07]], dtype=float32), array([[ 1.        ,  0.87661755,  0.        ,  0.3125    ,  0.        ],\n",
      "       [ 1.        ,  0.10579504,  0.5       , -0.01868164,  0.        ],\n",
      "       [ 1.        ,  0.21008945,  0.        , -0.04685188,  0.        ],\n",
      "       [ 1.        ,  0.3067577 ,  0.25      , -0.02173402,  0.        ],\n",
      "       [ 1.        ,  0.4195818 ,  0.75      , -0.03772299,  0.        ]],\n",
      "      dtype=float32), array([[ 1.0000000e+00,  1.0000000e+00,  7.5000000e-01,  2.6244479e-01,\n",
      "         0.0000000e+00],\n",
      "       [ 1.0000000e+00, -3.4828562e-02, -2.4999788e-01,  1.9114591e-02,\n",
      "        -2.9974447e-06],\n",
      "       [ 1.0000000e+00,  8.2351394e-02, -8.3157420e-07, -1.0535516e-02,\n",
      "         1.5407137e-07],\n",
      "       [ 1.0000000e+00,  1.9166617e-01, -7.5000000e-01, -1.8249670e-02,\n",
      "        -3.2707912e-09],\n",
      "       [ 1.0000000e+00,  2.6987141e-01, -5.0000006e-01, -6.1152824e-03,\n",
      "         5.0541487e-09]], dtype=float32), array([[ 1.0000000e+00,  1.0000000e+00,  7.5000000e-01,  3.1068394e-01,\n",
      "         0.0000000e+00],\n",
      "       [ 1.0000000e+00,  6.6291295e-02, -2.5993514e-01, -5.0098341e-02,\n",
      "         2.0792894e-02],\n",
      "       [ 1.0000000e+00,  1.2600252e-01, -7.5000000e-01, -8.2402430e-02,\n",
      "         0.0000000e+00],\n",
      "       [ 1.0000000e+00,  2.3666981e-01,  7.5677624e-03, -5.2497331e-02,\n",
      "        -2.2805582e-03],\n",
      "       [ 1.0000000e+00,  3.6584738e-01, -7.4990684e-01, -6.3818492e-02,\n",
      "         9.6584163e-06]], dtype=float32), array([[ 1.        ,  1.        ,  0.        ,  0.3125    ,  0.        ],\n",
      "       [ 1.        ,  0.09632745,  0.5       , -0.0289148 ,  0.        ],\n",
      "       [ 1.        ,  0.19073108,  0.        , -0.05035548,  0.        ],\n",
      "       [ 1.        ,  0.29730234,  0.25      , -0.02747046,  0.        ],\n",
      "       [ 1.        ,  0.39870262,  0.75      , -0.06415455,  0.        ]],\n",
      "      dtype=float32), array([[ 1.        ,  1.        ,  0.        ,  0.36583275,  0.        ],\n",
      "       [ 1.        ,  0.01277552,  0.5       , -0.09932804,  0.        ],\n",
      "       [ 1.        ,  0.09093615,  0.        , -0.10673103,  0.        ],\n",
      "       [ 1.        ,  0.21899495,  0.25      , -0.09136667,  0.        ],\n",
      "       [ 1.        ,  0.27011055,  0.75      , -0.13475998,  0.        ]],\n",
      "      dtype=float32), array([[ 1.        ,  1.        ,  0.        ,  0.36431947,  0.        ],\n",
      "       [ 1.        ,  0.07069239,  0.5       , -0.0883548 ,  0.        ],\n",
      "       [ 1.        ,  0.1577001 ,  0.        , -0.10360999,  0.        ],\n",
      "       [ 1.        ,  0.2724982 ,  0.25      , -0.08526672,  0.        ],\n",
      "       [ 1.        ,  0.3581268 ,  0.75      , -0.12697557,  0.        ]],\n",
      "      dtype=float32), array([[ 1.        ,  1.        ,  0.75      ,  0.37317482,  0.        ],\n",
      "       [ 1.        ,  0.01879054, -0.7320171 , -0.12088214, -0.02382212],\n",
      "       [ 1.        ,  0.09985161, -0.25      , -0.16669235,  0.        ],\n",
      "       [ 1.        ,  0.23911265, -0.25      , -0.11680285,  0.        ],\n",
      "       [ 1.        ,  0.32830507, -0.5       , -0.12545577,  0.        ]],\n",
      "      dtype=float32), array([[ 1.        ,  0.892374  ,  0.75      ,  0.3125    ,  0.        ],\n",
      "       [ 1.        ,  0.09865322, -0.5       , -0.0431003 ,  0.        ],\n",
      "       [ 1.        ,  0.20164476, -0.25      , -0.03418424,  0.        ],\n",
      "       [ 1.        ,  0.30684516, -0.25      , -0.02932519,  0.        ],\n",
      "       [ 1.        ,  0.4060966 , -0.5       , -0.0230146 ,  0.        ]],\n",
      "      dtype=float32), array([[ 1.0000000e+00,  1.0000000e+00,  7.5000000e-01,  2.5000030e-01,\n",
      "         0.0000000e+00],\n",
      "       [ 1.0000000e+00,  3.8629774e-02, -2.5000000e-01,  3.1511120e-02,\n",
      "         4.3154835e-10],\n",
      "       [ 1.0000000e+00,  8.6021788e-02,  8.6145091e-11,  3.7220132e-03,\n",
      "        -4.8938631e-12],\n",
      "       [ 1.0000000e+00,  1.7614554e-01, -7.5000000e-01, -4.4798693e-03,\n",
      "         5.5289107e-13],\n",
      "       [ 1.0000000e+00,  2.8616241e-01, -5.0000000e-01,  9.3356408e-03,\n",
      "        -9.6589403e-14]], dtype=float32), array([[ 1.        ,  1.        ,  0.        ,  0.32161394,  0.        ],\n",
      "       [ 1.        , -0.01682341,  0.5       , -0.05812136,  0.        ],\n",
      "       [ 1.        ,  0.05890639,  0.        , -0.06277505,  0.        ],\n",
      "       [ 1.        ,  0.19292556,  0.25      , -0.04838059,  0.        ],\n",
      "       [ 1.        ,  0.22688715,  0.75      , -0.09056251,  0.        ]],\n",
      "      dtype=float32), array([[ 1.        ,  1.        ,  0.45698324,  0.3730704 ,  0.03478018],\n",
      "       [ 1.        ,  0.04196589, -0.20698324, -0.12073679, -0.03478018],\n",
      "       [ 1.        ,  0.19504231,  0.04301677, -0.10033955, -0.03478018],\n",
      "       [ 1.        ,  0.24737842,  0.29301676, -0.12942697, -0.03478018],\n",
      "       [ 1.        ,  0.36284345, -0.45698324, -0.11889355, -0.03478018]],\n",
      "      dtype=float32), array([[ 1.0000000e+00,  1.0000000e+00,  7.5000000e-01,  3.7291467e-01,\n",
      "         0.0000000e+00],\n",
      "       [ 1.0000000e+00, -7.9160258e-03, -2.5003648e-01, -9.3283787e-02,\n",
      "         5.7006237e-05],\n",
      "       [ 1.0000000e+00, -9.7771781e-03, -5.0042295e-01, -1.3070269e-01,\n",
      "        -1.7261569e-04],\n",
      "       [ 1.0000000e+00,  1.3245130e-01,  1.7454257e-05, -1.2117819e-01,\n",
      "        -3.9205152e-06],\n",
      "       [ 1.0000000e+00,  2.4786487e-01, -7.4999982e-01, -1.2875190e-01,\n",
      "         5.3788419e-08]], dtype=float32), array([[ 1.        ,  1.        ,  0.20821731,  0.31063917,  0.03405233],\n",
      "       [ 1.        ,  0.07108881,  0.5417827 , -0.0564776 , -0.03405233],\n",
      "       [ 1.        ,  0.17205688,  0.0417827 , -0.05560473, -0.03405233],\n",
      "       [ 1.        ,  0.30090973,  0.2917827 , -0.03700293, -0.03405233],\n",
      "       [ 1.        ,  0.3860632 ,  0.5417827 , -0.05739415, -0.03405233]],\n",
      "      dtype=float32), array([[ 1.0000000e+00,  1.0000000e+00,  7.5000000e-01,  2.6037017e-01,\n",
      "         0.0000000e+00],\n",
      "       [ 1.0000000e+00,  5.9948877e-02, -2.3979102e-01,  7.7023180e-03,\n",
      "        -1.8795376e-03],\n",
      "       [ 1.0000000e+00,  1.0385438e-01, -5.6151950e-01, -3.3607628e-02,\n",
      "         3.9072655e-02],\n",
      "       [ 1.0000000e+00,  2.2724529e-01,  2.4963183e-05, -5.6725387e-03,\n",
      "        -6.6554133e-04],\n",
      "       [ 1.0000000e+00,  3.5225695e-01, -7.4997890e-01, -1.4796222e-02,\n",
      "        -1.3789040e-05]], dtype=float32), array([[ 1.        ,  1.        ,  0.        ,  0.32135534,  0.        ],\n",
      "       [ 1.        ,  0.04468713,  0.5       , -0.05085849,  0.        ],\n",
      "       [ 1.        ,  0.12649322,  0.        , -0.06157663,  0.        ],\n",
      "       [ 1.        ,  0.24818976,  0.25      , -0.04519217,  0.        ],\n",
      "       [ 1.        ,  0.31673864,  0.75      , -0.08869192,  0.        ]],\n",
      "      dtype=float32), array([[ 1.00000000e+00,  1.00000000e+00,  2.67013729e-01,\n",
      "         3.64318997e-01, -5.95727586e-04],\n",
      "       [ 1.00000000e+00,  3.43439989e-02,  4.82986271e-01,\n",
      "        -1.15057051e-01,  5.95727586e-04],\n",
      "       [ 1.00000000e+00,  1.36317596e-01, -1.70137342e-02,\n",
      "        -1.10869929e-01,  5.95727586e-04],\n",
      "       [ 1.00000000e+00,  2.72972018e-01,  2.32986271e-01,\n",
      "        -9.06332582e-02,  5.95727586e-04],\n",
      "       [ 1.00000000e+00,  3.48441899e-01,  4.82986271e-01,\n",
      "        -1.17946185e-01,  5.95727586e-04]], dtype=float32), array([[ 1.        ,  1.        ,  0.75      ,  0.36431947,  0.        ],\n",
      "       [ 1.        ,  0.06628461, -0.53400826, -0.10922248, -0.03414453],\n",
      "       [ 1.        ,  0.16266459, -0.25      , -0.14339593,  0.        ],\n",
      "       [ 1.        ,  0.28126246, -0.25      , -0.09060831,  0.        ],\n",
      "       [ 1.        ,  0.37758154, -0.5       , -0.10984246,  0.        ]],\n",
      "      dtype=float32), array([[ 1.0000000e+00,  1.0000000e+00,  7.5000000e-01,  3.0187279e-01,\n",
      "         0.0000000e+00],\n",
      "       [ 1.0000000e+00,  8.7453552e-02, -4.5038873e-01, -5.0091997e-02,\n",
      "         4.1425865e-02],\n",
      "       [ 1.0000000e+00,  1.5757532e-01, -7.5000000e-01, -7.3443465e-02,\n",
      "         0.0000000e+00],\n",
      "       [ 1.0000000e+00,  2.5755009e-01,  2.7479318e-03, -5.0389018e-02,\n",
      "         1.2707250e-02],\n",
      "       [ 1.0000000e+00,  3.8958347e-01, -7.5039631e-01, -5.2983668e-02,\n",
      "         2.9416470e-04]], dtype=float32), array([[ 1.0000000e+00,  1.0000000e+00,  7.5000000e-01,  2.5036341e-01,\n",
      "         0.0000000e+00],\n",
      "       [ 1.0000000e+00, -1.2246311e-02, -2.5000012e-01,  3.1651638e-02,\n",
      "         1.5739883e-07],\n",
      "       [ 1.0000000e+00,  8.1179678e-02,  3.9346048e-08,  2.0940423e-03,\n",
      "        -5.6955711e-09],\n",
      "       [ 1.0000000e+00,  1.8423839e-01, -7.5000000e-01, -5.8356756e-03,\n",
      "         1.8744761e-10],\n",
      "       [ 1.0000000e+00,  2.7257431e-01, -5.0000000e-01,  7.2787371e-03,\n",
      "        -1.7888424e-10]], dtype=float32), array([[ 1.        ,  0.92001945,  0.75      ,  0.3125    ,  0.        ],\n",
      "       [ 1.        ,  0.11030368, -0.25      , -0.02153009,  0.        ],\n",
      "       [ 1.        ,  0.2022444 , -0.75      , -0.04180409,  0.        ],\n",
      "       [ 1.        ,  0.29513088, -0.25      , -0.03750015,  0.        ],\n",
      "       [ 1.        ,  0.40364802, -0.75      , -0.03388557,  0.        ]],\n",
      "      dtype=float32), array([[ 1.        ,  1.        ,  0.75      ,  0.25182518,  0.        ],\n",
      "       [ 1.        ,  0.09915884, -0.50038344, -0.00420556, -0.01350374],\n",
      "       [ 1.        ,  0.18613647, -0.75      , -0.01745607,  0.        ],\n",
      "       [ 1.        ,  0.27749372, -0.25233677, -0.01540039,  0.00204274],\n",
      "       [ 1.        ,  0.40078086, -0.74271405,  0.0042478 , -0.00615318]],\n",
      "      dtype=float32), array([[ 1.        ,  1.        ,  0.25243998,  0.37316802, -0.0022548 ],\n",
      "       [ 1.        , -0.01443859,  0.49756002, -0.12693864,  0.0022548 ],\n",
      "       [ 1.        ,  0.08966202, -0.00243998, -0.12049994,  0.0022548 ],\n",
      "       [ 1.        ,  0.23451418,  0.24756002, -0.09986501,  0.0022548 ],\n",
      "       [ 1.        ,  0.29857984,  0.49756002, -0.12917556,  0.0022548 ]],\n",
      "      dtype=float32), array([[ 1.0000000e+00,  1.0000000e+00,  7.5000000e-01,  2.5212666e-01,\n",
      "         0.0000000e+00],\n",
      "       [ 1.0000000e+00, -2.4609372e-02, -2.5000140e-01,  2.9769160e-02,\n",
      "         1.9686476e-07],\n",
      "       [ 1.0000000e+00,  8.0683902e-02, -5.5408190e-08,  3.5133689e-05,\n",
      "         8.8106987e-08],\n",
      "       [ 1.0000000e+00,  1.8689243e-01, -7.5000000e-01, -7.7895029e-03,\n",
      "         1.2999573e-09],\n",
      "       [ 1.0000000e+00,  2.7006483e-01, -5.0000000e-01,  4.9177390e-03,\n",
      "         3.9336867e-09]], dtype=float32), array([[ 1.        ,  1.        ,  0.        ,  0.3125    ,  0.        ],\n",
      "       [ 1.        ,  0.09178474,  0.75      , -0.05100991,  0.        ],\n",
      "       [ 1.        ,  0.19329539,  0.25      , -0.05440383,  0.        ],\n",
      "       [ 1.        ,  0.31496587,  0.5       , -0.03430779,  0.        ],\n",
      "       [ 1.        ,  0.4053712 ,  0.75      , -0.04152602,  0.        ]],\n",
      "      dtype=float32), array([[ 1.00000000e+00,  1.00000000e+00,  7.50000000e-01,\n",
      "         2.60680526e-01,  0.00000000e+00],\n",
      "       [ 1.00000000e+00,  1.04112186e-01, -3.48101944e-01,\n",
      "        -1.89542845e-02, -4.77417037e-02],\n",
      "       [ 1.00000000e+00,  1.92532897e-01, -7.50000000e-01,\n",
      "        -1.56380497e-02,  0.00000000e+00],\n",
      "       [ 1.00000000e+00,  2.85879135e-01, -2.65949160e-01,\n",
      "        -2.02381331e-02,  7.42748263e-04],\n",
      "       [ 1.00000000e+00,  3.99170995e-01, -7.01674521e-01,\n",
      "         2.53204443e-03, -1.88690831e-03]], dtype=float32), array([[ 1.0000000e+00,  1.0000000e+00,  7.5000000e-01,  3.2282415e-01,\n",
      "         0.0000000e+00],\n",
      "       [ 1.0000000e+00, -3.2829780e-02, -2.4997279e-01, -4.1948818e-02,\n",
      "        -4.2322663e-06],\n",
      "       [ 1.0000000e+00, -4.9562015e-02, -5.0016463e-01, -7.8834653e-02,\n",
      "         8.1155638e-05],\n",
      "       [ 1.0000000e+00,  9.6118167e-02,  7.8780215e-07, -7.1081772e-02,\n",
      "        -1.7472546e-06],\n",
      "       [ 1.0000000e+00,  2.0849696e-01, -7.4999994e-01, -7.8698859e-02,\n",
      "        -2.8966735e-08]], dtype=float32), array([[ 1.0000000e+00,  1.0000000e+00,  7.5000000e-01,  2.5001061e-01,\n",
      "         0.0000000e+00],\n",
      "       [ 1.0000000e+00,  1.3256059e-02, -2.5000000e-01,  3.1878002e-02,\n",
      "        -8.2502645e-09],\n",
      "       [ 1.0000000e+00,  8.3305031e-02, -1.8481878e-09,  3.0818784e-03,\n",
      "         1.8898794e-10],\n",
      "       [ 1.0000000e+00,  1.7995097e-01, -7.5000000e-01, -5.0153090e-03,\n",
      "        -1.0325962e-11],\n",
      "       [ 1.0000000e+00,  2.7899024e-01, -5.0000000e-01,  8.5860286e-03,\n",
      "         5.3814730e-12]], dtype=float32))\n",
      "*******************\n",
      "(1, 4, 3, 3, 3, 0, 1, 4, 3, 4, 4, 4, 3, 3, 3, 0, 4, 3, 3, 3, 1, 2, 1, 1, 4, 4, 2, 4, 2, 1, 4, 4)\n",
      "*******************\n",
      "tensor([[1],\n",
      "        [4],\n",
      "        [3],\n",
      "        [3],\n",
      "        [3],\n",
      "        [0],\n",
      "        [1],\n",
      "        [4],\n",
      "        [3],\n",
      "        [4],\n",
      "        [4],\n",
      "        [4],\n",
      "        [3],\n",
      "        [3],\n",
      "        [3],\n",
      "        [0],\n",
      "        [4],\n",
      "        [3],\n",
      "        [3],\n",
      "        [3],\n",
      "        [1],\n",
      "        [2],\n",
      "        [1],\n",
      "        [1],\n",
      "        [4],\n",
      "        [4],\n",
      "        [2],\n",
      "        [4],\n",
      "        [2],\n",
      "        [1],\n",
      "        [4],\n",
      "        [4]])\n",
      "*******************\n",
      "tensor([[[ 1.7302e-02, -7.4640e-02,  1.2601e-01,  9.5104e-02,  7.3113e-02],\n",
      "         [-2.1307e-02, -9.9159e-02,  1.2047e-01,  6.8022e-02,  8.0084e-02],\n",
      "         [-3.2610e-04, -9.6968e-02,  1.1820e-01,  7.7131e-02,  7.5164e-02],\n",
      "         [-9.4744e-03, -9.1042e-02,  1.1997e-01,  7.3491e-02,  7.9155e-02],\n",
      "         [-1.8548e-02, -8.8292e-02,  1.2163e-01,  7.1582e-02,  8.5060e-02]],\n",
      "\n",
      "        [[ 4.1247e-03, -6.6472e-02,  1.2312e-01,  8.2834e-02,  8.7314e-02],\n",
      "         [ 7.2364e-03, -8.8117e-02,  1.0952e-01,  9.8981e-02,  6.5838e-02],\n",
      "         [ 5.8434e-03, -9.5501e-02,  1.1229e-01,  8.7882e-02,  7.0553e-02],\n",
      "         [ 1.0833e-02, -7.0235e-02,  1.1174e-01,  1.2098e-01,  6.1222e-02],\n",
      "         [ 1.1880e-02, -7.7584e-02,  1.1365e-01,  1.1391e-01,  6.2587e-02]],\n",
      "\n",
      "        [[ 4.1371e-03, -6.6465e-02,  1.2312e-01,  8.2835e-02,  8.7309e-02],\n",
      "         [ 1.0256e-02, -7.8521e-02,  1.1172e-01,  1.1163e-01,  6.1709e-02],\n",
      "         [ 1.0980e-02, -7.0128e-02,  1.1198e-01,  1.2099e-01,  6.1387e-02],\n",
      "         [ 1.1564e-02, -8.7854e-02,  1.1424e-01,  9.4282e-02,  6.7872e-02],\n",
      "         [ 1.1542e-02, -6.8232e-02,  1.1500e-01,  1.2319e-01,  6.3505e-02]],\n",
      "\n",
      "        [[ 8.2492e-03, -6.3491e-02,  1.2211e-01,  8.2778e-02,  8.6210e-02],\n",
      "         [ 8.0129e-03, -8.8503e-02,  1.1244e-01,  9.9759e-02,  6.6925e-02],\n",
      "         [ 1.1180e-02, -7.9712e-02,  1.1415e-01,  1.1000e-01,  6.2907e-02],\n",
      "         [ 8.3929e-03, -9.4154e-02,  1.1647e-01,  8.7132e-02,  7.1369e-02],\n",
      "         [ 1.2049e-02, -6.8872e-02,  1.1541e-01,  1.2213e-01,  6.3771e-02]],\n",
      "\n",
      "        [[ 6.2234e-03, -6.5034e-02,  1.2280e-01,  8.2920e-02,  8.6642e-02],\n",
      "         [ 7.9027e-03, -8.8327e-02,  1.1135e-01,  9.9729e-02,  6.6647e-02],\n",
      "         [ 1.0492e-02, -7.9306e-02,  1.1318e-01,  1.1026e-01,  6.2540e-02],\n",
      "         [ 8.7190e-03, -9.4005e-02,  1.1618e-01,  8.6784e-02,  7.0798e-02],\n",
      "         [ 1.1454e-02, -6.8495e-02,  1.1485e-01,  1.2293e-01,  6.3745e-02]],\n",
      "\n",
      "        [[ 1.6995e-02, -7.5587e-02,  1.2512e-01,  9.5408e-02,  7.2830e-02],\n",
      "         [-1.1722e-02, -9.8417e-02,  1.1774e-01,  7.0391e-02,  7.7385e-02],\n",
      "         [ 8.6024e-03, -9.4040e-02,  1.1603e-01,  8.6786e-02,  7.0801e-02],\n",
      "         [ 8.4374e-04, -9.5437e-02,  1.1966e-01,  7.8056e-02,  7.3719e-02],\n",
      "         [-1.8704e-02, -8.8290e-02,  1.2168e-01,  7.1559e-02,  8.5144e-02]],\n",
      "\n",
      "        [[ 4.6241e-03, -6.6195e-02,  1.2307e-01,  8.2851e-02,  8.7146e-02],\n",
      "         [ 6.0619e-03, -8.9124e-02,  1.0897e-01,  9.8313e-02,  6.5917e-02],\n",
      "         [ 5.8965e-03, -9.5510e-02,  1.1268e-01,  8.7800e-02,  7.0734e-02],\n",
      "         [ 1.0999e-02, -7.0013e-02,  1.1202e-01,  1.2125e-01,  6.1465e-02],\n",
      "         [ 1.1562e-02, -7.7729e-02,  1.1370e-01,  1.1380e-01,  6.2924e-02]],\n",
      "\n",
      "        [[ 6.4973e-03, -6.4826e-02,  1.2276e-01,  8.2923e-02,  8.6569e-02],\n",
      "         [ 8.2142e-03, -8.7231e-02,  1.1191e-01,  1.0018e-01,  6.6549e-02],\n",
      "         [ 1.1786e-02, -7.0558e-02,  1.1306e-01,  1.1940e-01,  6.1145e-02],\n",
      "         [ 9.0200e-03, -9.3859e-02,  1.1678e-01,  8.6322e-02,  7.0822e-02],\n",
      "         [ 1.1744e-02, -6.8135e-02,  1.1543e-01,  1.2282e-01,  6.4148e-02]],\n",
      "\n",
      "        [[ 1.8128e-02, -7.2703e-02,  1.2776e-01,  9.4513e-02,  7.3667e-02],\n",
      "         [-1.1953e-02, -9.8745e-02,  1.1785e-01,  7.0240e-02,  7.7458e-02],\n",
      "         [ 8.2690e-03, -9.4306e-02,  1.1576e-01,  8.6875e-02,  7.0941e-02],\n",
      "         [ 6.9269e-04, -9.5590e-02,  1.1960e-01,  7.7947e-02,  7.3847e-02],\n",
      "         [-2.0060e-02, -8.8850e-02,  1.2181e-01,  7.0907e-02,  8.5397e-02]],\n",
      "\n",
      "        [[ 1.8958e-02, -7.1927e-02,  1.2700e-01,  9.4959e-02,  7.4322e-02],\n",
      "         [-1.2333e-02, -1.0222e-01,  1.1801e-01,  7.0469e-02,  7.8719e-02],\n",
      "         [ 6.6685e-03, -9.5300e-02,  1.1515e-01,  8.7733e-02,  7.1776e-02],\n",
      "         [-2.1494e-04, -9.6607e-02,  1.1870e-01,  7.7815e-02,  7.5161e-02],\n",
      "         [-2.3652e-02, -9.3398e-02,  1.2234e-01,  6.9209e-02,  8.4690e-02]],\n",
      "\n",
      "        [[ 1.8934e-02, -7.1949e-02,  1.2703e-01,  9.4950e-02,  7.4299e-02],\n",
      "         [-1.2780e-02, -9.9966e-02,  1.1848e-01,  6.9836e-02,  7.8364e-02],\n",
      "         [ 8.0243e-03, -9.4425e-02,  1.1605e-01,  8.7183e-02,  7.1434e-02],\n",
      "         [ 2.5989e-04, -9.5415e-02,  1.1974e-01,  7.8258e-02,  7.4133e-02],\n",
      "         [-2.2253e-02, -9.0154e-02,  1.2235e-01,  7.0730e-02,  8.5923e-02]],\n",
      "\n",
      "        [[ 8.5589e-03, -6.3238e-02,  1.2196e-01,  8.2739e-02,  8.6152e-02],\n",
      "         [ 1.3284e-02, -7.2933e-02,  1.1332e-01,  1.1674e-01,  6.0325e-02],\n",
      "         [ 9.9555e-03, -8.7126e-02,  1.1547e-01,  1.0025e-01,  6.7252e-02],\n",
      "         [ 1.2051e-02, -8.6516e-02,  1.1690e-01,  1.0087e-01,  6.6335e-02],\n",
      "         [ 1.2025e-02, -7.5978e-02,  1.1730e-01,  1.1376e-01,  6.4533e-02]],\n",
      "\n",
      "        [[ 3.6729e-03, -6.8841e-02,  1.2165e-01,  8.1787e-02,  8.5270e-02],\n",
      "         [ 1.0343e-02, -7.8833e-02,  1.1276e-01,  1.1111e-01,  6.2306e-02],\n",
      "         [ 1.0756e-02, -8.6940e-02,  1.1375e-01,  1.0082e-01,  6.6272e-02],\n",
      "         [ 1.2709e-02, -8.6295e-02,  1.1559e-01,  1.0056e-01,  6.5803e-02],\n",
      "         [ 1.3547e-02, -7.6178e-02,  1.1700e-01,  1.1345e-01,  6.3063e-02]],\n",
      "\n",
      "        [[ 4.1246e-03, -6.6472e-02,  1.2312e-01,  8.2834e-02,  8.7314e-02],\n",
      "         [ 7.4845e-03, -8.7975e-02,  1.0964e-01,  9.9169e-02,  6.5880e-02],\n",
      "         [ 5.8664e-03, -9.5475e-02,  1.1231e-01,  8.7871e-02,  7.0545e-02],\n",
      "         [ 1.0826e-02, -7.0253e-02,  1.1173e-01,  1.2094e-01,  6.1205e-02],\n",
      "         [ 1.1931e-02, -7.7534e-02,  1.1372e-01,  1.1391e-01,  6.2581e-02]],\n",
      "\n",
      "        [[ 1.8260e-02, -7.2584e-02,  1.2765e-01,  9.4614e-02,  7.3754e-02],\n",
      "         [-1.1710e-02, -1.0325e-01,  1.1712e-01,  7.0768e-02,  7.7686e-02],\n",
      "         [ 5.7080e-03, -9.6253e-02,  1.1370e-01,  8.7652e-02,  7.1438e-02],\n",
      "         [-5.2351e-04, -9.7476e-02,  1.1770e-01,  7.6871e-02,  7.5550e-02],\n",
      "         [-2.3212e-02, -9.4819e-02,  1.2169e-01,  6.8212e-02,  8.2791e-02]],\n",
      "\n",
      "        [[ 1.3365e-02, -6.7225e-02,  1.2212e-01,  8.8108e-02,  8.4030e-02],\n",
      "         [ 8.4563e-03, -9.0246e-02,  1.1422e-01,  9.8140e-02,  6.7598e-02],\n",
      "         [ 8.0416e-03, -9.6175e-02,  1.1772e-01,  8.5034e-02,  7.1898e-02],\n",
      "         [-1.9621e-03, -9.6301e-02,  1.2147e-01,  7.6794e-02,  7.5357e-02],\n",
      "         [ 1.3276e-02, -7.8245e-02,  1.1872e-01,  1.1155e-01,  6.4346e-02]],\n",
      "\n",
      "        [[ 8.5509e-03, -6.3244e-02,  1.2196e-01,  8.2740e-02,  8.6153e-02],\n",
      "         [ 7.7145e-03, -8.9106e-02,  1.1215e-01,  9.9502e-02,  6.7008e-02],\n",
      "         [ 1.0955e-02, -8.0321e-02,  1.1383e-01,  1.0906e-01,  6.2631e-02],\n",
      "         [ 7.6392e-03, -9.4496e-02,  1.1598e-01,  8.7547e-02,  7.1752e-02],\n",
      "         [ 1.2185e-02, -6.9305e-02,  1.1504e-01,  1.2129e-01,  6.3245e-02]],\n",
      "\n",
      "        [[ 1.6659e-02, -7.2738e-02,  1.2537e-01,  9.3565e-02,  7.9017e-02],\n",
      "         [-1.3179e-02, -1.0046e-01,  1.1989e-01,  6.9800e-02,  7.7280e-02],\n",
      "         [ 7.3804e-03, -9.6469e-02,  1.1648e-01,  8.5152e-02,  7.1638e-02],\n",
      "         [-7.3368e-04, -9.5791e-02,  1.2118e-01,  7.7175e-02,  7.4014e-02],\n",
      "         [-1.0716e-02, -9.0452e-02,  1.2266e-01,  7.5267e-02,  8.0267e-02]],\n",
      "\n",
      "        [[ 4.5395e-03, -6.6245e-02,  1.2308e-01,  8.2853e-02,  8.7171e-02],\n",
      "         [ 7.9060e-03, -8.8327e-02,  1.1043e-01,  9.9176e-02,  6.6476e-02],\n",
      "         [ 1.0581e-02, -7.5619e-02,  1.1239e-01,  1.1321e-01,  6.1446e-02],\n",
      "         [ 8.6598e-03, -9.3404e-02,  1.1559e-01,  8.6868e-02,  7.0321e-02],\n",
      "         [ 1.1253e-02, -6.8540e-02,  1.1456e-01,  1.2331e-01,  6.3376e-02]],\n",
      "\n",
      "        [[ 1.8257e-02, -7.2587e-02,  1.2765e-01,  9.4611e-02,  7.3751e-02],\n",
      "         [-1.2152e-02, -1.0083e-01,  1.1761e-01,  7.0220e-02,  7.7516e-02],\n",
      "         [ 7.1622e-03, -9.4988e-02,  1.1487e-01,  8.7171e-02,  7.1293e-02],\n",
      "         [ 1.0591e-04, -9.6247e-02,  1.1891e-01,  7.7526e-02,  7.4463e-02],\n",
      "         [-2.1877e-02, -9.1497e-02,  1.2203e-01,  6.9742e-02,  8.4547e-02]],\n",
      "\n",
      "        [[ 1.7111e-02, -7.2496e-02,  1.2606e-01,  9.2674e-02,  8.0657e-02],\n",
      "         [-1.1974e-02, -1.0137e-01,  1.1817e-01,  7.0472e-02,  7.8985e-02],\n",
      "         [ 7.9682e-03, -9.4067e-02,  1.1560e-01,  8.8229e-02,  7.1252e-02],\n",
      "         [ 1.1441e-03, -9.5493e-02,  1.1969e-01,  7.8842e-02,  7.3838e-02],\n",
      "         [-1.0513e-02, -9.2111e-02,  1.2165e-01,  7.4738e-02,  8.0146e-02]],\n",
      "\n",
      "        [[ 8.2949e-03, -6.3453e-02,  1.2209e-01,  8.2772e-02,  8.6201e-02],\n",
      "         [ 1.1799e-02, -7.8579e-02,  1.1412e-01,  1.1207e-01,  6.2727e-02],\n",
      "         [ 1.0985e-02, -8.6579e-02,  1.1650e-01,  1.0030e-01,  6.6921e-02],\n",
      "         [ 1.2558e-02, -8.6340e-02,  1.1659e-01,  1.0092e-01,  6.6059e-02],\n",
      "         [ 1.2681e-02, -7.5404e-02,  1.1792e-01,  1.1362e-01,  6.4104e-02]],\n",
      "\n",
      "        [[ 6.1570e-03, -6.5084e-02,  1.2281e-01,  8.2919e-02,  8.6660e-02],\n",
      "         [ 9.7413e-03, -7.9850e-02,  1.1246e-01,  1.0842e-01,  6.3193e-02],\n",
      "         [ 1.1672e-02, -7.0145e-02,  1.1294e-01,  1.2016e-01,  6.1583e-02],\n",
      "         [ 9.2798e-03, -9.2909e-02,  1.1685e-01,  8.6512e-02,  7.0792e-02],\n",
      "         [ 1.1857e-02, -6.7929e-02,  1.1556e-01,  1.2282e-01,  6.4153e-02]],\n",
      "\n",
      "        [[ 4.1391e-03, -6.6464e-02,  1.2312e-01,  8.2835e-02,  8.7309e-02],\n",
      "         [ 6.4369e-03, -8.8662e-02,  1.0893e-01,  9.8518e-02,  6.5772e-02],\n",
      "         [ 5.7910e-03, -9.5561e-02,  1.1225e-01,  8.7904e-02,  7.0578e-02],\n",
      "         [ 1.0859e-02, -7.0173e-02,  1.1179e-01,  1.2110e-01,  6.1281e-02],\n",
      "         [ 1.1714e-02, -7.7742e-02,  1.1349e-01,  1.1387e-01,  6.2646e-02]],\n",
      "\n",
      "        [[ 4.3467e-03, -6.7755e-02,  1.2187e-01,  8.2166e-02,  8.5338e-02],\n",
      "         [ 9.0169e-03, -8.7490e-02,  1.1196e-01,  1.0018e-01,  6.6491e-02],\n",
      "         [ 1.1287e-02, -6.9843e-02,  1.1253e-01,  1.2139e-01,  6.1798e-02],\n",
      "         [ 1.2519e-02, -8.6458e-02,  1.1553e-01,  1.0063e-01,  6.5979e-02],\n",
      "         [ 1.1859e-02, -6.8014e-02,  1.1553e-01,  1.2289e-01,  6.3941e-02]],\n",
      "\n",
      "        [[ 4.1974e-03, -6.6432e-02,  1.2312e-01,  8.2840e-02,  8.7288e-02],\n",
      "         [ 1.0339e-02, -7.9190e-02,  1.1194e-01,  1.1151e-01,  6.1890e-02],\n",
      "         [ 1.0967e-02, -7.0077e-02,  1.1197e-01,  1.2114e-01,  6.1422e-02],\n",
      "         [ 1.2064e-02, -8.6450e-02,  1.1460e-01,  1.0076e-01,  6.5831e-02],\n",
      "         [ 1.1538e-02, -6.8638e-02,  1.1521e-01,  1.2301e-01,  6.3518e-02]],\n",
      "\n",
      "        [[ 1.7489e-02, -7.2630e-02,  1.2607e-01,  9.2763e-02,  8.0546e-02],\n",
      "         [-1.2094e-02, -1.0314e-01,  1.1794e-01,  7.1138e-02,  7.9321e-02],\n",
      "         [ 6.6926e-03, -9.5098e-02,  1.1544e-01,  8.8003e-02,  7.1897e-02],\n",
      "         [ 2.6487e-05, -9.6212e-02,  1.1899e-01,  7.8146e-02,  7.4838e-02],\n",
      "         [-1.2560e-02, -9.3417e-02,  1.2110e-01,  7.2579e-02,  8.0887e-02]],\n",
      "\n",
      "        [[ 4.2095e-03, -6.6426e-02,  1.2312e-01,  8.2841e-02,  8.7284e-02],\n",
      "         [ 6.2012e-03, -8.8857e-02,  1.0883e-01,  9.8399e-02,  6.5781e-02],\n",
      "         [ 5.7934e-03, -9.5564e-02,  1.1230e-01,  8.7893e-02,  7.0604e-02],\n",
      "         [ 1.0882e-02, -7.0136e-02,  1.1183e-01,  1.2116e-01,  6.1322e-02],\n",
      "         [ 1.1655e-02, -7.7774e-02,  1.1348e-01,  1.1384e-01,  6.2704e-02]],\n",
      "\n",
      "        [[ 1.8128e-02, -7.2703e-02,  1.2776e-01,  9.4513e-02,  7.3667e-02],\n",
      "         [-2.1394e-02, -9.9882e-02,  1.2039e-01,  6.8253e-02,  8.0353e-02],\n",
      "         [-5.3135e-04, -9.7411e-02,  1.1778e-01,  7.6952e-02,  7.5564e-02],\n",
      "         [-9.9616e-03, -9.1492e-02,  1.1998e-01,  7.3230e-02,  7.9482e-02],\n",
      "         [-1.9103e-02, -8.8659e-02,  1.2161e-01,  7.1190e-02,  8.5070e-02]],\n",
      "\n",
      "        [[ 4.5522e-03, -6.6237e-02,  1.2308e-01,  8.2853e-02,  8.7167e-02],\n",
      "         [ 9.4894e-03, -8.5990e-02,  1.1212e-01,  1.0523e-01,  6.4287e-02],\n",
      "         [ 1.0972e-02, -7.0018e-02,  1.1199e-01,  1.2128e-01,  6.1439e-02],\n",
      "         [ 1.2175e-02, -8.6051e-02,  1.1490e-01,  1.0148e-01,  6.5688e-02],\n",
      "         [ 1.1507e-02, -6.9506e-02,  1.1543e-01,  1.2180e-01,  6.3312e-02]],\n",
      "\n",
      "        [[ 6.9285e-03, -6.4501e-02,  1.2263e-01,  8.2902e-02,  8.6471e-02],\n",
      "         [ 6.6776e-03, -8.9341e-02,  1.1047e-01,  9.8866e-02,  6.6646e-02],\n",
      "         [ 9.7416e-03, -8.0966e-02,  1.1213e-01,  1.0824e-01,  6.1891e-02],\n",
      "         [ 6.6614e-03, -9.5368e-02,  1.1456e-01,  8.7462e-02,  7.1395e-02],\n",
      "         [ 1.1682e-02, -6.9686e-02,  1.1338e-01,  1.2113e-01,  6.2266e-02]],\n",
      "\n",
      "        [[ 4.1250e-03, -6.6471e-02,  1.2312e-01,  8.2834e-02,  8.7314e-02],\n",
      "         [ 6.9696e-03, -8.8298e-02,  1.0932e-01,  9.8809e-02,  6.5811e-02],\n",
      "         [ 5.8226e-03, -9.5524e-02,  1.1227e-01,  8.7891e-02,  7.0560e-02],\n",
      "         [ 1.0841e-02, -7.0216e-02,  1.1176e-01,  1.2102e-01,  6.1240e-02],\n",
      "         [ 1.1829e-02, -7.7633e-02,  1.1359e-01,  1.1390e-01,  6.2594e-02]]],\n",
      "       grad_fn=<AddBackward0>)\n"
     ]
    },
    {
     "ename": "RuntimeError",
     "evalue": "Index tensor must have the same number of dimensions as input tensor",
     "output_type": "error",
     "traceback": [
      "\u001b[1;31m---------------------------------------------------------------------------\u001b[0m",
      "\u001b[1;31mRuntimeError\u001b[0m                              Traceback (most recent call last)",
      "\u001b[1;32m<ipython-input-134-43224379dae3>\u001b[0m in \u001b[0;36m<module>\u001b[1;34m\u001b[0m\n\u001b[0;32m     19\u001b[0m \u001b[1;33m\u001b[0m\u001b[0m\n\u001b[0;32m     20\u001b[0m \u001b[1;31m# Entrenamos el agente\u001b[0m\u001b[1;33m\u001b[0m\u001b[1;33m\u001b[0m\u001b[1;33m\u001b[0m\u001b[0m\n\u001b[1;32m---> 21\u001b[1;33m agent_dqn.train(\n\u001b[0m\u001b[0;32m     22\u001b[0m     \u001b[0mgamma\u001b[0m\u001b[1;33m=\u001b[0m\u001b[0mGAMMA\u001b[0m\u001b[1;33m,\u001b[0m\u001b[1;33m\u001b[0m\u001b[1;33m\u001b[0m\u001b[0m\n\u001b[0;32m     23\u001b[0m     \u001b[0mmax_episodes\u001b[0m\u001b[1;33m=\u001b[0m\u001b[0mMAX_EPISODES\u001b[0m\u001b[1;33m,\u001b[0m\u001b[1;33m\u001b[0m\u001b[1;33m\u001b[0m\u001b[0m\n",
      "\u001b[1;32m<ipython-input-132-d2197386ff51>\u001b[0m in \u001b[0;36mtrain\u001b[1;34m(self, gamma, max_episodes, batch_size, dnn_update_frequency, dnn_sync_frequency)\u001b[0m\n\u001b[0;32m     76\u001b[0m                 \u001b[1;31m#####TODO 4:  Actualizar la red principal según la frecuencia establecida #######\u001b[0m\u001b[1;33m\u001b[0m\u001b[1;33m\u001b[0m\u001b[1;33m\u001b[0m\u001b[0m\n\u001b[0;32m     77\u001b[0m                 \u001b[1;32mif\u001b[0m \u001b[0mself\u001b[0m\u001b[1;33m.\u001b[0m\u001b[0mstep_count\u001b[0m \u001b[1;33m%\u001b[0m \u001b[0mdnn_update_frequency\u001b[0m \u001b[1;33m==\u001b[0m \u001b[1;36m0\u001b[0m\u001b[1;33m:\u001b[0m\u001b[1;33m\u001b[0m\u001b[1;33m\u001b[0m\u001b[0m\n\u001b[1;32m---> 78\u001b[1;33m                     \u001b[0mself\u001b[0m\u001b[1;33m.\u001b[0m\u001b[0mupdate\u001b[0m\u001b[1;33m(\u001b[0m\u001b[1;33m)\u001b[0m\u001b[1;33m\u001b[0m\u001b[1;33m\u001b[0m\u001b[0m\n\u001b[0m\u001b[0;32m     79\u001b[0m \u001b[1;33m\u001b[0m\u001b[0m\n\u001b[0;32m     80\u001b[0m                 \u001b[1;31m########################################################################################\u001b[0m\u001b[1;33m\u001b[0m\u001b[1;33m\u001b[0m\u001b[1;33m\u001b[0m\u001b[0m\n",
      "\u001b[1;32m<ipython-input-132-d2197386ff51>\u001b[0m in \u001b[0;36mupdate\u001b[1;34m(self)\u001b[0m\n\u001b[0;32m    165\u001b[0m         \u001b[0mself\u001b[0m\u001b[1;33m.\u001b[0m\u001b[0mmain_network\u001b[0m\u001b[1;33m.\u001b[0m\u001b[0moptimizer\u001b[0m\u001b[1;33m.\u001b[0m\u001b[0mzero_grad\u001b[0m\u001b[1;33m(\u001b[0m\u001b[1;33m)\u001b[0m  \u001b[1;31m# eliminamos cualquier gradiente pasado\u001b[0m\u001b[1;33m\u001b[0m\u001b[1;33m\u001b[0m\u001b[0m\n\u001b[0;32m    166\u001b[0m         \u001b[0mbatch\u001b[0m \u001b[1;33m=\u001b[0m \u001b[0mself\u001b[0m\u001b[1;33m.\u001b[0m\u001b[0mbuffer\u001b[0m\u001b[1;33m.\u001b[0m\u001b[0msample_batch\u001b[0m\u001b[1;33m(\u001b[0m\u001b[0mbatch_size\u001b[0m\u001b[1;33m=\u001b[0m\u001b[0mself\u001b[0m\u001b[1;33m.\u001b[0m\u001b[0mbatch_size\u001b[0m\u001b[1;33m)\u001b[0m \u001b[1;31m# seleccionamos un conjunto del buffer\u001b[0m\u001b[1;33m\u001b[0m\u001b[1;33m\u001b[0m\u001b[0m\n\u001b[1;32m--> 167\u001b[1;33m         \u001b[0mloss\u001b[0m \u001b[1;33m=\u001b[0m \u001b[0mself\u001b[0m\u001b[1;33m.\u001b[0m\u001b[0mcalculate_loss\u001b[0m\u001b[1;33m(\u001b[0m\u001b[0mbatch\u001b[0m\u001b[1;33m)\u001b[0m \u001b[1;31m# calculamos la pérdida\u001b[0m\u001b[1;33m\u001b[0m\u001b[1;33m\u001b[0m\u001b[0m\n\u001b[0m\u001b[0;32m    168\u001b[0m         \u001b[0mloss\u001b[0m\u001b[1;33m.\u001b[0m\u001b[0mbackward\u001b[0m\u001b[1;33m(\u001b[0m\u001b[1;33m)\u001b[0m \u001b[1;31m# hacemos la diferencia para obtener los gradientes\u001b[0m\u001b[1;33m\u001b[0m\u001b[1;33m\u001b[0m\u001b[0m\n\u001b[0;32m    169\u001b[0m         \u001b[0mself\u001b[0m\u001b[1;33m.\u001b[0m\u001b[0mmain_network\u001b[0m\u001b[1;33m.\u001b[0m\u001b[0moptimizer\u001b[0m\u001b[1;33m.\u001b[0m\u001b[0mstep\u001b[0m\u001b[1;33m(\u001b[0m\u001b[1;33m)\u001b[0m \u001b[1;31m# aplicamos los gradientes a la red neuronal\u001b[0m\u001b[1;33m\u001b[0m\u001b[1;33m\u001b[0m\u001b[0m\n",
      "\u001b[1;32m<ipython-input-132-d2197386ff51>\u001b[0m in \u001b[0;36mcalculate_loss\u001b[1;34m(self, batch)\u001b[0m\n\u001b[0;32m    145\u001b[0m \u001b[1;33m\u001b[0m\u001b[0m\n\u001b[0;32m    146\u001b[0m         \u001b[1;31m# Obtenemos los valores de Q de la red principal\u001b[0m\u001b[1;33m\u001b[0m\u001b[1;33m\u001b[0m\u001b[1;33m\u001b[0m\u001b[0m\n\u001b[1;32m--> 147\u001b[1;33m         \u001b[0mqvals\u001b[0m \u001b[1;33m=\u001b[0m \u001b[0mtorch\u001b[0m\u001b[1;33m.\u001b[0m\u001b[0mgather\u001b[0m\u001b[1;33m(\u001b[0m\u001b[0mself\u001b[0m\u001b[1;33m.\u001b[0m\u001b[0mmain_network\u001b[0m\u001b[1;33m.\u001b[0m\u001b[0mget_qvals\u001b[0m\u001b[1;33m(\u001b[0m\u001b[0mstates\u001b[0m\u001b[1;33m)\u001b[0m\u001b[1;33m,\u001b[0m \u001b[1;36m1\u001b[0m\u001b[1;33m,\u001b[0m \u001b[0mactions_vals\u001b[0m\u001b[1;33m)\u001b[0m\u001b[1;33m\u001b[0m\u001b[1;33m\u001b[0m\u001b[0m\n\u001b[0m\u001b[0;32m    148\u001b[0m         \u001b[1;31m# Obtenemos los valores de Q objetivo. El parámetro detach() evita que estos valores actualicen la red objetivo\u001b[0m\u001b[1;33m\u001b[0m\u001b[1;33m\u001b[0m\u001b[1;33m\u001b[0m\u001b[0m\n\u001b[0;32m    149\u001b[0m         qvals_next = torch.max(self.target_network.get_qvals(next_states),\n",
      "\u001b[1;31mRuntimeError\u001b[0m: Index tensor must have the same number of dimensions as input tensor"
     ]
    }
   ],
   "source": [
    "# Carga de la red neuronal\n",
    "dqn = NeuralNet(env, learning_rate=lr)\n",
    "\n",
    "# Creación del buffer\n",
    "buffer = experienceReplayBuffer(\n",
    "    memory_size=MEMORY_SIZE, \n",
    "    burn_in=BURN_IN\n",
    ")\n",
    "\n",
    "# Creación del agente\n",
    "agent_dqn = DQNAgent(\n",
    "    env=env,\n",
    "    main_network=dqn,\n",
    "    buffer=buffer,\n",
    "    epsilon=EPSILON,\n",
    "    eps_decay=EPSILON_DECAY,\n",
    "    batch_size=BATCH_SIZE\n",
    ")\n",
    "\n",
    "# Entrenamos el agente\n",
    "agent_dqn.train(\n",
    "    gamma=GAMMA, \n",
    "    max_episodes=MAX_EPISODES, \n",
    "    batch_size=BATCH_SIZE,  \n",
    "    dnn_update_frequency=DNN_UPD, \n",
    "    dnn_sync_frequency=DNN_SYNC\n",
    ")"
   ]
  },
  {
   "cell_type": "code",
   "execution_count": 72,
   "metadata": {},
   "outputs": [
    {
     "name": "stdout",
     "output_type": "stream",
     "text": [
      "(5, 5)\n"
     ]
    },
    {
     "data": {
      "text/plain": [
       "array([1.        , 0.88767046, 0.        , 0.3125    , 0.        ])"
      ]
     },
     "execution_count": 72,
     "metadata": {},
     "output_type": "execute_result"
    }
   ],
   "source": [
    "a = np.array([[ 1.          ,0.88767046  ,0.          ,0.3125      ,0.        ],\n",
    "              [ 1.          ,0.09806664  ,0.25       ,-0.03906327  ,0.        ],\n",
    "              [ 1.          ,0.20150366  ,0.         ,-0.02257037  ,0.        ],\n",
    "              [ 1.          ,0.31406704  ,0.75       ,-0.02088534  ,0.        ],\n",
    "              [ 1.          ,0.41759038  ,0.         ,-0.03957855  ,0.        ]])\n",
    "print(a.shape)\n",
    "\n",
    "a[0]"
   ]
  }
 ],
 "metadata": {
  "kernelspec": {
   "display_name": "Python 3",
   "language": "python",
   "name": "python3"
  },
  "language_info": {
   "codemirror_mode": {
    "name": "ipython",
    "version": 3
   },
   "file_extension": ".py",
   "mimetype": "text/x-python",
   "name": "python",
   "nbconvert_exporter": "python",
   "pygments_lexer": "ipython3",
   "version": "3.8.3"
  }
 },
 "nbformat": 4,
 "nbformat_minor": 4
}
