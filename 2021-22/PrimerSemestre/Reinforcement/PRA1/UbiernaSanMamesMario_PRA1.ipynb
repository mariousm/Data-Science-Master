{
 "cells": [
  {
   "cell_type": "markdown",
   "metadata": {},
   "source": [
    "<div style=\"width: 100%; clear: both;\">\n",
    "<div style=\"float: left; width: 50%;\">\n",
    "<img src=\"http://www.uoc.edu/portal/_resources/common/imatges/marca_UOC/UOC_Masterbrand.jpg\", align=\"left\">\n",
    "</div>\n",
    "<div style=\"float: right; width: 50%;\">\n",
    "<p style=\"margin: 0; padding-top: 22px; text-align:right;\">M2.883 · Aprendizaje por refuerzo</p>\n",
    "<p style=\"margin: 0; text-align:right;\">Máster universitario en Ciencia de datos (<i>Data science</i>)</p>\n",
    "<p style=\"margin: 0; text-align:right; padding-button: 100px;\">Estudios de Informática, Multimedia y Telecomunicación</p>\n",
    "</div>\n",
    "</div>\n",
    "<div style=\"width:100%;\">&nbsp;</div>\n",
    "\n",
    "\n",
    "# PRA1: Deep Reinforcement Learning\n",
    "\n",
    "#### AUTOR: Mario Ubierna San Mamés\n",
    " \n",
    "\n",
    "En esta práctica se hará un estudio sobre el entorno **highway-env**, donde inicialmente se realizará una exploración sobre el entorno, posteriormente implementaremos un agente DQN y finalmente mejoraremos el primer agente implementado"
   ]
  },
  {
   "cell_type": "markdown",
   "metadata": {},
   "source": [
    "## 0. Contexto"
   ]
  },
  {
   "cell_type": "markdown",
   "metadata": {},
   "source": [
    "**Highway-env** es un problema de conducción autónoma, donde tenemos múltiples carriles y varios coches transitando. Nuestro objetivo es que el agente sea capaz de controlar el vehículo con el fin de:\n",
    "\n",
    "- Evitar colisiones con otros vehículos.\n",
    "- Tener la máxima velocidad posible.\n",
    "- Mantenerse en el carril derecho lo más posible.\n",
    "\n",
    "El entorno se considera superado cuando en el tiempo de observación máximo establecido, se han verificado las tres condiciones anteriores."
   ]
  },
  {
   "cell_type": "markdown",
   "metadata": {},
   "source": [
    "![Alt Text](https://raw.githubusercontent.com/eleurent/highway-env/gh-media/docs/media/highway-env.gif?raw=true)"
   ]
  },
  {
   "cell_type": "markdown",
   "metadata": {},
   "source": [
    "## 1. Entorno"
   ]
  },
  {
   "cell_type": "markdown",
   "metadata": {},
   "source": [
    "Lo primero de todo es cargar las librerías necesarias:"
   ]
  },
  {
   "cell_type": "code",
   "execution_count": 1,
   "metadata": {},
   "outputs": [],
   "source": [
    "import gym\n",
    "import highway_env\n",
    "import matplotlib.pyplot as plt\n",
    "%matplotlib inline\n",
    "import torch\n",
    "import numpy as np\n",
    "import time"
   ]
  },
  {
   "cell_type": "markdown",
   "metadata": {},
   "source": [
    "<div style=\"background-color: #grey; border-color: #7C9DBF; border-left: 5px solid #7C9DBF; padding: 0.5em;\">\n",
    "<strong>Ejercicio 1.1 (0.5 ptos) - </strong> Exploración del entorno y representación de una ejecución aleatoria:\n",
    "</div>"
   ]
  },
  {
   "cell_type": "markdown",
   "metadata": {},
   "source": [
    "#### Exploración del entorno"
   ]
  },
  {
   "cell_type": "markdown",
   "metadata": {},
   "source": [
    "Carga del entorno:"
   ]
  },
  {
   "cell_type": "code",
   "execution_count": 2,
   "metadata": {},
   "outputs": [],
   "source": [
    "# Definimos el entorno\n",
    "env = gym.make(\"highway-v0\")"
   ]
  },
  {
   "cell_type": "markdown",
   "metadata": {},
   "source": [
    "Información básica del entorno:"
   ]
  },
  {
   "cell_type": "code",
   "execution_count": 3,
   "metadata": {},
   "outputs": [
    {
     "name": "stdout",
     "output_type": "stream",
     "text": [
      "El espacio de acciones es Discrete(5) \n",
      "La dimensión del espacio de acciones es: 5\n",
      "El espacio de observaciones es Box([[-inf -inf -inf -inf -inf]\n",
      " [-inf -inf -inf -inf -inf]\n",
      " [-inf -inf -inf -inf -inf]\n",
      " [-inf -inf -inf -inf -inf]\n",
      " [-inf -inf -inf -inf -inf]], [[inf inf inf inf inf]\n",
      " [inf inf inf inf inf]\n",
      " [inf inf inf inf inf]\n",
      " [inf inf inf inf inf]\n",
      " [inf inf inf inf inf]], (5, 5), float32) \n",
      "La dimensión del espacio de estados: 5\n",
      "El rango de recompensas es (-inf, inf) \n"
     ]
    }
   ],
   "source": [
    "print(\"El espacio de acciones es {} \".format(env.action_space))\n",
    "print(\"La dimensión del espacio de acciones es: {}\".format(env.action_space.n))\n",
    "# print(\"Las acciones por defecto son {}\".format(str(env.action_type.actions_indexes)))\n",
    "print(\"El espacio de observaciones es {} \".format(env.observation_space))\n",
    "print(\"La dimensión del espacio de estados: {}\".format(env.observation_space.shape[0]))\n",
    "print(\"El rango de recompensas es {} \".format(env.reward_range))"
   ]
  },
  {
   "cell_type": "markdown",
   "metadata": {},
   "source": [
    "De la anterior ejecución podemos observar que, por defecto tanto la dimensión del espacio de acciones como de estados es 5. Estos valores vienen predefinidos a la hora de cargar el entorno **highway-v0**.  \n",
    "  \n",
    "Para saber más sobre la configuración por defecto del entorno ejecutamos la siguiente instrucción:"
   ]
  },
  {
   "cell_type": "code",
   "execution_count": 4,
   "metadata": {},
   "outputs": [
    {
     "data": {
      "text/plain": [
       "{'observation': {'type': 'Kinematics'},\n",
       " 'action': {'type': 'DiscreteMetaAction'},\n",
       " 'simulation_frequency': 15,\n",
       " 'policy_frequency': 1,\n",
       " 'other_vehicles_type': 'highway_env.vehicle.behavior.IDMVehicle',\n",
       " 'screen_width': 600,\n",
       " 'screen_height': 150,\n",
       " 'centering_position': [0.3, 0.5],\n",
       " 'scaling': 5.5,\n",
       " 'show_trajectories': False,\n",
       " 'render_agent': True,\n",
       " 'offscreen_rendering': False,\n",
       " 'manual_control': False,\n",
       " 'real_time_rendering': False,\n",
       " 'lanes_count': 4,\n",
       " 'vehicles_count': 50,\n",
       " 'controlled_vehicles': 1,\n",
       " 'initial_lane_id': None,\n",
       " 'duration': 40,\n",
       " 'ego_spacing': 2,\n",
       " 'vehicles_density': 1,\n",
       " 'collision_reward': -1,\n",
       " 'right_lane_reward': 0.1,\n",
       " 'high_speed_reward': 0.4,\n",
       " 'lane_change_reward': 0,\n",
       " 'reward_speed_range': [20, 30],\n",
       " 'offroad_terminal': False}"
      ]
     },
     "execution_count": 4,
     "metadata": {},
     "output_type": "execute_result"
    }
   ],
   "source": [
    "env.env.default_config()"
   ]
  },
  {
   "cell_type": "markdown",
   "metadata": {},
   "source": [
    "Como podemos ver obtenemos la siguiente información:  \n",
    "- El tipo de observación es Kinematics, esto lo que significa es que el espacio de estados va a ser una matriz del tipo VxF, donde V es el número de vehículos cercanos a nuestro coche y F el número de características (['presence', 'x', 'y', 'vx', 'vy']).\n",
    "\n",
    "- El tipo de acciones es DiscreteMetaAction, en este caso hay 5 acciones. La primera es movernos al carril de la izquierda \"0\", la segunda es un movimiento ilegal o mantenernos en el carril actual a la velocidad actual \"1\" (cuando se produce un cambio de carril en el límite de la carretera, o cuando la acelaración o desaceleración es mayor o menor que la velocidad máxima/mínima) \"1\", la tercera es movernos al carril de la derecha \"2\", la cuarta es aumentar la velocidad \"3\" y la quinta reducir la velocidad \"4\".\n",
    "\n",
    "- El número de carriles es 4, se puede modificar para añadir más o menos.\n",
    "\n",
    "- El número de vehículos es 50 y al igual que antes se puede modificar.\n",
    "\n",
    "- La recompensa por colisión es -1.\n",
    "\n",
    "- La recompensa por estar en el carril de la derecha es 0.1.\n",
    "\n",
    "- La recompensa por alcanzar una alta velocidad es 0.4.\n",
    "\n",
    "- La recompensa por cambiar de carril es 0.\n",
    "\n",
    "- Y la recompensa por aumentar o disminuir la velocidad varía entre 20 y 30 dependiendo de forma lineal a su velocidad."
   ]
  },
  {
   "cell_type": "markdown",
   "metadata": {},
   "source": [
    "A continuación podemos ver un ejemplo de una acción tomada aleatoriamente y todas las posibles acciones que podemos tomar:"
   ]
  },
  {
   "cell_type": "code",
   "execution_count": 5,
   "metadata": {},
   "outputs": [
    {
     "name": "stdout",
     "output_type": "stream",
     "text": [
      "Acción aleatoria tomada 3\n",
      "Las posibles acciones son {'LANE_LEFT': 0, 'IDLE': 1, 'LANE_RIGHT': 2, 'FASTER': 3, 'SLOWER': 4}\n"
     ]
    }
   ],
   "source": [
    "print(\"Acción aleatoria tomada {}\".format(env.action_space.sample()))\n",
    "print(\"Las posibles acciones son {}\".format(env.action_type.actions_indexes))"
   ]
  },
  {
   "cell_type": "markdown",
   "metadata": {},
   "source": [
    "Para concluir con la exploración del entorno, vamos a mostrar un ejemplo de un estado según el espacio de observaciones por defecto junto el nombre de cada columna:"
   ]
  },
  {
   "cell_type": "code",
   "execution_count": 6,
   "metadata": {},
   "outputs": [
    {
     "name": "stdout",
     "output_type": "stream",
     "text": [
      "Un estado aleatorio sería \n",
      "[[-0.96669215 -1.6559303  -0.64178044  0.3213205  -1.53139   ]\n",
      " [-0.09636158 -0.91012514 -0.15507504 -0.11941292 -0.34552753]\n",
      " [ 0.29755318  0.8006765   2.267481   -1.1664119   0.01510902]\n",
      " [-1.5310564  -0.18486919  0.73230445  0.22347872  1.4062066 ]\n",
      " [ 1.5982791  -0.35190746 -1.8049539  -0.31655443 -0.3255359 ]]\n",
      "El nombre de cada columna (característica \"F\") es ['presence', 'x', 'y', 'vx', 'vy']\n"
     ]
    }
   ],
   "source": [
    "print(\"Un estado aleatorio sería \\n{}\".format(env.observation_space.sample()))\n",
    "print(\"El nombre de cada columna (característica \\\"F\\\") es {}\".format(env.env.observation_type.features))"
   ]
  },
  {
   "cell_type": "markdown",
   "metadata": {},
   "source": [
    "#### Representación de una ejecución aleatoria"
   ]
  },
  {
   "cell_type": "code",
   "execution_count": 7,
   "metadata": {},
   "outputs": [
    {
     "name": "stdout",
     "output_type": "stream",
     "text": [
      "Obs inicial:\n"
     ]
    },
    {
     "data": {
      "image/png": "[encoded data removed]",
      "text/plain": [
       "<Figure size 432x288 with 1 Axes>"
      ]
     },
     "metadata": {
      "needs_background": "light"
     },
     "output_type": "display_data"
    },
    {
     "name": "stdout",
     "output_type": "stream",
     "text": [
      "[[ 1.          0.89512116  0.5         0.3125      0.        ]\n",
      " [ 1.          0.11333414  0.25       -0.03701798  0.        ]\n",
      " [ 1.          0.20776689 -0.5        -0.03023216  0.        ]\n",
      " [ 1.          0.31213397  0.25       -0.03951356  0.        ]\n",
      " [ 1.          0.4182675   0.25       -0.02478336  0.        ]]\n",
      "\n",
      "Acción: SLOWER -> recommpensa: 0.7338962090612631\n",
      "Nuevo estado:\n"
     ]
    },
    {
     "data": {
      "image/png": "[encoded data removed]",
      "text/plain": [
       "<Figure size 432x288 with 1 Axes>"
      ]
     },
     "metadata": {
      "needs_background": "light"
     },
     "output_type": "display_data"
    },
    {
     "name": "stdout",
     "output_type": "stream",
     "text": [
      "[[ 1.          1.          0.5         0.26068053  0.        ]\n",
      " [ 1.          0.10344059  0.25       -0.02369952  0.        ]\n",
      " [ 1.          0.20766953 -0.5         0.01707643  0.        ]\n",
      " [ 1.          0.29625803  0.25       -0.0449416   0.        ]\n",
      " [ 1.          0.4157067   0.25        0.00292857  0.        ]]\n",
      "\n",
      "Acción: IDLE -> recommpensa: 0.7150048162755963\n",
      "Nuevo estado:\n"
     ]
    },
    {
     "data": {
      "image/png": "[encoded data removed]",
      "text/plain": [
       "<Figure size 432x288 with 1 Axes>"
      ]
     },
     "metadata": {
      "needs_background": "light"
     },
     "output_type": "display_data"
    },
    {
     "name": "stdout",
     "output_type": "stream",
     "text": [
      "[[ 1.          1.          0.5         0.25182518  0.        ]\n",
      " [ 1.          0.09127475  0.25       -0.0382594   0.        ]\n",
      " [ 1.          0.21539019 -0.5         0.0199562   0.        ]\n",
      " [ 1.          0.27705762  0.25       -0.05035954  0.        ]\n",
      " [ 1.          0.41639867  0.19051379  0.00116071  0.0068297 ]]\n",
      "\n",
      "Acción: SLOWER -> recommpensa: 0.7117764995128245\n",
      "Nuevo estado:\n"
     ]
    },
    {
     "data": {
      "image/png": "[encoded data removed]",
      "text/plain": [
       "<Figure size 432x288 with 1 Axes>"
      ]
     },
     "metadata": {
      "needs_background": "light"
     },
     "output_type": "display_data"
    },
    {
     "name": "stdout",
     "output_type": "stream",
     "text": [
      "[[ 1.          1.          0.5         0.2503119   0.        ]\n",
      " [ 1.          0.07377376  0.25       -0.04893031  0.        ]\n",
      " [ 1.          0.22310118 -0.5         0.01837428  0.        ]\n",
      " [ 1.          0.2568481   0.25       -0.04990428  0.        ]\n",
      " [ 1.          0.41629684  0.24357204 -0.00128436  0.00690573]]\n",
      "\n",
      "Acción: IDLE -> recommpensa: 0.7112248181604207\n",
      "Nuevo estado:\n"
     ]
    },
    {
     "data": {
      "image/png": "[encoded data removed]",
      "text/plain": [
       "<Figure size 432x288 with 1 Axes>"
      ]
     },
     "metadata": {
      "needs_background": "light"
     },
     "output_type": "display_data"
    },
    {
     "name": "stdout",
     "output_type": "stream",
     "text": [
      "[[ 1.0000000e+00  1.0000000e+00  5.0000000e-01  2.5005329e-01\n",
      "   0.0000000e+00]\n",
      " [ 1.0000000e+00  5.3109825e-02  2.5000000e-01 -5.3894091e-02\n",
      "   0.0000000e+00]\n",
      " [ 1.0000000e+00  2.2905791e-01 -3.3942160e-01  1.3544834e-02\n",
      "   4.5214247e-02]\n",
      " [ 1.0000000e+00  2.3752645e-01  2.5000000e-01 -4.6090484e-02\n",
      "   0.0000000e+00]\n",
      " [ 1.0000000e+00  4.1563424e-01  2.5268781e-01 -1.8872130e-03\n",
      "  -1.5685475e-04]]\n",
      "\n",
      "Acción: FASTER -> recommpensa: 0.8216787776912134\n",
      "Nuevo estado:\n"
     ]
    },
    {
     "data": {
      "image/png": "[encoded data removed]",
      "text/plain": [
       "<Figure size 432x288 with 1 Axes>"
      ]
     },
     "metadata": {
      "needs_background": "light"
     },
     "output_type": "display_data"
    },
    {
     "name": "stdout",
     "output_type": "stream",
     "text": [
      "[[ 1.0000000e+00  1.0000000e+00  5.0000000e-01  3.0182859e-01\n",
      "   0.0000000e+00]\n",
      " [ 1.0000000e+00  1.8585088e-02  2.5000000e-01 -1.0456094e-01\n",
      "   0.0000000e+00]\n",
      " [ 1.0000000e+00  2.0591427e-01  3.9398067e-02 -9.0680584e-02\n",
      "  -3.2871269e-02]\n",
      " [ 1.0000000e+00  2.2358155e-01 -2.3902953e-01 -3.1847570e-02\n",
      "   4.9774940e-03]\n",
      " [ 1.0000000e+00  4.0237984e-01  2.5036797e-01 -5.3211551e-02\n",
      "  -3.3524662e-04]]\n",
      "\n",
      "Acción: FASTER -> recommpensa: 0.9511022952260791\n",
      "Nuevo estado:\n"
     ]
    },
    {
     "data": {
      "image/png": "[encoded data removed]",
      "text/plain": [
       "<Figure size 432x288 with 1 Axes>"
      ]
     },
     "metadata": {
      "needs_background": "light"
     },
     "output_type": "display_data"
    },
    {
     "name": "stdout",
     "output_type": "stream",
     "text": [
      "[[ 1.0000000e+00  1.0000000e+00  5.0000000e-01  3.6249587e-01\n",
      "   0.0000000e+00]\n",
      " [ 1.0000000e+00 -3.4182549e-02  2.5000000e-01 -1.4606726e-01\n",
      "   0.0000000e+00]\n",
      " [ 1.0000000e+00  1.5870792e-01 -1.0687243e-02 -1.3412000e-01\n",
      "  -8.8016025e-04]\n",
      " [ 1.0000000e+00  1.9645476e-01 -2.4528773e-01 -9.1001205e-02\n",
      "  -2.2589760e-03]\n",
      " [ 1.0000000e+00  3.6657807e-01  2.4987796e-01 -1.1278320e-01\n",
      "   2.3352361e-07]]\n",
      "\n",
      "Acción: LANE_RIGHT -> recommpensa: 0.99544147387894\n",
      "Nuevo estado:\n"
     ]
    },
    {
     "data": {
      "image/png": "[encoded data removed]",
      "text/plain": [
       "<Figure size 432x288 with 1 Axes>"
      ]
     },
     "metadata": {
      "needs_background": "light"
     },
     "output_type": "display_data"
    },
    {
     "name": "stdout",
     "output_type": "stream",
     "text": [
      "[[ 1.          1.          0.70893514  0.37124434  0.03470721]\n",
      " [ 1.          0.10553361 -0.21115391 -0.13294046 -0.03315984]\n",
      " [ 1.          0.15870315 -0.45944086 -0.09894822 -0.03498653]\n",
      " [ 1.          0.32019305  0.04104441 -0.12018761 -0.03469095]\n",
      " [ 1.          0.4547619  -0.20892191 -0.10392465 -0.03468269]]\n",
      "\n",
      "Acción: IDLE -> recommpensa: 0.9992210015186749\n",
      "Nuevo estado:\n"
     ]
    },
    {
     "data": {
      "image/png": "[encoded data removed]",
      "text/plain": [
       "<Figure size 432x288 with 1 Axes>"
      ]
     },
     "metadata": {
      "needs_background": "light"
     },
     "output_type": "display_data"
    },
    {
     "name": "stdout",
     "output_type": "stream",
     "text": [
      "[[ 1.00000000e+00  1.00000000e+00  7.66010642e-01  3.74633849e-01\n",
      "  -8.59223073e-04]\n",
      " [ 1.00000000e+00  5.26885055e-02 -2.65539229e-01 -1.29969716e-01\n",
      "   9.32850002e-04]\n",
      " [ 1.00000000e+00  1.18253894e-01 -5.16257226e-01 -1.01936691e-01\n",
      "   9.71352216e-04]\n",
      " [ 1.00000000e+00  2.71423250e-01 -1.60050932e-02 -1.22189604e-01\n",
      "   8.59539141e-04]\n",
      " [ 1.00000000e+00  4.12273318e-01 -2.65994400e-01 -1.07209794e-01\n",
      "   8.53632868e-04]]\n",
      "\n",
      "Acción: LANE_LEFT -> recommpensa: 0.04444444444444443\n",
      "Nuevo estado:\n"
     ]
    },
    {
     "data": {
      "image/png": "[encoded data removed]",
      "text/plain": [
       "<Figure size 432x288 with 1 Axes>"
      ]
     },
     "metadata": {
      "needs_background": "light"
     },
     "output_type": "display_data"
    },
    {
     "name": "stdout",
     "output_type": "stream",
     "text": [
      "[[ 1.          1.          0.59430873  0.24526085 -0.03539939]\n",
      " [ 1.          0.00565269 -0.1466525  -0.08181284  0.03533989]\n",
      " [ 1.          0.08780003 -0.34428576  0.02761525  0.03541492]\n",
      " [ 1.          0.2330804   0.1556924   0.00851257  0.0353986 ]\n",
      " [ 1.          0.37962738 -0.09430914  0.02187242  0.03539807]]\n",
      "Episodio terminado después de 9 pasos y la recompensa fue 6.683790335769457\n"
     ]
    }
   ],
   "source": [
    "obs = env.reset()\n",
    "t, total_reward, done = 0, 0, False\n",
    "\n",
    "print(\"Obs inicial:\")\n",
    "plt.imshow(env.render(mode=\"rgb_array\"))\n",
    "plt.show()\n",
    "print(obs)\n",
    "\n",
    "while not done:\n",
    "    # Obtener la acción y la ejecutamos\n",
    "    action = env.action_space.sample()\n",
    "    new_obs, reward, done, info = env.step(action)\n",
    "    \n",
    "    # Imprimimos el paso\n",
    "    print(\"\\nAcción: {} -> recommpensa: {}\".format(env.action_type.actions[action], reward))\n",
    "    print(\"Nuevo estado:\")\n",
    "    plt.imshow(env.render(mode=\"rgb_array\"))\n",
    "    plt.show()\n",
    "    print(new_obs)\n",
    "    \n",
    "    t += 1\n",
    "    total_reward += reward\n",
    "    obs = new_obs\n",
    "    \n",
    "print(\"Episodio terminado después de {} pasos y la recompensa fue {}\".format(t, total_reward))"
   ]
  },
  {
   "cell_type": "markdown",
   "metadata": {},
   "source": [
    "<div style=\"background-color: #grey; border-color: #7C9DBF; border-left: 5px solid #7C9DBF; padding: 0.5em;\">\n",
    "<strong>Ejercicio 1.2 (0.5 ptos) - </strong> Explicar los diferentes espacios de observaciones y de acciones:\n",
    "</div>"
   ]
  },
  {
   "cell_type": "markdown",
   "metadata": {},
   "source": [
    "Resuelto en el informe"
   ]
  },
  {
   "cell_type": "markdown",
   "metadata": {},
   "source": [
    "## 2. Agente de referencia"
   ]
  },
  {
   "cell_type": "code",
   "execution_count": null,
   "metadata": {},
   "outputs": [],
   "source": []
  }
 ],
 "metadata": {
  "kernelspec": {
   "display_name": "Python 3",
   "language": "python",
   "name": "python3"
  },
  "language_info": {
   "codemirror_mode": {
    "name": "ipython",
    "version": 3
   },
   "file_extension": ".py",
   "mimetype": "text/x-python",
   "name": "python",
   "nbconvert_exporter": "python",
   "pygments_lexer": "ipython3",
   "version": "3.8.3"
  }
 },
 "nbformat": 4,
 "nbformat_minor": 4
}
