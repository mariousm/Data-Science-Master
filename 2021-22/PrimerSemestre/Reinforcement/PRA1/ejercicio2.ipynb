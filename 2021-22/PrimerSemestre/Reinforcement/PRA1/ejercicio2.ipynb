{
 "cells": [
  {
   "cell_type": "markdown",
   "metadata": {},
   "source": [
    "<div style=\"width: 100%; clear: both;\">\n",
    "<div style=\"float: left; width: 50%;\">\n",
    "<img src=\"http://www.uoc.edu/portal/_resources/common/imatges/marca_UOC/UOC_Masterbrand.jpg\", align=\"left\">\n",
    "</div>\n",
    "<div style=\"float: right; width: 50%;\">\n",
    "<p style=\"margin: 0; padding-top: 22px; text-align:right;\">M2.883 · Aprendizaje por refuerzo</p>\n",
    "<p style=\"margin: 0; text-align:right;\">Máster universitario en Ciencia de datos (<i>Data science</i>)</p>\n",
    "<p style=\"margin: 0; text-align:right; padding-button: 100px;\">Estudios de Informática, Multimedia y Telecomunicación</p>\n",
    "</div>\n",
    "</div>\n",
    "<div style=\"width:100%;\">&nbsp;</div>\n",
    "\n",
    "\n",
    "# PRA1: Deep Reinforcement Learning\n",
    "\n",
    "#### AUTOR: Mario Ubierna San Mamés\n",
    " \n",
    "\n",
    "En esta práctica se hará un estudio sobre el entorno **highway-env**, donde inicialmente se realizará una exploración sobre el entorno, posteriormente implementaremos un agente DQN y finalmente mejoraremos el primer agente implementado"
   ]
  },
  {
   "cell_type": "markdown",
   "metadata": {},
   "source": [
    "## 0. Contexto"
   ]
  },
  {
   "cell_type": "markdown",
   "metadata": {},
   "source": [
    "**Highway-env** es un problema de conducción autónoma, donde tenemos múltiples carriles y varios coches transitando. Nuestro objetivo es que el agente sea capaz de controlar el vehículo con el fin de:\n",
    "\n",
    "- Evitar colisiones con otros vehículos.\n",
    "- Tener la máxima velocidad posible.\n",
    "- Mantenerse en el carril derecho lo más posible.\n",
    "\n",
    "El entorno se considera superado cuando en el tiempo de observación máximo establecido, se han verificado las tres condiciones anteriores."
   ]
  },
  {
   "cell_type": "markdown",
   "metadata": {},
   "source": [
    "![Alt Text](https://raw.githubusercontent.com/eleurent/highway-env/gh-media/docs/media/highway-env.gif?raw=true)"
   ]
  },
  {
   "cell_type": "markdown",
   "metadata": {},
   "source": [
    "## 1. Entorno"
   ]
  },
  {
   "cell_type": "markdown",
   "metadata": {},
   "source": [
    "Lo primero de todo es cargar las librerías necesarias:"
   ]
  },
  {
   "cell_type": "code",
   "execution_count": 160,
   "metadata": {},
   "outputs": [],
   "source": [
    "import gym\n",
    "import highway_env\n",
    "from collections import namedtuple, deque\n",
    "from copy import deepcopy, copy\n",
    "import matplotlib.pyplot as plt\n",
    "%matplotlib inline\n",
    "import torch\n",
    "import numpy as np\n",
    "import time"
   ]
  },
  {
   "cell_type": "markdown",
   "metadata": {},
   "source": [
    "<div style=\"background-color: #grey; border-color: #7C9DBF; border-left: 5px solid #7C9DBF; padding: 0.5em;\">\n",
    "<strong>Ejercicio 1.1 (0.5 ptos) - </strong> Exploración del entorno y representación de una ejecución aleatoria:\n",
    "</div>"
   ]
  },
  {
   "cell_type": "markdown",
   "metadata": {},
   "source": [
    "#### Exploración del entorno"
   ]
  },
  {
   "cell_type": "markdown",
   "metadata": {},
   "source": [
    "Carga del entorno:"
   ]
  },
  {
   "cell_type": "code",
   "execution_count": 161,
   "metadata": {},
   "outputs": [],
   "source": [
    "# Definimos el entorno\n",
    "env = gym.make(\"highway-v0\")"
   ]
  },
  {
   "cell_type": "markdown",
   "metadata": {},
   "source": [
    "Información básica del entorno:"
   ]
  },
  {
   "cell_type": "code",
   "execution_count": 162,
   "metadata": {},
   "outputs": [
    {
     "name": "stdout",
     "output_type": "stream",
     "text": [
      "El espacio de acciones es Discrete(5) \n",
      "La dimensión del espacio de acciones es: 5\n",
      "El espacio de observaciones es Box([[-inf -inf -inf -inf -inf]\n",
      " [-inf -inf -inf -inf -inf]\n",
      " [-inf -inf -inf -inf -inf]\n",
      " [-inf -inf -inf -inf -inf]\n",
      " [-inf -inf -inf -inf -inf]], [[inf inf inf inf inf]\n",
      " [inf inf inf inf inf]\n",
      " [inf inf inf inf inf]\n",
      " [inf inf inf inf inf]\n",
      " [inf inf inf inf inf]], (5, 5), float32) \n",
      "La dimensión del espacio de estados: 5\n",
      "El rango de recompensas es (-inf, inf) \n"
     ]
    }
   ],
   "source": [
    "print(\"El espacio de acciones es {} \".format(env.action_space))\n",
    "print(\"La dimensión del espacio de acciones es: {}\".format(env.action_space.n))\n",
    "# print(\"Las acciones por defecto son {}\".format(str(env.action_type.actions_indexes)))\n",
    "print(\"El espacio de observaciones es {} \".format(env.observation_space))\n",
    "print(\"La dimensión del espacio de estados: {}\".format(env.observation_space.shape[0]))\n",
    "print(\"El rango de recompensas es {} \".format(env.reward_range))"
   ]
  },
  {
   "cell_type": "markdown",
   "metadata": {},
   "source": [
    "De la anterior ejecución podemos observar que, por defecto tanto la dimensión del espacio de acciones como de estados es 5. Estos valores vienen predefinidos a la hora de cargar el entorno **highway-v0**.  \n",
    "  \n",
    "Para saber más sobre la configuración por defecto del entorno ejecutamos la siguiente instrucción:"
   ]
  },
  {
   "cell_type": "code",
   "execution_count": 163,
   "metadata": {},
   "outputs": [
    {
     "data": {
      "text/plain": [
       "{'observation': {'type': 'Kinematics'},\n",
       " 'action': {'type': 'DiscreteMetaAction'},\n",
       " 'simulation_frequency': 15,\n",
       " 'policy_frequency': 1,\n",
       " 'other_vehicles_type': 'highway_env.vehicle.behavior.IDMVehicle',\n",
       " 'screen_width': 600,\n",
       " 'screen_height': 150,\n",
       " 'centering_position': [0.3, 0.5],\n",
       " 'scaling': 5.5,\n",
       " 'show_trajectories': False,\n",
       " 'render_agent': True,\n",
       " 'offscreen_rendering': False,\n",
       " 'manual_control': False,\n",
       " 'real_time_rendering': False,\n",
       " 'lanes_count': 4,\n",
       " 'vehicles_count': 50,\n",
       " 'controlled_vehicles': 1,\n",
       " 'initial_lane_id': None,\n",
       " 'duration': 40,\n",
       " 'ego_spacing': 2,\n",
       " 'vehicles_density': 1,\n",
       " 'collision_reward': -1,\n",
       " 'right_lane_reward': 0.1,\n",
       " 'high_speed_reward': 0.4,\n",
       " 'lane_change_reward': 0,\n",
       " 'reward_speed_range': [20, 30],\n",
       " 'offroad_terminal': False}"
      ]
     },
     "execution_count": 163,
     "metadata": {},
     "output_type": "execute_result"
    }
   ],
   "source": [
    "env.env.default_config()"
   ]
  },
  {
   "cell_type": "markdown",
   "metadata": {},
   "source": [
    "Como podemos ver obtenemos la siguiente información:  \n",
    "- El tipo de observación es Kinematics, esto lo que significa es que el espacio de estados va a ser una matriz del tipo VxF, donde V es el número de vehículos cercanos a nuestro coche y F el número de características (['presence', 'x', 'y', 'vx', 'vy']).\n",
    "\n",
    "- El tipo de acciones es DiscreteMetaAction, en este caso hay 5 acciones. La primera es movernos al carril de la izquierda \"0\", la segunda es un movimiento ilegal o mantenernos en el carril actual a la velocidad actual \"1\" (cuando se produce un cambio de carril en el límite de la carretera, o cuando la acelaración o desaceleración es mayor o menor que la velocidad máxima/mínima) \"1\", la tercera es movernos al carril de la derecha \"2\", la cuarta es aumentar la velocidad \"3\" y la quinta reducir la velocidad \"4\".\n",
    "\n",
    "- El número de carriles es 4, se puede modificar para añadir más o menos.\n",
    "\n",
    "- El número de vehículos es 50 y al igual que antes se puede modificar.\n",
    "\n",
    "- La recompensa por colisión es -1.\n",
    "\n",
    "- La recompensa por estar en el carril de la derecha es 0.1.\n",
    "\n",
    "- La recompensa por alcanzar una alta velocidad es 0.4.\n",
    "\n",
    "- La recompensa por cambiar de carril es 0.\n",
    "\n",
    "- Y la recompensa por aumentar o disminuir la velocidad varía entre 20 y 30 dependiendo de forma lineal a su velocidad."
   ]
  },
  {
   "cell_type": "markdown",
   "metadata": {},
   "source": [
    "A continuación podemos ver un ejemplo de una acción tomada aleatoriamente y todas las posibles acciones que podemos tomar:"
   ]
  },
  {
   "cell_type": "code",
   "execution_count": 164,
   "metadata": {},
   "outputs": [
    {
     "name": "stdout",
     "output_type": "stream",
     "text": [
      "Acción aleatoria tomada 1\n",
      "Las posibles acciones son {'LANE_LEFT': 0, 'IDLE': 1, 'LANE_RIGHT': 2, 'FASTER': 3, 'SLOWER': 4}\n"
     ]
    }
   ],
   "source": [
    "print(\"Acción aleatoria tomada {}\".format(env.action_space.sample()))\n",
    "print(\"Las posibles acciones son {}\".format(env.action_type.actions_indexes))"
   ]
  },
  {
   "cell_type": "markdown",
   "metadata": {},
   "source": [
    "Para concluir con la exploración del entorno, vamos a mostrar un ejemplo de un estado según el espacio de observaciones por defecto junto el nombre de cada columna:"
   ]
  },
  {
   "cell_type": "code",
   "execution_count": 165,
   "metadata": {},
   "outputs": [
    {
     "name": "stdout",
     "output_type": "stream",
     "text": [
      "Un estado aleatorio sería \n",
      "[[-1.6725762e-01 -3.1162581e-01 -2.1327846e+00 -5.3098708e-01\n",
      "  -8.9275002e-02]\n",
      " [ 4.0995377e-01 -8.3897609e-01 -6.6018647e-01 -6.1645728e-01\n",
      "  -4.2871732e-01]\n",
      " [ 7.1839142e-01 -1.5507836e+00 -1.2814782e+00  4.8285675e-01\n",
      "   1.4164952e+00]\n",
      " [-1.7379222e+00  9.0540695e-01  3.1791076e-01 -5.0518852e-01\n",
      "   2.4909838e-04]\n",
      " [-6.5142220e-01 -2.1446601e-01  2.5114097e-02 -6.6966850e-01\n",
      "  -4.8748511e-01]]\n",
      "El nombre de cada columna (característica \"F\") es ['presence', 'x', 'y', 'vx', 'vy']\n"
     ]
    }
   ],
   "source": [
    "print(\"Un estado aleatorio sería \\n{}\".format(env.observation_space.sample()))\n",
    "print(\"El nombre de cada columna (característica \\\"F\\\") es {}\".format(env.env.observation_type.features))"
   ]
  },
  {
   "cell_type": "markdown",
   "metadata": {},
   "source": [
    "#### Representación de una ejecución aleatoria"
   ]
  },
  {
   "cell_type": "code",
   "execution_count": 166,
   "metadata": {},
   "outputs": [
    {
     "name": "stdout",
     "output_type": "stream",
     "text": [
      "Obs inicial:\n"
     ]
    },
    {
     "data": {
      "image/png": "[encoded data removed]",
      "text/plain": [
       "<Figure size 432x288 with 1 Axes>"
      ]
     },
     "metadata": {
      "needs_background": "light"
     },
     "output_type": "display_data"
    },
    {
     "name": "stdout",
     "output_type": "stream",
     "text": [
      "[[ 1.          0.89241105  0.25        0.3125      0.        ]\n",
      " [ 1.          0.1168308   0.         -0.02055391  0.        ]\n",
      " [ 1.          0.2181603  -0.25       -0.03165723  0.        ]\n",
      " [ 1.          0.32349655  0.25       -0.02262461  0.        ]\n",
      " [ 1.          0.43191004  0.25       -0.0289528   0.        ]]\n",
      "\n",
      "Acción: LANE_RIGHT -> recommpensa: 0.8444444444444444\n",
      "Nuevo estado:\n"
     ]
    },
    {
     "data": {
      "image/png": "[encoded data removed]",
      "text/plain": [
       "<Figure size 432x288 with 1 Axes>"
      ]
     },
     "metadata": {
      "needs_background": "light"
     },
     "output_type": "display_data"
    },
    {
     "name": "stdout",
     "output_type": "stream",
     "text": [
      "[[ 1.          1.          0.4582173   0.31063917  0.03405233]\n",
      " [ 1.          0.1094271  -0.20821731 -0.0208772  -0.03405233]\n",
      " [ 1.          0.20339373 -0.4582173  -0.04776418 -0.03405233]\n",
      " [ 1.          0.30226108  0.05169223 -0.08356342 -0.01963163]\n",
      " [ 1.          0.4202541   0.00931765 -0.03636873 -0.06803605]]\n",
      "\n",
      "Acción: LANE_LEFT -> recommpensa: 0.8222222222222223\n",
      "Nuevo estado:\n"
     ]
    },
    {
     "data": {
      "image/png": "[encoded data removed]",
      "text/plain": [
       "<Figure size 432x288 with 1 Axes>"
      ]
     },
     "metadata": {
      "needs_background": "light"
     },
     "output_type": "display_data"
    },
    {
     "name": "stdout",
     "output_type": "stream",
     "text": [
      "[[ 1.          1.          0.30546886  0.31062725 -0.0341609 ]\n",
      " [ 1.          0.09830907 -0.05546886 -0.03921599  0.0341609 ]\n",
      " [ 1.          0.18015985 -0.30546886 -0.06870349  0.0341609 ]\n",
      " [ 1.          0.26452884  0.41141304 -0.08649998  0.06480712]\n",
      " [ 1.          0.4052886   0.15916988 -0.03801402  0.04706785]]\n",
      "\n",
      "Acción: SLOWER -> recommpensa: 0.7116739868390409\n",
      "Nuevo estado:\n"
     ]
    },
    {
     "data": {
      "image/png": "[encoded data removed]",
      "text/plain": [
       "<Figure size 432x288 with 1 Axes>"
      ]
     },
     "metadata": {
      "needs_background": "light"
     },
     "output_type": "display_data"
    },
    {
     "name": "stdout",
     "output_type": "stream",
     "text": [
      "[[ 1.          1.          0.24186051  0.26067236 -0.00206264]\n",
      " [ 1.          0.09066679  0.12296911 -0.00884151  0.05096713]\n",
      " [ 1.          0.16450247 -0.24186051 -0.01939754  0.00206264]\n",
      " [ 1.          0.2465255   0.5195273  -0.01468692  0.0021782 ]\n",
      " [ 1.          0.40192753  0.25956795  0.01109435  0.00478825]]\n",
      "\n",
      "Acción: IDLE -> recommpensa: 0.6927825940533742\n",
      "Nuevo estado:\n"
     ]
    },
    {
     "data": {
      "image/png": "[encoded data removed]",
      "text/plain": [
       "<Figure size 432x288 with 1 Axes>"
      ]
     },
     "metadata": {
      "needs_background": "light"
     },
     "output_type": "display_data"
    },
    {
     "name": "stdout",
     "output_type": "stream",
     "text": [
      "[[ 1.          1.          0.24745536  0.25182134  0.00139205]\n",
      " [ 1.          0.09049354  0.257132    0.00576749  0.00937243]\n",
      " [ 1.          0.15888053 -0.24745536 -0.01051579 -0.00139205]\n",
      " [ 1.          0.24552074  0.5044572   0.00772908 -0.00294606]\n",
      " [ 1.          0.39876688  0.0050583  -0.04188473 -0.00269817]]\n",
      "\n",
      "Acción: IDLE -> recommpensa: 0.6895542772906024\n",
      "Nuevo estado:\n"
     ]
    },
    {
     "data": {
      "image/png": "[encoded data removed]",
      "text/plain": [
       "<Figure size 432x288 with 1 Axes>"
      ]
     },
     "metadata": {
      "needs_background": "light"
     },
     "output_type": "display_data"
    },
    {
     "name": "stdout",
     "output_type": "stream",
     "text": [
      "[[ 1.0000000e+00  1.0000000e+00  2.5033298e-01  2.5031185e-01\n",
      "   1.3346794e-04]\n",
      " [ 1.0000000e+00  9.3596242e-02  2.5648269e-01  9.2102997e-03\n",
      "  -2.3810903e-03]\n",
      " [ 1.0000000e+00  1.5508643e-01 -2.5033298e-01 -8.7423548e-03\n",
      "  -1.3346794e-04]\n",
      " [ 1.0000000e+00  2.5092632e-01  4.9909204e-01  1.9530758e-02\n",
      "  -1.5160131e-04]\n",
      " [ 1.0000000e+00  3.8476586e-01 -5.8826408e-04 -2.8327573e-02\n",
      "  -2.9726437e-04]]\n",
      "\n",
      "Acción: LANE_LEFT -> recommpensa: 0.6667803737159762\n",
      "Nuevo estado:\n"
     ]
    },
    {
     "data": {
      "image/png": "[encoded data removed]",
      "text/plain": [
       "<Figure size 432x288 with 1 Axes>"
      ]
     },
     "metadata": {
      "needs_background": "light"
     },
     "output_type": "display_data"
    },
    {
     "name": "stdout",
     "output_type": "stream",
     "text": [
      "[[ 1.          1.          0.0414221   0.24784411 -0.03316541]\n",
      " [ 1.          0.09901629  0.45846233  0.01278741  0.03259399]\n",
      " [ 1.          0.1531537  -0.0414221  -0.00601236  0.03316541]\n",
      " [ 1.          0.26172692  0.708472    0.02901193  0.03324608]\n",
      " [ 1.          0.37661618  0.20845051 -0.01748758  0.03322143]]\n",
      "\n",
      "Acción: LANE_LEFT -> recommpensa: 0.6666860978635878\n",
      "Nuevo estado:\n"
     ]
    },
    {
     "data": {
      "image/png": "[encoded data removed]",
      "text/plain": [
       "<Figure size 432x288 with 1 Axes>"
      ]
     },
     "metadata": {
      "needs_background": "light"
     },
     "output_type": "display_data"
    },
    {
     "name": "stdout",
     "output_type": "stream",
     "text": [
      "[[ 1.0000000e+00  1.0000000e+00 -1.1251933e-02  2.5000831e-01\n",
      "  -6.2578486e-04]\n",
      " [ 1.0000000e+00  1.0355529e-01  5.1091033e-01  1.1427625e-02\n",
      "   7.2851626e-04]\n",
      " [ 1.0000000e+00  1.5005834e-01  1.1251933e-02 -8.0106771e-03\n",
      "   6.2578486e-04]\n",
      " [ 1.0000000e+00  2.7290052e-01  7.6128107e-01  2.8394157e-02\n",
      "   6.2720437e-04]\n",
      " [ 1.0000000e+00  3.7002841e-01  2.6126051e-01 -1.3985602e-02\n",
      "   6.3490076e-04]]\n",
      "\n",
      "Acción: LANE_RIGHT -> recommpensa: 0.6888922094518275\n",
      "Nuevo estado:\n"
     ]
    },
    {
     "data": {
      "image/png": "[encoded data removed]",
      "text/plain": [
       "<Figure size 432x288 with 1 Axes>"
      ]
     },
     "metadata": {
      "needs_background": "light"
     },
     "output_type": "display_data"
    },
    {
     "name": "stdout",
     "output_type": "stream",
     "text": [
      "[[ 1.          1.          0.20665236  0.24758756  0.03465803]\n",
      " [ 1.          0.10988507  0.293348    0.01481645 -0.03462792]\n",
      " [ 1.          0.14844927 -0.20665236 -0.00553666 -0.03465803]\n",
      " [ 1.          0.28609055  0.5433534   0.03209167 -0.0346622 ]\n",
      " [ 1.          0.36677483  0.04335396 -0.00776868 -0.03466046]]\n",
      "\n",
      "Acción: SLOWER -> recommpensa: 0.6888894563340274\n",
      "Nuevo estado:\n"
     ]
    },
    {
     "data": {
      "image/png": "[encoded data removed]",
      "text/plain": [
       "<Figure size 432x288 with 1 Axes>"
      ]
     },
     "metadata": {
      "needs_background": "light"
     },
     "output_type": "display_data"
    },
    {
     "name": "stdout",
     "output_type": "stream",
     "text": [
      "[[ 1.0000000e+00  1.0000000e+00  2.6175123e-01  2.4999939e-01\n",
      "   6.6199468e-04]\n",
      " [ 1.0000000e+00  1.1519495e-01  2.3826587e-01  1.3398915e-02\n",
      "  -6.6666753e-04]\n",
      " [ 1.0000000e+00  1.4542609e-01 -2.6175123e-01 -7.9885116e-03\n",
      "  -6.6199468e-04]\n",
      " [ 1.0000000e+00  2.9830748e-01  4.8824731e-01  3.0608786e-02\n",
      "  -6.6210196e-04]\n",
      " [ 1.0000000e+00  3.6337346e-01 -1.1751487e-02 -7.6262420e-03\n",
      "  -6.6248659e-04]]\n",
      "\n",
      "Acción: IDLE -> recommpensa: 0.6888889858585868\n",
      "Nuevo estado:\n"
     ]
    },
    {
     "data": {
      "image/png": "[encoded data removed]",
      "text/plain": [
       "<Figure size 432x288 with 1 Axes>"
      ]
     },
     "metadata": {
      "needs_background": "light"
     },
     "output_type": "display_data"
    },
    {
     "name": "stdout",
     "output_type": "stream",
     "text": [
      "[[ 1.          1.          0.25235093  0.2499945  -0.00166385]\n",
      " [ 1.          0.12073253  0.24764931  0.01432636  0.00166228]\n",
      " [ 1.          0.14221573 -0.25235093 -0.00808658  0.00166385]\n",
      " [ 1.          0.31068262  0.49764878  0.03126051  0.00166407]\n",
      " [ 1.          0.36067292 -0.00235123 -0.00587517  0.00166396]]\n",
      "\n",
      "Acción: LANE_RIGHT -> recommpensa: 0.7111111276820915\n",
      "Nuevo estado:\n"
     ]
    },
    {
     "data": {
      "image/png": "[encoded data removed]",
      "text/plain": [
       "<Figure size 432x288 with 1 Axes>"
      ]
     },
     "metadata": {
      "needs_background": "light"
     },
     "output_type": "display_data"
    },
    {
     "name": "stdout",
     "output_type": "stream",
     "text": [
      "[[ 1.          1.          0.45823285  0.24780849  0.03302969]\n",
      " [ 1.          0.12802814  0.0417663   0.01733345 -0.03302947]\n",
      " [ 1.          0.14036451 -0.45823285 -0.00603714 -0.03302969]\n",
      " [ 1.          0.32468173  0.29176724  0.03387813 -0.03302968]\n",
      " [ 1.          0.35997325 -0.20823283 -0.00246614 -0.03302966]]\n",
      "\n",
      "Acción: LANE_RIGHT -> recommpensa: 0.733333336165119\n",
      "Nuevo estado:\n"
     ]
    },
    {
     "data": {
      "image/png": "[encoded data removed]",
      "text/plain": [
       "<Figure size 432x288 with 1 Axes>"
      ]
     },
     "metadata": {
      "needs_background": "light"
     },
     "output_type": "display_data"
    },
    {
     "name": "stdout",
     "output_type": "stream",
     "text": [
      "[[ 1.          1.          0.7195347   0.2476881   0.03392059]\n",
      " [ 1.          0.1365295  -0.21953472  0.01815158 -0.03392051]\n",
      " [ 1.          0.13935558 -0.7195347  -0.00606337 -0.03392059]\n",
      " [ 1.          0.33972198  0.03046531  0.03427374 -0.0339206 ]\n",
      " [ 1.          0.36059374 -0.4695347  -0.00146362 -0.0339206 ]]\n",
      "\n",
      "Acción: LANE_LEFT -> recommpensa: 0.71111111159503\n",
      "Nuevo estado:\n"
     ]
    },
    {
     "data": {
      "image/png": "[encoded data removed]",
      "text/plain": [
       "<Figure size 432x288 with 1 Axes>"
      ]
     },
     "metadata": {
      "needs_background": "light"
     },
     "output_type": "display_data"
    },
    {
     "name": "stdout",
     "output_type": "stream",
     "text": [
      "[[ 1.0000000e+00  1.0000000e+00  5.5418587e-01  2.4769141e-01\n",
      "  -3.3896420e-02]\n",
      " [ 1.0000000e+00  1.3697058e-01 -5.5418587e-01 -6.2062466e-03\n",
      "   3.3896420e-02]\n",
      " [ 1.0000000e+00  1.4396735e-01 -5.4185838e-02  1.8718699e-02\n",
      "   3.3896413e-02]\n",
      " [ 1.0000000e+00  3.5353225e-01  1.9581412e-01  3.4436297e-02\n",
      "   3.3896420e-02]\n",
      " [ 1.0000000e+00  3.6020553e-01 -3.0418587e-01 -7.9579401e-04\n",
      "   3.3896420e-02]]\n",
      "\n",
      "Acción: SLOWER -> recommpensa: 0.7111111111938072\n",
      "Nuevo estado:\n"
     ]
    },
    {
     "data": {
      "image/png": "[encoded data removed]",
      "text/plain": [
       "<Figure size 432x288 with 1 Axes>"
      ]
     },
     "metadata": {
      "needs_background": "light"
     },
     "output_type": "display_data"
    },
    {
     "name": "stdout",
     "output_type": "stream",
     "text": [
      "[[ 1.          1.          0.4905009   0.24999014 -0.00222003]\n",
      " [ 1.          0.13373242 -0.4905009  -0.00862625  0.00222003]\n",
      " [ 1.          0.15081276  0.0094991   0.01688749  0.00222003]\n",
      " [ 1.          0.359262   -0.24050091 -0.00253357  0.00222003]\n",
      " [ 1.          0.36659357  0.2594991   0.03222905  0.00222003]]\n",
      "\n",
      "Acción: IDLE -> recommpensa: 0.711111111125243\n",
      "Nuevo estado:\n"
     ]
    },
    {
     "data": {
      "image/png": "[encoded data removed]",
      "text/plain": [
       "<Figure size 432x288 with 1 Axes>"
      ]
     },
     "metadata": {
      "needs_background": "light"
     },
     "output_type": "display_data"
    },
    {
     "name": "stdout",
     "output_type": "stream",
     "text": [
      "[[ 1.          1.          0.49717334  0.24999492  0.00159341]\n",
      " [ 1.          0.13026093 -0.49717334 -0.00872731 -0.00159341]\n",
      " [ 1.          0.15764073  0.00282667  0.01727335 -0.00159341]\n",
      " [ 1.          0.3583435  -0.24717332 -0.00202251 -0.00159341]\n",
      " [ 1.          0.37949222  0.25282666  0.03226617 -0.00159341]]\n",
      "\n",
      "Acción: LANE_LEFT -> recommpensa: 0.6888888888913037\n",
      "Nuevo estado:\n"
     ]
    },
    {
     "data": {
      "image/png": "[encoded data removed]",
      "text/plain": [
       "<Figure size 432x288 with 1 Axes>"
      ]
     },
     "metadata": {
      "needs_background": "light"
     },
     "output_type": "display_data"
    },
    {
     "name": "stdout",
     "output_type": "stream",
     "text": [
      "[[ 1.0000000e+00  1.0000000e+00  2.9165578e-01  2.4781807e-01\n",
      "  -3.2957673e-02]\n",
      " [ 1.0000000e+00  1.2815967e-01 -2.9165578e-01 -6.6183996e-03\n",
      "   3.2957673e-02]\n",
      " [ 1.0000000e+00  1.6601734e-01  2.0834421e-01  1.9784102e-02\n",
      "   3.2957673e-02]\n",
      " [ 1.0000000e+00  3.5903218e-01 -4.1655790e-02  6.5967807e-04\n",
      "   3.2957673e-02]\n",
      " [ 1.0000000e+00  3.9380458e-01  4.5834422e-01  3.4452241e-02\n",
      "   3.2957673e-02]]\n",
      "\n",
      "Acción: LANE_LEFT -> recommpensa: 0.6666666666670794\n",
      "Nuevo estado:\n"
     ]
    },
    {
     "data": {
      "image/png": "[encoded data removed]",
      "text/plain": [
       "<Figure size 432x288 with 1 Axes>"
      ]
     },
     "metadata": {
      "needs_background": "light"
     },
     "output_type": "display_data"
    },
    {
     "name": "stdout",
     "output_type": "stream",
     "text": [
      "[[ 1.          1.          0.03048577  0.24768871 -0.03391613]\n",
      " [ 1.          0.12693873 -0.03048577 -0.00652767  0.03391613]\n",
      " [ 1.          0.17542115  0.46951422  0.0202044   0.03391613]\n",
      " [ 1.          0.36082545  0.21951422  0.00129812  0.03391613]\n",
      " [ 1.          0.40901837  0.71951425  0.03456936  0.03391613]]\n",
      "\n",
      "Acción: FASTER -> recommpensa: 0.7772149020499185\n",
      "Nuevo estado:\n"
     ]
    },
    {
     "data": {
      "image/png": "[encoded data removed]",
      "text/plain": [
       "<Figure size 432x288 with 1 Axes>"
      ]
     },
     "metadata": {
      "needs_background": "light"
     },
     "output_type": "display_data"
    },
    {
     "name": "stdout",
     "output_type": "stream",
     "text": [
      "[[ 1.          1.         -0.01710779  0.30181575  0.00149994]\n",
      " [ 1.          0.11096974  0.01710779 -0.06066453 -0.00149994]\n",
      " [ 1.          0.17019673  0.5171078  -0.03366572 -0.00149994]\n",
      " [ 1.          0.3480856   0.26710778 -0.05231323 -0.00149994]\n",
      " [ 1.          0.4094864   0.7671078  -0.01958407 -0.00149994]]\n",
      "\n",
      "Acción: LANE_LEFT -> recommpensa: 0.796106294835527\n",
      "Nuevo estado:\n"
     ]
    },
    {
     "data": {
      "image/png": "[encoded data removed]",
      "text/plain": [
       "<Figure size 432x288 with 1 Axes>"
      ]
     },
     "metadata": {
      "needs_background": "light"
     },
     "output_type": "display_data"
    },
    {
     "name": "stdout",
     "output_type": "stream",
     "text": [
      "[[ 1.          1.         -0.0019084   0.31066784  0.00208231]\n",
      " [ 1.          0.08456412  0.0019084  -0.06949912 -0.00208231]\n",
      " [ 1.          0.15463176  0.5019084  -0.04228923 -0.00208231]\n",
      " [ 1.          0.32511508  0.2519084  -0.06064553 -0.00208231]\n",
      " [ 1.          0.38699442  0.0019084  -0.06996448 -0.00208231]]\n",
      "\n",
      "Acción: LANE_RIGHT -> recommpensa: 0.8215568338205106\n",
      "Nuevo estado:\n"
     ]
    },
    {
     "data": {
      "image/png": "[encoded data removed]",
      "text/plain": [
       "<Figure size 432x288 with 1 Axes>"
      ]
     },
     "metadata": {
      "needs_background": "light"
     },
     "output_type": "display_data"
    },
    {
     "name": "stdout",
     "output_type": "stream",
     "text": [
      "[[ 1.          1.          0.20933196  0.31033543  0.03396072]\n",
      " [ 1.          0.05759587 -0.20933196 -0.06912394 -0.03396072]\n",
      " [ 1.          0.13857913  0.29066804 -0.04175295 -0.03396072]\n",
      " [ 1.          0.30177817  0.04066804 -0.05979351 -0.03396072]\n",
      " [ 1.          0.3599051  -0.20933196 -0.06924796 -0.03396072]]\n",
      "\n",
      "Acción: LANE_RIGHT -> recommpensa: 0.8443307373951351\n",
      "Nuevo estado:\n"
     ]
    },
    {
     "data": {
      "image/png": "[encoded data removed]",
      "text/plain": [
       "<Figure size 432x288 with 1 Axes>"
      ]
     },
     "metadata": {
      "needs_background": "light"
     },
     "output_type": "display_data"
    },
    {
     "name": "stdout",
     "output_type": "stream",
     "text": [
      "[[ 1.          1.          0.47207212  0.31060869  0.03384056]\n",
      " [ 1.          0.03100324 -0.47207212 -0.06933149 -0.03384056]\n",
      " [ 1.          0.12295794  0.02792789 -0.04184471 -0.03384056]\n",
      " [ 1.          0.27900252 -0.22207211 -0.05955163 -0.03384056]\n",
      " [ 1.          0.33332062 -0.47207212 -0.06915255 -0.03384056]]\n",
      "\n",
      "Acción: SLOWER -> recommpensa: 0.7338767778643422\n",
      "Nuevo estado:\n"
     ]
    },
    {
     "data": {
      "image/png": "[encoded data removed]",
      "text/plain": [
       "<Figure size 432x288 with 1 Axes>"
      ]
     },
     "metadata": {
      "needs_background": "light"
     },
     "output_type": "display_data"
    },
    {
     "name": "stdout",
     "output_type": "stream",
     "text": [
      "[[ 1.          1.          0.513253    0.26066682 -0.00154731]\n",
      " [ 1.          0.01520503 -0.513253   -0.01930337  0.00154731]\n",
      " [ 1.          0.11816967 -0.01325299  0.00825799  0.00154731]\n",
      " [ 1.          0.2671958  -0.263253   -0.00910264  0.00154731]\n",
      " [ 1.          0.31764513 -0.513253   -0.01885632  0.00154731]]\n",
      "\n",
      "Acción: FASTER -> recommpensa: 0.8255497310958391\n",
      "Nuevo estado:\n"
     ]
    },
    {
     "data": {
      "image/png": "[encoded data removed]",
      "text/plain": [
       "<Figure size 432x288 with 1 Axes>"
      ]
     },
     "metadata": {
      "needs_background": "light"
     },
     "output_type": "display_data"
    },
    {
     "name": "stdout",
     "output_type": "stream",
     "text": [
      "[[ 1.          1.          0.50100124  0.30363914 -0.0015534 ]\n",
      " [ 1.         -0.00291305 -0.50100124 -0.06217131  0.0015534 ]\n",
      " [ 1.          0.11108423 -0.00100123 -0.03457292  0.0015534 ]\n",
      " [ 1.          0.25323215 -0.25100124 -0.05157847  0.0015534 ]\n",
      " [ 1.          0.29975104 -0.50100124 -0.06148768  0.0015534 ]]\n",
      "\n",
      "Acción: IDLE -> recommpensa: 0.8412155602365342\n",
      "Nuevo estado:\n"
     ]
    },
    {
     "data": {
      "image/png": "[encoded data removed]",
      "text/plain": [
       "<Figure size 432x288 with 1 Axes>"
      ]
     },
     "metadata": {
      "needs_background": "light"
     },
     "output_type": "display_data"
    },
    {
     "name": "stdout",
     "output_type": "stream",
     "text": [
      "[[ 1.0000000e+00  1.0000000e+00  4.9920827e-01  3.1098643e-01\n",
      "   1.2964883e-04]\n",
      " [ 1.0000000e+00 -2.9541358e-02 -4.9920827e-01 -6.9398381e-02\n",
      "  -1.2964883e-04]\n",
      " [ 1.0000000e+00  9.5496893e-02  7.9173909e-04 -4.1797198e-02\n",
      "  -1.2964883e-04]\n",
      " [ 1.0000000e+00  2.3090981e-01 -2.4920826e-01 -5.8441728e-02\n",
      "  -1.2964883e-04]\n",
      " [ 1.0000000e+00  2.7343592e-01 -4.9920827e-01 -6.8506636e-02\n",
      "  -1.2964883e-04]]\n",
      "\n",
      "Acción: LANE_LEFT -> recommpensa: 0.8216704439001203\n",
      "Nuevo estado:\n"
     ]
    },
    {
     "data": {
      "image/png": "[encoded data removed]",
      "text/plain": [
       "<Figure size 432x288 with 1 Axes>"
      ]
     },
     "metadata": {
      "needs_background": "light"
     },
     "output_type": "display_data"
    },
    {
     "name": "stdout",
     "output_type": "stream",
     "text": [
      "[[ 1.          1.          0.29158998  0.3103882  -0.03396785]\n",
      " [ 1.          0.07964996  0.20841002 -0.04109346  0.03396785]\n",
      " [ 1.          0.20847309 -0.04158998 -0.05737305  0.03396785]\n",
      " [ 1.          0.24694441 -0.29158998 -0.06759196  0.03396785]\n",
      " [ 1.          0.35611078  0.45841002 -0.02850235  0.03396785]]\n",
      "\n",
      "Acción: FASTER -> recommpensa: 0.9326761651820344\n",
      "Nuevo estado:\n"
     ]
    },
    {
     "data": {
      "image/png": "[encoded data removed]",
      "text/plain": [
       "<Figure size 432x288 with 1 Axes>"
      ]
     },
     "metadata": {
      "needs_background": "light"
     },
     "output_type": "display_data"
    },
    {
     "name": "stdout",
     "output_type": "stream",
     "text": [
      "[[ 1.0000000e+00  1.0000000e+00  2.3300748e-01  3.6427477e-01\n",
      "   6.0643366e-04]\n",
      " [ 1.0000000e+00  5.0013769e-02  2.6699254e-01 -9.4891213e-02\n",
      "  -6.0643366e-04]\n",
      " [ 1.0000000e+00  1.7239359e-01  1.6992526e-02 -1.1080334e-01\n",
      "  -6.0643366e-04]\n",
      " [ 1.0000000e+00  2.0674904e-01 -2.3300748e-01 -1.2117329e-01\n",
      "  -6.0643366e-04]\n",
      " [ 1.0000000e+00  3.3148256e-01  5.1699251e-01 -8.2450248e-02\n",
      "  -6.0643366e-04]]\n",
      "\n",
      "Acción: SLOWER -> recommpensa: 0.841097501542121\n",
      "Nuevo estado:\n"
     ]
    },
    {
     "data": {
      "image/png": "[encoded data removed]",
      "text/plain": [
       "<Figure size 432x288 with 1 Axes>"
      ]
     },
     "metadata": {
      "needs_background": "light"
     },
     "output_type": "display_data"
    },
    {
     "name": "stdout",
     "output_type": "stream",
     "text": [
      "[[ 1.          1.          0.24719827  0.3213402   0.0022099 ]\n",
      " [ 1.          0.02248364  0.25280172 -0.05188381 -0.0022099 ]\n",
      " [ 1.          0.13856745  0.00280173 -0.06742699 -0.0022099 ]\n",
      " [ 1.          0.1687473  -0.24719827 -0.07794412 -0.0022099 ]\n",
      " [ 1.          0.3089029   0.5028017  -0.03957934 -0.0022099 ]]\n",
      "\n",
      "Acción: LANE_RIGHT -> recommpensa: 0.04444444444444443\n",
      "Nuevo estado:\n"
     ]
    },
    {
     "data": {
      "image/png": "[encoded data removed]",
      "text/plain": [
       "<Figure size 432x288 with 1 Axes>"
      ]
     },
     "metadata": {
      "needs_background": "light"
     },
     "output_type": "display_data"
    },
    {
     "name": "stdout",
     "output_type": "stream",
     "text": [
      "[[ 1.          1.          0.40432745  0.192404    0.03126513]\n",
      " [ 1.          0.00616171  0.1492523  -0.02613996 -0.03126513]\n",
      " [ 1.          0.12511393 -0.15432745  0.06193641 -0.03126513]\n",
      " [ 1.          0.15106013 -0.40432745  0.05127655 -0.03126513]\n",
      " [ 1.          0.30649596  0.34567255  0.08929081 -0.03126513]]\n",
      "Episodio terminado después de 28 pasos y la recompensa fue 20.37388739375989\n"
     ]
    }
   ],
   "source": [
    "obs = env.reset()\n",
    "t, total_reward, done = 0, 0, False\n",
    "\n",
    "print(\"Obs inicial:\")\n",
    "plt.imshow(env.render(mode=\"rgb_array\"))\n",
    "plt.show()\n",
    "print(obs)\n",
    "\n",
    "while not done:\n",
    "    # Obtener la acción y la ejecutamos\n",
    "    action = env.action_space.sample()\n",
    "    new_obs, reward, done, info = env.step(action)\n",
    "    \n",
    "    # Imprimimos el paso\n",
    "    print(\"\\nAcción: {} -> recommpensa: {}\".format(env.action_type.actions[action], reward))\n",
    "    print(\"Nuevo estado:\")\n",
    "    plt.imshow(env.render(mode=\"rgb_array\"))\n",
    "    plt.show()\n",
    "    env.close()\n",
    "    print(new_obs)\n",
    "    \n",
    "    t += 1\n",
    "    total_reward += reward\n",
    "    obs = new_obs\n",
    "    \n",
    "print(\"Episodio terminado después de {} pasos y la recompensa fue {}\".format(t, total_reward))"
   ]
  },
  {
   "cell_type": "markdown",
   "metadata": {},
   "source": [
    "<div style=\"background-color: #grey; border-color: #7C9DBF; border-left: 5px solid #7C9DBF; padding: 0.5em;\">\n",
    "<strong>Ejercicio 1.2 (0.5 ptos) - </strong> Explicar los diferentes espacios de observaciones y de acciones:\n",
    "</div>"
   ]
  },
  {
   "cell_type": "markdown",
   "metadata": {},
   "source": [
    "Resuelto en el informe"
   ]
  },
  {
   "cell_type": "markdown",
   "metadata": {},
   "source": [
    "## 2. Agente de mejorado"
   ]
  },
  {
   "cell_type": "code",
   "execution_count": 167,
   "metadata": {},
   "outputs": [],
   "source": [
    "class experienceReplayBuffer:\n",
    "\n",
    "    def __init__(self, memory_size=50000, burn_in=10000):\n",
    "        self.memory_size = memory_size\n",
    "        self.burn_in = burn_in\n",
    "        self.buffer = namedtuple('Buffer', \n",
    "            field_names=['state', 'action', 'reward', 'done', 'next_state'])\n",
    "        self.replay_memory = deque(maxlen=memory_size)\n",
    "\n",
    "    def sample_batch(self, batch_size=32):\n",
    "        samples = np.random.choice(len(self.replay_memory), batch_size, \n",
    "                                   replace=False)\n",
    "        # Use asterisk operator to unpack deque \n",
    "        batch = zip(*[self.replay_memory[i] for i in samples])\n",
    "        return batch\n",
    "\n",
    "    def append(self, state, action, reward, done, next_state):\n",
    "        self.replay_memory.append(\n",
    "            self.buffer(state, action, reward, done, next_state))\n",
    "\n",
    "    def burn_in_capacity(self):\n",
    "        return len(self.replay_memory) / self.burn_in"
   ]
  },
  {
   "cell_type": "code",
   "execution_count": 207,
   "metadata": {},
   "outputs": [],
   "source": [
    "class NeuralNet(torch.nn.Module):  \n",
    "\n",
    "    def __init__(self, env, learning_rate=1e-3):\n",
    "        \n",
    "        \"\"\"\n",
    "        Params\n",
    "        ======\n",
    "        n_inputs: tamaño del espacio de estadps\n",
    "        n_outputs: tamaño del espacio de acciones\n",
    "        actions: array de acciones posibles\n",
    "        \"\"\"\n",
    "        ######################################\n",
    "        ##TODO: Inicializar parámetros\n",
    "        super(NeuralNet, self).__init__()\n",
    "        self.n_inputs = env.observation_space.shape[0] * env.observation_space.shape[1]\n",
    "        self.n_outputs = env.action_space.n\n",
    "        self.actions = np.arange(env.action_space.n)\n",
    "        self.learning_rate = learning_rate\n",
    "        \n",
    "        #######################################\n",
    "        ##TODO: Neural network\n",
    "        self.model = torch.nn.Sequential(\n",
    "            torch.nn.Linear(self.n_inputs, 512, bias=True),\n",
    "            torch.nn.ReLU(),\n",
    "            torch.nn.Linear(512, 256, bias=True),\n",
    "            torch.nn.ReLU(),\n",
    "            torch.nn.Linear(256, 128, bias=True),\n",
    "            torch.nn.ReLU(),\n",
    "            torch.nn.Linear(128, self.n_outputs, bias=True),\n",
    "        )\n",
    "        \n",
    "        #######################################\n",
    "        ##TODO: Initialize optimizer\n",
    "        self.optimizer = torch.optim.Adam(self.parameters(), lr=self.learning_rate)\n",
    "\n",
    "\n",
    "    ### e-greedy method\n",
    "    def get_action(self, state, epsilon=0.05):\n",
    "        if np.random.random() < epsilon:\n",
    "            action = np.random.choice(self.actions)  # acción random\n",
    "        else:\n",
    "            qvals = self.get_qvals(np.reshape(state, (25,)))  # acción del cálculo de Q para esta acción\n",
    "#             print(state)\n",
    "#             print(qvals)\n",
    "            action= torch.max(qvals, dim=-1)[1].item()\n",
    "        return action\n",
    "    \n",
    "    \n",
    "    def get_qvals(self, state):\n",
    "        if type(state) is tuple:\n",
    "#             print(\"*******************\")\n",
    "#             print(\"ACTUALIZCION\")\n",
    "#             print(state)\n",
    "            state = np.array([np.ravel(s) for s in state])\n",
    "#             print(state)\n",
    "#             print(\"*******************\")\n",
    "        state_t = torch.FloatTensor(state)\n",
    "        return self.model(state_t)"
   ]
  },
  {
   "cell_type": "code",
   "execution_count": 217,
   "metadata": {},
   "outputs": [],
   "source": [
    "class DQNAgent:\n",
    "    \n",
    "    ######################################\n",
    "    ##TODO 1: Declarar variables\n",
    "    def __init__(self, env, main_network, buffer, epsilon=0.1, eps_decay=0.99, batch_size=32):\n",
    "        \n",
    "        self.env = env\n",
    "        self.main_network = main_network\n",
    "        self.target_network = deepcopy(main_network) \n",
    "        self.buffer = buffer\n",
    "        self.epsilon = epsilon\n",
    "        self.eps_decay = eps_decay\n",
    "        self.batch_size = batch_size\n",
    "        self.nblock = 100 # bloque de los X últimos episodios de los que se calculará la media de recompensas\n",
    "        self.initialize()\n",
    "        \n",
    "    ######################################\n",
    "    ##TODO 2: Inicializar otras variables necesarias\n",
    "    def initialize(self):\n",
    "        self.update_loss = []\n",
    "        self.training_rewards = []\n",
    "        self.mean_training_rewards = []\n",
    "        self.update_position = []\n",
    "        self.history_loss = []\n",
    "        self.update_epsilon = []\n",
    "        self.sync_eps = []\n",
    "        self.total_reward = 0\n",
    "        self.step_count = 0\n",
    "        self.state0 = self.env.reset()\n",
    "    \n",
    "    ######################################\n",
    "    ##TODO 3: Tomar paso siguiente\n",
    "    def take_step(self, eps, mode='train'):\n",
    "        if mode == 'explore': \n",
    "            action = self.env.action_space.sample()  # acción aleatoria en el burn-in\n",
    "        else:\n",
    "            action = self.main_network.get_action(self.state0, eps) # acción a partir del valor de Q (elección de la acción con mejor Q)\n",
    "            self.step_count += 1\n",
    "            \n",
    "        #TODO: tomar 'step' i obtener nuevo estado y recompensa. Guardar la experiencia en el buffer\n",
    "        new_state, reward, done, _ = self.env.step(action)\n",
    "        self.total_reward += reward\n",
    "        self.buffer.append(self.state0, action, reward, done, new_state)\n",
    "        self.state0 = new_state.copy()\n",
    "        \n",
    "        #TODO: resetear entorno 'if done'\n",
    "        if done:\n",
    "            self.update_position.append(self.state0[0]) # Guardamos la posición final de cada episodio\n",
    "            self.state0 = self.env.reset()\n",
    "        return done\n",
    "\n",
    "    ## TRAINING\n",
    "    def train(self, gamma=0.99, max_episodes=50000, \n",
    "              batch_size=32,\n",
    "              dnn_update_frequency=4,\n",
    "              dnn_sync_frequency=2000):\n",
    "        \n",
    "        self.gamma = gamma\n",
    "\n",
    "        # Rellenamos el buffer con N experiencias aleatorias ()\n",
    "        print(\"Filling replay buffer...\")\n",
    "        while self.buffer.burn_in_capacity() < 1:\n",
    "            self.take_step(self.epsilon, mode='explore')\n",
    "\n",
    "            \n",
    "        episode = 0\n",
    "        training = True\n",
    "        print(\"Training...\")\n",
    "        while training:\n",
    "            self.state0 = self.env.reset()\n",
    "            self.total_reward = 0\n",
    "            gamedone = False\n",
    "            while gamedone == False:\n",
    "                # El agente toma una acción\n",
    "                gamedone = self.take_step(self.epsilon, mode='train')\n",
    "                \n",
    "                #################################################################################\n",
    "                #####TODO 4:  Actualizar la red principal según la frecuencia establecida #######\n",
    "                if self.step_count % dnn_update_frequency == 0:\n",
    "                    self.update()\n",
    "                    \n",
    "                ########################################################################################\n",
    "                ###TODO 6: Sincronizar red principal y red objetivo según la frecuencia establecida#####\n",
    "                if self.step_count % dnn_sync_frequency == 0:\n",
    "                    self.target_network.load_state_dict(\n",
    "                        self.main_network.state_dict()\n",
    "                    )\n",
    "                    self.sync_eps.append(episode)\n",
    "                \n",
    "                if gamedone:                   \n",
    "                    episode += 1\n",
    "                    \n",
    "                    # Guardamos la evolución de la pérdida\n",
    "                    self.history_loss.append(np.mean(self.update_loss))\n",
    "                        \n",
    "                    self.update_loss = []\n",
    "                                    \n",
    "                    #######################################################################################\n",
    "                    ###TODO 7: calcular la media de recompensa de los últimos X episodios, y almacenar\n",
    "                    self.training_rewards.append(self.total_reward)\n",
    "                    mean_rewards = np.mean(\n",
    "                        self.training_rewards[-self.nblock:]\n",
    "                    )\n",
    "                    self.mean_training_rewards.append(mean_rewards)\n",
    "\n",
    "                    self.update_epsilon.append(self.epsilon) # Guardamos la evolución de epsilon\n",
    "                    \n",
    "                    print(\"\\rEpisode {:d} Mean Rewards {:.2f} Epsilon {}\\t\\t\".format(\n",
    "                        episode, mean_rewards, self.epsilon), end=\"\")\n",
    "                    \n",
    "                    #######################################################################################\n",
    "                    ### TODO 8: Comprobar que todavía quedan episodios. Parar el aprendizaje si se llega al límite\n",
    "                    if episode >= max_episodes:\n",
    "                        training = False\n",
    "                        print('\\nEpisode limit reached')\n",
    "                        break\n",
    "                    \n",
    "                    #################################################################################\n",
    "                    ######TODO 9: Actualizar epsilon según la velocidad de decaimiento fijada########\n",
    "                    self.epsilon = max(self.epsilon * self.eps_decay, 0.01)\n",
    "\n",
    "                    \n",
    "    #####################################         \n",
    "    #####TODO 5: cálculo de la pérdida###\n",
    "    def calculate_loss(self, batch):\n",
    "        # Separamos las variables de la experiencia y las convertimos a tensores \n",
    "        states, actions, rewards, dones, next_states = [i for i in batch] \n",
    "        rewards_vals = torch.FloatTensor(rewards)\n",
    "        actions_vals = torch.LongTensor(np.array(actions)).reshape(-1,1)\n",
    "        dones_t = torch.ByteTensor(dones)\n",
    "        \n",
    "#         print(states)\n",
    "#         print(\"*******************\")\n",
    "#         print(actions)\n",
    "#         print(\"*******************\")\n",
    "#         print(actions_vals)\n",
    "#         print(\"*******************\")\n",
    "#         print(self.main_network.get_qvals(states))\n",
    "        \n",
    "        # Obtenemos los valores de Q de la red principal\n",
    "        qvals = torch.gather(self.main_network.get_qvals(states), 1, actions_vals)\n",
    "        # Obtenemos los valores de Q objetivo. El parámetro detach() evita que estos valores actualicen la red objetivo\n",
    "        qvals_next = torch.max(self.target_network.get_qvals(next_states),\n",
    "                               dim=-1)[0].detach()\n",
    "        qvals_next[dones_t] = 0 # 0 en estados terminales\n",
    "        \n",
    "        #################################################################################\n",
    "        ### TODO: Calcular ecuación de Bellman\n",
    "        expected_qvals = self.gamma * qvals_next + rewards_vals\n",
    "        \n",
    "        #################################################################################\n",
    "        ### TODO: Calcular la pérdida (MSE)\n",
    "        loss = torch.nn.MSELoss()(qvals, expected_qvals.reshape(-1,1))\n",
    "        \n",
    "        return loss\n",
    "\n",
    "    \n",
    "    def update(self):\n",
    "        self.main_network.optimizer.zero_grad()  # eliminamos cualquier gradiente pasado\n",
    "        batch = self.buffer.sample_batch(batch_size=self.batch_size) # seleccionamos un conjunto del buffer\n",
    "        loss = self.calculate_loss(batch) # calculamos la pérdida\n",
    "        loss.backward() # hacemos la diferencia para obtener los gradientes\n",
    "        self.main_network.optimizer.step() # aplicamos los gradientes a la red neuronal\n",
    "        # Guardamos los valores de pérdida\n",
    "        self.update_loss.append(loss.detach().numpy())\n",
    "        \n",
    "    def plot_rewards(self):\n",
    "        plt.figure(figsize=(12,8))\n",
    "        plt.plot(self.training_rewards, label='Rewards')\n",
    "        plt.plot(self.mean_training_rewards, label='Mean Rewards')\n",
    "        plt.title(\"Evolución de las recompensas\")\n",
    "        plt.xlabel('Episode')\n",
    "        plt.ylabel('Reward')\n",
    "        plt.legend(loc=\"upper left\")\n",
    "        plt.show()\n",
    "        \n",
    "    def plot_loss(self):\n",
    "        plt.figure(figsize=(12,8))\n",
    "        plt.plot(self.history_loss)\n",
    "        plt.title(\"Evolución de la pérdida\")\n",
    "        plt.xlabel('Episode')\n",
    "        plt.ylabel('Loss')\n",
    "        plt.show()\n",
    "        \n",
    "    def plot_epsilon(self):\n",
    "        plt.figure(figsize=(12,8))\n",
    "        plt.plot(self.update_epsilon)\n",
    "        plt.title(\"Evolución de epsilon\")\n",
    "        plt.xlabel('Episode')\n",
    "        plt.ylabel('Epsilon')\n",
    "        plt.show()"
   ]
  },
  {
   "cell_type": "code",
   "execution_count": 218,
   "metadata": {},
   "outputs": [],
   "source": [
    "# lr = 0.001            # Velocidad de aprendizaje\n",
    "# BATCH_SIZE = 32       # Tamaño del batch\n",
    "# MAX_EPISODES = 5000   # Número de episodios\n",
    "# BURN_IN = 1        # Número de episodios para rellenar el buffer\n",
    "# DNN_UPD = 3           # Frecuencia de actualización de la red neuronal\n",
    "# DNN_SYNC = 1000       # Frecuencia de sincronización con la red objetivo\n",
    "# MEMORY_SIZE = 10   # Capacidad máxima del buffer\n",
    "# GAMMA = 0.99          # Factor de descuento\n",
    "# EPSILON = 0.01           # Epsilon\n",
    "# EPSILON_DECAY = 0.99   # Decaimiento de epsilon\n",
    "\n",
    "lr = 0.001            # Velocidad de aprendizaje\n",
    "BATCH_SIZE = 32       # Tamaño del batch\n",
    "MAX_EPISODES = 1500   # Número de episodios\n",
    "BURN_IN = 100        # Número de episodios para rellenar el buffer\n",
    "DNN_UPD = 3           # Frecuencia de actualización de la red neuronal\n",
    "DNN_SYNC = 1000       # Frecuencia de sincronización con la red objetivo\n",
    "MEMORY_SIZE = 10000   # Capacidad máxima del buffer\n",
    "GAMMA = 0.99          # Factor de descuento\n",
    "EPSILON = 1           # Epsilon\n",
    "EPSILON_DECAY = 0.99   # Decaimiento de epsilon"
   ]
  },
  {
   "cell_type": "code",
   "execution_count": null,
   "metadata": {},
   "outputs": [
    {
     "name": "stdout",
     "output_type": "stream",
     "text": [
      "Filling replay buffer...\n",
      "Training...\n"
     ]
    },
    {
     "name": "stderr",
     "output_type": "stream",
     "text": [
      "<ipython-input-217-abf80ff9db09>:145: UserWarning: masked_fill_ received a mask with dtype torch.uint8, this behavior is now deprecated,please use a mask with dtype torch.bool instead. (Triggered internally at  ..\\aten\\src\\ATen\\native\\TensorAdvancedIndexing.cpp:1273.)\n",
      "  qvals_next[dones_t] = 0 # 0 en estados terminales\n"
     ]
    },
    {
     "name": "stdout",
     "output_type": "stream",
     "text": [
      "Episode 1031 Mean Rewards 24.56 Epsilon 0.01\t\t118606165716\t\t\t"
     ]
    }
   ],
   "source": [
    "# Carga de la red neuronal\n",
    "dqn = NeuralNet(env, learning_rate=lr)\n",
    "\n",
    "# Creación del buffer\n",
    "buffer = experienceReplayBuffer(\n",
    "    memory_size=MEMORY_SIZE, \n",
    "    burn_in=BURN_IN\n",
    ")\n",
    "\n",
    "# Creación del agente\n",
    "agent_dqn = DQNAgent(\n",
    "    env=env,\n",
    "    main_network=dqn,\n",
    "    buffer=buffer,\n",
    "    epsilon=EPSILON,\n",
    "    eps_decay=EPSILON_DECAY,\n",
    "    batch_size=BATCH_SIZE\n",
    ")\n",
    "\n",
    "# Entrenamos el agente\n",
    "agent_dqn.train(\n",
    "    gamma=GAMMA, \n",
    "    max_episodes=MAX_EPISODES, \n",
    "    batch_size=BATCH_SIZE,  \n",
    "    dnn_update_frequency=DNN_UPD, \n",
    "    dnn_sync_frequency=DNN_SYNC\n",
    ")"
   ]
  },
  {
   "cell_type": "code",
   "execution_count": null,
   "metadata": {},
   "outputs": [],
   "source": [
    "agent_dqn.plot_rewards()\n",
    "agent_dqn.plot_loss()\n",
    "agent_dqn.plot_epsilon()"
   ]
  },
  {
   "cell_type": "code",
   "execution_count": null,
   "metadata": {},
   "outputs": [],
   "source": [
    "# Carga del modelo entrenado\n",
    "modelo = torch.load(\"DQN.pth\")['state_dic']\n",
    "dqn.load_state_dict(modelo)\n",
    "\n",
    "obs = env.reset()\n",
    "t, total_reward, done = 0, 0, False\n",
    "\n",
    "print(\"Obs inicial:\")\n",
    "plt.imshow(env.render(mode=\"rgb_array\"))\n",
    "plt.show()\n",
    "print(obs)\n",
    "\n",
    "while not done:\n",
    "    # Obtener la acción y la ejecutamos\n",
    "    action = dqn.get_action(obs, 0)\n",
    "    new_obs, reward, done, info = env.step(action)\n",
    "    \n",
    "    # Imprimimos el paso\n",
    "    print(\"\\nAcción: {} -> recommpensa: {}\".format(env.action_type.actions[action], reward))\n",
    "    print(\"Nuevo estado:\")\n",
    "    plt.imshow(env.render(mode=\"rgb_array\"))\n",
    "    plt.show()\n",
    "    env.close()\n",
    "    print(new_obs)\n",
    "    \n",
    "    t += 1\n",
    "    total_reward += reward\n",
    "    obs = new_obs\n",
    "    \n",
    "print(\"Episodio terminado después de {} pasos y la recompensa fue {}\".format(t, total_reward))"
   ]
  }
 ],
 "metadata": {
  "kernelspec": {
   "display_name": "Python 3",
   "language": "python",
   "name": "python3"
  },
  "language_info": {
   "codemirror_mode": {
    "name": "ipython",
    "version": 3
   },
   "file_extension": ".py",
   "mimetype": "text/x-python",
   "name": "python",
   "nbconvert_exporter": "python",
   "pygments_lexer": "ipython3",
   "version": "3.8.3"
  }
 },
 "nbformat": 4,
 "nbformat_minor": 4
}
