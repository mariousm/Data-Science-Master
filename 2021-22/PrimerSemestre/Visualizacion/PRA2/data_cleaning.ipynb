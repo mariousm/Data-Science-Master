{
 "cells": [
  {
   "cell_type": "code",
   "execution_count": 14,
   "metadata": {},
   "outputs": [],
   "source": [
    "import pandas as pd\n",
    "import numpy as np"
   ]
  },
  {
   "cell_type": "code",
   "execution_count": 15,
   "metadata": {},
   "outputs": [
    {
     "data": {
      "text/html": [
       "<div>\n",
       "<style scoped>\n",
       "    .dataframe tbody tr th:only-of-type {\n",
       "        vertical-align: middle;\n",
       "    }\n",
       "\n",
       "    .dataframe tbody tr th {\n",
       "        vertical-align: top;\n",
       "    }\n",
       "\n",
       "    .dataframe thead th {\n",
       "        text-align: right;\n",
       "    }\n",
       "</style>\n",
       "<table border=\"1\" class=\"dataframe\">\n",
       "  <thead>\n",
       "    <tr style=\"text-align: right;\">\n",
       "      <th></th>\n",
       "      <th>school</th>\n",
       "      <th>sex</th>\n",
       "      <th>age</th>\n",
       "      <th>address</th>\n",
       "      <th>famsize</th>\n",
       "      <th>Pstatus</th>\n",
       "      <th>Medu</th>\n",
       "      <th>Fedu</th>\n",
       "      <th>Mjob</th>\n",
       "      <th>Fjob</th>\n",
       "      <th>...</th>\n",
       "      <th>famrel</th>\n",
       "      <th>freetime</th>\n",
       "      <th>goout</th>\n",
       "      <th>Dalc</th>\n",
       "      <th>Walc</th>\n",
       "      <th>health</th>\n",
       "      <th>absences</th>\n",
       "      <th>G1</th>\n",
       "      <th>G2</th>\n",
       "      <th>G3</th>\n",
       "    </tr>\n",
       "  </thead>\n",
       "  <tbody>\n",
       "    <tr>\n",
       "      <th>0</th>\n",
       "      <td>GP</td>\n",
       "      <td>F</td>\n",
       "      <td>18</td>\n",
       "      <td>U</td>\n",
       "      <td>GT3</td>\n",
       "      <td>A</td>\n",
       "      <td>4</td>\n",
       "      <td>4</td>\n",
       "      <td>at_home</td>\n",
       "      <td>teacher</td>\n",
       "      <td>...</td>\n",
       "      <td>4</td>\n",
       "      <td>3</td>\n",
       "      <td>4</td>\n",
       "      <td>1</td>\n",
       "      <td>1</td>\n",
       "      <td>3</td>\n",
       "      <td>6</td>\n",
       "      <td>5</td>\n",
       "      <td>6</td>\n",
       "      <td>6</td>\n",
       "    </tr>\n",
       "    <tr>\n",
       "      <th>1</th>\n",
       "      <td>GP</td>\n",
       "      <td>F</td>\n",
       "      <td>17</td>\n",
       "      <td>U</td>\n",
       "      <td>GT3</td>\n",
       "      <td>T</td>\n",
       "      <td>1</td>\n",
       "      <td>1</td>\n",
       "      <td>at_home</td>\n",
       "      <td>other</td>\n",
       "      <td>...</td>\n",
       "      <td>5</td>\n",
       "      <td>3</td>\n",
       "      <td>3</td>\n",
       "      <td>1</td>\n",
       "      <td>1</td>\n",
       "      <td>3</td>\n",
       "      <td>4</td>\n",
       "      <td>5</td>\n",
       "      <td>5</td>\n",
       "      <td>6</td>\n",
       "    </tr>\n",
       "    <tr>\n",
       "      <th>2</th>\n",
       "      <td>GP</td>\n",
       "      <td>F</td>\n",
       "      <td>15</td>\n",
       "      <td>U</td>\n",
       "      <td>LE3</td>\n",
       "      <td>T</td>\n",
       "      <td>1</td>\n",
       "      <td>1</td>\n",
       "      <td>at_home</td>\n",
       "      <td>other</td>\n",
       "      <td>...</td>\n",
       "      <td>4</td>\n",
       "      <td>3</td>\n",
       "      <td>2</td>\n",
       "      <td>2</td>\n",
       "      <td>3</td>\n",
       "      <td>3</td>\n",
       "      <td>10</td>\n",
       "      <td>7</td>\n",
       "      <td>8</td>\n",
       "      <td>10</td>\n",
       "    </tr>\n",
       "    <tr>\n",
       "      <th>3</th>\n",
       "      <td>GP</td>\n",
       "      <td>F</td>\n",
       "      <td>15</td>\n",
       "      <td>U</td>\n",
       "      <td>GT3</td>\n",
       "      <td>T</td>\n",
       "      <td>4</td>\n",
       "      <td>2</td>\n",
       "      <td>health</td>\n",
       "      <td>services</td>\n",
       "      <td>...</td>\n",
       "      <td>3</td>\n",
       "      <td>2</td>\n",
       "      <td>2</td>\n",
       "      <td>1</td>\n",
       "      <td>1</td>\n",
       "      <td>5</td>\n",
       "      <td>2</td>\n",
       "      <td>15</td>\n",
       "      <td>14</td>\n",
       "      <td>15</td>\n",
       "    </tr>\n",
       "    <tr>\n",
       "      <th>4</th>\n",
       "      <td>GP</td>\n",
       "      <td>F</td>\n",
       "      <td>16</td>\n",
       "      <td>U</td>\n",
       "      <td>GT3</td>\n",
       "      <td>T</td>\n",
       "      <td>3</td>\n",
       "      <td>3</td>\n",
       "      <td>other</td>\n",
       "      <td>other</td>\n",
       "      <td>...</td>\n",
       "      <td>4</td>\n",
       "      <td>3</td>\n",
       "      <td>2</td>\n",
       "      <td>1</td>\n",
       "      <td>2</td>\n",
       "      <td>5</td>\n",
       "      <td>4</td>\n",
       "      <td>6</td>\n",
       "      <td>10</td>\n",
       "      <td>10</td>\n",
       "    </tr>\n",
       "  </tbody>\n",
       "</table>\n",
       "<p>5 rows × 33 columns</p>\n",
       "</div>"
      ],
      "text/plain": [
       "  school sex  age address famsize Pstatus  Medu  Fedu     Mjob      Fjob  ...  \\\n",
       "0     GP   F   18       U     GT3       A     4     4  at_home   teacher  ...   \n",
       "1     GP   F   17       U     GT3       T     1     1  at_home     other  ...   \n",
       "2     GP   F   15       U     LE3       T     1     1  at_home     other  ...   \n",
       "3     GP   F   15       U     GT3       T     4     2   health  services  ...   \n",
       "4     GP   F   16       U     GT3       T     3     3    other     other  ...   \n",
       "\n",
       "  famrel freetime  goout  Dalc  Walc health absences  G1  G2  G3  \n",
       "0      4        3      4     1     1      3        6   5   6   6  \n",
       "1      5        3      3     1     1      3        4   5   5   6  \n",
       "2      4        3      2     2     3      3       10   7   8  10  \n",
       "3      3        2      2     1     1      5        2  15  14  15  \n",
       "4      4        3      2     1     2      5        4   6  10  10  \n",
       "\n",
       "[5 rows x 33 columns]"
      ]
     },
     "execution_count": 15,
     "metadata": {},
     "output_type": "execute_result"
    }
   ],
   "source": [
    "df = pd.read_csv('./data/student-mat.csv')\n",
    "\n",
    "# Creamos una copia\n",
    "df_copy = df\n",
    "\n",
    "df_copy.head()"
   ]
  },
  {
   "cell_type": "code",
   "execution_count": 16,
   "metadata": {},
   "outputs": [
    {
     "data": {
      "text/html": [
       "<div>\n",
       "<style scoped>\n",
       "    .dataframe tbody tr th:only-of-type {\n",
       "        vertical-align: middle;\n",
       "    }\n",
       "\n",
       "    .dataframe tbody tr th {\n",
       "        vertical-align: top;\n",
       "    }\n",
       "\n",
       "    .dataframe thead th {\n",
       "        text-align: right;\n",
       "    }\n",
       "</style>\n",
       "<table border=\"1\" class=\"dataframe\">\n",
       "  <thead>\n",
       "    <tr style=\"text-align: right;\">\n",
       "      <th></th>\n",
       "      <th>sex</th>\n",
       "      <th>Medu</th>\n",
       "      <th>Fedu</th>\n",
       "      <th>famrel</th>\n",
       "      <th>studytime</th>\n",
       "      <th>goout</th>\n",
       "      <th>internet</th>\n",
       "      <th>Walc</th>\n",
       "    </tr>\n",
       "  </thead>\n",
       "  <tbody>\n",
       "    <tr>\n",
       "      <th>0</th>\n",
       "      <td>F</td>\n",
       "      <td>4</td>\n",
       "      <td>4</td>\n",
       "      <td>4</td>\n",
       "      <td>2</td>\n",
       "      <td>4</td>\n",
       "      <td>no</td>\n",
       "      <td>1</td>\n",
       "    </tr>\n",
       "    <tr>\n",
       "      <th>1</th>\n",
       "      <td>F</td>\n",
       "      <td>1</td>\n",
       "      <td>1</td>\n",
       "      <td>5</td>\n",
       "      <td>2</td>\n",
       "      <td>3</td>\n",
       "      <td>yes</td>\n",
       "      <td>1</td>\n",
       "    </tr>\n",
       "    <tr>\n",
       "      <th>2</th>\n",
       "      <td>F</td>\n",
       "      <td>1</td>\n",
       "      <td>1</td>\n",
       "      <td>4</td>\n",
       "      <td>2</td>\n",
       "      <td>2</td>\n",
       "      <td>yes</td>\n",
       "      <td>3</td>\n",
       "    </tr>\n",
       "    <tr>\n",
       "      <th>3</th>\n",
       "      <td>F</td>\n",
       "      <td>4</td>\n",
       "      <td>2</td>\n",
       "      <td>3</td>\n",
       "      <td>3</td>\n",
       "      <td>2</td>\n",
       "      <td>yes</td>\n",
       "      <td>1</td>\n",
       "    </tr>\n",
       "    <tr>\n",
       "      <th>4</th>\n",
       "      <td>F</td>\n",
       "      <td>3</td>\n",
       "      <td>3</td>\n",
       "      <td>4</td>\n",
       "      <td>2</td>\n",
       "      <td>2</td>\n",
       "      <td>no</td>\n",
       "      <td>2</td>\n",
       "    </tr>\n",
       "  </tbody>\n",
       "</table>\n",
       "</div>"
      ],
      "text/plain": [
       "  sex  Medu  Fedu  famrel  studytime  goout internet  Walc\n",
       "0   F     4     4       4          2      4       no     1\n",
       "1   F     1     1       5          2      3      yes     1\n",
       "2   F     1     1       4          2      2      yes     3\n",
       "3   F     4     2       3          3      2      yes     1\n",
       "4   F     3     3       4          2      2       no     2"
      ]
     },
     "execution_count": 16,
     "metadata": {},
     "output_type": "execute_result"
    }
   ],
   "source": [
    "# Nos quedamos con las columnas para la storytelling\n",
    "columns = [\"sex\", \"Medu\", \"Fedu\", \"famrel\", \"studytime\", \"goout\", \"internet\", \"Walc\"]\n",
    "df_copy = df_copy[columns]\n",
    "df_copy.head()"
   ]
  },
  {
   "cell_type": "code",
   "execution_count": 17,
   "metadata": {},
   "outputs": [
    {
     "name": "stderr",
     "output_type": "stream",
     "text": [
      "<ipython-input-17-0846ebbdd98d>:2: SettingWithCopyWarning: \n",
      "A value is trying to be set on a copy of a slice from a DataFrame.\n",
      "Try using .loc[row_indexer,col_indexer] = value instead\n",
      "\n",
      "See the caveats in the documentation: https://pandas.pydata.org/pandas-docs/stable/user_guide/indexing.html#returning-a-view-versus-a-copy\n",
      "  df_copy[\"D_Walc\"] = pd.cut(\n",
      "<ipython-input-17-0846ebbdd98d>:9: SettingWithCopyWarning: \n",
      "A value is trying to be set on a copy of a slice from a DataFrame.\n",
      "Try using .loc[row_indexer,col_indexer] = value instead\n",
      "\n",
      "See the caveats in the documentation: https://pandas.pydata.org/pandas-docs/stable/user_guide/indexing.html#returning-a-view-versus-a-copy\n",
      "  df_copy[\"D_Medu\"] = pd.cut(\n",
      "<ipython-input-17-0846ebbdd98d>:14: SettingWithCopyWarning: \n",
      "A value is trying to be set on a copy of a slice from a DataFrame.\n",
      "Try using .loc[row_indexer,col_indexer] = value instead\n",
      "\n",
      "See the caveats in the documentation: https://pandas.pydata.org/pandas-docs/stable/user_guide/indexing.html#returning-a-view-versus-a-copy\n",
      "  df_copy[\"D_Fedu\"] = pd.cut(\n",
      "<ipython-input-17-0846ebbdd98d>:21: SettingWithCopyWarning: \n",
      "A value is trying to be set on a copy of a slice from a DataFrame.\n",
      "Try using .loc[row_indexer,col_indexer] = value instead\n",
      "\n",
      "See the caveats in the documentation: https://pandas.pydata.org/pandas-docs/stable/user_guide/indexing.html#returning-a-view-versus-a-copy\n",
      "  df_copy[\"D_Studytime\"] = pd.cut(\n",
      "<ipython-input-17-0846ebbdd98d>:28: SettingWithCopyWarning: \n",
      "A value is trying to be set on a copy of a slice from a DataFrame.\n",
      "Try using .loc[row_indexer,col_indexer] = value instead\n",
      "\n",
      "See the caveats in the documentation: https://pandas.pydata.org/pandas-docs/stable/user_guide/indexing.html#returning-a-view-versus-a-copy\n",
      "  df_copy[\"D_Goout\"] = pd.cut(\n"
     ]
    },
    {
     "data": {
      "text/html": [
       "<div>\n",
       "<style scoped>\n",
       "    .dataframe tbody tr th:only-of-type {\n",
       "        vertical-align: middle;\n",
       "    }\n",
       "\n",
       "    .dataframe tbody tr th {\n",
       "        vertical-align: top;\n",
       "    }\n",
       "\n",
       "    .dataframe thead th {\n",
       "        text-align: right;\n",
       "    }\n",
       "</style>\n",
       "<table border=\"1\" class=\"dataframe\">\n",
       "  <thead>\n",
       "    <tr style=\"text-align: right;\">\n",
       "      <th></th>\n",
       "      <th>sex</th>\n",
       "      <th>Medu</th>\n",
       "      <th>Fedu</th>\n",
       "      <th>famrel</th>\n",
       "      <th>studytime</th>\n",
       "      <th>goout</th>\n",
       "      <th>internet</th>\n",
       "      <th>Walc</th>\n",
       "      <th>D_Walc</th>\n",
       "      <th>D_Medu</th>\n",
       "      <th>D_Fedu</th>\n",
       "      <th>D_Studytime</th>\n",
       "      <th>D_Goout</th>\n",
       "    </tr>\n",
       "  </thead>\n",
       "  <tbody>\n",
       "    <tr>\n",
       "      <th>0</th>\n",
       "      <td>F</td>\n",
       "      <td>4</td>\n",
       "      <td>4</td>\n",
       "      <td>4</td>\n",
       "      <td>2</td>\n",
       "      <td>4</td>\n",
       "      <td>no</td>\n",
       "      <td>1</td>\n",
       "      <td>Consumo bajo</td>\n",
       "      <td>Educación universitaria</td>\n",
       "      <td>Educación universitaria</td>\n",
       "      <td>Normal</td>\n",
       "      <td>Mucho</td>\n",
       "    </tr>\n",
       "    <tr>\n",
       "      <th>1</th>\n",
       "      <td>F</td>\n",
       "      <td>1</td>\n",
       "      <td>1</td>\n",
       "      <td>5</td>\n",
       "      <td>2</td>\n",
       "      <td>3</td>\n",
       "      <td>yes</td>\n",
       "      <td>1</td>\n",
       "      <td>Consumo bajo</td>\n",
       "      <td>Educación primaria</td>\n",
       "      <td>Educación primaria</td>\n",
       "      <td>Normal</td>\n",
       "      <td>Normal</td>\n",
       "    </tr>\n",
       "    <tr>\n",
       "      <th>2</th>\n",
       "      <td>F</td>\n",
       "      <td>1</td>\n",
       "      <td>1</td>\n",
       "      <td>4</td>\n",
       "      <td>2</td>\n",
       "      <td>2</td>\n",
       "      <td>yes</td>\n",
       "      <td>3</td>\n",
       "      <td>Consumo alto</td>\n",
       "      <td>Educación primaria</td>\n",
       "      <td>Educación primaria</td>\n",
       "      <td>Normal</td>\n",
       "      <td>Poco</td>\n",
       "    </tr>\n",
       "    <tr>\n",
       "      <th>3</th>\n",
       "      <td>F</td>\n",
       "      <td>4</td>\n",
       "      <td>2</td>\n",
       "      <td>3</td>\n",
       "      <td>3</td>\n",
       "      <td>2</td>\n",
       "      <td>yes</td>\n",
       "      <td>1</td>\n",
       "      <td>Consumo bajo</td>\n",
       "      <td>Educación universitaria</td>\n",
       "      <td>Educación primaria</td>\n",
       "      <td>Mucho</td>\n",
       "      <td>Poco</td>\n",
       "    </tr>\n",
       "    <tr>\n",
       "      <th>4</th>\n",
       "      <td>F</td>\n",
       "      <td>3</td>\n",
       "      <td>3</td>\n",
       "      <td>4</td>\n",
       "      <td>2</td>\n",
       "      <td>2</td>\n",
       "      <td>no</td>\n",
       "      <td>2</td>\n",
       "      <td>Consumo bajo</td>\n",
       "      <td>Educación secundaria</td>\n",
       "      <td>Educación secundaria</td>\n",
       "      <td>Normal</td>\n",
       "      <td>Poco</td>\n",
       "    </tr>\n",
       "  </tbody>\n",
       "</table>\n",
       "</div>"
      ],
      "text/plain": [
       "  sex  Medu  Fedu  famrel  studytime  goout internet  Walc        D_Walc  \\\n",
       "0   F     4     4       4          2      4       no     1  Consumo bajo   \n",
       "1   F     1     1       5          2      3      yes     1  Consumo bajo   \n",
       "2   F     1     1       4          2      2      yes     3  Consumo alto   \n",
       "3   F     4     2       3          3      2      yes     1  Consumo bajo   \n",
       "4   F     3     3       4          2      2       no     2  Consumo bajo   \n",
       "\n",
       "                    D_Medu                   D_Fedu D_Studytime D_Goout  \n",
       "0  Educación universitaria  Educación universitaria      Normal   Mucho  \n",
       "1       Educación primaria       Educación primaria      Normal  Normal  \n",
       "2       Educación primaria       Educación primaria      Normal    Poco  \n",
       "3  Educación universitaria       Educación primaria       Mucho    Poco  \n",
       "4     Educación secundaria     Educación secundaria      Normal    Poco  "
      ]
     },
     "execution_count": 17,
     "metadata": {},
     "output_type": "execute_result"
    }
   ],
   "source": [
    "# Discretizamos Walc siendo [1,2] = \"Consumo bajo\" y [3,5] = \"Consumo alto\"\n",
    "df_copy[\"D_Walc\"] = pd.cut(\n",
    "    df_copy[\"Walc\"], \n",
    "    bins=[0,2,5],\n",
    "    labels=[\"Consumo bajo\", \"Consumo alto\"]\n",
    ")\n",
    "\n",
    "# Discretizamos el nivel educativo del padre y la madre\n",
    "df_copy[\"D_Medu\"] = pd.cut(\n",
    "    df_copy[\"Medu\"], \n",
    "    bins=[-1,2,3,4],\n",
    "    labels=[\"Educación primaria\", \"Educación secundaria\", \"Educación universitaria\"]\n",
    ")\n",
    "df_copy[\"D_Fedu\"] = pd.cut(\n",
    "    df_copy[\"Fedu\"], \n",
    "    bins=[-1,2,3,4],\n",
    "    labels=[\"Educación primaria\", \"Educación secundaria\", \"Educación universitaria\"]\n",
    ")\n",
    "\n",
    "# Discretizamos el tiempo de estudio\n",
    "df_copy[\"D_Studytime\"] = pd.cut(\n",
    "    df_copy[\"studytime\"], \n",
    "    bins=[-1,1,2,4],\n",
    "    labels=[\"Poco\", \"Normal\", \"Mucho\"]\n",
    ")\n",
    "\n",
    "# Discretizamos el tiempo de salir con los amigos\n",
    "df_copy[\"D_Goout\"] = pd.cut(\n",
    "    df_copy[\"goout\"], \n",
    "    bins=[-1,2,3,5],\n",
    "    labels=[\"Poco\", \"Normal\", \"Mucho\"]\n",
    ")\n",
    "\n",
    "\n",
    "df_copy.head()"
   ]
  },
  {
   "cell_type": "code",
   "execution_count": 18,
   "metadata": {},
   "outputs": [
    {
     "data": {
      "text/plain": [
       "(395, 13)"
      ]
     },
     "execution_count": 18,
     "metadata": {},
     "output_type": "execute_result"
    }
   ],
   "source": [
    "df_copy.shape"
   ]
  },
  {
   "cell_type": "code",
   "execution_count": 19,
   "metadata": {},
   "outputs": [
    {
     "data": {
      "text/plain": [
       "(395, 13)"
      ]
     },
     "execution_count": 19,
     "metadata": {},
     "output_type": "execute_result"
    }
   ],
   "source": [
    "df_copy_all = df_copy\n",
    "df_copy_all.shape"
   ]
  },
  {
   "cell_type": "code",
   "execution_count": 20,
   "metadata": {},
   "outputs": [
    {
     "data": {
      "text/plain": [
       "(159, 13)"
      ]
     },
     "execution_count": 20,
     "metadata": {},
     "output_type": "execute_result"
    }
   ],
   "source": [
    "df_copy = df_copy[df_copy[\"D_Walc\"] == \"Consumo alto\"]\n",
    "df_copy.shape"
   ]
  },
  {
   "cell_type": "markdown",
   "metadata": {},
   "source": [
    "# Consumo alto según el sexo"
   ]
  },
  {
   "cell_type": "code",
   "execution_count": 22,
   "metadata": {},
   "outputs": [
    {
     "name": "stdout",
     "output_type": "stream",
     "text": [
      "Consumo todos\n",
      "F    208\n",
      "M    187\n",
      "Name: sex, dtype: int64\n",
      "\n",
      "Consumo elevado\n",
      "M    96\n",
      "F    63\n",
      "Name: sex, dtype: int64\n",
      "\n",
      "Porcentaje consumo elevado\n",
      "F\t %40\n",
      "M\t %60\n"
     ]
    }
   ],
   "source": [
    "print(\"Consumo todos\")\n",
    "print(df[\"sex\"].value_counts())\n",
    "\n",
    "print(\"\\nConsumo elevado\")\n",
    "print(df_copy[\"sex\"].value_counts())\n",
    "\n",
    "print(\"\\nPorcentaje consumo elevado\")\n",
    "print(\"F\\t\" + \" %\" + str(round(df_copy[\"sex\"].value_counts()[\"F\"] / df_copy.shape[0] * 100)))\n",
    "print(\"M\\t\" + \" %\" + str(round(df_copy[\"sex\"].value_counts()[\"M\"] / df_copy.shape[0] * 100)))"
   ]
  },
  {
   "cell_type": "markdown",
   "metadata": {},
   "source": [
    "# Consumo alto según el nivel educativo de la madre"
   ]
  },
  {
   "cell_type": "code",
   "execution_count": 23,
   "metadata": {},
   "outputs": [
    {
     "name": "stdout",
     "output_type": "stream",
     "text": [
      "Consumo todos\n",
      "4    131\n",
      "2    103\n",
      "3     99\n",
      "1     59\n",
      "0      3\n",
      "Name: Medu, dtype: int64\n",
      "\n",
      "Consumo elevado\n",
      "4    48\n",
      "3    47\n",
      "2    33\n",
      "1    29\n",
      "0     2\n",
      "Name: Medu, dtype: int64\n",
      "\n",
      "Porcentaje consumo elevado\n",
      "Universitaria\t %30\n",
      "Secundaria\t %30\n",
      "Primaria\t %40\n"
     ]
    }
   ],
   "source": [
    "print(\"Consumo todos\")\n",
    "print(df[\"Medu\"].value_counts())\n",
    "\n",
    "print(\"\\nConsumo elevado\")\n",
    "print(df_copy[\"Medu\"].value_counts())\n",
    "\n",
    "print(\"\\nPorcentaje consumo elevado\")\n",
    "print(\"Universitaria\\t\" + \" %\" + str(round(df_copy[\"D_Medu\"].value_counts()[\"Educación universitaria\"] / df_copy.shape[0] * 100)))\n",
    "print(\"Secundaria\\t\" + \" %\" + str(round(df_copy[\"D_Medu\"].value_counts()[\"Educación secundaria\"] / df_copy.shape[0] * 100)))\n",
    "print(\"Primaria\\t\" + \" %\" + str(round(df_copy[\"D_Medu\"].value_counts()[\"Educación primaria\"] / df_copy.shape[0] * 100)))"
   ]
  },
  {
   "cell_type": "markdown",
   "metadata": {},
   "source": [
    "# Consumo alto según el nivel educativo del padre"
   ]
  },
  {
   "cell_type": "code",
   "execution_count": 24,
   "metadata": {},
   "outputs": [
    {
     "name": "stdout",
     "output_type": "stream",
     "text": [
      "Consumo todos\n",
      "2    115\n",
      "3    100\n",
      "4     96\n",
      "1     82\n",
      "0      2\n",
      "Name: Fedu, dtype: int64\n",
      "\n",
      "Consumo elevado\n",
      "2    46\n",
      "3    43\n",
      "4    35\n",
      "1    35\n",
      "Name: Fedu, dtype: int64\n",
      "\n",
      "Porcentaje consumo elevado\n",
      "Universitaria\t %22\n",
      "Secundaria\t %27\n",
      "Primaria\t %51\n"
     ]
    }
   ],
   "source": [
    "print(\"Consumo todos\")\n",
    "print(df[\"Fedu\"].value_counts())\n",
    "\n",
    "print(\"\\nConsumo elevado\")\n",
    "print(df_copy[\"Fedu\"].value_counts())\n",
    "\n",
    "print(\"\\nPorcentaje consumo elevado\")\n",
    "print(\"Universitaria\\t\" + \" %\" + str(round(df_copy[\"D_Fedu\"].value_counts()[\"Educación universitaria\"] / df_copy.shape[0] * 100)))\n",
    "print(\"Secundaria\\t\" + \" %\" + str(round(df_copy[\"D_Fedu\"].value_counts()[\"Educación secundaria\"] / df_copy.shape[0] * 100)))\n",
    "print(\"Primaria\\t\" + \" %\" + str(round(df_copy[\"D_Fedu\"].value_counts()[\"Educación primaria\"] / df_copy.shape[0] * 100)))"
   ]
  },
  {
   "cell_type": "markdown",
   "metadata": {},
   "source": [
    "# Consumo alto según la calidad de la relación familiar"
   ]
  },
  {
   "cell_type": "code",
   "execution_count": 25,
   "metadata": {},
   "outputs": [
    {
     "name": "stdout",
     "output_type": "stream",
     "text": [
      "Consumo todos\n",
      "4    195\n",
      "5    106\n",
      "3     68\n",
      "2     18\n",
      "1      8\n",
      "Name: famrel, dtype: int64\n",
      "\n",
      "Consumo elevado\n",
      "4    80\n",
      "5    35\n",
      "3    32\n",
      "2     9\n",
      "1     3\n",
      "Name: famrel, dtype: int64\n",
      "\n",
      "Porcentaje consumo elevado\n",
      "5\t %22\n",
      "4\t %50\n",
      "3\t %20\n",
      "2\t %6\n",
      "1\t %2\n"
     ]
    }
   ],
   "source": [
    "print(\"Consumo todos\")\n",
    "print(df[\"famrel\"].value_counts())\n",
    "\n",
    "print(\"\\nConsumo elevado\")\n",
    "print(df_copy[\"famrel\"].value_counts())\n",
    "\n",
    "print(\"\\nPorcentaje consumo elevado\")\n",
    "print(\"5\\t\" + \" %\" + str(round(df_copy[\"famrel\"].value_counts()[5] / df_copy.shape[0] * 100)))\n",
    "print(\"4\\t\" + \" %\" + str(round(df_copy[\"famrel\"].value_counts()[4] / df_copy.shape[0] * 100)))\n",
    "print(\"3\\t\" + \" %\" + str(round(df_copy[\"famrel\"].value_counts()[3] / df_copy.shape[0] * 100)))\n",
    "print(\"2\\t\" + \" %\" + str(round(df_copy[\"famrel\"].value_counts()[2] / df_copy.shape[0] * 100)))\n",
    "print(\"1\\t\" + \" %\" + str(round(df_copy[\"famrel\"].value_counts()[1] / df_copy.shape[0] * 100)))"
   ]
  },
  {
   "cell_type": "markdown",
   "metadata": {},
   "source": [
    "# Consumo alto según el tiempo de estudio"
   ]
  },
  {
   "cell_type": "code",
   "execution_count": 34,
   "metadata": {},
   "outputs": [
    {
     "name": "stdout",
     "output_type": "stream",
     "text": [
      "Consumo todos\n",
      "Normal    198\n",
      "Poco      105\n",
      "Mucho      92\n",
      "Name: D_Studytime, dtype: int64\n",
      "\n",
      "Consumo elevado\n",
      "Normal    80\n",
      "Poco      56\n",
      "Mucho     23\n",
      "Name: D_Studytime, dtype: int64\n",
      "\n",
      "Porcentaje consumo elevado\n",
      "Poco\t %53\n",
      "Normal\t %40\n",
      "Mucho\t %25\n"
     ]
    }
   ],
   "source": [
    "print(\"Consumo todos\")\n",
    "print(df_copy_all[\"D_Studytime\"].value_counts())\n",
    "\n",
    "print(\"\\nConsumo elevado\")\n",
    "print(df_copy[\"D_Studytime\"].value_counts())\n",
    "\n",
    "print(\"\\nPorcentaje consumo elevado\")\n",
    "print(\"Poco\\t\" + \" %\" + str(round(df_copy[\"D_Studytime\"].value_counts()[\"Poco\"] / df_copy_all[\"D_Studytime\"].value_counts()[\"Poco\"] * 100)))\n",
    "print(\"Normal\\t\" + \" %\" + str(round(df_copy[\"D_Studytime\"].value_counts()[\"Normal\"] / df_copy_all[\"D_Studytime\"].value_counts()[\"Normal\"] * 100)))\n",
    "print(\"Mucho\\t\" + \" %\" + str(round(df_copy[\"D_Studytime\"].value_counts()[\"Mucho\"] / df_copy_all[\"D_Studytime\"].value_counts()[\"Mucho\"] * 100)))"
   ]
  },
  {
   "cell_type": "markdown",
   "metadata": {},
   "source": [
    "# Consumo alto según el tiempo de ocio con los amigos"
   ]
  },
  {
   "cell_type": "code",
   "execution_count": 35,
   "metadata": {},
   "outputs": [
    {
     "name": "stdout",
     "output_type": "stream",
     "text": [
      "Consumo todos\n",
      "Mucho     139\n",
      "Normal    130\n",
      "Poco      126\n",
      "Name: D_Goout, dtype: int64\n",
      "\n",
      "Consumo elevado\n",
      "Mucho     89\n",
      "Normal    46\n",
      "Poco      24\n",
      "Name: D_Goout, dtype: int64\n",
      "\n",
      "Porcentaje consumo elevado\n",
      "Poco\t %19\n",
      "Normal\t %35\n",
      "Mucho\t %64\n"
     ]
    }
   ],
   "source": [
    "print(\"Consumo todos\")\n",
    "print(df_copy_all[\"D_Goout\"].value_counts())\n",
    "\n",
    "print(\"\\nConsumo elevado\")\n",
    "print(df_copy[\"D_Goout\"].value_counts())\n",
    "\n",
    "print(\"\\nPorcentaje consumo elevado\")\n",
    "print(\"Poco\\t\" + \" %\" + str(round(df_copy[\"D_Goout\"].value_counts()[\"Poco\"] / df_copy_all[\"D_Goout\"].value_counts()[\"Poco\"] * 100)))\n",
    "print(\"Normal\\t\" + \" %\" + str(round(df_copy[\"D_Goout\"].value_counts()[\"Normal\"] / df_copy_all[\"D_Goout\"].value_counts()[\"Normal\"] * 100)))\n",
    "print(\"Mucho\\t\" + \" %\" + str(round(df_copy[\"D_Goout\"].value_counts()[\"Mucho\"] / df_copy_all[\"D_Goout\"].value_counts()[\"Mucho\"] * 100)))"
   ]
  },
  {
   "cell_type": "markdown",
   "metadata": {},
   "source": [
    "# Consumo alto según si hacen uso de internet"
   ]
  },
  {
   "cell_type": "code",
   "execution_count": 38,
   "metadata": {},
   "outputs": [
    {
     "name": "stdout",
     "output_type": "stream",
     "text": [
      "Consumo todos\n",
      "yes    329\n",
      "no      66\n",
      "Name: internet, dtype: int64\n",
      "\n",
      "Consumo elevado\n",
      "yes    133\n",
      "no      26\n",
      "Name: internet, dtype: int64\n",
      "\n",
      "Porcentaje consumo elevado\n",
      "No\t %39\n",
      "Yes\t %40\n"
     ]
    }
   ],
   "source": [
    "print(\"Consumo todos\")\n",
    "print(df[\"internet\"].value_counts())\n",
    "\n",
    "print(\"\\nConsumo elevado\")\n",
    "print(df_copy[\"internet\"].value_counts())\n",
    "\n",
    "print(\"\\nPorcentaje consumo elevado\")\n",
    "print(\"No\\t\" + \" %\" + str(round(df_copy[\"internet\"].value_counts()[\"no\"] / df[\"internet\"].value_counts()[\"no\"] * 100)))\n",
    "print(\"Yes\\t\" + \" %\" + str(round(df_copy[\"internet\"].value_counts()[\"yes\"] / df[\"internet\"].value_counts()[\"yes\"] * 100)))"
   ]
  }
 ],
 "metadata": {
  "kernelspec": {
   "display_name": "Python 3",
   "language": "python",
   "name": "python3"
  },
  "language_info": {
   "codemirror_mode": {
    "name": "ipython",
    "version": 3
   },
   "file_extension": ".py",
   "mimetype": "text/x-python",
   "name": "python",
   "nbconvert_exporter": "python",
   "pygments_lexer": "ipython3",
   "version": "3.8.3"
  }
 },
 "nbformat": 4,
 "nbformat_minor": 4
}
